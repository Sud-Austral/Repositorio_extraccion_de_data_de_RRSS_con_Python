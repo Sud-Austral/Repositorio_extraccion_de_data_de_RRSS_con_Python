{
 "cells": [
  {
   "cell_type": "markdown",
   "metadata": {},
   "source": [
    "# 4 Minería de datos sobre Instagram"
   ]
  },
  {
   "cell_type": "markdown",
   "metadata": {},
   "source": [
    "Visite https://www.instagram.com/developer/ y registre una aplicación: \n",
    "\n",
    "https://www.codexworld.com/how-to/register-instagram-app-create-client-id/\n",
    "\n",
    "How to create Client Id and Client Secret for Instagram ?:\n",
    "https://www.youtube.com/watch?v=zZ-0U--rPX4\n",
    "\n",
    "https://github.com/oyvsyo/insta_play/blob/master/analys.ipynb\n",
    "\n",
    "\n",
    "## Análisis de Instagram con una API no oficial, iPython y matplotlib\n",
    "\n",
    "https://medium.com/@dvoiak.stepan/https-medium-com-dvoiak-stepan-instagram-analitics-with-unofficial-api-ipython-and-matplotlib-a9f3f8b2b16a\n",
    "\n",
    "https://github.com/oyvsyo/insta_play/blob/master/analys.ipynb\n",
    "\n",
    "Ordenar a todos tus seguidores por la cantidad de Me gusta que hicieron. \n",
    "Lo haremos utilizando la API de Instagram no oficial y el cuaderno interactivo IPython.\n",
    "\n",
    "Se usará Python 2.7 para esta tarea, pero en teoría todas las bibliotecas son compatibles con Python 3.5.\n",
    "Sobre API no oficial\n",
    "\n",
    "La API oficial de instagram no es muy buena para el análisis, debido a la política del modo Sandbox y Live, por lo que solo jugar no funciona. Afortunadamente, existe la API de Instagram no oficial escrita en python por Pasha Lev. Así que aquí vamos, instálelo mediante un comando que figura en la documentación de repositorio de github (o puede instalarlo manualmente, si lo desea):\n",
    "\n",
    "$ pip install -e git + https: //github.com/LevPasha/Instagram-API-python.git#egg=InstagramAPI\n",
    "\n",
    "No hay documentación al respecto, así que hy que estudiar todos los métodos de la clase InstagramAPI del archivo init.py."
   ]
  },
  {
   "cell_type": "code",
   "execution_count": 8,
   "metadata": {
    "scrolled": true
   },
   "outputs": [
    {
     "name": "stdout",
     "output_type": "stream",
     "text": [
      "Request return 429 error!\n",
      "{'message': 'Please wait a few minutes before you try again.', 'status': 'fail'}\n",
      "Request return 405 error!\n",
      "{'message': '', 'status': 'fail'}\n",
      "Request return 404 error!\n",
      "Login success!\n",
      "\n"
     ]
    }
   ],
   "source": [
    "import imageio\n",
    "imageio.plugins.ffmpeg.download()\n",
    "from moviepy.editor import *\n",
    "\n",
    "from InstagramAPI import InstagramAPI\n",
    "import numpy as np\n",
    "import time\n",
    "\n",
    "username = 'christiancastro9072'\n",
    "pwd = 'Alexeev165*'\n",
    "\n",
    "API = InstagramAPI(username,pwd)\n",
    "API.login()\n",
    "time.sleep(2)"
   ]
  },
  {
   "cell_type": "code",
   "execution_count": 9,
   "metadata": {},
   "outputs": [
    {
     "data": {
      "text/plain": [
       "dict_keys(['user', 'status'])"
      ]
     },
     "execution_count": 9,
     "metadata": {},
     "output_type": "execute_result"
    }
   ],
   "source": [
    "API.getProfileData()\n",
    "API.LastJson.keys()"
   ]
  },
  {
   "cell_type": "code",
   "execution_count": 10,
   "metadata": {},
   "outputs": [
    {
     "name": "stdout",
     "output_type": "stream",
     "text": [
      "dict_keys(['pk', 'username', 'full_name', 'is_private', 'profile_pic_url', 'profile_pic_id', 'is_verified', 'has_anonymous_profile_picture', 'biography', 'external_url', 'reel_auto_archive', 'hd_profile_pic_versions', 'hd_profile_pic_url_info', 'show_conversion_edit_entry', 'allowed_commenter_type', 'phone_number', 'country_code', 'national_number', 'gender', 'email', 'can_link_entities_in_bio', 'trusted_username', 'trust_days'])\n"
     ]
    }
   ],
   "source": [
    "print (API.LastJson['user'].keys())\n",
    "my_id = API.LastJson['user']['pk']"
   ]
  },
  {
   "cell_type": "code",
   "execution_count": 11,
   "metadata": {},
   "outputs": [],
   "source": [
    "API.getUsernameInfo(my_id)\n",
    "n_media = API.LastJson['user']['media_count']"
   ]
  },
  {
   "cell_type": "code",
   "execution_count": 12,
   "metadata": {},
   "outputs": [
    {
     "name": "stdout",
     "output_type": "stream",
     "text": [
      "no more avaliable\n"
     ]
    }
   ],
   "source": [
    "media_ids = [] # container for all my post's id's\n",
    "max_id = '' # some times instagram doesn't want to give you id's\n",
    "\n",
    "# Atención que hay que agregar un / a la división!\n",
    "for i in range(n_media//18+1): # getUserFeed() returns 18 posts or less\n",
    "    API.getUserFeed(usernameId=my_id, maxid = max_id)\n",
    "    media_ids += API.LastJson['items'] # if it's no post's further\n",
    "    if API.LastJson['more_available']==False: # may be the end of feed\n",
    "        print (\"no more avaliable\")            # or just instagram limit's\n",
    "        break\n",
    "    max_id = API.LastJson['next_max_id'] # the first id of next iteration step\n",
    "    print (i, \"   next media id = \", max_id, \"  \", len(media_ids))\n",
    "    time.sleep(3)"
   ]
  },
  {
   "cell_type": "code",
   "execution_count": 13,
   "metadata": {},
   "outputs": [
    {
     "name": "stdout",
     "output_type": "stream",
     "text": [
      "dict_keys(['taken_at', 'pk', 'id', 'device_timestamp', 'media_type', 'code', 'client_cache_key', 'filter_type', 'image_versions2', 'original_width', 'original_height', 'user', 'can_viewer_reshare', 'caption_is_edited', 'direct_reply_to_author_enabled', 'comment_likes_enabled', 'comment_threading_enabled', 'has_more_comments', 'max_num_visible_preview_comments', 'preview_comments', 'can_view_more_preview_comments', 'comment_count', 'inline_composer_display_condition', 'like_count', 'has_liked', 'top_likers', 'likers', 'photo_of_you', 'caption', 'fb_user_tags', 'can_viewer_save', 'organic_tracking_token'])\n"
     ]
    }
   ],
   "source": [
    "print (media_ids[0].keys()) # info about media"
   ]
  },
  {
   "cell_type": "code",
   "execution_count": 14,
   "metadata": {},
   "outputs": [
    {
     "name": "stdout",
     "output_type": "stream",
     "text": [
      "wait 0.0 minutes\n",
      "done!\n"
     ]
    }
   ],
   "source": [
    "\n",
    "\n",
    "likers = []\n",
    "m_id = 0\n",
    "print (\"wait %.1f minutes\" % (n_media*2/60.))\n",
    "for i in range(len(media_ids)):\n",
    "    m_id = media_ids[i]['id']\n",
    "    API.getMediaLikers(m_id)\n",
    "    likers += [API.LastJson]\n",
    "    time.sleep(2)\n",
    "\n",
    "print (\"done!\")\n",
    "\n"
   ]
  },
  {
   "cell_type": "code",
   "execution_count": 15,
   "metadata": {},
   "outputs": [
    {
     "name": "stdout",
     "output_type": "stream",
     "text": [
      "all users =  0   uniqum users =  0\n"
     ]
    }
   ],
   "source": [
    "users = []\n",
    "for i in likers:\n",
    "    users += map(lambda x: i['users'][x]['username'], range(len(i['users'])))\n",
    "\n",
    "# users - all users that likes my media [username]*num_liked_posts(username)\n",
    "users_set = set(users)\n",
    "# users_set - unique users that likes my media\n",
    "print (\"all users = \", len(users), \"  uniqum users = \", len(users_set))"
   ]
  },
  {
   "cell_type": "code",
   "execution_count": 16,
   "metadata": {},
   "outputs": [],
   "source": [
    "\n",
    "\n",
    "l_dict = {}\n",
    "for user in users_set:\n",
    "    l_dict[user] = users.count(user)  # {username:number_of_liked_posts}\n",
    "\n"
   ]
  },
  {
   "cell_type": "code",
   "execution_count": 17,
   "metadata": {},
   "outputs": [],
   "source": [
    "\n",
    "\n",
    "import matplotlib.pyplot as plt\n",
    "from matplotlib.ticker import FormatStrFormatter\n",
    "import operator\n",
    "\n",
    "\n",
    "all_pairs = sorted(l_dict.items(), key=operator.itemgetter(1))\n",
    "n_users = 10 # top 10 users\n",
    "\n",
    "pairs = all_pairs[-n_users:]\n",
    "\n",
    "y = map(lambda y: pairs[y][1], range(len(pairs)))\n",
    "x = map(lambda y: pairs[y][0], range(len(pairs)))\n",
    "\n"
   ]
  },
  {
   "cell_type": "code",
   "execution_count": 18,
   "metadata": {},
   "outputs": [
    {
     "ename": "RuntimeError",
     "evalue": "matplotlib does not support generators as input",
     "output_type": "error",
     "traceback": [
      "\u001b[1;31m---------------------------------------------------------------------------\u001b[0m",
      "\u001b[1;31mRuntimeError\u001b[0m                              Traceback (most recent call last)",
      "\u001b[1;32m<ipython-input-18-9b2bb8e609b0>\u001b[0m in \u001b[0;36m<module>\u001b[1;34m\u001b[0m\n\u001b[0;32m      5\u001b[0m \u001b[1;33m\u001b[0m\u001b[0m\n\u001b[0;32m      6\u001b[0m \u001b[1;31m# Acá se está generndo un error:\u001b[0m\u001b[1;33m\u001b[0m\u001b[1;33m\u001b[0m\u001b[1;33m\u001b[0m\u001b[0m\n\u001b[1;32m----> 7\u001b[1;33m \u001b[0mplt\u001b[0m\u001b[1;33m.\u001b[0m\u001b[0mbar\u001b[0m\u001b[1;33m(\u001b[0m\u001b[0mrange\u001b[0m\u001b[1;33m(\u001b[0m\u001b[0mlen\u001b[0m\u001b[1;33m(\u001b[0m\u001b[0mpairs\u001b[0m\u001b[1;33m)\u001b[0m\u001b[1;33m)\u001b[0m\u001b[1;33m,\u001b[0m \u001b[0my\u001b[0m\u001b[1;33m)\u001b[0m\u001b[1;33m\u001b[0m\u001b[1;33m\u001b[0m\u001b[0m\n\u001b[0m\u001b[0;32m      8\u001b[0m \u001b[1;33m\u001b[0m\u001b[0m\n\u001b[0;32m      9\u001b[0m \u001b[0mplt\u001b[0m\u001b[1;33m.\u001b[0m\u001b[0mxlabel\u001b[0m\u001b[1;33m(\u001b[0m\u001b[1;34m'USERS'\u001b[0m\u001b[1;33m)\u001b[0m\u001b[1;33m\u001b[0m\u001b[1;33m\u001b[0m\u001b[0m\n",
      "\u001b[1;32m~\\Miniconda3\\lib\\site-packages\\matplotlib\\pyplot.py\u001b[0m in \u001b[0;36mbar\u001b[1;34m(x, height, width, bottom, align, data, **kwargs)\u001b[0m\n\u001b[0;32m   2407\u001b[0m     return gca().bar(\n\u001b[0;32m   2408\u001b[0m         \u001b[0mx\u001b[0m\u001b[1;33m,\u001b[0m \u001b[0mheight\u001b[0m\u001b[1;33m,\u001b[0m \u001b[0mwidth\u001b[0m\u001b[1;33m=\u001b[0m\u001b[0mwidth\u001b[0m\u001b[1;33m,\u001b[0m \u001b[0mbottom\u001b[0m\u001b[1;33m=\u001b[0m\u001b[0mbottom\u001b[0m\u001b[1;33m,\u001b[0m \u001b[0malign\u001b[0m\u001b[1;33m=\u001b[0m\u001b[0malign\u001b[0m\u001b[1;33m,\u001b[0m\u001b[1;33m\u001b[0m\u001b[1;33m\u001b[0m\u001b[0m\n\u001b[1;32m-> 2409\u001b[1;33m         **({\"data\": data} if data is not None else {}), **kwargs)\n\u001b[0m\u001b[0;32m   2410\u001b[0m \u001b[1;33m\u001b[0m\u001b[0m\n\u001b[0;32m   2411\u001b[0m \u001b[1;33m\u001b[0m\u001b[0m\n",
      "\u001b[1;32m~\\Miniconda3\\lib\\site-packages\\matplotlib\\__init__.py\u001b[0m in \u001b[0;36minner\u001b[1;34m(ax, data, *args, **kwargs)\u001b[0m\n\u001b[0;32m   1541\u001b[0m     \u001b[1;32mdef\u001b[0m \u001b[0minner\u001b[0m\u001b[1;33m(\u001b[0m\u001b[0max\u001b[0m\u001b[1;33m,\u001b[0m \u001b[1;33m*\u001b[0m\u001b[0margs\u001b[0m\u001b[1;33m,\u001b[0m \u001b[0mdata\u001b[0m\u001b[1;33m=\u001b[0m\u001b[1;32mNone\u001b[0m\u001b[1;33m,\u001b[0m \u001b[1;33m**\u001b[0m\u001b[0mkwargs\u001b[0m\u001b[1;33m)\u001b[0m\u001b[1;33m:\u001b[0m\u001b[1;33m\u001b[0m\u001b[1;33m\u001b[0m\u001b[0m\n\u001b[0;32m   1542\u001b[0m         \u001b[1;32mif\u001b[0m \u001b[0mdata\u001b[0m \u001b[1;32mis\u001b[0m \u001b[1;32mNone\u001b[0m\u001b[1;33m:\u001b[0m\u001b[1;33m\u001b[0m\u001b[1;33m\u001b[0m\u001b[0m\n\u001b[1;32m-> 1543\u001b[1;33m             \u001b[1;32mreturn\u001b[0m \u001b[0mfunc\u001b[0m\u001b[1;33m(\u001b[0m\u001b[0max\u001b[0m\u001b[1;33m,\u001b[0m \u001b[1;33m*\u001b[0m\u001b[0mmap\u001b[0m\u001b[1;33m(\u001b[0m\u001b[0msanitize_sequence\u001b[0m\u001b[1;33m,\u001b[0m \u001b[0margs\u001b[0m\u001b[1;33m)\u001b[0m\u001b[1;33m,\u001b[0m \u001b[1;33m**\u001b[0m\u001b[0mkwargs\u001b[0m\u001b[1;33m)\u001b[0m\u001b[1;33m\u001b[0m\u001b[1;33m\u001b[0m\u001b[0m\n\u001b[0m\u001b[0;32m   1544\u001b[0m \u001b[1;33m\u001b[0m\u001b[0m\n\u001b[0;32m   1545\u001b[0m         \u001b[0mbound\u001b[0m \u001b[1;33m=\u001b[0m \u001b[0mnew_sig\u001b[0m\u001b[1;33m.\u001b[0m\u001b[0mbind\u001b[0m\u001b[1;33m(\u001b[0m\u001b[0max\u001b[0m\u001b[1;33m,\u001b[0m \u001b[1;33m*\u001b[0m\u001b[0margs\u001b[0m\u001b[1;33m,\u001b[0m \u001b[1;33m**\u001b[0m\u001b[0mkwargs\u001b[0m\u001b[1;33m)\u001b[0m\u001b[1;33m\u001b[0m\u001b[1;33m\u001b[0m\u001b[0m\n",
      "\u001b[1;32m~\\Miniconda3\\lib\\site-packages\\matplotlib\\axes\\_axes.py\u001b[0m in \u001b[0;36mbar\u001b[1;34m(self, x, height, width, bottom, align, **kwargs)\u001b[0m\n\u001b[0;32m   2314\u001b[0m \u001b[1;33m\u001b[0m\u001b[0m\n\u001b[0;32m   2315\u001b[0m         \u001b[1;32mif\u001b[0m \u001b[0morientation\u001b[0m \u001b[1;33m==\u001b[0m \u001b[1;34m'vertical'\u001b[0m\u001b[1;33m:\u001b[0m\u001b[1;33m\u001b[0m\u001b[1;33m\u001b[0m\u001b[0m\n\u001b[1;32m-> 2316\u001b[1;33m             \u001b[0mself\u001b[0m\u001b[1;33m.\u001b[0m\u001b[0m_process_unit_info\u001b[0m\u001b[1;33m(\u001b[0m\u001b[0mxdata\u001b[0m\u001b[1;33m=\u001b[0m\u001b[0mx\u001b[0m\u001b[1;33m,\u001b[0m \u001b[0mydata\u001b[0m\u001b[1;33m=\u001b[0m\u001b[0mheight\u001b[0m\u001b[1;33m,\u001b[0m \u001b[0mkwargs\u001b[0m\u001b[1;33m=\u001b[0m\u001b[0mkwargs\u001b[0m\u001b[1;33m)\u001b[0m\u001b[1;33m\u001b[0m\u001b[1;33m\u001b[0m\u001b[0m\n\u001b[0m\u001b[0;32m   2317\u001b[0m             \u001b[1;32mif\u001b[0m \u001b[0mlog\u001b[0m\u001b[1;33m:\u001b[0m\u001b[1;33m\u001b[0m\u001b[1;33m\u001b[0m\u001b[0m\n\u001b[0;32m   2318\u001b[0m                 \u001b[0mself\u001b[0m\u001b[1;33m.\u001b[0m\u001b[0mset_yscale\u001b[0m\u001b[1;33m(\u001b[0m\u001b[1;34m'log'\u001b[0m\u001b[1;33m,\u001b[0m \u001b[0mnonposy\u001b[0m\u001b[1;33m=\u001b[0m\u001b[1;34m'clip'\u001b[0m\u001b[1;33m)\u001b[0m\u001b[1;33m\u001b[0m\u001b[1;33m\u001b[0m\u001b[0m\n",
      "\u001b[1;32m~\\Miniconda3\\lib\\site-packages\\matplotlib\\axes\\_base.py\u001b[0m in \u001b[0;36m_process_unit_info\u001b[1;34m(self, xdata, ydata, kwargs)\u001b[0m\n\u001b[0;32m   2072\u001b[0m \u001b[1;33m\u001b[0m\u001b[0m\n\u001b[0;32m   2073\u001b[0m         \u001b[0mkwargs\u001b[0m \u001b[1;33m=\u001b[0m \u001b[0m_process_single_axis\u001b[0m\u001b[1;33m(\u001b[0m\u001b[0mxdata\u001b[0m\u001b[1;33m,\u001b[0m \u001b[0mself\u001b[0m\u001b[1;33m.\u001b[0m\u001b[0mxaxis\u001b[0m\u001b[1;33m,\u001b[0m \u001b[1;34m'xunits'\u001b[0m\u001b[1;33m,\u001b[0m \u001b[0mkwargs\u001b[0m\u001b[1;33m)\u001b[0m\u001b[1;33m\u001b[0m\u001b[1;33m\u001b[0m\u001b[0m\n\u001b[1;32m-> 2074\u001b[1;33m         \u001b[0mkwargs\u001b[0m \u001b[1;33m=\u001b[0m \u001b[0m_process_single_axis\u001b[0m\u001b[1;33m(\u001b[0m\u001b[0mydata\u001b[0m\u001b[1;33m,\u001b[0m \u001b[0mself\u001b[0m\u001b[1;33m.\u001b[0m\u001b[0myaxis\u001b[0m\u001b[1;33m,\u001b[0m \u001b[1;34m'yunits'\u001b[0m\u001b[1;33m,\u001b[0m \u001b[0mkwargs\u001b[0m\u001b[1;33m)\u001b[0m\u001b[1;33m\u001b[0m\u001b[1;33m\u001b[0m\u001b[0m\n\u001b[0m\u001b[0;32m   2075\u001b[0m         \u001b[1;32mreturn\u001b[0m \u001b[0mkwargs\u001b[0m\u001b[1;33m\u001b[0m\u001b[1;33m\u001b[0m\u001b[0m\n\u001b[0;32m   2076\u001b[0m \u001b[1;33m\u001b[0m\u001b[0m\n",
      "\u001b[1;32m~\\Miniconda3\\lib\\site-packages\\matplotlib\\axes\\_base.py\u001b[0m in \u001b[0;36m_process_single_axis\u001b[1;34m(data, axis, unit_name, kwargs)\u001b[0m\n\u001b[0;32m   2054\u001b[0m                 \u001b[1;31m# We only need to update if there is nothing set yet.\u001b[0m\u001b[1;33m\u001b[0m\u001b[1;33m\u001b[0m\u001b[1;33m\u001b[0m\u001b[0m\n\u001b[0;32m   2055\u001b[0m                 \u001b[1;32mif\u001b[0m \u001b[1;32mnot\u001b[0m \u001b[0maxis\u001b[0m\u001b[1;33m.\u001b[0m\u001b[0mhave_units\u001b[0m\u001b[1;33m(\u001b[0m\u001b[1;33m)\u001b[0m\u001b[1;33m:\u001b[0m\u001b[1;33m\u001b[0m\u001b[1;33m\u001b[0m\u001b[0m\n\u001b[1;32m-> 2056\u001b[1;33m                     \u001b[0maxis\u001b[0m\u001b[1;33m.\u001b[0m\u001b[0mupdate_units\u001b[0m\u001b[1;33m(\u001b[0m\u001b[0mdata\u001b[0m\u001b[1;33m)\u001b[0m\u001b[1;33m\u001b[0m\u001b[1;33m\u001b[0m\u001b[0m\n\u001b[0m\u001b[0;32m   2057\u001b[0m \u001b[1;33m\u001b[0m\u001b[0m\n\u001b[0;32m   2058\u001b[0m             \u001b[1;31m# Check for units in the kwargs, and if present update axis\u001b[0m\u001b[1;33m\u001b[0m\u001b[1;33m\u001b[0m\u001b[1;33m\u001b[0m\u001b[0m\n",
      "\u001b[1;32m~\\Miniconda3\\lib\\site-packages\\matplotlib\\axis.py\u001b[0m in \u001b[0;36mupdate_units\u001b[1;34m(self, data)\u001b[0m\n\u001b[0;32m   1508\u001b[0m         \u001b[1;32mif\u001b[0m \u001b[1;33m*\u001b[0m\u001b[0mdata\u001b[0m\u001b[1;33m*\u001b[0m \u001b[1;32mis\u001b[0m \u001b[0mregistered\u001b[0m \u001b[1;32mfor\u001b[0m \u001b[0munit\u001b[0m \u001b[0mconversion\u001b[0m\u001b[1;33m.\u001b[0m\u001b[1;33m\u001b[0m\u001b[1;33m\u001b[0m\u001b[0m\n\u001b[0;32m   1509\u001b[0m         \"\"\"\n\u001b[1;32m-> 1510\u001b[1;33m         \u001b[0mconverter\u001b[0m \u001b[1;33m=\u001b[0m \u001b[0mmunits\u001b[0m\u001b[1;33m.\u001b[0m\u001b[0mregistry\u001b[0m\u001b[1;33m.\u001b[0m\u001b[0mget_converter\u001b[0m\u001b[1;33m(\u001b[0m\u001b[0mdata\u001b[0m\u001b[1;33m)\u001b[0m\u001b[1;33m\u001b[0m\u001b[1;33m\u001b[0m\u001b[0m\n\u001b[0m\u001b[0;32m   1511\u001b[0m         \u001b[1;32mif\u001b[0m \u001b[0mconverter\u001b[0m \u001b[1;32mis\u001b[0m \u001b[1;32mNone\u001b[0m\u001b[1;33m:\u001b[0m\u001b[1;33m\u001b[0m\u001b[1;33m\u001b[0m\u001b[0m\n\u001b[0;32m   1512\u001b[0m             \u001b[1;32mreturn\u001b[0m \u001b[1;32mFalse\u001b[0m\u001b[1;33m\u001b[0m\u001b[1;33m\u001b[0m\u001b[0m\n",
      "\u001b[1;32m~\\Miniconda3\\lib\\site-packages\\matplotlib\\units.py\u001b[0m in \u001b[0;36mget_converter\u001b[1;34m(self, x)\u001b[0m\n\u001b[0;32m    213\u001b[0m                 \u001b[1;32mpass\u001b[0m\u001b[1;33m\u001b[0m\u001b[1;33m\u001b[0m\u001b[0m\n\u001b[0;32m    214\u001b[0m         \u001b[1;32mtry\u001b[0m\u001b[1;33m:\u001b[0m  \u001b[1;31m# If cache lookup fails, look up based on first element...\u001b[0m\u001b[1;33m\u001b[0m\u001b[1;33m\u001b[0m\u001b[0m\n\u001b[1;32m--> 215\u001b[1;33m             \u001b[0mfirst\u001b[0m \u001b[1;33m=\u001b[0m \u001b[0mcbook\u001b[0m\u001b[1;33m.\u001b[0m\u001b[0msafe_first_element\u001b[0m\u001b[1;33m(\u001b[0m\u001b[0mx\u001b[0m\u001b[1;33m)\u001b[0m\u001b[1;33m\u001b[0m\u001b[1;33m\u001b[0m\u001b[0m\n\u001b[0m\u001b[0;32m    216\u001b[0m         \u001b[1;32mexcept\u001b[0m \u001b[1;33m(\u001b[0m\u001b[0mTypeError\u001b[0m\u001b[1;33m,\u001b[0m \u001b[0mStopIteration\u001b[0m\u001b[1;33m)\u001b[0m\u001b[1;33m:\u001b[0m\u001b[1;33m\u001b[0m\u001b[1;33m\u001b[0m\u001b[0m\n\u001b[0;32m    217\u001b[0m             \u001b[1;32mpass\u001b[0m\u001b[1;33m\u001b[0m\u001b[1;33m\u001b[0m\u001b[0m\n",
      "\u001b[1;32m~\\Miniconda3\\lib\\site-packages\\matplotlib\\cbook\\__init__.py\u001b[0m in \u001b[0;36msafe_first_element\u001b[1;34m(obj)\u001b[0m\n\u001b[0;32m   1648\u001b[0m         \u001b[1;32mexcept\u001b[0m \u001b[0mTypeError\u001b[0m\u001b[1;33m:\u001b[0m\u001b[1;33m\u001b[0m\u001b[1;33m\u001b[0m\u001b[0m\n\u001b[0;32m   1649\u001b[0m             \u001b[1;32mpass\u001b[0m\u001b[1;33m\u001b[0m\u001b[1;33m\u001b[0m\u001b[0m\n\u001b[1;32m-> 1650\u001b[1;33m         raise RuntimeError(\"matplotlib does not support generators \"\n\u001b[0m\u001b[0;32m   1651\u001b[0m                            \"as input\")\n\u001b[0;32m   1652\u001b[0m     \u001b[1;32mreturn\u001b[0m \u001b[0mnext\u001b[0m\u001b[1;33m(\u001b[0m\u001b[0miter\u001b[0m\u001b[1;33m(\u001b[0m\u001b[0mobj\u001b[0m\u001b[1;33m)\u001b[0m\u001b[1;33m)\u001b[0m\u001b[1;33m\u001b[0m\u001b[1;33m\u001b[0m\u001b[0m\n",
      "\u001b[1;31mRuntimeError\u001b[0m: matplotlib does not support generators as input"
     ]
    },
    {
     "data": {
      "image/png": "[encoded data removed]",
      "text/plain": [
       "<Figure size 432x288 with 1 Axes>"
      ]
     },
     "metadata": {
      "needs_background": "light"
     },
     "output_type": "display_data"
    }
   ],
   "source": [
    "fig = plt.figure()\n",
    "plt.xkcd()\n",
    "plt.xticks(range(len(pairs)), x, rotation='vertical')\n",
    "plt.ylim([80, 160])\n",
    "\n",
    "# Acá se está generndo un error:\n",
    "plt.bar(range(len(pairs)), y)\n",
    "\n",
    "plt.xlabel('USERS')\n",
    "plt.ylabel('number of liked posts')\n",
    "plt.show()"
   ]
  },
  {
   "cell_type": "code",
   "execution_count": 11,
   "metadata": {
    "scrolled": false
   },
   "outputs": [
    {
     "ename": "TypeError",
     "evalue": "float() argument must be a string or a number, not 'map'",
     "output_type": "error",
     "traceback": [
      "\u001b[1;31m---------------------------------------------------------------------------\u001b[0m",
      "\u001b[1;31mTypeError\u001b[0m                                 Traceback (most recent call last)",
      "\u001b[1;32m<ipython-input-11-4adf815c34ab>\u001b[0m in \u001b[0;36m<module>\u001b[1;34m\u001b[0m\n\u001b[0;32m      5\u001b[0m \u001b[1;33m\u001b[0m\u001b[0m\n\u001b[0;32m      6\u001b[0m \u001b[0mfig1\u001b[0m\u001b[1;33m,\u001b[0m \u001b[0max1\u001b[0m \u001b[1;33m=\u001b[0m \u001b[0mplt\u001b[0m\u001b[1;33m.\u001b[0m\u001b[0msubplots\u001b[0m\u001b[1;33m(\u001b[0m\u001b[1;33m)\u001b[0m\u001b[1;33m\u001b[0m\u001b[1;33m\u001b[0m\u001b[0m\n\u001b[1;32m----> 7\u001b[1;33m \u001b[0max1\u001b[0m\u001b[1;33m.\u001b[0m\u001b[0mpie\u001b[0m\u001b[1;33m(\u001b[0m\u001b[0my\u001b[0m\u001b[1;33m,\u001b[0m \u001b[0mexplode\u001b[0m\u001b[1;33m=\u001b[0m\u001b[0mexplode\u001b[0m\u001b[1;33m,\u001b[0m \u001b[0mlabels\u001b[0m\u001b[1;33m=\u001b[0m\u001b[0mx\u001b[0m\u001b[1;33m,\u001b[0m \u001b[0mautopct\u001b[0m\u001b[1;33m=\u001b[0m\u001b[1;34m'%1.1f%%'\u001b[0m\u001b[1;33m,\u001b[0m \u001b[0mshadow\u001b[0m\u001b[1;33m=\u001b[0m\u001b[1;32mTrue\u001b[0m\u001b[1;33m,\u001b[0m \u001b[0mstartangle\u001b[0m\u001b[1;33m=\u001b[0m\u001b[1;36m90\u001b[0m\u001b[1;33m)\u001b[0m\u001b[1;33m\u001b[0m\u001b[1;33m\u001b[0m\u001b[0m\n\u001b[0m\u001b[0;32m      8\u001b[0m \u001b[0max1\u001b[0m\u001b[1;33m.\u001b[0m\u001b[0maxis\u001b[0m\u001b[1;33m(\u001b[0m\u001b[1;34m'equal'\u001b[0m\u001b[1;33m)\u001b[0m  \u001b[1;31m# Equal aspect ratio ensures that pie is drawn as a circle.\u001b[0m\u001b[1;33m\u001b[0m\u001b[1;33m\u001b[0m\u001b[0m\n\u001b[0;32m      9\u001b[0m \u001b[1;33m\u001b[0m\u001b[0m\n",
      "\u001b[1;32m~\\Miniconda3\\lib\\site-packages\\matplotlib\\__init__.py\u001b[0m in \u001b[0;36minner\u001b[1;34m(ax, data, *args, **kwargs)\u001b[0m\n\u001b[0;32m   1541\u001b[0m     \u001b[1;32mdef\u001b[0m \u001b[0minner\u001b[0m\u001b[1;33m(\u001b[0m\u001b[0max\u001b[0m\u001b[1;33m,\u001b[0m \u001b[1;33m*\u001b[0m\u001b[0margs\u001b[0m\u001b[1;33m,\u001b[0m \u001b[0mdata\u001b[0m\u001b[1;33m=\u001b[0m\u001b[1;32mNone\u001b[0m\u001b[1;33m,\u001b[0m \u001b[1;33m**\u001b[0m\u001b[0mkwargs\u001b[0m\u001b[1;33m)\u001b[0m\u001b[1;33m:\u001b[0m\u001b[1;33m\u001b[0m\u001b[1;33m\u001b[0m\u001b[0m\n\u001b[0;32m   1542\u001b[0m         \u001b[1;32mif\u001b[0m \u001b[0mdata\u001b[0m \u001b[1;32mis\u001b[0m \u001b[1;32mNone\u001b[0m\u001b[1;33m:\u001b[0m\u001b[1;33m\u001b[0m\u001b[1;33m\u001b[0m\u001b[0m\n\u001b[1;32m-> 1543\u001b[1;33m             \u001b[1;32mreturn\u001b[0m \u001b[0mfunc\u001b[0m\u001b[1;33m(\u001b[0m\u001b[0max\u001b[0m\u001b[1;33m,\u001b[0m \u001b[1;33m*\u001b[0m\u001b[0mmap\u001b[0m\u001b[1;33m(\u001b[0m\u001b[0msanitize_sequence\u001b[0m\u001b[1;33m,\u001b[0m \u001b[0margs\u001b[0m\u001b[1;33m)\u001b[0m\u001b[1;33m,\u001b[0m \u001b[1;33m**\u001b[0m\u001b[0mkwargs\u001b[0m\u001b[1;33m)\u001b[0m\u001b[1;33m\u001b[0m\u001b[1;33m\u001b[0m\u001b[0m\n\u001b[0m\u001b[0;32m   1544\u001b[0m \u001b[1;33m\u001b[0m\u001b[0m\n\u001b[0;32m   1545\u001b[0m         \u001b[0mbound\u001b[0m \u001b[1;33m=\u001b[0m \u001b[0mnew_sig\u001b[0m\u001b[1;33m.\u001b[0m\u001b[0mbind\u001b[0m\u001b[1;33m(\u001b[0m\u001b[0max\u001b[0m\u001b[1;33m,\u001b[0m \u001b[1;33m*\u001b[0m\u001b[0margs\u001b[0m\u001b[1;33m,\u001b[0m \u001b[1;33m**\u001b[0m\u001b[0mkwargs\u001b[0m\u001b[1;33m)\u001b[0m\u001b[1;33m\u001b[0m\u001b[1;33m\u001b[0m\u001b[0m\n",
      "\u001b[1;32m~\\Miniconda3\\lib\\site-packages\\matplotlib\\axes\\_axes.py\u001b[0m in \u001b[0;36mpie\u001b[1;34m(self, x, explode, labels, colors, autopct, pctdistance, shadow, labeldistance, startangle, radius, counterclock, wedgeprops, textprops, center, frame, rotatelabels)\u001b[0m\n\u001b[0;32m   2909\u001b[0m         \u001b[1;31m# The use of float32 is \"historical\", but can't be changed without\u001b[0m\u001b[1;33m\u001b[0m\u001b[1;33m\u001b[0m\u001b[1;33m\u001b[0m\u001b[0m\n\u001b[0;32m   2910\u001b[0m         \u001b[1;31m# regenerating the test baselines.\u001b[0m\u001b[1;33m\u001b[0m\u001b[1;33m\u001b[0m\u001b[1;33m\u001b[0m\u001b[0m\n\u001b[1;32m-> 2911\u001b[1;33m         \u001b[0mx\u001b[0m \u001b[1;33m=\u001b[0m \u001b[0mnp\u001b[0m\u001b[1;33m.\u001b[0m\u001b[0masarray\u001b[0m\u001b[1;33m(\u001b[0m\u001b[0mx\u001b[0m\u001b[1;33m,\u001b[0m \u001b[0mnp\u001b[0m\u001b[1;33m.\u001b[0m\u001b[0mfloat32\u001b[0m\u001b[1;33m)\u001b[0m\u001b[1;33m\u001b[0m\u001b[1;33m\u001b[0m\u001b[0m\n\u001b[0m\u001b[0;32m   2912\u001b[0m         \u001b[1;32mif\u001b[0m \u001b[0mx\u001b[0m\u001b[1;33m.\u001b[0m\u001b[0mndim\u001b[0m \u001b[1;33m!=\u001b[0m \u001b[1;36m1\u001b[0m \u001b[1;32mand\u001b[0m \u001b[0mx\u001b[0m\u001b[1;33m.\u001b[0m\u001b[0msqueeze\u001b[0m\u001b[1;33m(\u001b[0m\u001b[1;33m)\u001b[0m\u001b[1;33m.\u001b[0m\u001b[0mndim\u001b[0m \u001b[1;33m<=\u001b[0m \u001b[1;36m1\u001b[0m\u001b[1;33m:\u001b[0m\u001b[1;33m\u001b[0m\u001b[1;33m\u001b[0m\u001b[0m\n\u001b[0;32m   2913\u001b[0m             cbook.warn_deprecated(\n",
      "\u001b[1;32m~\\Miniconda3\\lib\\site-packages\\numpy\\core\\_asarray.py\u001b[0m in \u001b[0;36masarray\u001b[1;34m(a, dtype, order)\u001b[0m\n\u001b[0;32m     83\u001b[0m \u001b[1;33m\u001b[0m\u001b[0m\n\u001b[0;32m     84\u001b[0m     \"\"\"\n\u001b[1;32m---> 85\u001b[1;33m     \u001b[1;32mreturn\u001b[0m \u001b[0marray\u001b[0m\u001b[1;33m(\u001b[0m\u001b[0ma\u001b[0m\u001b[1;33m,\u001b[0m \u001b[0mdtype\u001b[0m\u001b[1;33m,\u001b[0m \u001b[0mcopy\u001b[0m\u001b[1;33m=\u001b[0m\u001b[1;32mFalse\u001b[0m\u001b[1;33m,\u001b[0m \u001b[0morder\u001b[0m\u001b[1;33m=\u001b[0m\u001b[0morder\u001b[0m\u001b[1;33m)\u001b[0m\u001b[1;33m\u001b[0m\u001b[1;33m\u001b[0m\u001b[0m\n\u001b[0m\u001b[0;32m     86\u001b[0m \u001b[1;33m\u001b[0m\u001b[0m\n\u001b[0;32m     87\u001b[0m \u001b[1;33m\u001b[0m\u001b[0m\n",
      "\u001b[1;31mTypeError\u001b[0m: float() argument must be a string or a number, not 'map'"
     ]
    },
    {
     "data": {
      "text/plain": [
       "<Figure size 432x288 with 0 Axes>"
      ]
     },
     "metadata": {},
     "output_type": "display_data"
    },
    {
     "data": {
      "image/png": "[encoded data removed]",
      "text/plain": [
       "<Figure size 432x288 with 1 Axes>"
      ]
     },
     "metadata": {
      "needs_background": "light"
     },
     "output_type": "display_data"
    }
   ],
   "source": [
    "plt.gcf().clear()\n",
    "\n",
    "# Pie chart, where the slices will be ordered and plotted counter-clockwise:\n",
    "explode = map(lambda i: i/max(y)/10., y)\n",
    "\n",
    "fig1, ax1 = plt.subplots()\n",
    "ax1.pie(y, explode=explode, labels=x, autopct='%1.1f%%', shadow=True, startangle=90)\n",
    "ax1.axis('equal')  # Equal aspect ratio ensures that pie is drawn as a circle.\n",
    "\n",
    "plt.show()"
   ]
  },
  {
   "cell_type": "code",
   "execution_count": 12,
   "metadata": {},
   "outputs": [
    {
     "name": "stdout",
     "output_type": "stream",
     "text": [
      "b''\n",
      "b''\n",
      "b''\n",
      "b''\n",
      "b''\n",
      "b''\n",
      "b''\n",
      "b''\n",
      "b''\n",
      "b''\n"
     ]
    },
    {
     "ename": "KeyboardInterrupt",
     "evalue": "",
     "output_type": "error",
     "traceback": [
      "\u001b[1;31m---------------------------------------------------------------------------\u001b[0m",
      "\u001b[1;31mKeyboardInterrupt\u001b[0m                         Traceback (most recent call last)",
      "\u001b[1;32m<ipython-input-12-46c78e47de1a>\u001b[0m in \u001b[0;36m<module>\u001b[1;34m\u001b[0m\n\u001b[0;32m      7\u001b[0m     \u001b[1;32mif\u001b[0m \u001b[0moutput\u001b[0m \u001b[1;33m!=\u001b[0m \u001b[1;34m\"\"\u001b[0m\u001b[1;33m:\u001b[0m\u001b[1;33m\u001b[0m\u001b[1;33m\u001b[0m\u001b[0m\n\u001b[0;32m      8\u001b[0m         \u001b[0mprint\u001b[0m \u001b[1;33m(\u001b[0m\u001b[0moutput\u001b[0m\u001b[1;33m)\u001b[0m\u001b[1;33m\u001b[0m\u001b[1;33m\u001b[0m\u001b[0m\n\u001b[1;32m----> 9\u001b[1;33m     \u001b[0mtime\u001b[0m\u001b[1;33m.\u001b[0m\u001b[0msleep\u001b[0m\u001b[1;33m(\u001b[0m\u001b[1;36m20\u001b[0m\u001b[1;33m)\u001b[0m\u001b[1;33m\u001b[0m\u001b[1;33m\u001b[0m\u001b[0m\n\u001b[0m",
      "\u001b[1;31mKeyboardInterrupt\u001b[0m: "
     ]
    }
   ],
   "source": [
    "import subprocess\n",
    "import time\n",
    "location = 'umami burger'\n",
    "while True:\n",
    "    p = subprocess.Popen([\"instagram-scraper\", \"--search-location\", location], stdout=subprocess.PIPE)\n",
    "    output, err = p.communicate()\n",
    "    if output != \"\":\n",
    "        print (output)\n",
    "    time.sleep(20)"
   ]
  },
  {
   "cell_type": "markdown",
   "metadata": {},
   "source": [
    "## Data Mining: Instagram Scraper (1)\n",
    "\n",
    "https://medium.com/@bruceoh/data-mining-instagram-scraper-1-d557e7ae4264"
   ]
  },
  {
   "cell_type": "markdown",
   "metadata": {},
   "source": [
    "En algún momento, podemos ver fácilmente que la popularidad de las redes sociales se ha trasladado a Instagram desde Facebook. Analizar las redes sociales nos ayuda a comprender cuáles son las tendencias que las personas siguen actualmente. \n",
    "\n",
    "Instagram se concentra en la foto.\n",
    "\n",
    "Según estos deseos, las imágenes de las redes sociales en Instagram se han convertido en una implicación para los demás. Este deseo particular logró que las personas se mudaran a Instagram. En este punto, me gustaría compartir algo llamado Instagram-Scraper para las personas que quieren estudiar sobre Instagram.\n",
    "\n",
    "Instagram-Scraper es una herramienta que le permite obtener la mayor parte de la información publicada en Instagram, incluidas fotos, subtítulos y comentarios.\n",
    "\n",
    "Para obtener más información, siempre puede consultar el sitio web oficial: https://github.com/rarcega/instagram-scraper\n",
    "\n",
    "La instalación de Instagram Scraper es bastante fácil. \n",
    "\n",
    "Desde CMD:\n",
    "\n",
    "pip install instagram-scraper\n",
    "\n",
    "y con:\n",
    "\n",
    "\n",
    "\n"
   ]
  },
  {
   "cell_type": "code",
   "execution_count": null,
   "metadata": {},
   "outputs": [],
   "source": [
    "instagram-scraper -h"
   ]
  },
  {
   "cell_type": "markdown",
   "metadata": {},
   "source": [
    "podemos ver todas las funciones que tiene instagram-scraper."
   ]
  },
  {
   "cell_type": "markdown",
   "metadata": {},
   "source": [
    "Estas funciones de scraper funcionan eficientemente de varias maneras. **Si se está buscando una función en particular, es mejor que el sitio web oficial.**\n",
    "\n",
    "Pero si se está pensando en trabajar en minería de datos, será mejor tener un script para ejecutarlo porque instagram-scraper proporciona una consulta a la vez. Aunque proporcionan la función para obtener varias fotos de los usuarios con una función de comando, es posible tener diferentes opciones. Entonces, se sugiere para obtener grandes datos de Instagram  usar Python para crear script y asi enviar múltiples consultas.\n",
    "\n",
    "Aquí hay un ejemplo simple para que el script encuentre los lugares que tienen el nombre \"burger king\":"
   ]
  },
  {
   "cell_type": "code",
   "execution_count": null,
   "metadata": {},
   "outputs": [
    {
     "name": "stdout",
     "output_type": "stream",
     "text": [
      "b'location-id: 839579052884982, title: Mc Donalds, subtitle: 107 Doe Bay Rd, city: , lat: 48.64107, lng: -122.78088\\r\\nlocation-id: 215633027, title: Mc Donalds - Campolim, subtitle: Avenida Antonio Carlos Comitre, city: , lat: -23.524525834631, lng: -47.464643943469\\r\\nlocation-id: 350538630, title: Mc Donalds Mathura, subtitle: National Highway 2, Mathura, Uttar Pradesh, city: Mathura, Uttar Pradesh, lat: 27.378506529933, lng: 77.692431816204\\r\\nlocation-id: 249695011, title: Mc Donalds, subtitle: B-dul Revolutiei, Arad, Arad, city: Arad, Arad, lat: 46.175325948079, lng: 21.318086513078\\r\\nlocation-id: 308320392, title: Mc Donalds, subtitle: Avenida nove de julho, 1140, Bairro: Jardim Nossa Senhora de Fatima, city: , lat: -21.292238665, lng: -50.348050315\\r\\n'\n",
      "b'location-id: 839579052884982, title: Mc Donalds, subtitle: 107 Doe Bay Rd, city: , lat: 48.64107, lng: -122.78088\\r\\nlocation-id: 215633027, title: Mc Donalds - Campolim, subtitle: Avenida Antonio Carlos Comitre, city: , lat: -23.524525834631, lng: -47.464643943469\\r\\nlocation-id: 350538630, title: Mc Donalds Mathura, subtitle: National Highway 2, Mathura, Uttar Pradesh, city: Mathura, Uttar Pradesh, lat: 27.378506529933, lng: 77.692431816204\\r\\nlocation-id: 249695011, title: Mc Donalds, subtitle: B-dul Revolutiei, Arad, Arad, city: Arad, Arad, lat: 46.175325948079, lng: 21.318086513078\\r\\nlocation-id: 308320392, title: Mc Donalds, subtitle: Avenida nove de julho, 1140, Bairro: Jardim Nossa Senhora de Fatima, city: , lat: -21.292238665, lng: -50.348050315\\r\\n'\n",
      "b'location-id: 839579052884982, title: Mc Donalds, subtitle: 107 Doe Bay Rd, city: , lat: 48.64107, lng: -122.78088\\r\\nlocation-id: 215633027, title: Mc Donalds - Campolim, subtitle: Avenida Antonio Carlos Comitre, city: , lat: -23.524525834631, lng: -47.464643943469\\r\\nlocation-id: 350538630, title: Mc Donalds Mathura, subtitle: National Highway 2, Mathura, Uttar Pradesh, city: Mathura, Uttar Pradesh, lat: 27.378506529933, lng: 77.692431816204\\r\\nlocation-id: 249695011, title: Mc Donalds, subtitle: B-dul Revolutiei, Arad, Arad, city: Arad, Arad, lat: 46.175325948079, lng: 21.318086513078\\r\\nlocation-id: 308320392, title: Mc Donalds, subtitle: Avenida nove de julho, 1140, Bairro: Jardim Nossa Senhora de Fatima, city: , lat: -21.292238665, lng: -50.348050315\\r\\n'\n",
      "b'location-id: 839579052884982, title: Mc Donalds, subtitle: 107 Doe Bay Rd, city: , lat: 48.64107, lng: -122.78088\\r\\nlocation-id: 215633027, title: Mc Donalds - Campolim, subtitle: Avenida Antonio Carlos Comitre, city: , lat: -23.524525834631, lng: -47.464643943469\\r\\nlocation-id: 350538630, title: Mc Donalds Mathura, subtitle: National Highway 2, Mathura, Uttar Pradesh, city: Mathura, Uttar Pradesh, lat: 27.378506529933, lng: 77.692431816204\\r\\nlocation-id: 249695011, title: Mc Donalds, subtitle: B-dul Revolutiei, Arad, Arad, city: Arad, Arad, lat: 46.175325948079, lng: 21.318086513078\\r\\nlocation-id: 308320392, title: Mc Donalds, subtitle: Avenida nove de julho, 1140, Bairro: Jardim Nossa Senhora de Fatima, city: , lat: -21.292238665, lng: -50.348050315\\r\\n'\n",
      "b'location-id: 839579052884982, title: Mc Donalds, subtitle: 107 Doe Bay Rd, city: , lat: 48.64107, lng: -122.78088\\r\\nlocation-id: 215633027, title: Mc Donalds - Campolim, subtitle: Avenida Antonio Carlos Comitre, city: , lat: -23.524525834631, lng: -47.464643943469\\r\\nlocation-id: 350538630, title: Mc Donalds Mathura, subtitle: National Highway 2, Mathura, Uttar Pradesh, city: Mathura, Uttar Pradesh, lat: 27.378506529933, lng: 77.692431816204\\r\\nlocation-id: 249695011, title: Mc Donalds, subtitle: B-dul Revolutiei, Arad, Arad, city: Arad, Arad, lat: 46.175325948079, lng: 21.318086513078\\r\\nlocation-id: 308320392, title: Mc Donalds, subtitle: Avenida nove de julho, 1140, Bairro: Jardim Nossa Senhora de Fatima, city: , lat: -21.292238665, lng: -50.348050315\\r\\n'\n",
      "b'location-id: 839579052884982, title: Mc Donalds, subtitle: 107 Doe Bay Rd, city: , lat: 48.64107, lng: -122.78088\\r\\nlocation-id: 215633027, title: Mc Donalds - Campolim, subtitle: Avenida Antonio Carlos Comitre, city: , lat: -23.524525834631, lng: -47.464643943469\\r\\nlocation-id: 350538630, title: Mc Donalds Mathura, subtitle: National Highway 2, Mathura, Uttar Pradesh, city: Mathura, Uttar Pradesh, lat: 27.378506529933, lng: 77.692431816204\\r\\nlocation-id: 249695011, title: Mc Donalds, subtitle: B-dul Revolutiei, Arad, Arad, city: Arad, Arad, lat: 46.175325948079, lng: 21.318086513078\\r\\nlocation-id: 308320392, title: Mc Donalds, subtitle: Avenida nove de julho, 1140, Bairro: Jardim Nossa Senhora de Fatima, city: , lat: -21.292238665, lng: -50.348050315\\r\\n'\n",
      "b'location-id: 839579052884982, title: Mc Donalds, subtitle: 107 Doe Bay Rd, city: , lat: 48.64107, lng: -122.78088\\r\\nlocation-id: 215633027, title: Mc Donalds - Campolim, subtitle: Avenida Antonio Carlos Comitre, city: , lat: -23.524525834631, lng: -47.464643943469\\r\\nlocation-id: 350538630, title: Mc Donalds Mathura, subtitle: National Highway 2, Mathura, Uttar Pradesh, city: Mathura, Uttar Pradesh, lat: 27.378506529933, lng: 77.692431816204\\r\\nlocation-id: 249695011, title: Mc Donalds, subtitle: B-dul Revolutiei, Arad, Arad, city: Arad, Arad, lat: 46.175325948079, lng: 21.318086513078\\r\\nlocation-id: 308320392, title: Mc Donalds, subtitle: Avenida nove de julho, 1140, Bairro: Jardim Nossa Senhora de Fatima, city: , lat: -21.292238665, lng: -50.348050315\\r\\n'\n",
      "b'location-id: 839579052884982, title: Mc Donalds, subtitle: 107 Doe Bay Rd, city: , lat: 48.64107, lng: -122.78088\\r\\nlocation-id: 215633027, title: Mc Donalds - Campolim, subtitle: Avenida Antonio Carlos Comitre, city: , lat: -23.524525834631, lng: -47.464643943469\\r\\nlocation-id: 350538630, title: Mc Donalds Mathura, subtitle: National Highway 2, Mathura, Uttar Pradesh, city: Mathura, Uttar Pradesh, lat: 27.378506529933, lng: 77.692431816204\\r\\nlocation-id: 249695011, title: Mc Donalds, subtitle: B-dul Revolutiei, Arad, Arad, city: Arad, Arad, lat: 46.175325948079, lng: 21.318086513078\\r\\nlocation-id: 308320392, title: Mc Donalds, subtitle: Avenida nove de julho, 1140, Bairro: Jardim Nossa Senhora de Fatima, city: , lat: -21.292238665, lng: -50.348050315\\r\\n'\n",
      "b'location-id: 839579052884982, title: Mc Donalds, subtitle: 107 Doe Bay Rd, city: , lat: 48.64107, lng: -122.78088\\r\\nlocation-id: 215633027, title: Mc Donalds - Campolim, subtitle: Avenida Antonio Carlos Comitre, city: , lat: -23.524525834631, lng: -47.464643943469\\r\\nlocation-id: 350538630, title: Mc Donalds Mathura, subtitle: National Highway 2, Mathura, Uttar Pradesh, city: Mathura, Uttar Pradesh, lat: 27.378506529933, lng: 77.692431816204\\r\\nlocation-id: 249695011, title: Mc Donalds, subtitle: B-dul Revolutiei, Arad, Arad, city: Arad, Arad, lat: 46.175325948079, lng: 21.318086513078\\r\\nlocation-id: 308320392, title: Mc Donalds, subtitle: Avenida nove de julho, 1140, Bairro: Jardim Nossa Senhora de Fatima, city: , lat: -21.292238665, lng: -50.348050315\\r\\n'\n",
      "b'location-id: 839579052884982, title: Mc Donalds, subtitle: 107 Doe Bay Rd, city: , lat: 48.64107, lng: -122.78088\\r\\nlocation-id: 215633027, title: Mc Donalds - Campolim, subtitle: Avenida Antonio Carlos Comitre, city: , lat: -23.524525834631, lng: -47.464643943469\\r\\nlocation-id: 350538630, title: Mc Donalds Mathura, subtitle: National Highway 2, Mathura, Uttar Pradesh, city: Mathura, Uttar Pradesh, lat: 27.378506529933, lng: 77.692431816204\\r\\nlocation-id: 249695011, title: Mc Donalds, subtitle: B-dul Revolutiei, Arad, Arad, city: Arad, Arad, lat: 46.175325948079, lng: 21.318086513078\\r\\nlocation-id: 308320392, title: Mc Donalds, subtitle: Avenida nove de julho, 1140, Bairro: Jardim Nossa Senhora de Fatima, city: , lat: -21.292238665, lng: -50.348050315\\r\\n'\n",
      "b'location-id: 839579052884982, title: Mc Donalds, subtitle: 107 Doe Bay Rd, city: , lat: 48.64107, lng: -122.78088\\r\\nlocation-id: 215633027, title: Mc Donalds - Campolim, subtitle: Avenida Antonio Carlos Comitre, city: , lat: -23.524525834631, lng: -47.464643943469\\r\\nlocation-id: 350538630, title: Mc Donalds Mathura, subtitle: National Highway 2, Mathura, Uttar Pradesh, city: Mathura, Uttar Pradesh, lat: 27.378506529933, lng: 77.692431816204\\r\\nlocation-id: 249695011, title: Mc Donalds, subtitle: B-dul Revolutiei, Arad, Arad, city: Arad, Arad, lat: 46.175325948079, lng: 21.318086513078\\r\\nlocation-id: 308320392, title: Mc Donalds, subtitle: Avenida nove de julho, 1140, Bairro: Jardim Nossa Senhora de Fatima, city: , lat: -21.292238665, lng: -50.348050315\\r\\n'\n"
     ]
    }
   ],
   "source": [
    "import subprocess\n",
    "import time\n",
    "location = 'mc donalds'\n",
    "while True:\n",
    "    p = subprocess.Popen([\"instagram-scraper\", \"--search-location\", location], stdout=subprocess.PIPE)\n",
    "    output, err = p.communicate()\n",
    "    if output != \"\":\n",
    "        print (output)\n",
    "    time.sleep(20)"
   ]
  },
  {
   "cell_type": "code",
   "execution_count": 23,
   "metadata": {},
   "outputs": [
    {
     "ename": "SyntaxError",
     "evalue": "illegal target for annotation (<ipython-input-23-cfe478bd2653>, line 1)",
     "output_type": "error",
     "traceback": [
      "\u001b[1;36m  File \u001b[1;32m\"<ipython-input-23-cfe478bd2653>\"\u001b[1;36m, line \u001b[1;32m1\u001b[0m\n\u001b[1;33m    instagram-scraper --location-id: 1730212490391916\u001b[0m\n\u001b[1;37m                                                       ^\u001b[0m\n\u001b[1;31mSyntaxError\u001b[0m\u001b[1;31m:\u001b[0m illegal target for annotation\n"
     ]
    }
   ],
   "source": [
    "instagram-scraper --location-id: 1730212490391916  \n",
    "--media_metadata"
   ]
  },
  {
   "cell_type": "markdown",
   "metadata": {},
   "source": [
    "# Tutorial: Web scraping Instagram’s most precious resource — corgis.\n",
    "\n",
    "Fuente: https://medium.com/swlh/tutorial-web-scraping-instagrams-most-precious-resource-corgis-235bf0389b0c"
   ]
  },
  {
   "cell_type": "code",
   "execution_count": 27,
   "metadata": {},
   "outputs": [],
   "source": [
    "import pandas as pd\n",
    "import time\n",
    "from selenium.webdriver import Chrome\n",
    "\n",
    "from selenium import webdriver"
   ]
  },
  {
   "cell_type": "code",
   "execution_count": 28,
   "metadata": {},
   "outputs": [],
   "source": [
    "\n",
    "browser = webdriver.Chrome('/chromedriver.exe')\n",
    "\n",
    "# Nos dirigimos a la página de linkedin e ingresamos automáticamente leyendo nuestras \n",
    "# credenciales desde el archivo config.txt:\n",
    "browser.get('https://www.instagram.com/')\n",
    "\n",
    "\n"
   ]
  },
  {
   "cell_type": "code",
   "execution_count": 26,
   "metadata": {},
   "outputs": [
    {
     "ename": "NoSuchElementException",
     "evalue": "Message: no such element: Unable to locate element: {\"method\":\"partial link text\",\"selector\":\"likes\"}\n  (Session info: chrome=80.0.3987.132)\n  (Driver info: chromedriver=80.0.3987.106 (f68069574609230cf9b635cd784cfb1bf81bb53a-refs/branch-heads/3987@{#882}),platform=Windows NT 10.0.18362 x86_64)\n",
     "output_type": "error",
     "traceback": [
      "\u001b[1;31m---------------------------------------------------------------------------\u001b[0m",
      "\u001b[1;31mNoSuchElementException\u001b[0m                    Traceback (most recent call last)",
      "\u001b[1;32m<ipython-input-26-afd3af8d57c9>\u001b[0m in \u001b[0;36m<module>\u001b[1;34m\u001b[0m\n\u001b[0;32m      1\u001b[0m \u001b[1;31m#Retrieve every link from a page\u001b[0m\u001b[1;33m\u001b[0m\u001b[1;33m\u001b[0m\u001b[1;33m\u001b[0m\u001b[0m\n\u001b[0;32m      2\u001b[0m \u001b[0mbrowser\u001b[0m\u001b[1;33m.\u001b[0m\u001b[0mfind_elements_by_tag_name\u001b[0m\u001b[1;33m(\u001b[0m\u001b[1;34m'a'\u001b[0m\u001b[1;33m)\u001b[0m\u001b[1;31m# Retrieve a link from a page that has \"likes\" in its text\u001b[0m\u001b[1;33m\u001b[0m\u001b[1;33m\u001b[0m\u001b[0m\n\u001b[1;32m----> 3\u001b[1;33m \u001b[0mbrowser\u001b[0m\u001b[1;33m.\u001b[0m\u001b[0mfind_element_by_partial_link_text\u001b[0m\u001b[1;33m(\u001b[0m\u001b[1;34m'likes'\u001b[0m\u001b[1;33m)\u001b[0m\u001b[1;33m\u001b[0m\u001b[1;33m\u001b[0m\u001b[0m\n\u001b[0m",
      "\u001b[1;32m~\\Miniconda3\\lib\\site-packages\\selenium\\webdriver\\remote\\webdriver.py\u001b[0m in \u001b[0;36mfind_element_by_partial_link_text\u001b[1;34m(self, link_text)\u001b[0m\n\u001b[0;32m    339\u001b[0m             \u001b[0mdriver\u001b[0m\u001b[1;33m.\u001b[0m\u001b[0mfind_element_by_partial_link_text\u001b[0m\u001b[1;33m(\u001b[0m\u001b[1;34m'Sign'\u001b[0m\u001b[1;33m)\u001b[0m\u001b[1;33m\u001b[0m\u001b[1;33m\u001b[0m\u001b[0m\n\u001b[0;32m    340\u001b[0m         \"\"\"\n\u001b[1;32m--> 341\u001b[1;33m         \u001b[1;32mreturn\u001b[0m \u001b[0mself\u001b[0m\u001b[1;33m.\u001b[0m\u001b[0mfind_element\u001b[0m\u001b[1;33m(\u001b[0m\u001b[0mby\u001b[0m\u001b[1;33m=\u001b[0m\u001b[0mBy\u001b[0m\u001b[1;33m.\u001b[0m\u001b[0mPARTIAL_LINK_TEXT\u001b[0m\u001b[1;33m,\u001b[0m \u001b[0mvalue\u001b[0m\u001b[1;33m=\u001b[0m\u001b[0mlink_text\u001b[0m\u001b[1;33m)\u001b[0m\u001b[1;33m\u001b[0m\u001b[1;33m\u001b[0m\u001b[0m\n\u001b[0m\u001b[0;32m    342\u001b[0m \u001b[1;33m\u001b[0m\u001b[0m\n\u001b[0;32m    343\u001b[0m     \u001b[1;32mdef\u001b[0m \u001b[0mfind_elements_by_partial_link_text\u001b[0m\u001b[1;33m(\u001b[0m\u001b[0mself\u001b[0m\u001b[1;33m,\u001b[0m \u001b[0mlink_text\u001b[0m\u001b[1;33m)\u001b[0m\u001b[1;33m:\u001b[0m\u001b[1;33m\u001b[0m\u001b[1;33m\u001b[0m\u001b[0m\n",
      "\u001b[1;32m~\\Miniconda3\\lib\\site-packages\\selenium\\webdriver\\remote\\webdriver.py\u001b[0m in \u001b[0;36mfind_element\u001b[1;34m(self, by, value)\u001b[0m\n\u001b[0;32m    750\u001b[0m         return self.execute(Command.FIND_ELEMENT, {\n\u001b[0;32m    751\u001b[0m             \u001b[1;34m'using'\u001b[0m\u001b[1;33m:\u001b[0m \u001b[0mby\u001b[0m\u001b[1;33m,\u001b[0m\u001b[1;33m\u001b[0m\u001b[1;33m\u001b[0m\u001b[0m\n\u001b[1;32m--> 752\u001b[1;33m             'value': value})['value']\n\u001b[0m\u001b[0;32m    753\u001b[0m \u001b[1;33m\u001b[0m\u001b[0m\n\u001b[0;32m    754\u001b[0m     \u001b[1;32mdef\u001b[0m \u001b[0mfind_elements\u001b[0m\u001b[1;33m(\u001b[0m\u001b[0mself\u001b[0m\u001b[1;33m,\u001b[0m \u001b[0mby\u001b[0m\u001b[1;33m=\u001b[0m\u001b[0mBy\u001b[0m\u001b[1;33m.\u001b[0m\u001b[0mID\u001b[0m\u001b[1;33m,\u001b[0m \u001b[0mvalue\u001b[0m\u001b[1;33m=\u001b[0m\u001b[1;32mNone\u001b[0m\u001b[1;33m)\u001b[0m\u001b[1;33m:\u001b[0m\u001b[1;33m\u001b[0m\u001b[1;33m\u001b[0m\u001b[0m\n",
      "\u001b[1;32m~\\Miniconda3\\lib\\site-packages\\selenium\\webdriver\\remote\\webdriver.py\u001b[0m in \u001b[0;36mexecute\u001b[1;34m(self, driver_command, params)\u001b[0m\n\u001b[0;32m    234\u001b[0m         \u001b[0mresponse\u001b[0m \u001b[1;33m=\u001b[0m \u001b[0mself\u001b[0m\u001b[1;33m.\u001b[0m\u001b[0mcommand_executor\u001b[0m\u001b[1;33m.\u001b[0m\u001b[0mexecute\u001b[0m\u001b[1;33m(\u001b[0m\u001b[0mdriver_command\u001b[0m\u001b[1;33m,\u001b[0m \u001b[0mparams\u001b[0m\u001b[1;33m)\u001b[0m\u001b[1;33m\u001b[0m\u001b[1;33m\u001b[0m\u001b[0m\n\u001b[0;32m    235\u001b[0m         \u001b[1;32mif\u001b[0m \u001b[0mresponse\u001b[0m\u001b[1;33m:\u001b[0m\u001b[1;33m\u001b[0m\u001b[1;33m\u001b[0m\u001b[0m\n\u001b[1;32m--> 236\u001b[1;33m             \u001b[0mself\u001b[0m\u001b[1;33m.\u001b[0m\u001b[0merror_handler\u001b[0m\u001b[1;33m.\u001b[0m\u001b[0mcheck_response\u001b[0m\u001b[1;33m(\u001b[0m\u001b[0mresponse\u001b[0m\u001b[1;33m)\u001b[0m\u001b[1;33m\u001b[0m\u001b[1;33m\u001b[0m\u001b[0m\n\u001b[0m\u001b[0;32m    237\u001b[0m             response['value'] = self._unwrap_value(\n\u001b[0;32m    238\u001b[0m                 response.get('value', None))\n",
      "\u001b[1;32m~\\Miniconda3\\lib\\site-packages\\selenium\\webdriver\\remote\\errorhandler.py\u001b[0m in \u001b[0;36mcheck_response\u001b[1;34m(self, response)\u001b[0m\n\u001b[0;32m    190\u001b[0m         \u001b[1;32melif\u001b[0m \u001b[0mexception_class\u001b[0m \u001b[1;33m==\u001b[0m \u001b[0mUnexpectedAlertPresentException\u001b[0m \u001b[1;32mand\u001b[0m \u001b[1;34m'alert'\u001b[0m \u001b[1;32min\u001b[0m \u001b[0mvalue\u001b[0m\u001b[1;33m:\u001b[0m\u001b[1;33m\u001b[0m\u001b[1;33m\u001b[0m\u001b[0m\n\u001b[0;32m    191\u001b[0m             \u001b[1;32mraise\u001b[0m \u001b[0mexception_class\u001b[0m\u001b[1;33m(\u001b[0m\u001b[0mmessage\u001b[0m\u001b[1;33m,\u001b[0m \u001b[0mscreen\u001b[0m\u001b[1;33m,\u001b[0m \u001b[0mstacktrace\u001b[0m\u001b[1;33m,\u001b[0m \u001b[0mvalue\u001b[0m\u001b[1;33m[\u001b[0m\u001b[1;34m'alert'\u001b[0m\u001b[1;33m]\u001b[0m\u001b[1;33m.\u001b[0m\u001b[0mget\u001b[0m\u001b[1;33m(\u001b[0m\u001b[1;34m'text'\u001b[0m\u001b[1;33m)\u001b[0m\u001b[1;33m)\u001b[0m\u001b[1;33m\u001b[0m\u001b[1;33m\u001b[0m\u001b[0m\n\u001b[1;32m--> 192\u001b[1;33m         \u001b[1;32mraise\u001b[0m \u001b[0mexception_class\u001b[0m\u001b[1;33m(\u001b[0m\u001b[0mmessage\u001b[0m\u001b[1;33m,\u001b[0m \u001b[0mscreen\u001b[0m\u001b[1;33m,\u001b[0m \u001b[0mstacktrace\u001b[0m\u001b[1;33m)\u001b[0m\u001b[1;33m\u001b[0m\u001b[1;33m\u001b[0m\u001b[0m\n\u001b[0m\u001b[0;32m    193\u001b[0m \u001b[1;33m\u001b[0m\u001b[0m\n\u001b[0;32m    194\u001b[0m     \u001b[1;32mdef\u001b[0m \u001b[0m_value_or_default\u001b[0m\u001b[1;33m(\u001b[0m\u001b[0mself\u001b[0m\u001b[1;33m,\u001b[0m \u001b[0mobj\u001b[0m\u001b[1;33m,\u001b[0m \u001b[0mkey\u001b[0m\u001b[1;33m,\u001b[0m \u001b[0mdefault\u001b[0m\u001b[1;33m)\u001b[0m\u001b[1;33m:\u001b[0m\u001b[1;33m\u001b[0m\u001b[1;33m\u001b[0m\u001b[0m\n",
      "\u001b[1;31mNoSuchElementException\u001b[0m: Message: no such element: Unable to locate element: {\"method\":\"partial link text\",\"selector\":\"likes\"}\n  (Session info: chrome=80.0.3987.132)\n  (Driver info: chromedriver=80.0.3987.106 (f68069574609230cf9b635cd784cfb1bf81bb53a-refs/branch-heads/3987@{#882}),platform=Windows NT 10.0.18362 x86_64)\n"
     ]
    }
   ],
   "source": [
    "#Retrieve every link from a page\n",
    "browser.find_elements_by_tag_name('a')# Retrieve a link from a page that has \"likes\" in its text\n",
    "browser.find_element_by_partial_link_text('likes')"
   ]
  },
  {
   "cell_type": "markdown",
   "metadata": {},
   "source": [
    "# 2. Obteniendo los 25 enlaces de publicaciones más recientes.\n",
    "\n",
    "Para comenzar, vamos a escribir cada función y probarlas en uno de mis mejores perros: Sneakers the Corgi (136k seguidores). Aquí hay una función escrita que, con la entrada del nombre de usuario, devolverá una lista de las URL de las 25 publicaciones más recientes para una cuenta:"
   ]
  },
  {
   "cell_type": "code",
   "execution_count": 1,
   "metadata": {},
   "outputs": [],
   "source": [
    "def recent_25_posts(sneakersthecorgi):\n",
    "    \"\"\"With the input of an account page, scrape the 25 most recent posts urls\"\"\"\n",
    "    url = \"https://www.instagram.com/\" + username + \"/\"\n",
    "    browser = Chrome()\n",
    "    browser.get(url)\n",
    "    post = 'https://www.instagram.com/p/'\n",
    "    post_links = []\n",
    "    while len(post_links) < 25:\n",
    "        links = [a.get_attribute('href') for a in browser.find_elements_by_tag_name('a')]\n",
    "        for link in links:\n",
    "            if post in link and link not in post_links:\n",
    "                post_links.append(link)\n",
    "        scroll_down = \"window.scrollTo(0, document.body.scrollHeight);\"\n",
    "        browser.execute_script(scroll_down)\n",
    "        time.sleep(10)\n",
    "    else:\n",
    "        return post_links[:25]"
   ]
  },
  {
   "cell_type": "code",
   "execution_count": null,
   "metadata": {},
   "outputs": [],
   "source": []
  }
 ],
 "metadata": {
  "kernelspec": {
   "display_name": "Python 3",
   "language": "python",
   "name": "python3"
  },
  "language_info": {
   "codemirror_mode": {
    "name": "ipython",
    "version": 3
   },
   "file_extension": ".py",
   "mimetype": "text/x-python",
   "name": "python",
   "nbconvert_exporter": "python",
   "pygments_lexer": "ipython3",
   "version": "3.7.6"
  }
 },
 "nbformat": 4,
 "nbformat_minor": 4
}
