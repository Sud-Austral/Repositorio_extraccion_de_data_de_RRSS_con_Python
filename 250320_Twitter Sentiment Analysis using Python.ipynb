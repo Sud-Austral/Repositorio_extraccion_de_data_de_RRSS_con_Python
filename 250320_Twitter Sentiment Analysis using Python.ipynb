{
 "cells": [
  {
   "cell_type": "markdown",
   "metadata": {},
   "source": [
    "250320_Twitter Sentiment Analysis using Python\n",
    "\n",
    "https://github.com/abhijith-git/Abhijithchandradasblog/blob/master/TwitterSentimentAnalysis.ipynb"
   ]
  },
  {
   "cell_type": "code",
   "execution_count": 43,
   "metadata": {},
   "outputs": [],
   "source": [
    "from textblob import TextBlob\n",
    "import tweepy\n",
    "import numpy as np\n",
    "import matplotlib.pyplot as plt"
   ]
  },
  {
   "cell_type": "code",
   "execution_count": 44,
   "metadata": {},
   "outputs": [],
   "source": [
    "consumer_key='koO4XqTuWFr5ADGcE8kjIkVoU'\n",
    "consumer_secret='3F4sk9qU8zbKBROuLPUUj1uvE2YuhseXPe0ahMQoivg4icN5bL'\n",
    "access_token='1230251564616515586-2KqPsCG2mIJp3irRjENgHpCfQUxTUg'\n",
    "access_token_secret='6PJfMtYGY7w6csiIX9m1S5jFEKNZ3hE9PVkHKeN1S14iM'\n",
    "\n",
    "auth = OAuthHandler(consumer_key, consumer_secret)\n",
    "auth.set_access_token(access_token, access_token_secret)\n",
    "api = tweepy.API(auth, wait_on_rate_limit=True)"
   ]
  },
  {
   "cell_type": "code",
   "execution_count": 45,
   "metadata": {},
   "outputs": [],
   "source": [
    "public_tweets=api.search('Medio ambiente', count=10000)"
   ]
  },
  {
   "cell_type": "code",
   "execution_count": 46,
   "metadata": {},
   "outputs": [],
   "source": [
    "pol=[]           \n",
    "sub=[]\n",
    "pos_count=0\n",
    "neg_count=0\n",
    "neut_count=0\n",
    "\n",
    "for tweet in public_tweets:\n",
    "    analysis=TextBlob(tweet.text)\n",
    "\n",
    "    if(analysis.sentiment.polarity>0):\n",
    "        pos_count+=1\n",
    "    elif(analysis.sentiment.polarity< 0):\n",
    "        neg_count+=1\n",
    "    else:\n",
    "        neut_count+=1\n",
    "        \n",
    "    pol.append(analysis.sentiment.polarity)\n",
    "    sub.append(analysis.sentiment.subjectivity)"
   ]
  },
  {
   "cell_type": "code",
   "execution_count": 47,
   "metadata": {},
   "outputs": [
    {
     "name": "stdout",
     "output_type": "stream",
     "text": [
      "Average Polarity: 0.003\n",
      "Average Subjectivity: 0.011\n"
     ]
    },
    {
     "data": {
      "image/png": "[encoded data removed]",
      "text/plain": [
       "<Figure size 432x288 with 1 Axes>"
      ]
     },
     "metadata": {},
     "output_type": "display_data"
    }
   ],
   "source": [
    "\n",
    "\n",
    "pol_avg = round(np.array(pol).mean(),3)\n",
    "sub_avg= round(np.array(sub).mean(),3)\n",
    "\n",
    "print(f\"Average Polarity: {pol_avg}\\nAverage Subjectivity: {sub_avg}\")\n",
    "\n",
    "data=[pos_count, neg_count, neut_count]\n",
    "labels= [\"Positive\", \"Negative\", \"Neutral\"]\n",
    "plt.pie(x=data, labels=labels, startangle=90, autopct='%1.2f%%')\n",
    "plt.title(\"Análisis de sentimientos sobre el Msdio Ambiente\",fontsize=15)\n",
    "plt.show()\n",
    "\n"
   ]
  },
  {
   "cell_type": "code",
   "execution_count": null,
   "metadata": {},
   "outputs": [],
   "source": []
  }
 ],
 "metadata": {
  "kernelspec": {
   "display_name": "Python 3",
   "language": "python",
   "name": "python3"
  },
  "language_info": {
   "codemirror_mode": {
    "name": "ipython",
    "version": 3
   },
   "file_extension": ".py",
   "mimetype": "text/x-python",
   "name": "python",
   "nbconvert_exporter": "python",
   "pygments_lexer": "ipython3",
   "version": "3.7.6"
  }
 },
 "nbformat": 4,
 "nbformat_minor": 4
}
