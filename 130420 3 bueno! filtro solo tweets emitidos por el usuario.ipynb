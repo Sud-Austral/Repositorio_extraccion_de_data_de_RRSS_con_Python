{
 "cells": [
  {
   "cell_type": "markdown",
   "metadata": {},
   "source": [
    "# 130420 3 filtro solo tweets emitidos por el usuario\n",
    "\n",
    "Bueno! importantísimo!"
   ]
  },
  {
   "cell_type": "code",
   "execution_count": 40,
   "metadata": {},
   "outputs": [
    {
     "name": "stdout",
     "output_type": "stream",
     "text": [
      "Christian Castro \n",
      "last updated: 2020-04-13 \n",
      "\n",
      "numpy 1.18.2\n",
      "pandas 1.0.1\n",
      "matplotlib 3.1.3\n",
      "Propiedad de DataIntelligence\n"
     ]
    }
   ],
   "source": [
    "%load_ext watermark\n",
    "%watermark -a \"Christian Castro\" -u -d -p numpy,pandas,matplotlib\n",
    "%watermark -a \"Propiedad de DataIntelligence\" "
   ]
  },
  {
   "cell_type": "code",
   "execution_count": 42,
   "metadata": {
    "scrolled": true
   },
   "outputs": [
    {
     "name": "stdout",
     "output_type": "stream",
     "text": [
      "Christian dice: \n",
      "2020-04-14 01:19:51\n",
      "f444\n",
      "Christian dice: \n",
      "2020-04-14 01:20:03\n",
      "f555\n"
     ]
    }
   ],
   "source": [
    "# Este programa actúa recogiendo tweets desde \n",
    "# el momento en el que está corriendo.\n",
    "\n",
    "# se despliegan:\n",
    "# 1 los tweets del usuario original y \n",
    "# 2 los comentarios a los retweets, porque los emite el usuario original.\n",
    "\n",
    "# se excluyen:\n",
    "# 1 los tweets del usuario titular hechos en la cuenta twitter de un tercero\n",
    "# 2 los retweets del usuario titular sin comentarios.\n",
    "\n",
    "from tweepy.streaming import StreamListener\n",
    "from tweepy import OAuthHandler\n",
    "from tweepy import Stream\n",
    "import re\n",
    "import time\n",
    "\n",
    "# Declaramos nuestras Twitter API Keys:\n",
    "access_token = '1230251564616515586-2KqPsCG2mIJp3irRjENgHpCfQUxTUg'\n",
    "access_token_secret = '6PJfMtYGY7w6csiIX9m1S5jFEKNZ3hE9PVkHKeN1S14iM'\n",
    "consumer_key = 'koO4XqTuWFr5ADGcE8kjIkVoU'\n",
    "consumer_secret = '3F4sk9qU8zbKBROuLPUUj1uvE2YuhseXPe0ahMQoivg4icN5bL'\n",
    "\n",
    "def from_creator(data):\n",
    "    if hasattr(data, 'retweeted_status'):\n",
    "        return False\n",
    "    elif data.in_reply_to_status_id != None:\n",
    "        return False\n",
    "    elif data.in_reply_to_screen_name != None:\n",
    "        return False\n",
    "    elif data.in_reply_to_user_id != None:\n",
    "        return False\n",
    "    else:\n",
    "        return True\n",
    "    \n",
    "tweet_count = 0\n",
    "n_tweets = 2    \n",
    "    \n",
    "class MyStreamListener(StreamListener):\n",
    "\n",
    "    def on_status(self, data):\n",
    "        \n",
    "        if from_creator(data):\n",
    "\n",
    "            global tweet_count\n",
    "            global n_tweets\n",
    "            global stream\n",
    "            if tweet_count < n_tweets:\n",
    "                \n",
    "                #api = tweepy.API(auth, parser=tweepy.parsers.JSONParser())\n",
    "                #status = api.user_timeline(user=username, count=1)[0]\n",
    "                #data = json.dumps(status)\n",
    "                            \n",
    "                print('Christian dice: ')\n",
    "                print(data.created_at)\n",
    "                print(data.text)\n",
    "                \n",
    "                #print(data)\n",
    "                \n",
    "                json_str = json.dumps(data._json)\n",
    "                #print(json_str)\n",
    "                #print('\\n')\n",
    "                \n",
    "                tweet_count += 1    \n",
    "                    # Saves tweet into a file                   \n",
    "                    # Guardar el archivo data como txt:\n",
    "                    # el parámetro 'a' permite ir escribiendo debajo de lo ya existente en el txt:\n",
    "                    # https://www.geeksforgeeks.org/reading-writing-text-files-python/\n",
    "                    \n",
    "                write_on_txt=open(\"m3.txt\",'a')\n",
    "                write_on_txt.write(json_str)\n",
    "                write_on_txt.close()   \n",
    "                    \n",
    "                return True\n",
    "            else:\n",
    "                stream.disconnect()         \n",
    "        #else:\n",
    "            #stream.disconnect()\n",
    "        #return True\n",
    "\n",
    "        def on_error(self, status):\n",
    "            print(status)\n",
    "    \n",
    "# Manejamos la autenticación de Twitter y la conexión a la API de Streaming de Twitter:\n",
    "l = MyStreamListener()\n",
    "auth = OAuthHandler(consumer_key, consumer_secret)\n",
    "auth.set_access_token(access_token, access_token_secret)\n",
    "stream = Stream(auth, l)\n",
    "\n",
    "# Integramos un flitro para que busque un usuario, en éste caso de la WHO:\n",
    "# id del usuario: yo: 1230251564616515586\n",
    "usuario = ['1230251564616515586']\n",
    "stream.filter(follow=usuario)    "
   ]
  },
  {
   "cell_type": "code",
   "execution_count": 46,
   "metadata": {},
   "outputs": [
    {
     "name": "stdout",
     "output_type": "stream",
     "text": [
      "Empty DataFrame\n",
      "Columns: []\n",
      "Index: []\n"
     ]
    },
    {
     "data": {
      "text/plain": [
       "'tweets[\\'Texto del tweet\\'] = list(map(lambda tweet: tweet[\\'text\\'], tweets_data))\\ntweets[\\'Usuario\\'] = list(map(lambda tweet: tweet[\\'user\\'][\\'screen_name\\'], tweets_data))\\ntweets[\\'Fecha\\'] = list(map(lambda tweet: tweet[\\'created_at\\'], tweets_data))\\n#url = f\"https://twitter.com/user/status/{tweet.id}\"\\n#tweets[\\'id\\'] = list(map(lambda tweet: tweet[\\'id\\'], tweets_data))\\n# https://twitter.com/christi75367675/status/  \\ntweets[\\'id\\'] = list(map(lambda tweet: \\'https://twitter.com/opsoms/status/\\'+tweet[\\'id_str\\'], tweets_data))\\ntweets'"
      ]
     },
     "execution_count": 46,
     "metadata": {},
     "output_type": "execute_result"
    }
   ],
   "source": [
    "import json\n",
    "import pandas as pd\n",
    "tweets_data_path = \"m3.txt\"  \n",
    "\n",
    "\n",
    "tweets_data = []  \n",
    "tweets_file = open(tweets_data_path, \"r\")  \n",
    "for line in tweets_file:  \n",
    "    try:  \n",
    "        tweet = json.loads(line)  \n",
    "        tweets_data.append(tweet)  \n",
    "    except:  \n",
    "        continue\n",
    "        \n",
    "tweets = pd.DataFrame()\n",
    "print(tweets)\n",
    "tweets['Texto del tweet'] = list(map(lambda tweet: tweet['text'], tweets_data))\n",
    "       \n",
    "'''tweets['Texto del tweet'] = list(map(lambda tweet: tweet['text'], tweets_data))\n",
    "tweets['Usuario'] = list(map(lambda tweet: tweet['user']['screen_name'], tweets_data))\n",
    "tweets['Fecha'] = list(map(lambda tweet: tweet['created_at'], tweets_data))\n",
    "#url = f\"https://twitter.com/user/status/{tweet.id}\"\n",
    "#tweets['id'] = list(map(lambda tweet: tweet['id'], tweets_data))\n",
    "# https://twitter.com/christi75367675/status/  \n",
    "tweets['id'] = list(map(lambda tweet: 'https://twitter.com/opsoms/status/'+tweet['id_str'], tweets_data))\n",
    "tweets'''"
   ]
  },
  {
   "cell_type": "code",
   "execution_count": 25,
   "metadata": {},
   "outputs": [
    {
     "data": {
      "text/html": [
       "<div>\n",
       "<style scoped>\n",
       "    .dataframe tbody tr th:only-of-type {\n",
       "        vertical-align: middle;\n",
       "    }\n",
       "\n",
       "    .dataframe tbody tr th {\n",
       "        vertical-align: top;\n",
       "    }\n",
       "\n",
       "    .dataframe thead th {\n",
       "        text-align: right;\n",
       "    }\n",
       "</style>\n",
       "<table border=\"1\" class=\"dataframe\">\n",
       "  <thead>\n",
       "    <tr style=\"text-align: right;\">\n",
       "      <th></th>\n",
       "      <th>Texto del tweet</th>\n",
       "      <th>Usuario</th>\n",
       "      <th>Fecha</th>\n",
       "      <th>id</th>\n",
       "    </tr>\n",
       "  </thead>\n",
       "  <tbody>\n",
       "  </tbody>\n",
       "</table>\n",
       "</div>"
      ],
      "text/plain": [
       "Empty DataFrame\n",
       "Columns: [Texto del tweet, Usuario, Fecha, id]\n",
       "Index: []"
      ]
     },
     "execution_count": 25,
     "metadata": {},
     "output_type": "execute_result"
    }
   ],
   "source": [
    "reversed_tweets = tweets.iloc[::-1]\n",
    "reversed_tweets"
   ]
  },
  {
   "cell_type": "code",
   "execution_count": 26,
   "metadata": {},
   "outputs": [],
   "source": [
    "import csv\n",
    "#reversed_tweets.to_excel('reversed_tweets.csv', sheet_name='primera')\n",
    "tweets.to_csv(r'yo001.csv', index = False)"
   ]
  },
  {
   "cell_type": "markdown",
   "metadata": {},
   "source": [
    "#### Ahora se debe borrar el contenido del txt:"
   ]
  },
  {
   "cell_type": "code",
   "execution_count": null,
   "metadata": {},
   "outputs": [],
   "source": []
  }
 ],
 "metadata": {
  "kernelspec": {
   "display_name": "Python 3",
   "language": "python",
   "name": "python3"
  },
  "language_info": {
   "codemirror_mode": {
    "name": "ipython",
    "version": 3
   },
   "file_extension": ".py",
   "mimetype": "text/x-python",
   "name": "python",
   "nbconvert_exporter": "python",
   "pygments_lexer": "ipython3",
   "version": "3.7.6"
  }
 },
 "nbformat": 4,
 "nbformat_minor": 4
}
