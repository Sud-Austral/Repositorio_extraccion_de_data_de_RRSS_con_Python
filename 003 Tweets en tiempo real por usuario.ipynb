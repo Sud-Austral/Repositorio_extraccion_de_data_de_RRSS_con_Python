{
 "cells": [
  {
   "cell_type": "markdown",
   "metadata": {},
   "source": [
    "# 130420 2 Tweets en tiempo real por usuario\n",
    "\n",
    "código excelente!"
   ]
  },
  {
   "cell_type": "code",
   "execution_count": 1,
   "metadata": {},
   "outputs": [
    {
     "name": "stdout",
     "output_type": "stream",
     "text": [
      "Christian Castro \n",
      "last updated: 2020-04-22 \n",
      "\n",
      "numpy 1.18.1\n",
      "pandas 1.0.1\n",
      "matplotlib 3.1.3\n",
      "Propiedad de DataIntelligence\n"
     ]
    }
   ],
   "source": [
    "%load_ext watermark\n",
    "%watermark -a \"Christian Castro\" -u -d -p numpy,pandas,matplotlib\n",
    "%watermark -a \"Propiedad de DataIntelligence\" "
   ]
  },
  {
   "cell_type": "markdown",
   "metadata": {},
   "source": [
    "tweets_colegio_medico.csv\n",
    "https://twitter.com/colmedchile/status/1249754648476516352\n",
    "tweets_colegio_medico.csv\n",
    "\n",
    "\n",
    "tweets_min_sal.csv\n",
    "https://twitter.com/ministeriosalud/status/1249754648476516352\n",
    "tweets_min_sal.csv\n",
    "\n",
    "\n",
    "(tweets_who.csv)\n",
    "https://twitter.com/opsoms/status/1249757927151407104\n",
    "\n",
    "\n",
    "\n",
    "\n",
    "\n",
    "https://raw.githubusercontent.com/Sud-Austral/Repositorio_extraccion_de_data_de_RRSS_con_Python/master/tweets_who.csv\n",
    "https://raw.githubusercontent.com/Sud-Austral/Repositorio_extraccion_de_data_de_RRSS_con_Python/master/tweets_colegio_medico.csv\n",
    "https://raw.githubusercontent.com/Sud-Austral/Repositorio_extraccion_de_data_de_RRSS_con_Python/master/tweets_min_sal.csv\n",
    "\n",
    "sochimu\n",
    "\n",
    "https://raw.githubusercontent.com/Sud-Austral/Repositorio_extraccion_de_data_de_RRSS_con_Python/master/reversed_tweets_colegio_medico.csv\n",
    "https://raw.githubusercontent.com/Sud-Austral/Repositorio_extraccion_de_data_de_RRSS_con_Python/master/reversed_twitter_min_sal.csv\n",
    "https://raw.githubusercontent.com/Sud-Austral/Repositorio_extraccion_de_data_de_RRSS_con_Python/master/reversed_twitter_who.csv\n",
    "https:/"
   ]
  },
  {
   "cell_type": "code",
   "execution_count": null,
   "metadata": {},
   "outputs": [],
   "source": [
    "# Importamos las librerías necesarias:\n",
    "\n",
    "from tweepy.streaming import StreamListener\n",
    "from tweepy import OAuthHandler\n",
    "from tweepy import Stream\n",
    "import re\n",
    "import time\n",
    "\n",
    "# Declaramos nuestras Twitter API Keys:\n",
    "access_token = '1230251564616515586-2KqPsCG2mIJp3irRjENgHpCfQUxTUg'\n",
    "access_token_secret = '6PJfMtYGY7w6csiIX9m1S5jFEKNZ3hE9PVkHKeN1S14iM'\n",
    "consumer_key = 'koO4XqTuWFr5ADGcE8kjIkVoU'\n",
    "consumer_secret = '3F4sk9qU8zbKBROuLPUUj1uvE2YuhseXPe0ahMQoivg4icN5bL'\n",
    "\n",
    "#auth = tweepy.OAuthHandler(consumer_key, consumer_secret)\n",
    "#auth.set_access_token(access_token, access_token_secret)\n",
    "#api = tweepy.API(auth)\n",
    "\n",
    "# Se debe utilizar apscheduler\n",
    "# https://medium.com/better-programming/introduction-to-apscheduler-86337f3bb4a6\n",
    "'''Advanced Python Scheduler (APScheduler) es una biblioteca de Python que te permite programar \n",
    "tu código de Python para que se ejecute más tarde, ya sea solo una vez o periódicamente. \n",
    "Puede agregar nuevos trabajos o eliminar los antiguos sobre la marcha, según lo desees. \n",
    "Si almacena sus trabajos en una base de datos, también sobrevivirán a los reinicios del planificador \n",
    "y mantendrán su estado. Cuando se reinicia el planificador, ejecutará todos los trabajos que debería \n",
    "haber ejecutado mientras estaba desconectado'''\n",
    "\n",
    "#from apscheduler.schedulers.background import BackgroundScheduler\n",
    "\n",
    "# Inicializamos la variable global: \n",
    "tweet_count = 0\n",
    "\n",
    "# Ingresamos el número de tweets a ser descargados:\n",
    "n_tweets = 10\n",
    "\n",
    "# Crea la clase que manejará el stream de tweets:\n",
    "class StdOutListener(StreamListener):\n",
    "    \n",
    "    #sched = BackgroundScheduler(daemon=True)\n",
    "    #sched.add_job(lambda : sched.on_data(),'interval',seconds=500)\n",
    "    #sched.start()\n",
    "    #sched.shutdown()\n",
    "\n",
    "    def on_data(self, data):\n",
    "            \n",
    "            \n",
    "      \n",
    "            \n",
    "            \n",
    "            \n",
    "            \n",
    "            global tweet_count\n",
    "            global n_tweets\n",
    "            global stream\n",
    "            if tweet_count < n_tweets:\n",
    "            \n",
    "            # Imprimimos en pantalla los tweets descargados:\n",
    "                print(data)\n",
    "                tweet_count += 1\n",
    "            \n",
    "            # Guardar el archivo data como txt:\n",
    "            # el parámetro 'a' permite ir escribiendo debajo de lo ya existente en el txt:\n",
    "            # https://www.geeksforgeeks.org/reading-writing-text-files-python/\n",
    "                write_on_txt=open(\"twitter12.txt\",'a')\n",
    "                write_on_txt.write(data)\n",
    "                write_on_txt.close()  \n",
    "\n",
    "                return True\n",
    "        \n",
    "            else:\n",
    "                stream.disconnect()\n",
    "      \n",
    "    def on_error(self, status):\n",
    "        print(status)\n",
    "\n",
    "# Manejamos la autenticación de Twitter y la conexión a la API de Streaming de Twitter:\n",
    "l = StdOutListener()\n",
    "auth = OAuthHandler(consumer_key, consumer_secret)\n",
    "auth.set_access_token(access_token, access_token_secret)\n",
    "stream = Stream(auth, l)\n",
    "\n",
    "# Integramos un flitro para que busque un usuario:\n",
    "\n",
    "# id del colegio_medico: 633098103\n",
    "# id del usuario: Ministerio de salud: 153825949\n",
    "# id del usuario: OPS/OMS: 22276965\n",
    "\n",
    "# id del usuario: WHO: 14499829\n",
    "# id del usuario: SOCHIMU medicina de urgencia: 2882584795\n",
    "\n",
    "# id de Christian Castro: 1230251564616515586\n",
    "usuario = ['153825949']\n",
    "stream.filter(follow=usuario)"
   ]
  },
  {
   "cell_type": "code",
   "execution_count": null,
   "metadata": {
    "scrolled": true
   },
   "outputs": [],
   "source": [
    "import json\n",
    "import pandas as pd\n",
    "tweets_data_path = \"twitter12.txt\"  \n",
    "\n",
    "\n",
    "tweets_data = []  \n",
    "tweets_file = open(tweets_data_path, \"r\")  \n",
    "for line in tweets_file:  \n",
    "    try:  \n",
    "        tweet = json.loads(line)  \n",
    "        tweets_data.append(tweet)  \n",
    "    except:  \n",
    "        continue\n",
    "        \n",
    "tweets = pd.DataFrame()\n",
    "\n",
    "tweets['Texto del tweet'] = list(map(lambda tweet: tweet['text'], tweets_data))\n",
    "tweets['Usuario'] = list(map(lambda tweet: tweet['user']['screen_name'], tweets_data))\n",
    "tweets['Fecha'] = list(map(lambda tweet: tweet['created_at'], tweets_data))\n",
    "\n",
    "#url = f\"https://twitter.com/user/status/{tweet.id}\"\n",
    "\n",
    "#tweets['id'] = list(map(lambda tweet: tweet['id'], tweets_data))\n",
    "\n",
    "# https://twitter.com/christi75367675/status/\n",
    "    \n",
    "tweets['id'] = list(map(lambda tweet: 'https://twitter.com/opsoms/status/'+tweet['id_str'], tweets_data))\n",
    "\n",
    "tweets"
   ]
  },
  {
   "cell_type": "code",
   "execution_count": null,
   "metadata": {},
   "outputs": [],
   "source": [
    "reversed_tweets = tweets.iloc[::-1]\n",
    "reversed_tweets"
   ]
  },
  {
   "cell_type": "code",
   "execution_count": 16,
   "metadata": {},
   "outputs": [],
   "source": [
    "import csv\n",
    "#reversed_tweets.to_excel('reversed_tweets.csv', sheet_name='primera')\n",
    "tweets.to_csv(r'tweets_who.csv', index = False)"
   ]
  },
  {
   "cell_type": "markdown",
   "metadata": {},
   "source": [
    "#### Ahora se debe borrar el contenido del txt:"
   ]
  },
  {
   "cell_type": "code",
   "execution_count": null,
   "metadata": {},
   "outputs": [],
   "source": []
  },
  {
   "cell_type": "code",
   "execution_count": null,
   "metadata": {},
   "outputs": [],
   "source": []
  }
 ],
 "metadata": {
  "kernelspec": {
   "display_name": "Python 3",
   "language": "python",
   "name": "python3"
  },
  "language_info": {
   "codemirror_mode": {
    "name": "ipython",
    "version": 3
   },
   "file_extension": ".py",
   "mimetype": "text/x-python",
   "name": "python",
   "nbconvert_exporter": "python",
   "pygments_lexer": "ipython3",
   "version": "3.7.6"
  }
 },
 "nbformat": 4,
 "nbformat_minor": 4
}
