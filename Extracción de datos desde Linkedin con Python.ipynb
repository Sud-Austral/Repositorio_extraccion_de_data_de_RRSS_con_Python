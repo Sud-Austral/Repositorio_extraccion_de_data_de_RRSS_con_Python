{
 "cells": [
  {
   "cell_type": "markdown",
   "metadata": {},
   "source": [
    "# Extracción de datos desde Linkedin con Python\n",
    "\n",
    "Use Selenium & Python to scrape LinkedIn profiles\n",
    "https://www.linkedin.com/pulse/how-easy-scraping-data-from-linkedin-profiles-david-craven\n"
   ]
  },
  {
   "cell_type": "markdown",
   "metadata": {},
   "source": [
    "Primero hay que instalar las siguientes librerías desde Anaconda Promp[\n",
    "# prerequisitos para Python3\n",
    "pip3 install ipython \n",
    "pip3 install selenium  \n",
    "pip3 install time \n",
    "pip3 install parsel\n",
    "pip3 install csv\n",
    "]"
   ]
  },
  {
   "cell_type": "markdown",
   "metadata": {},
   "source": [
    "El año 2017 la batalla legal entre HiQ Labs v LinkedIn apareció por primera vez en los titulares, \n",
    "en la que LinkedIn intentó impedir que la compañía de análisis de datos usara sus datos para beneficio comercial.\n",
    "\n",
    "HiQ Labs usó un software para extraer datos de LinkedIn con el fin de crear algoritmos para productos capaces de \n",
    "predecir el comportamiento de los empleados, como cuándo un empleado podría dejar su trabajo.\n",
    "\n",
    "Esta técnica conocida como Web Scraping, es el proceso automatizado donde se utiliza el HTML de una página web para \n",
    "extraer datos.\n",
    "¿Qué tan difícil puede ser?\n",
    "\n",
    "Desde entonces, LinkedIn ha hecho que su sitio sea más restrictivo para las herramientas de raspado web scrapping. "
   ]
  },
  {
   "cell_type": "code",
   "execution_count": null,
   "metadata": {},
   "outputs": [],
   "source": []
  }
 ],
 "metadata": {
  "kernelspec": {
   "display_name": "Python 3",
   "language": "python",
   "name": "python3"
  },
  "language_info": {
   "codemirror_mode": {
    "name": "ipython",
    "version": 3
   },
   "file_extension": ".py",
   "mimetype": "text/x-python",
   "name": "python",
   "nbconvert_exporter": "python",
   "pygments_lexer": "ipython3",
   "version": "3.7.3"
  }
 },
 "nbformat": 4,
 "nbformat_minor": 2
}
