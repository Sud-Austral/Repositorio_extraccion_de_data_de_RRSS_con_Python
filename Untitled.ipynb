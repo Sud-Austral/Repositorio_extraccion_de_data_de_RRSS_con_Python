{
 "cells": [
  {
   "cell_type": "code",
   "execution_count": 3,
   "metadata": {},
   "outputs": [
    {
     "ename": "FileNotFoundError",
     "evalue": "[Errno 2] No such file or directory: 'movies_recommendation_data.csv'",
     "output_type": "error",
     "traceback": [
      "\u001b[1;31m---------------------------------------------------------------------------\u001b[0m",
      "\u001b[1;31mFileNotFoundError\u001b[0m                         Traceback (most recent call last)",
      "\u001b[1;32m<ipython-input-3-6856f267c6b9>\u001b[0m in \u001b[0;36m<module>\u001b[1;34m\u001b[0m\n\u001b[0;32m     33\u001b[0m \u001b[1;32mif\u001b[0m \u001b[0m__name__\u001b[0m \u001b[1;33m==\u001b[0m \u001b[1;34m'__main__'\u001b[0m\u001b[1;33m:\u001b[0m\u001b[1;33m\u001b[0m\u001b[1;33m\u001b[0m\u001b[0m\n\u001b[0;32m     34\u001b[0m     \u001b[0mthe_post\u001b[0m \u001b[1;33m=\u001b[0m \u001b[1;33m[\u001b[0m\u001b[1;36m7.2\u001b[0m\u001b[1;33m,\u001b[0m \u001b[1;36m1\u001b[0m\u001b[1;33m,\u001b[0m \u001b[1;36m1\u001b[0m\u001b[1;33m,\u001b[0m \u001b[1;36m0\u001b[0m\u001b[1;33m,\u001b[0m \u001b[1;36m0\u001b[0m\u001b[1;33m,\u001b[0m \u001b[1;36m0\u001b[0m\u001b[1;33m,\u001b[0m \u001b[1;36m0\u001b[0m\u001b[1;33m,\u001b[0m \u001b[1;36m1\u001b[0m\u001b[1;33m,\u001b[0m \u001b[1;36m0\u001b[0m\u001b[1;33m]\u001b[0m \u001b[1;31m# feature vector for The Post\u001b[0m\u001b[1;33m\u001b[0m\u001b[1;33m\u001b[0m\u001b[0m\n\u001b[1;32m---> 35\u001b[1;33m     \u001b[0mrecommended_movies\u001b[0m \u001b[1;33m=\u001b[0m \u001b[0mrecommend_movies\u001b[0m\u001b[1;33m(\u001b[0m\u001b[0mmovie_query\u001b[0m\u001b[1;33m=\u001b[0m\u001b[0mthe_post\u001b[0m\u001b[1;33m,\u001b[0m \u001b[0mk_recommendations\u001b[0m\u001b[1;33m=\u001b[0m\u001b[1;36m5\u001b[0m\u001b[1;33m)\u001b[0m\u001b[1;33m\u001b[0m\u001b[1;33m\u001b[0m\u001b[0m\n\u001b[0m\u001b[0;32m     36\u001b[0m \u001b[1;33m\u001b[0m\u001b[0m\n\u001b[0;32m     37\u001b[0m     \u001b[1;31m# Print recommended movie titles\u001b[0m\u001b[1;33m\u001b[0m\u001b[1;33m\u001b[0m\u001b[1;33m\u001b[0m\u001b[0m\n",
      "\u001b[1;32m<ipython-input-3-6856f267c6b9>\u001b[0m in \u001b[0;36mrecommend_movies\u001b[1;34m(movie_query, k_recommendations)\u001b[0m\n\u001b[0;32m      1\u001b[0m \u001b[1;32mdef\u001b[0m \u001b[0mrecommend_movies\u001b[0m\u001b[1;33m(\u001b[0m\u001b[0mmovie_query\u001b[0m\u001b[1;33m,\u001b[0m \u001b[0mk_recommendations\u001b[0m\u001b[1;33m)\u001b[0m\u001b[1;33m:\u001b[0m\u001b[1;33m\u001b[0m\u001b[1;33m\u001b[0m\u001b[0m\n\u001b[0;32m      2\u001b[0m     \u001b[0mraw_movies_data\u001b[0m \u001b[1;33m=\u001b[0m \u001b[1;33m[\u001b[0m\u001b[1;33m]\u001b[0m\u001b[1;33m\u001b[0m\u001b[1;33m\u001b[0m\u001b[0m\n\u001b[1;32m----> 3\u001b[1;33m     \u001b[1;32mwith\u001b[0m \u001b[0mopen\u001b[0m\u001b[1;33m(\u001b[0m\u001b[1;34m'movies_recommendation_data.csv'\u001b[0m\u001b[1;33m,\u001b[0m \u001b[1;34m'r'\u001b[0m\u001b[1;33m)\u001b[0m \u001b[1;32mas\u001b[0m \u001b[0mmd\u001b[0m\u001b[1;33m:\u001b[0m\u001b[1;33m\u001b[0m\u001b[1;33m\u001b[0m\u001b[0m\n\u001b[0m\u001b[0;32m      4\u001b[0m         \u001b[1;31m# Discard the first line (headings)\u001b[0m\u001b[1;33m\u001b[0m\u001b[1;33m\u001b[0m\u001b[1;33m\u001b[0m\u001b[0m\n\u001b[0;32m      5\u001b[0m         \u001b[0mnext\u001b[0m\u001b[1;33m(\u001b[0m\u001b[0mmd\u001b[0m\u001b[1;33m)\u001b[0m\u001b[1;33m\u001b[0m\u001b[1;33m\u001b[0m\u001b[0m\n",
      "\u001b[1;31mFileNotFoundError\u001b[0m: [Errno 2] No such file or directory: 'movies_recommendation_data.csv'"
     ]
    }
   ],
   "source": [
    "\n",
    "\n",
    "def recommend_movies(movie_query, k_recommendations):\n",
    "    raw_movies_data = []\n",
    "    with open('movies_recommendation_data.csv', 'r') as md:\n",
    "        # Discard the first line (headings)\n",
    "        next(md)\n",
    "\n",
    "        # Read the data into memory\n",
    "        for line in md.readlines():\n",
    "            data_row = line.strip().split(',')\n",
    "            raw_movies_data.append(data_row)\n",
    "\n",
    "    # Prepare the data for use in the knn algorithm by picking\n",
    "    # the relevant columns and converting the numeric columns\n",
    "    # to numbers since they were read in as strings\n",
    "    movies_recommendation_data = []\n",
    "    for row in raw_movies_data:\n",
    "        data_row = list(map(float, row[2:]))\n",
    "        movies_recommendation_data.append(data_row)\n",
    "\n",
    "    # Use the KNN algorithm to get the 5 movies that are most\n",
    "    # similar to The Post.\n",
    "    recommendation_indices, _ = knn(\n",
    "        movies_recommendation_data, movie_query, k=k_recommendations,\n",
    "        distance_fn=euclidean_distance, choice_fn=lambda x: None\n",
    "    )\n",
    "\n",
    "    movie_recommendations = []\n",
    "    for _, index in recommendation_indices:\n",
    "        movie_recommendations.append(raw_movies_data[index])\n",
    "\n",
    "    return movie_recommendations\n",
    "\n",
    "if __name__ == '__main__':\n",
    "    the_post = [7.2, 1, 1, 0, 0, 0, 0, 1, 0] # feature vector for The Post\n",
    "    recommended_movies = recommend_movies(movie_query=the_post, k_recommendations=5)\n",
    "\n",
    "    # Print recommended movie titles\n",
    "    for recommendation in recommended_movies:\n",
    "        print(recommendation[1])"
   ]
  },
  {
   "cell_type": "code",
   "execution_count": null,
   "metadata": {},
   "outputs": [],
   "source": []
  }
 ],
 "metadata": {
  "kernelspec": {
   "display_name": "Python 3",
   "language": "python",
   "name": "python3"
  },
  "language_info": {
   "codemirror_mode": {
    "name": "ipython",
    "version": 3
   },
   "file_extension": ".py",
   "mimetype": "text/x-python",
   "name": "python",
   "nbconvert_exporter": "python",
   "pygments_lexer": "ipython3",
   "version": "3.7.4"
  }
 },
 "nbformat": 4,
 "nbformat_minor": 4
}
