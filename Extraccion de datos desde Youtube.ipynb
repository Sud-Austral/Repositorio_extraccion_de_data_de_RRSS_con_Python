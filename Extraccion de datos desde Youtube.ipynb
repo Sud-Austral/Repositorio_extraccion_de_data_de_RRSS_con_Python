{
 "cells": [
  {
   "cell_type": "markdown",
   "metadata": {},
   "source": [
    "# Extracción de datos desde Youtube con Python\n",
    "\n",
    " Fuentes: \n",
    " ### Tutorial: Descarga contenido de Youtube con Python\n",
    " https://developers.google.com/youtube/v3/docs/?apix=true\n",
    " ### Ironsistem Software\n",
    " http://ironsistem.com/tutoriales/python/descarga-contenido-de-youtube-con-python/#\n",
    "\n",
    " \n"
   ]
  },
  {
   "cell_type": "markdown",
   "metadata": {},
   "source": [
    "Pafy es una fantástica librería que dotara nuestro intérprete de python con las instrucciones necesarias, \n",
    "para traer información de nuestros enlaces como:\n",
    "\n",
    " 1. Numero de vistas\n",
    " + Duración\n",
    " +   Rating\n",
    " +  Autor\n",
    " +   Thumnails\n",
    " +   Keywords\n",
    " + Playlists\n",
    "\n",
    "También nos permite extraer el audio y vídeo de nuestros enlaces, con la opción de elegir la resolución, \n",
    "bitrate y formatos disponibles. Aunque según el creador, la libreria permite trabajar con enlaces reestringidos, \n",
    "hay algunos videos (como VEVO) que no los puede procesar por completo. Sin embargo, considero que es la mejor \n",
    "libreria que existe para este fin, ademas de que no necesita dependencias.\n",
    "\n",
    "Rescataremos info de un video promocional del Joker:\n",
    "\n"
   ]
  },
  {
   "cell_type": "code",
   "execution_count": 12,
   "metadata": {
    "scrolled": true
   },
   "outputs": [],
   "source": [
    "import pafy\n",
    "enlace = \"https://www.youtube.com/watch?v=vZb0B2Xk9hw\"\n",
    "video = pafy.new(enlace)"
   ]
  },
  {
   "cell_type": "markdown",
   "metadata": {},
   "source": [
    "Hay que instalar la librería youtube-dl para evitar que surga un error:\n",
    "pip install --upgrade youtube-dl"
   ]
  },
  {
   "cell_type": "code",
   "execution_count": 13,
   "metadata": {},
   "outputs": [
    {
     "data": {
      "text/plain": [
       "'Sistema Nacional de Información sobre Cambio Climático - SNICC'"
      ]
     },
     "execution_count": 13,
     "metadata": {},
     "output_type": "execute_result"
    }
   ],
   "source": [
    "# devuelve el titulo del vídeo\n",
    "video.title"
   ]
  },
  {
   "cell_type": "code",
   "execution_count": 14,
   "metadata": {},
   "outputs": [
    {
     "data": {
      "text/plain": [
       "52"
      ]
     },
     "execution_count": 14,
     "metadata": {},
     "output_type": "execute_result"
    }
   ],
   "source": [
    "# Devuelve el número de visitas totales:\n",
    "video.viewcount\n"
   ]
  },
  {
   "cell_type": "code",
   "execution_count": 15,
   "metadata": {},
   "outputs": [
    {
     "data": {
      "text/plain": [
       "'vZb0B2Xk9hw'"
      ]
     },
     "execution_count": 15,
     "metadata": {},
     "output_type": "execute_result"
    }
   ],
   "source": [
    "video.videoid"
   ]
  },
  {
   "cell_type": "code",
   "execution_count": 16,
   "metadata": {},
   "outputs": [
    {
     "data": {
      "text/plain": [
       "0"
      ]
     },
     "execution_count": 16,
     "metadata": {},
     "output_type": "execute_result"
    }
   ],
   "source": [
    "video.likes"
   ]
  },
  {
   "cell_type": "code",
   "execution_count": 17,
   "metadata": {},
   "outputs": [
    {
     "data": {
      "text/plain": [
       "'UCzdEj7PDaWj4JlgNLs_nmLA'"
      ]
     },
     "execution_count": 17,
     "metadata": {},
     "output_type": "execute_result"
    }
   ],
   "source": [
    "# devuelve el nombre de usuario\n",
    "video.username"
   ]
  },
  {
   "cell_type": "code",
   "execution_count": 18,
   "metadata": {},
   "outputs": [],
   "source": [
    "video.rating"
   ]
  },
  {
   "cell_type": "code",
   "execution_count": 19,
   "metadata": {},
   "outputs": [
    {
     "data": {
      "text/plain": [
       "'00:04:04'"
      ]
     },
     "execution_count": 19,
     "metadata": {},
     "output_type": "execute_result"
    }
   ],
   "source": [
    "video.duration"
   ]
  },
  {
   "cell_type": "code",
   "execution_count": 20,
   "metadata": {
    "scrolled": true
   },
   "outputs": [
    {
     "data": {
      "text/plain": [
       "0"
      ]
     },
     "execution_count": 20,
     "metadata": {},
     "output_type": "execute_result"
    }
   ],
   "source": [
    "# devuelve el numero de dislikes\n",
    "video.dislikes"
   ]
  },
  {
   "cell_type": "code",
   "execution_count": 21,
   "metadata": {},
   "outputs": [
    {
     "data": {
      "text/plain": [
       "0"
      ]
     },
     "execution_count": 21,
     "metadata": {},
     "output_type": "execute_result"
    }
   ],
   "source": [
    "# devuelve el numero de likes\n",
    "video.likes"
   ]
  },
  {
   "cell_type": "code",
   "execution_count": 22,
   "metadata": {},
   "outputs": [],
   "source": [
    "# entrega un error la siguiente línea:\n",
    "# video.description"
   ]
  },
  {
   "cell_type": "markdown",
   "metadata": {},
   "source": [
    "GdataError: Youtube Error 403: Access Not Configured. YouTube Data API has not been used in project 422897895433 before \n",
    "or it is disabled. \n",
    "Enable it by visiting \n",
    "\n",
    "GdataError: Error de Youtube 403: Acceso no configurado. La API de datos de YouTube no se ha utilizado en el proyecto\n",
    "422897895433 antes o está deshabilitado.\n",
    "Habilítelo visitando:\n",
    "\n",
    "https://console.developers.google.com/apis/api/youtube.googleapis.com/overview?project=422897895433 y reintente. \n",
    "If you enabled this API recently, wait a few minutes for the action to propagate to our systems and retry."
   ]
  },
  {
   "cell_type": "code",
   "execution_count": 23,
   "metadata": {},
   "outputs": [
    {
     "data": {
      "text/plain": [
       "normal:mp4@1280x720"
      ]
     },
     "execution_count": 23,
     "metadata": {},
     "output_type": "execute_result"
    }
   ],
   "source": [
    "video.getbest()"
   ]
  },
  {
   "cell_type": "code",
   "execution_count": 24,
   "metadata": {},
   "outputs": [
    {
     "name": "stdout",
     "output_type": "stream",
     "text": [
      "  70,364,680.0 Bytes [100.00%] received. Rate: [2288 KB/s].  ETA: [0 secs]     \n"
     ]
    }
   ],
   "source": [
    "archivo = video.getbest() # o video.streams[0]\n",
    "archivo.download()\n"
   ]
  },
  {
   "cell_type": "code",
   "execution_count": 25,
   "metadata": {},
   "outputs": [
    {
     "data": {
      "text/plain": [
       "'160k'"
      ]
     },
     "execution_count": 25,
     "metadata": {},
     "output_type": "execute_result"
    }
   ],
   "source": [
    "audio = video.getbestaudio()\n",
    "audio.bitrate"
   ]
  },
  {
   "cell_type": "code",
   "execution_count": 89,
   "metadata": {},
   "outputs": [
    {
     "data": {
      "text/plain": [
       "[audio:webm@50k, audio:webm@70k, audio:m4a@128k, audio:webm@160k]"
      ]
     },
     "execution_count": 89,
     "metadata": {},
     "output_type": "execute_result"
    }
   ],
   "source": [
    "audio = video.audiostreams\n",
    "audio"
   ]
  },
  {
   "cell_type": "code",
   "execution_count": 90,
   "metadata": {},
   "outputs": [
    {
     "name": "stdout",
     "output_type": "stream",
     "text": [
      "  874,905.0 Bytes [100.00%] received. Rate: [4034 KB/s].  ETA: [0 secs]    \n"
     ]
    }
   ],
   "source": [
    "audio\n",
    "audio[0].download()"
   ]
  },
  {
   "cell_type": "code",
   "execution_count": null,
   "metadata": {},
   "outputs": [],
   "source": [
    "results = youtube.commentThreads().list(\n",
    "\t\t    part=\"snippet\",\n",
    "\t\t    maxResults=100,\n",
    "\t\t    videoId=videoId,\n",
    "\t\t    textFormat=\"plainText\"\n",
    "\t\t  ).execute()\n",
    "totalResults = 0\n",
    "totalResults = int(results[\"pageInfo\"][\"totalResults\"])\n",
    "count = 0\n",
    "nextPageToken = ''\n",
    "comments = []\n",
    "further = True\n",
    "first = True\n",
    "while further:\n",
    "\thalt = False\n",
    "\tif first == False:\n",
    "\t\tprint \".\"\n",
    "\t\ttry:\n",
    "\t  \t\tresults = youtube.commentThreads().list(\n",
    "\t  \t\t  part=\"snippet\",\n",
    "\t  \t\t  maxResults=100,\n",
    "\t  \t\t  videoId=videoId,\n",
    "\t  \t\t  textFormat=\"plainText\",\n",
    "\t  \t\t  pageToken=nextPageToken\n",
    "\t  \t\t).execute()\n",
    "\t  \t\ttotalResults = int(results[\"pageInfo\"][\"totalResults\"])\n",
    "\t  \texcept HttpError, e:\n",
    "\t\t\tprint \"An HTTP error %d occurred:\\n%s\" % (e.resp.status, e.content)\n",
    "\t\t\thalt = True\n",
    "\tif halt == False:\n",
    "\t  \tcount += totalResults\n",
    "\t  \tfor item in results[\"items\"]:\n",
    "\t\t  \tcomment = item[\"snippet\"][\"topLevelComment\"]\n",
    "\t\t  \tauthor = comment[\"snippet\"][\"authorDisplayName\"]\n",
    "\t\t  \ttext = comment[\"snippet\"][\"textDisplay\"]\n",
    "\t\t  \tcomments.append([author,text])\n",
    "\t\tif totalResults < 100:\n",
    "\t\t\tfurther = False\n",
    "\t\t\tfirst = False\n",
    "\t\telse:\n",
    "\t\t\tfurther = True\n",
    "\t\t\tfirst = False\n",
    "\t\t\ttry:\n",
    "\t\t\t\tnextPageToken = results[\"nextPageToken\"]\n",
    "\t\t\texcept KeyError, e:\n",
    "\t\t\t\tprint \"An KeyError error occurred: %s\" % (e)\n",
    "\t\t\t\tfurther = False"
   ]
  }
 ],
 "metadata": {
  "kernelspec": {
   "display_name": "Python 3",
   "language": "python",
   "name": "python3"
  },
  "language_info": {
   "codemirror_mode": {
    "name": "ipython",
    "version": 3
   },
   "file_extension": ".py",
   "mimetype": "text/x-python",
   "name": "python",
   "nbconvert_exporter": "python",
   "pygments_lexer": "ipython3",
   "version": "3.7.6"
  }
 },
 "nbformat": 4,
 "nbformat_minor": 2
}
