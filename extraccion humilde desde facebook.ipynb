{
 "cells": [
  {
   "cell_type": "code",
   "execution_count": 12,
   "metadata": {},
   "outputs": [
    {
     "name": "stdout",
     "output_type": "stream",
     "text": [
      "{'name': 'Christian Castro', 'id': '121447789451413'}\n"
     ]
    }
   ],
   "source": [
    "import requests\n",
    "import facebook\n",
    "\n",
    "# cambiar el token con el token de la app a modo de ejemplo:\n",
    "token = 'EAADUCx9H1b4BANwZCnX5bNZC5dhwe4tOtQ3J7mxZBWSdterX5n17xOdYEZBz4Vmj4F2ENonfXaHa6I7L8no42wKmZCmdZBXGlBksCQioJMfIVwuvhLotx0kQywST3uxI0pXnssZCuMoPP5wfog2kBIhYA8ZAg2BhC5gGnZAeJvadukaxAUuSfSxqYEWdSQfyANwqQK96yHg394AZDZD' # I cannot disclose my token here :)\n",
    "graph = facebook.GraphAPI(access_token= token, version = '2.8')\n",
    "friends = graph.get_object('me', fields='name,friends{birthday,name}')\n",
    "\n",
    "print (friends)"
   ]
  },
  {
   "cell_type": "code",
   "execution_count": null,
   "metadata": {},
   "outputs": [],
   "source": []
  },
  {
   "cell_type": "code",
   "execution_count": null,
   "metadata": {},
   "outputs": [],
   "source": []
  }
 ],
 "metadata": {
  "kernelspec": {
   "display_name": "Python 3",
   "language": "python",
   "name": "python3"
  },
  "language_info": {
   "codemirror_mode": {
    "name": "ipython",
    "version": 3
   },
   "file_extension": ".py",
   "mimetype": "text/x-python",
   "name": "python",
   "nbconvert_exporter": "python",
   "pygments_lexer": "ipython3",
   "version": "3.7.4"
  }
 },
 "nbformat": 4,
 "nbformat_minor": 2
}
