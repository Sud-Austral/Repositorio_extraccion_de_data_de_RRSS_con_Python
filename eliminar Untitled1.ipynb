{
 "cells": [
  {
   "cell_type": "code",
   "execution_count": 1,
   "metadata": {},
   "outputs": [
    {
     "ename": "ModuleNotFoundError",
     "evalue": "No module named 'settings'",
     "output_type": "error",
     "traceback": [
      "\u001b[1;31m---------------------------------------------------------------------------\u001b[0m",
      "\u001b[1;31mModuleNotFoundError\u001b[0m                       Traceback (most recent call last)",
      "\u001b[1;32m<ipython-input-1-1fc52b89b185>\u001b[0m in \u001b[0;36m<module>\u001b[1;34m\u001b[0m\n\u001b[1;32m----> 1\u001b[1;33m \u001b[1;32mimport\u001b[0m \u001b[0msettings\u001b[0m\u001b[1;33m\u001b[0m\u001b[1;33m\u001b[0m\u001b[0m\n\u001b[0m\u001b[0;32m      2\u001b[0m \u001b[1;32mimport\u001b[0m \u001b[0mtweepy\u001b[0m\u001b[1;33m\u001b[0m\u001b[1;33m\u001b[0m\u001b[0m\n\u001b[0;32m      3\u001b[0m \u001b[1;32mimport\u001b[0m \u001b[0mdataset\u001b[0m\u001b[1;33m\u001b[0m\u001b[1;33m\u001b[0m\u001b[0m\n\u001b[0;32m      4\u001b[0m \u001b[1;32mfrom\u001b[0m \u001b[0mtextblob\u001b[0m \u001b[1;32mimport\u001b[0m \u001b[0mTextBlob\u001b[0m\u001b[1;33m\u001b[0m\u001b[1;33m\u001b[0m\u001b[0m\n\u001b[0;32m      5\u001b[0m \u001b[1;32mfrom\u001b[0m \u001b[0msqlalchemy\u001b[0m\u001b[1;33m.\u001b[0m\u001b[0mexc\u001b[0m \u001b[1;32mimport\u001b[0m \u001b[0mProgrammingError\u001b[0m\u001b[1;33m\u001b[0m\u001b[1;33m\u001b[0m\u001b[0m\n",
      "\u001b[1;31mModuleNotFoundError\u001b[0m: No module named 'settings'"
     ]
    }
   ],
   "source": [
    "import settings\n",
    "import tweepy\n",
    "import dataset\n",
    "from textblob import TextBlob\n",
    "from sqlalchemy.exc import ProgrammingError\n",
    "import json\n",
    "\n",
    "db = dataset.connect(settings.CONNECTION_STRING)\n",
    "\n",
    "class StreamListener(tweepy.StreamListener):\n",
    "\n",
    "    def on_status(self, status):\n",
    "        if status.retweeted:\n",
    "            return\n",
    "\n",
    "        description = status.user.description\n",
    "        loc = status.user.location\n",
    "        text = status.text\n",
    "        coords = status.coordinates\n",
    "        geo = status.geo\n",
    "        name = status.user.screen_name\n",
    "        user_created = status.user.created_at\n",
    "        followers = status.user.followers_count\n",
    "        id_str = status.id_str\n",
    "        created = status.created_at\n",
    "        retweets = status.retweet_count\n",
    "        bg_color = status.user.profile_background_color\n",
    "        blob = TextBlob(text)\n",
    "        sent = blob.sentiment\n",
    "\n",
    "        if geo is not None:\n",
    "            geo = json.dumps(geo)\n",
    "\n",
    "        if coords is not None:\n",
    "            coords = json.dumps(coords)\n",
    "\n",
    "        table = db[settings.TABLE_NAME]\n",
    "        try:\n",
    "            table.insert(dict(\n",
    "                user_description=description,\n",
    "                user_location=loc,\n",
    "                coordinates=coords,\n",
    "                text=text,\n",
    "                geo=geo,\n",
    "                user_name=name,\n",
    "                user_created=user_created,\n",
    "                user_followers=followers,\n",
    "                id_str=id_str,\n",
    "                created=created,\n",
    "                retweet_count=retweets,\n",
    "                user_bg_color=bg_color,\n",
    "                polarity=sent.polarity,\n",
    "                subjectivity=sent.subjectivity,\n",
    "            ))\n",
    "        except ProgrammingError as err:\n",
    "            print(err)\n",
    "\n",
    "    def on_error(self, status_code):\n",
    "        if status_code == 420:\n",
    "            #returning False in on_data disconnects the stream\n",
    "            return False\n",
    "\n",
    "auth = tweepy.OAuthHandler(settings.TWITTER_APP_KEY, settings.TWITTER_APP_SECRET)\n",
    "auth.set_access_token(settings.TWITTER_KEY, settings.TWITTER_SECRET)\n",
    "api = tweepy.API(auth)\n",
    "\n",
    "stream_listener = StreamListener()\n",
    "stream = tweepy.Stream(auth=api.auth, listener=stream_listener)\n",
    "stream.filter(track=settings.TRACK_TERMS)"
   ]
  },
  {
   "cell_type": "code",
   "execution_count": null,
   "metadata": {},
   "outputs": [],
   "source": []
  }
 ],
 "metadata": {
  "kernelspec": {
   "display_name": "Python 3",
   "language": "python",
   "name": "python3"
  },
  "language_info": {
   "codemirror_mode": {
    "name": "ipython",
    "version": 3
   },
   "file_extension": ".py",
   "mimetype": "text/x-python",
   "name": "python",
   "nbconvert_exporter": "python",
   "pygments_lexer": "ipython3",
   "version": "3.7.6"
  }
 },
 "nbformat": 4,
 "nbformat_minor": 4
}
