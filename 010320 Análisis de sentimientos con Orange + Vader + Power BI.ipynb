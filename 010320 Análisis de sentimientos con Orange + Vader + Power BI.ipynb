{
 "cells": [
  {
   "cell_type": "markdown",
   "metadata": {},
   "source": [
    "# 010320 Análisis de sentimientos con Orange + Vader + Power BI"
   ]
  },
  {
   "cell_type": "markdown",
   "metadata": {},
   "source": [
    "https://medium.com/analytics-vidhya/twitter-sentiment-analysis-with-orange-vader-powerbi-part-1-184b693b9d70"
   ]
  },
  {
   "cell_type": "markdown",
   "metadata": {},
   "source": [
    "Sigue estos pasos para construir el flujo de análisis de sentimientos de Orange3:\n",
    "\n",
    "1. El widget de Twitter: expanda el menú desplegable Minería de texto en el panel izquierdo; arrastre y suelte el widget \"Twitter\" en el lienzo.\n",
    "2. La tabla de datos: expanda el menú desplegable Datos en el panel izquierdo; arrastre y suelte el widget \"Tabla de datos\" en el lienzo. Conecte el widget \"Twitter\" a la \"Tabla de datos\" arrastrando cualquier parte del arco de puntos del widget \"Twitter\" al widget \"Tabla de datos\". NB: así es como se crean conexiones entre widgets.\n",
    "3. Guardar datos: expanda el menú desplegable Datos en el panel izquierdo; arrastre y suelte el widget \"Guardar datos\" en el lienzo. Conecte el widget de \"Tabla de datos\" a la \"Guardar datos\".\n",
    "4. El texto de preproceso: expanda el menú desplegable Minería de texto en el panel izquierdo; arrastre y suelte el widget \"Preprocesar texto\" en el lienzo. Conecte el widget \"Twitter\" a él.\n",
    "5. La nube de palabras: expanda el menú desplegable Minería de texto en el panel izquierdo; arrastre y suelte el widget \"Nube de palabras\" en el lienzo. Conecte el widget de \"Texto de preproceso\" a él.\n",
    "6. El análisis de sentimientos: expanda el menú desplegable Minería de texto en el panel izquierdo; arrastre y suelte el widget \"Análisis de sentimiento\" en el lienzo. Conecte el widget de \"Texto de preproceso\" a él."
   ]
  },
  {
   "cell_type": "markdown",
   "metadata": {},
   "source": [
    "#### El widget Twitter\n",
    "\n",
    "Haz doble click en el widget 'Twitter' para abrir la ventana de configuración:\n",
    "\n",
    "Luego haz click en el botón 'Twitter API Key' e ingrese \"Clave API de consumidor\" y \"Clave secreta\".\n",
    "\n",
    "consumer_key='koO4XqTuWFr5ADGcE8kjIkVoU'\n",
    "\n",
    "consumer_secret='3F4sk9qU8zbKBROuLPUUj1uvE2YuhseXPe0ahMQoivg4icN5bL'\n",
    "\n",
    "access_token='1230251564616515586-2KqPsCG2mIJp3irRjENgHpCfQUxTUg'\n",
    "\n",
    "access_token_secret='6PJfMtYGY7w6csiIX9m1S5jFEKNZ3hE9PVkHKeN1S14iM'    \n",
    "\n",
    "Para este tutorial, transmitiremos 1000 tweets donde se mencionó la palabra mbuhari (el nombre oficial de Twitter del presidente nigeriano, el presidente Muhammadu Buhari GCFR). Por lo tanto, si desea seguir este artículo religiosamente, ingrese \"mbuhari\" en el cuadro de lista de palabras de consulta y establezca los tweets máximos en 1000. Haga clic en \"Iniciar\" para iniciar la transmisión de datos desde Twitter. (Tweets transmitidos el 19 de enero de 2020)\n"
   ]
  },
  {
   "cell_type": "markdown",
   "metadata": {},
   "source": [
    "#### El widget de tabla de datos\n",
    "\n",
    "En este flujo de trabajo, utilizamos dos widgets de \"Tabla de datos\". Este widget nos permite ver los datos en un formato de tabla. La primera tabla de datos está conectada al widget \"Twitter\". Podemos ver estos datos haciendo doble clic en el widget \"Tabla de datos\"."
   ]
  },
  {
   "cell_type": "code",
   "execution_count": null,
   "metadata": {},
   "outputs": [],
   "source": []
  }
 ],
 "metadata": {
  "kernelspec": {
   "display_name": "Python 3",
   "language": "python",
   "name": "python3"
  },
  "language_info": {
   "codemirror_mode": {
    "name": "ipython",
    "version": 3
   },
   "file_extension": ".py",
   "mimetype": "text/x-python",
   "name": "python",
   "nbconvert_exporter": "python",
   "pygments_lexer": "ipython3",
   "version": "3.7.6"
  }
 },
 "nbformat": 4,
 "nbformat_minor": 4
}
