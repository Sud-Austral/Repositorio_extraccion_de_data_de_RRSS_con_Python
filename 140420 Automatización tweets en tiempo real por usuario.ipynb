{
 "cells": [
  {
   "cell_type": "markdown",
   "metadata": {},
   "source": [
    "# 140420 Automatización tweets en tiempo real por usuario"
   ]
  },
  {
   "cell_type": "code",
   "execution_count": 23,
   "metadata": {},
   "outputs": [
    {
     "name": "stdout",
     "output_type": "stream",
     "text": [
      "Christian Castro \n",
      "last updated: 2020-04-11 \n",
      "\n",
      "numpy 1.18.2\n",
      "pandas 1.0.1\n",
      "matplotlib 3.1.3\n",
      "Propiedad de DataIntelligence\n"
     ]
    }
   ],
   "source": [
    "%load_ext watermark\n",
    "%watermark -a \"Christian Castro\" -u -d -p numpy,pandas,matplotlib\n",
    "%watermark -a \"Propiedad de DataIntelligence\" "
   ]
  },
  {
   "cell_type": "markdown",
   "metadata": {},
   "source": [
    "1\n",
    "@colmedchile\n",
    "tweets_colegio_medico.csv\n",
    "https://twitter.com/colmedchile/status/1249754648476516352\n",
    "\n",
    "2\n",
    "@ministeriosalud\n",
    "tweets_min_sal.csv\n",
    "\n",
    "3\n",
    "@opsoms\n",
    "tweets_opsoms.csv\n",
    "\n",
    "4\n",
    "@SuperDeSalud\n",
    "tweets_super_de_salud.csv\n",
    "\n",
    "5\n",
    "@ispch\n",
    "tweets_ispch.csv\n",
    "\n",
    "\n",
    "https://raw.githubusercontent.com/Sud-Austral/Repositorio_extraccion_de_data_de_RRSS_con_Python/master/tweets_colegio_medico.csv\n",
    "https://raw.githubusercontent.com/Sud-Austral/Repositorio_extraccion_de_data_de_RRSS_con_Python/master/tweets_min_sal.csv\n",
    "https://raw.githubusercontent.com/Sud-Austral/Repositorio_extraccion_de_data_de_RRSS_con_Python/master\n",
    "/tweets_opsoms.csv\n",
    "https://raw.githubusercontent.com/Sud-Austral/Repositorio_extraccion_de_data_de_RRSS_con_Python/master\n",
    "/tweets_super_de_salud.csv\n",
    "https://raw.githubusercontent.com/Sud-Austral/Repositorio_extraccion_de_data_de_RRSS_con_Python/master\n",
    "/tweets_ispch.csv\n",
    "\n",
    "sochimu: no twitea nada:\n",
    "\n",
    "Fuente:\n",
    "\n",
    "https://github.com/RodolfoFerro/pandas_twitter"
   ]
  },
  {
   "cell_type": "code",
   "execution_count": 17,
   "metadata": {},
   "outputs": [],
   "source": [
    "# General:\n",
    "import tweepy           # To consume Twitter's API\n",
    "import pandas as pd     # To handle data\n",
    "import numpy as np      # For number computing\n",
    "\n",
    "# For plotting and visualization:\n",
    "from IPython.display import display\n",
    "import matplotlib.pyplot as plt\n",
    "import seaborn as sns\n",
    "%matplotlib inline\n",
    "\n",
    "# Declaramos nuestras Twitter API Keys:\n",
    "# Twitter App access keys for @user\n",
    "\n",
    "# Consume:\n",
    "CONSUMER_KEY    = 'koO4XqTuWFr5ADGcE8kjIkVoU'\n",
    "CONSUMER_SECRET = '3F4sk9qU8zbKBROuLPUUj1uvE2YuhseXPe0ahMQoivg4icN5bL'\n",
    "\n",
    "# Access:\n",
    "ACCESS_TOKEN  = '1230251564616515586-2KqPsCG2mIJp3irRjENgHpCfQUxTUg'\n",
    "ACCESS_SECRET = '6PJfMtYGY7w6csiIX9m1S5jFEKNZ3hE9PVkHKeN1S14iM'\n",
    "\n",
    "# We import our access keys:\n",
    "from credentials import *    # This will allow us to use the keys as variables\n",
    "\n",
    "# API's setup:\n",
    "def twitter_setup():\n",
    "    \"\"\"\n",
    "    Utility function to setup the Twitter's API\n",
    "    with our access keys provided.\n",
    "    \"\"\"\n",
    "    # Authentication and access using keys:\n",
    "    auth = tweepy.OAuthHandler(CONSUMER_KEY, CONSUMER_SECRET)\n",
    "    auth.set_access_token(ACCESS_TOKEN, ACCESS_SECRET)\n",
    "\n",
    "    # Return API with authentication:\n",
    "    api = tweepy.API(auth)\n",
    "    return api\n",
    "\n",
    "tweet=''\n",
    "\n",
    "usuario_de_consulta = 'realDonaldTrump'\n",
    "\n",
    "# We create an extractor object:\n",
    "extractor = twitter_setup()\n",
    "\n",
    "# We create a tweet list as follows:\n",
    "tweets = extractor.user_timeline(screen_name=usuario_de_consulta, count=10)\n",
    "\n",
    "# We create a pandas dataframe as follows:\n",
    "data = pd.DataFrame(data=[tweet.text for tweet in tweets], columns=['Tweets'])\n",
    "\n",
    "# We add relevant data:\n",
    "#data['len']  = np.array([len(tweet.text) for tweet in tweets])\n",
    "data['ID'] = np.array([tweet.id for tweet in tweets])\n",
    "data['Date'] = np.array([tweet.created_at for tweet in tweets])\n",
    "data['Source'] = np.array([tweet.source for tweet in tweets])\n",
    "data['Likes']  = np.array([tweet.favorite_count for tweet in tweets])\n",
    "data['RTs']    = np.array([tweet.retweet_count for tweet in tweets])\n",
    "\n",
    "elstringid = 'https://twitter.com/'+usuario_de_consulta+'/status/'\n",
    "data['ID'] = elstringid + data['ID'].astype(str)\n",
    "\n",
    "\n",
    "import csv\n",
    "data.to_csv(r'dtr.csv', index = False)\n",
    "\n",
    "\n"
   ]
  },
  {
   "cell_type": "code",
   "execution_count": null,
   "metadata": {},
   "outputs": [],
   "source": []
  }
 ],
 "metadata": {
  "kernelspec": {
   "display_name": "Python 3",
   "language": "python",
   "name": "python3"
  },
  "language_info": {
   "codemirror_mode": {
    "name": "ipython",
    "version": 3
   },
   "file_extension": ".py",
   "mimetype": "text/x-python",
   "name": "python",
   "nbconvert_exporter": "python",
   "pygments_lexer": "ipython3",
   "version": "3.7.6"
  }
 },
 "nbformat": 4,
 "nbformat_minor": 4
}
