{
 "cells": [
  {
   "cell_type": "markdown",
   "metadata": {},
   "source": [
    "# 130420 Desplegar noticias y videos en tiempo real"
   ]
  },
  {
   "cell_type": "code",
   "execution_count": 3,
   "metadata": {},
   "outputs": [
    {
     "name": "stdout",
     "output_type": "stream",
     "text": [
      "Autor: Christian Castro \n",
      "last updated: 2020-04-13 \n",
      "\n",
      "numpy 1.18.2\n",
      "pandas 1.0.1\n",
      "matplotlib 3.1.3\n",
      "Propiedad de DataIntelligence\n"
     ]
    }
   ],
   "source": [
    "#%load_ext watermark\n",
    "%watermark -a \"Autor: Christian Castro\" -u -d -p numpy,pandas,matplotlib  \n",
    "%watermark -a \"Propiedad de DataIntelligence\" "
   ]
  },
  {
   "cell_type": "markdown",
   "metadata": {},
   "source": [
    "## Tecnologías New-Light: conciencia situacional para los desastres\n",
    "\n",
    "Definiendo el problema\n",
    "\n",
    "Cuando ocurre un desastre, es de vital importancia proporcionar la información más relevante a los socorristas y al público en general. Durante un desastre, las personas se ven inundadas con un aluvión de fuentes de noticias, lo que resulta en un ambiente de confusión y desinformación. A partir de ahora, no existe un medio central para encontrar fuentes de noticias relevantes para un artículo específico sobre desastres. El objetivo de este proyecto es entregar al público un sitio web donde los usuarios puedan encontrar información relevante y obtener los datos clave durante un desastre.\n",
    "\n",
    "Recopilación de datos:\n",
    "\n",
    "Para lograr nuestro objetivo, necesitábamos crear una gran base de datos de artículos. Hubo múltiples opciones a considerar al elegir la mejor API para nuestro proyecto. Algunas opciones fueron Google Tends, Reddit API, News API, New York Time API y Bing API.\n",
    "\n",
    "En última instancia, elegimos News API debido a sus cualidades amigables para el desarrollador, y proporcionó el título, la imagen y los metadatos del artículo que se ajustan perfectamente a los parámetros de nuestros entregables. Sin embargo, News API tiene algunas debilidades. A menos que el usuario esté dispuesto a desembolsar un par de cientos de dólares al mes, el límite máximo de artículos en una sesión de webcraping es de 500. Con nuestros tres miembros del grupo, eso significaba que solo podíamos raspar un máximo de 1500 artículos cada 24 horas. Aún más, News API limita el raspado a un período de un mes. Esto nos llevó a una conclusión, necesitábamos más artículos.\n",
    "\n",
    "Fuentes: \n",
    "\n",
    "https://github.com/nlee1476/Project_5\n",
    "\n",
    "Scraping Web Articles Using NewsAPI in Python:\n",
    "\n",
    "https://towardsdatascience.com/scraping-web-articles-using-newsapi-in-python-a0e97fbab8ed\n",
    "\n",
    "Hot to get a Bing Search API key v5:\n",
    "\n",
    "https://helpcenterhq.com/knowledgebase.php?article=189\n",
    "\n",
    "\n",
    "\n",
    "II Quickstart: Perform a news search using Python and the Bing News Search REST API:\n",
    "\n",
    "https://docs.microsoft.com/en-us/azure/cognitive-services/bing-news-search/python\n"
   ]
  },
  {
   "cell_type": "code",
   "execution_count": 13,
   "metadata": {},
   "outputs": [],
   "source": [
    "\n",
    "\n",
    "import requests \n",
    "from bs4 import BeautifulSoup\n",
    "import pprint\n",
    "import pandas as pd\n",
    "import numpy as np\n",
    "\n"
   ]
  },
  {
   "cell_type": "code",
   "execution_count": 14,
   "metadata": {},
   "outputs": [],
   "source": [
    "url = 'https://www.bing.com/news'"
   ]
  },
  {
   "cell_type": "code",
   "execution_count": 15,
   "metadata": {},
   "outputs": [],
   "source": [
    "api_key = \"b091fbaeb9f94255b542befc3ecff8b8\""
   ]
  },
  {
   "cell_type": "code",
   "execution_count": 16,
   "metadata": {},
   "outputs": [
    {
     "ename": "JSONDecodeError",
     "evalue": "Expecting value: line 1 column 1 (char 0)",
     "output_type": "error",
     "traceback": [
      "\u001b[1;31m---------------------------------------------------------------------------\u001b[0m",
      "\u001b[1;31mJSONDecodeError\u001b[0m                           Traceback (most recent call last)",
      "\u001b[1;32m<ipython-input-16-03bdba5bb679>\u001b[0m in \u001b[0;36m<module>\u001b[1;34m\u001b[0m\n\u001b[0;32m      6\u001b[0m }\n\u001b[0;32m      7\u001b[0m \u001b[0mflood_response\u001b[0m \u001b[1;33m=\u001b[0m \u001b[0mrequests\u001b[0m\u001b[1;33m.\u001b[0m\u001b[0mget\u001b[0m\u001b[1;33m(\u001b[0m\u001b[0murl\u001b[0m\u001b[1;33m,\u001b[0m \u001b[0mparams\u001b[0m \u001b[1;33m=\u001b[0m \u001b[0mflood_parameters\u001b[0m\u001b[1;33m)\u001b[0m\u001b[1;33m\u001b[0m\u001b[1;33m\u001b[0m\u001b[0m\n\u001b[1;32m----> 8\u001b[1;33m \u001b[0mflood_response_json\u001b[0m \u001b[1;33m=\u001b[0m \u001b[0mflood_response\u001b[0m\u001b[1;33m.\u001b[0m\u001b[0mjson\u001b[0m\u001b[1;33m(\u001b[0m\u001b[1;33m)\u001b[0m\u001b[1;33m\u001b[0m\u001b[1;33m\u001b[0m\u001b[0m\n\u001b[0m\u001b[0;32m      9\u001b[0m \u001b[1;33m\u001b[0m\u001b[0m\n",
      "\u001b[1;32m~\\anaconda3\\lib\\site-packages\\requests\\models.py\u001b[0m in \u001b[0;36mjson\u001b[1;34m(self, **kwargs)\u001b[0m\n\u001b[0;32m    895\u001b[0m                     \u001b[1;31m# used.\u001b[0m\u001b[1;33m\u001b[0m\u001b[1;33m\u001b[0m\u001b[1;33m\u001b[0m\u001b[0m\n\u001b[0;32m    896\u001b[0m                     \u001b[1;32mpass\u001b[0m\u001b[1;33m\u001b[0m\u001b[1;33m\u001b[0m\u001b[0m\n\u001b[1;32m--> 897\u001b[1;33m         \u001b[1;32mreturn\u001b[0m \u001b[0mcomplexjson\u001b[0m\u001b[1;33m.\u001b[0m\u001b[0mloads\u001b[0m\u001b[1;33m(\u001b[0m\u001b[0mself\u001b[0m\u001b[1;33m.\u001b[0m\u001b[0mtext\u001b[0m\u001b[1;33m,\u001b[0m \u001b[1;33m**\u001b[0m\u001b[0mkwargs\u001b[0m\u001b[1;33m)\u001b[0m\u001b[1;33m\u001b[0m\u001b[1;33m\u001b[0m\u001b[0m\n\u001b[0m\u001b[0;32m    898\u001b[0m \u001b[1;33m\u001b[0m\u001b[0m\n\u001b[0;32m    899\u001b[0m     \u001b[1;33m@\u001b[0m\u001b[0mproperty\u001b[0m\u001b[1;33m\u001b[0m\u001b[1;33m\u001b[0m\u001b[0m\n",
      "\u001b[1;32m~\\anaconda3\\lib\\json\\__init__.py\u001b[0m in \u001b[0;36mloads\u001b[1;34m(s, encoding, cls, object_hook, parse_float, parse_int, parse_constant, object_pairs_hook, **kw)\u001b[0m\n\u001b[0;32m    346\u001b[0m             \u001b[0mparse_int\u001b[0m \u001b[1;32mis\u001b[0m \u001b[1;32mNone\u001b[0m \u001b[1;32mand\u001b[0m \u001b[0mparse_float\u001b[0m \u001b[1;32mis\u001b[0m \u001b[1;32mNone\u001b[0m \u001b[1;32mand\u001b[0m\u001b[1;33m\u001b[0m\u001b[1;33m\u001b[0m\u001b[0m\n\u001b[0;32m    347\u001b[0m             parse_constant is None and object_pairs_hook is None and not kw):\n\u001b[1;32m--> 348\u001b[1;33m         \u001b[1;32mreturn\u001b[0m \u001b[0m_default_decoder\u001b[0m\u001b[1;33m.\u001b[0m\u001b[0mdecode\u001b[0m\u001b[1;33m(\u001b[0m\u001b[0ms\u001b[0m\u001b[1;33m)\u001b[0m\u001b[1;33m\u001b[0m\u001b[1;33m\u001b[0m\u001b[0m\n\u001b[0m\u001b[0;32m    349\u001b[0m     \u001b[1;32mif\u001b[0m \u001b[0mcls\u001b[0m \u001b[1;32mis\u001b[0m \u001b[1;32mNone\u001b[0m\u001b[1;33m:\u001b[0m\u001b[1;33m\u001b[0m\u001b[1;33m\u001b[0m\u001b[0m\n\u001b[0;32m    350\u001b[0m         \u001b[0mcls\u001b[0m \u001b[1;33m=\u001b[0m \u001b[0mJSONDecoder\u001b[0m\u001b[1;33m\u001b[0m\u001b[1;33m\u001b[0m\u001b[0m\n",
      "\u001b[1;32m~\\anaconda3\\lib\\json\\decoder.py\u001b[0m in \u001b[0;36mdecode\u001b[1;34m(self, s, _w)\u001b[0m\n\u001b[0;32m    335\u001b[0m \u001b[1;33m\u001b[0m\u001b[0m\n\u001b[0;32m    336\u001b[0m         \"\"\"\n\u001b[1;32m--> 337\u001b[1;33m         \u001b[0mobj\u001b[0m\u001b[1;33m,\u001b[0m \u001b[0mend\u001b[0m \u001b[1;33m=\u001b[0m \u001b[0mself\u001b[0m\u001b[1;33m.\u001b[0m\u001b[0mraw_decode\u001b[0m\u001b[1;33m(\u001b[0m\u001b[0ms\u001b[0m\u001b[1;33m,\u001b[0m \u001b[0midx\u001b[0m\u001b[1;33m=\u001b[0m\u001b[0m_w\u001b[0m\u001b[1;33m(\u001b[0m\u001b[0ms\u001b[0m\u001b[1;33m,\u001b[0m \u001b[1;36m0\u001b[0m\u001b[1;33m)\u001b[0m\u001b[1;33m.\u001b[0m\u001b[0mend\u001b[0m\u001b[1;33m(\u001b[0m\u001b[1;33m)\u001b[0m\u001b[1;33m)\u001b[0m\u001b[1;33m\u001b[0m\u001b[1;33m\u001b[0m\u001b[0m\n\u001b[0m\u001b[0;32m    338\u001b[0m         \u001b[0mend\u001b[0m \u001b[1;33m=\u001b[0m \u001b[0m_w\u001b[0m\u001b[1;33m(\u001b[0m\u001b[0ms\u001b[0m\u001b[1;33m,\u001b[0m \u001b[0mend\u001b[0m\u001b[1;33m)\u001b[0m\u001b[1;33m.\u001b[0m\u001b[0mend\u001b[0m\u001b[1;33m(\u001b[0m\u001b[1;33m)\u001b[0m\u001b[1;33m\u001b[0m\u001b[1;33m\u001b[0m\u001b[0m\n\u001b[0;32m    339\u001b[0m         \u001b[1;32mif\u001b[0m \u001b[0mend\u001b[0m \u001b[1;33m!=\u001b[0m \u001b[0mlen\u001b[0m\u001b[1;33m(\u001b[0m\u001b[0ms\u001b[0m\u001b[1;33m)\u001b[0m\u001b[1;33m:\u001b[0m\u001b[1;33m\u001b[0m\u001b[1;33m\u001b[0m\u001b[0m\n",
      "\u001b[1;32m~\\anaconda3\\lib\\json\\decoder.py\u001b[0m in \u001b[0;36mraw_decode\u001b[1;34m(self, s, idx)\u001b[0m\n\u001b[0;32m    353\u001b[0m             \u001b[0mobj\u001b[0m\u001b[1;33m,\u001b[0m \u001b[0mend\u001b[0m \u001b[1;33m=\u001b[0m \u001b[0mself\u001b[0m\u001b[1;33m.\u001b[0m\u001b[0mscan_once\u001b[0m\u001b[1;33m(\u001b[0m\u001b[0ms\u001b[0m\u001b[1;33m,\u001b[0m \u001b[0midx\u001b[0m\u001b[1;33m)\u001b[0m\u001b[1;33m\u001b[0m\u001b[1;33m\u001b[0m\u001b[0m\n\u001b[0;32m    354\u001b[0m         \u001b[1;32mexcept\u001b[0m \u001b[0mStopIteration\u001b[0m \u001b[1;32mas\u001b[0m \u001b[0merr\u001b[0m\u001b[1;33m:\u001b[0m\u001b[1;33m\u001b[0m\u001b[1;33m\u001b[0m\u001b[0m\n\u001b[1;32m--> 355\u001b[1;33m             \u001b[1;32mraise\u001b[0m \u001b[0mJSONDecodeError\u001b[0m\u001b[1;33m(\u001b[0m\u001b[1;34m\"Expecting value\"\u001b[0m\u001b[1;33m,\u001b[0m \u001b[0ms\u001b[0m\u001b[1;33m,\u001b[0m \u001b[0merr\u001b[0m\u001b[1;33m.\u001b[0m\u001b[0mvalue\u001b[0m\u001b[1;33m)\u001b[0m \u001b[1;32mfrom\u001b[0m \u001b[1;32mNone\u001b[0m\u001b[1;33m\u001b[0m\u001b[1;33m\u001b[0m\u001b[0m\n\u001b[0m\u001b[0;32m    356\u001b[0m         \u001b[1;32mreturn\u001b[0m \u001b[0mobj\u001b[0m\u001b[1;33m,\u001b[0m \u001b[0mend\u001b[0m\u001b[1;33m\u001b[0m\u001b[1;33m\u001b[0m\u001b[0m\n",
      "\u001b[1;31mJSONDecodeError\u001b[0m: Expecting value: line 1 column 1 (char 0)"
     ]
    }
   ],
   "source": [
    "\n",
    "\n",
    "flood_parameters = {\n",
    "    'q': 'flood',\n",
    "    'pageSize': 100,\n",
    "    'apiKey': api_key,\n",
    "    'language': 'en'\n",
    "}\n",
    "flood_response = requests.get(url, params = flood_parameters)\n",
    "flood_response_json = flood_response.json()\n",
    "\n"
   ]
  },
  {
   "cell_type": "code",
   "execution_count": null,
   "metadata": {},
   "outputs": [],
   "source": [
    "II Quickstart: Perform a news search using Python and the Bing News Search REST API:"
   ]
  },
  {
   "cell_type": "code",
   "execution_count": 18,
   "metadata": {},
   "outputs": [],
   "source": [
    "import requests\n",
    "\n",
    "subscription_key = \"b091fbaeb9f94255b542befc3ecff8b8\"\n",
    "search_term = \"Microsoft\"\n",
    "search_url = \"https://api.cognitive.microsoft.com/bing/v7.0/news/search\"\n"
   ]
  },
  {
   "cell_type": "code",
   "execution_count": 19,
   "metadata": {},
   "outputs": [],
   "source": [
    "headers = {\"Ocp-Apim-Subscription-Key\" : subscription_key}\n",
    "params  = {\"q\": search_term, \"textDecorations\": True, \"textFormat\": \"HTML\"}"
   ]
  },
  {
   "cell_type": "code",
   "execution_count": 20,
   "metadata": {},
   "outputs": [],
   "source": [
    "response = requests.get(search_url, headers=headers, params=params)\n",
    "response.raise_for_status()\n",
    "search_results = response.json()"
   ]
  },
  {
   "cell_type": "code",
   "execution_count": 21,
   "metadata": {},
   "outputs": [],
   "source": [
    "descriptions = [article[\"description\"] for article in search_results[\"value\"]]"
   ]
  },
  {
   "cell_type": "code",
   "execution_count": 22,
   "metadata": {},
   "outputs": [
    {
     "data": {
      "text/html": [
       "<table><tr><td>En medio de la pandemia que atraviesa el planeta, hay quienes tienen la dicha de tener una consola de videojuegos. Pasar la cuarentena en casa resulta ser una de las tareas más difíciles estos últimos tres meses -apartando, por supuesto, a quienes luchan contra la enfermedad-. Debido a esto</td></tr>\n",
       "<tr><td>Ante el aumento en el uso de videoconferencias, la empresa <b>Microsoft</b> informó que las conversaciones virtuales se hacen con toda la privacidad y son seguras. A través de un comunicado, la empresa precisó que la privacidad y la seguridad son siempre una prioridad y, como tal, forma parte de su</td></tr>\n",
       "<tr><td>México, (Notimex).- Ante el aumento en el uso de videoconferencias, la empresa <b>Microsoft</b> informó que las conversaciones virtuales se hacen con toda la privacidad y son seguras. A través de un comunicado, la empresa precisó que la privacidad y la seguridad son siempre una prioridad y, como tal</td></tr>\n",
       "<tr><td>Ante el aumento en el uso de videoconferencias, la empresa <b>Microsoft</b> informó que las conversaciones virtuales se hacen con toda la privacidad y son seguras. A través de un comunicado, la empresa precisó que la privacidad y la seguridad son siempre una prioridad y, como tal, forma parte de su</td></tr>\n",
       "<tr><td>Finalmente <b>Microsoft</b> tendría cerca el anuncio del lanzamiento de la Surface Go 2, el sucesor del primer modelo que se lanzó en verano de 2018 y que viene a competir ahora contra los Chromebook ...</td></tr>\n",
       "<tr><td><b>Microsoft</b> garantiza protección de datos en videoconferencias El moderador puede controlar quién puede publicar contenido y la inteligencia artificial avanzada monitorea los chats para prevenir comportamientos negativos.</td></tr>\n",
       "<tr><td><b>Microsoft</b> ofrece a las escuelas y universidades adheridas su servicio. Con tal objeto, solo debes validar tu correo con la empresa y te generan tu propio usuario. En caso de que no tengas la información de si tu institución está dentro de la opción, accedes al un link que te genera estos datos.</td></tr>\n",
       "<tr><td>Una interesante actualización llega a <b>Microsoft</b> Teams con una serie características y una de las opciones más populares de Zoom. La crisis del coronavirus obligó a la mayoría a trabajar desde casa. Y realizar videoconferencias desde el hogar no resulta tan glamoroso como en la oficina o desde</td></tr>\n",
       "<tr><td><b>Microsoft</b> trabaja en la Surface Dock 2 y hay cambios relativos a las conexiones Noticia. David Hernández. 12/04/2020 - 15:15. <b>Microsoft</b> estaría pensando renovar la Surface Dock con una nueva versión que estaría a punto de anunciarse y lanzarse al mercado en vista de que ya se habría listado en diferentes tiendas online.</td></tr></table>"
      ],
      "text/plain": [
       "<IPython.core.display.HTML object>"
      ]
     },
     "execution_count": 22,
     "metadata": {},
     "output_type": "execute_result"
    }
   ],
   "source": [
    "from IPython.display import HTML\n",
    "rows = \"\\n\".join([\"<tr><td>{0}</td></tr>\".format(desc)\n",
    "                  for desc in descriptions])\n",
    "HTML(\"<table>\"+rows+\"</table>\")"
   ]
  },
  {
   "cell_type": "code",
   "execution_count": null,
   "metadata": {},
   "outputs": [],
   "source": []
  },
  {
   "cell_type": "code",
   "execution_count": null,
   "metadata": {},
   "outputs": [],
   "source": []
  },
  {
   "cell_type": "code",
   "execution_count": null,
   "metadata": {},
   "outputs": [],
   "source": []
  }
 ],
 "metadata": {
  "kernelspec": {
   "display_name": "Python 3",
   "language": "python",
   "name": "python3"
  },
  "language_info": {
   "codemirror_mode": {
    "name": "ipython",
    "version": 3
   },
   "file_extension": ".py",
   "mimetype": "text/x-python",
   "name": "python",
   "nbconvert_exporter": "python",
   "pygments_lexer": "ipython3",
   "version": "3.7.6"
  }
 },
 "nbformat": 4,
 "nbformat_minor": 4
}
