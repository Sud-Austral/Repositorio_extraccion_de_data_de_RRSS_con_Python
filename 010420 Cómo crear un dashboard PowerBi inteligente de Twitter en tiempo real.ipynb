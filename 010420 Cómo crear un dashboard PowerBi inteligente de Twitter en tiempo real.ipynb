{
 "cells": [
  {
   "cell_type": "markdown",
   "metadata": {},
   "source": [
    "# 010420 Cómo crear un dashboard PowerBi inteligente de Twitter en tiempo real"
   ]
  },
  {
   "cell_type": "markdown",
   "metadata": {},
   "source": [
    "https://vincent.frl/creating-a-intelligent-real-time-twitter-dashboard/"
   ]
  },
  {
   "cell_type": "markdown",
   "metadata": {},
   "source": [
    "1 Inicia sesión en Azure a través de portal.azure.com y crea una nueva Logic App."
   ]
  },
  {
   "cell_type": "markdown",
   "metadata": {},
   "source": [
    "Lo primero que vamos a agregar en el 'Trigger', en nuestro caso, el Trigger es 'Cuando se publica un tweet'. Esto significa que nuestro flujo se activará cuando se publique un Tweet con nuestro término de búsqueda. Cuando se selecciona el activador de Tweet, debe iniciar sesión rápidamente con su cuenta de Twitter (por supuesto, no se publicará nada), podemos ingresar nuestro término de búsqueda de la siguiente manera:"
   ]
  },
  {
   "cell_type": "markdown",
   "metadata": {},
   "source": [
    "Simplemente complete el término de búsqueda que desea buscar, en mi elenco buscaré #Microsoft, con una frecuencia cada 3 minutos. Como se dijo al principio, no solo mostraremos Tweets en tiempo real, sino que también agregaremos inteligencia, para esto utilizaremos los servicios cognitivos de Microsoft.\n",
    "Así que presione el botón grande 'Nuevo paso' -> 'Agregar una acción' y busque el paso 'Análisis de texto - Detectar sentimiento'.\n",
    "\n",
    "A continuación, debe obtener las claves API para el análisis de texto, estas están disponibles gratuitamente aquí, solo inicie sesión una vez que ingrese, vaya a 'Mi cuenta'. Presione el botón grande más y agregue 'Análisis de texto', una vez hecho esto debería tener dos teclas. Simplemente copie una clave y agregue esto en la aplicación lógica que debería verse de la siguiente manera, el nombre de la conexión puede ser cualquier cosa:"
   ]
  },
  {
   "cell_type": "markdown",
   "metadata": {},
   "source": [
    "Como puede ver, agregamos 'Texto de Tweet' como entrada para el paso Detectar sentimiento y usamos el texto de Twitter.\n",
    "\n",
    "Solo tenemos un paso: enviar todos estos datos al panel de control de PowerBi.\n",
    "Crear un conjunto de datos de transmisión de PowerBi\n",
    "\n",
    "Inicie sesión en su cuenta de powerbi en powerbi.com, luego navegue a sus conjuntos de datos haciendo clic en su foto de perfil en el lado izquierdo de la página."
   ]
  },
  {
   "cell_type": "markdown",
   "metadata": {},
   "source": [
    "Elija la opción 'API' y pase a la página siguiente. Aquí definiremos nuestro conjunto de datos, aquí puede definir sus nombres y tipos de variables. Agregaré 3 variables por ahora, pero siéntase libre de extender esto a su gusto. Asegúrese de consultar el control deslizante 'Análisis de datos históricos'"
   ]
  },
  {
   "cell_type": "code",
   "execution_count": null,
   "metadata": {},
   "outputs": [],
   "source": []
  },
  {
   "cell_type": "code",
   "execution_count": null,
   "metadata": {},
   "outputs": [],
   "source": []
  }
 ],
 "metadata": {
  "kernelspec": {
   "display_name": "Python 3",
   "language": "python",
   "name": "python3"
  },
  "language_info": {
   "codemirror_mode": {
    "name": "ipython",
    "version": 3
   },
   "file_extension": ".py",
   "mimetype": "text/x-python",
   "name": "python",
   "nbconvert_exporter": "python",
   "pygments_lexer": "ipython3",
   "version": "3.7.6"
  }
 },
 "nbformat": 4,
 "nbformat_minor": 4
}
