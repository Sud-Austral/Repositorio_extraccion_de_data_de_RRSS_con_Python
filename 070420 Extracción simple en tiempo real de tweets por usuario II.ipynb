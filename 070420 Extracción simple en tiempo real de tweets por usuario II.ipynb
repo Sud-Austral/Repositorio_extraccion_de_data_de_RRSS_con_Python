{
 "cells": [
  {
   "cell_type": "markdown",
   "metadata": {},
   "source": [
    "# 070420 Extracción simple en tiempo real de tweets por usuario II\n",
    "\n",
    "https://www.storybench.org/how-to-collect-tweets-from-the-twitter-streaming-api-using-python/\n",
    "\n",
    "\n",
    "https://twitter.com/colmedchile\n",
    "\n",
    "Para obtener el id de un usuario:\n",
    "\n",
    "http://gettwitterid.com/\n",
    "\n",
    "Tweet objects:\n",
    "\n",
    "https://developer.twitter.com/en/docs/tweets/data-dictionary/overview/tweet-object"
   ]
  },
  {
   "cell_type": "markdown",
   "metadata": {},
   "source": [
    "Filtros en Twitter:\n",
    "\n",
    "<img src=\"./filtros_en_tweeter.jpg\" width=\"500\" height=\"1000\" >"
   ]
  },
  {
   "cell_type": "code",
   "execution_count": null,
   "metadata": {},
   "outputs": [],
   "source": [
    "#%load_ext watermark\n",
    "%watermark -a \"Christian Castro-easy-tensorflow\" -u -d -p numpy,pandas,matplotlib"
   ]
  },
  {
   "cell_type": "code",
   "execution_count": null,
   "metadata": {},
   "outputs": [
    {
     "name": "stdout",
     "output_type": "stream",
     "text": [
      "RT @colmedchile: 👏🏻👏🏻👏🏻👏🏻 👏🏻👏🏻👏🏻👏🏻👏🏻👏🏻👏🏻\n",
      "¡Gracias a todos los trabajadores de la salud de Chile y el mundo por su trabajo frente a esta pan…2020-04-08 02:40:52\n"
     ]
    }
   ],
   "source": [
    "import tweepy\n",
    "\n",
    "# authorization tokens\n",
    "consumer_key = 'koO4XqTuWFr5ADGcE8kjIkVoU'\n",
    "consumer_secret = '3F4sk9qU8zbKBROuLPUUj1uvE2YuhseXPe0ahMQoivg4icN5bL'\n",
    "access_key = '1230251564616515586-2KqPsCG2mIJp3irRjENgHpCfQUxTUg'\n",
    "access_secret = '6PJfMtYGY7w6csiIX9m1S5jFEKNZ3hE9PVkHKeN1S14iM'\n",
    " \n",
    "    \n",
    "# Paso 2: Crea la clase StreamListener. En el mismo\n",
    "# archivo, vamos a crear una nueva clase llamada\n",
    "# StreamListener que hereda de la clase\n",
    "# StreamListener de tweepy y anula los métodos\n",
    "# on_status y on_error para que podamos personalizar\n",
    "# lo que queremos hacer con cada tweet que\n",
    "# encontremos. Por ahora, imprimamos la\n",
    "# identificación de cada tweet. Añadiremos una\n",
    "# funcionalidad más sofisticada más adelante.\n",
    "\n",
    "    \n",
    "    \n",
    "# StreamListener class inherits from tweepy.StreamListener and overrides on_status/on_error methods.\n",
    "class StreamListener(tweepy.StreamListener):\n",
    "    def on_status(self, status):\n",
    "        print('Tweet: '+status.text + 'Hora en la que fue emitido: '+ str(status.created_at))\n",
    "        # if \"retweeted_status\" attribute exists, flag this tweet as a retweet.\n",
    "        is_retweet = hasattr(status, \"retweeted_status\")\n",
    "\n",
    "        # check if text has been truncated\n",
    "        if hasattr(status,\"extended_tweet\"):\n",
    "            text = status.extended_tweet[\"full_text\"]\n",
    "        else:\n",
    "            text = status.text\n",
    "\n",
    "        # check if this is a quote tweet.\n",
    "        is_quote = hasattr(status, \"quoted_status\")\n",
    "        quoted_text = \"\"\n",
    "        if is_quote:\n",
    "            # check if quoted tweet's text has been truncated before recording it\n",
    "            if hasattr(status.quoted_status,\"extended_tweet\"):\n",
    "                quoted_text = status.quoted_status.extended_tweet[\"full_text\"]\n",
    "            else:\n",
    "                quoted_text = status.quoted_status.text\n",
    "\n",
    "        # remove characters that might cause problems with csv encoding\n",
    "        remove_characters = [\",\",\"\\n\"]\n",
    "        for c in remove_characters:\n",
    "            text.replace(c,\" \")\n",
    "            quoted_text.replace(c, \" \")\n",
    "\n",
    "        with open(\"out.csv\", \"a\", encoding='utf-8') as f:\n",
    "            f.write(\"%s,%s,%s,%s,%s,%s\\n\" % (status.created_at,status.user.screen_name,is_retweet,is_quote,text,quoted_text))\n",
    "\n",
    "    def on_error(self, status_code):\n",
    "        print(\"Encountered streaming error (\", status_code, \")\")\n",
    "        sys.exit()\n",
    "\n",
    "        \n",
    "        \n",
    "\n",
    "\n",
    "# Paso 1: en Python, importe Tweepy y configure su\n",
    "# autenticación y escucha de transmisión con \n",
    "# claves API. Aquí estamos utilizando la información\n",
    "# de autenticación que Twitter proporcionó cuando \n",
    "# registramos nuestra aplicación.        \n",
    "        \n",
    "if __name__ == \"__main__\":\n",
    "    # complete authorization and initialize API endpoint\n",
    "    auth = tweepy.OAuthHandler(consumer_key, consumer_secret)\n",
    "    auth.set_access_token(access_key, access_secret)\n",
    "    api = tweepy.API(auth)\n",
    "\n",
    "    # initialize stream\n",
    "    streamListener = StreamListener()\n",
    "    stream = tweepy.Stream(auth=api.auth, listener=streamListener,tweet_mode='extended')\n",
    "    with open(\"out.csv\", \"w\", encoding='utf-8') as f:\n",
    "        f.write(\"date,user,is_retweet,is_quote,text,quoted_text\\n\")\n",
    "    \n",
    "    \n",
    "    \n",
    "# Paso 3: Inicializamos la transmisión con filtros. \n",
    "# Finalmente, podemos comenzar la transmisión \n",
    "# especificando las etiquetas que queremos usar \n",
    "# para filtrar los tweets.    \n",
    "    \n",
    "    usuario = ['633098103']\n",
    "    stream.filter(follow=usuario)"
   ]
  },
  {
   "cell_type": "code",
   "execution_count": null,
   "metadata": {},
   "outputs": [],
   "source": []
  },
  {
   "cell_type": "code",
   "execution_count": null,
   "metadata": {},
   "outputs": [],
   "source": []
  },
  {
   "cell_type": "code",
   "execution_count": null,
   "metadata": {},
   "outputs": [],
   "source": []
  },
  {
   "cell_type": "code",
   "execution_count": null,
   "metadata": {},
   "outputs": [],
   "source": []
  },
  {
   "cell_type": "code",
   "execution_count": null,
   "metadata": {},
   "outputs": [],
   "source": []
  },
  {
   "cell_type": "code",
   "execution_count": null,
   "metadata": {},
   "outputs": [],
   "source": []
  },
  {
   "cell_type": "code",
   "execution_count": null,
   "metadata": {},
   "outputs": [],
   "source": []
  },
  {
   "cell_type": "code",
   "execution_count": null,
   "metadata": {},
   "outputs": [],
   "source": []
  }
 ],
 "metadata": {
  "kernelspec": {
   "display_name": "Python 3",
   "language": "python",
   "name": "python3"
  },
  "language_info": {
   "codemirror_mode": {
    "name": "ipython",
    "version": 3
   },
   "file_extension": ".py",
   "mimetype": "text/x-python",
   "name": "python",
   "nbconvert_exporter": "python",
   "pygments_lexer": "ipython3",
   "version": "3.7.6"
  }
 },
 "nbformat": 4,
 "nbformat_minor": 4
}
