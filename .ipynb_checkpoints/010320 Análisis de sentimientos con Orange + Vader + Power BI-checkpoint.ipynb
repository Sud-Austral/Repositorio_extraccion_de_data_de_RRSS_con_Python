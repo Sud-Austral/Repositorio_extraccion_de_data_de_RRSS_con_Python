{
 "cells": [
  {
   "cell_type": "markdown",
   "metadata": {},
   "source": [
    "# 010320 Análisis de sentimientos con Orange + Vader + Power BI"
   ]
  },
  {
   "cell_type": "markdown",
   "metadata": {},
   "source": [
    "https://medium.com/analytics-vidhya/twitter-sentiment-analysis-with-orange-vader-powerbi-part-1-184b693b9d70"
   ]
  },
  {
   "cell_type": "markdown",
   "metadata": {},
   "source": [
    "Sigue estos pasos para construir el flujo de análisis de sentimientos de Orange3:\n",
    "\n",
    "1. El widget de Twitter: expanda el menú desplegable Minería de texto en el panel izquierdo; arrastre y suelte el widget \"Twitter\" en el lienzo.\n",
    "2. La tabla de datos: expanda el menú desplegable Datos en el panel izquierdo; arrastre y suelte el widget \"Tabla de datos\" en el lienzo. Conecte el widget \"Twitter\" a la \"Tabla de datos\" arrastrando cualquier parte del arco de puntos del widget \"Twitter\" al widget \"Tabla de datos\". NB: así es como se crean conexiones entre widgets.\n",
    "3. Guardar datos: expanda el menú desplegable Datos en el panel izquierdo; arrastre y suelte el widget \"Guardar datos\" en el lienzo. Conecte el widget de \"Tabla de datos\" a la \"Guardar datos\".\n",
    "4. El texto de preproceso: expanda el menú desplegable Minería de texto en el panel izquierdo; arrastre y suelte el widget \"Preprocesar texto\" en el lienzo. Conecte el widget \"Twitter\" a él.\n",
    "5. La nube de palabras: expanda el menú desplegable Minería de texto en el panel izquierdo; arrastre y suelte el widget \"Nube de palabras\" en el lienzo. Conecte el widget de \"Texto de preproceso\" a él.\n",
    "6. El análisis de sentimientos: expanda el menú desplegable Minería de texto en el panel izquierdo; arrastre y suelte el widget \"Análisis de sentimiento\" en el lienzo. Conecte el widget de \"Texto de preproceso\" a él."
   ]
  },
  {
   "cell_type": "markdown",
   "metadata": {},
   "source": [
    "#### El widget Twitter\n",
    "\n",
    "Haz doble click en el widget 'Twitter' para abrir la ventana de configuración:\n",
    "\n",
    "Luego haz click en el botón 'Twitter API Key' e ingrese \"Clave API de consumidor\" y \"Clave secreta\".\n",
    "\n",
    "consumer_key='koO4XqTuWFr5ADGcE8kjIkVoU'\n",
    "\n",
    "consumer_secret='3F4sk9qU8zbKBROuLPUUj1uvE2YuhseXPe0ahMQoivg4icN5bL'\n",
    "\n",
    "access_token='1230251564616515586-2KqPsCG2mIJp3irRjENgHpCfQUxTUg'\n",
    "\n",
    "access_token_secret='6PJfMtYGY7w6csiIX9m1S5jFEKNZ3hE9PVkHKeN1S14iM'    \n",
    "\n",
    "Para este tutorial, transmitiremos 1000 tweets donde se mencionó la palabra mbuhari (el nombre oficial de Twitter del presidente nigeriano, el presidente Muhammadu Buhari GCFR). Por lo tanto, si desea seguir este artículo religiosamente, ingrese \"mbuhari\" en el cuadro de lista de palabras de consulta y establezca los tweets máximos en 1000. Haga clic en \"Iniciar\" para iniciar la transmisión de datos desde Twitter. (Tweets transmitidos el 19 de enero de 2020)\n"
   ]
  },
  {
   "cell_type": "markdown",
   "metadata": {},
   "source": [
    "#### El widget de tabla de datos\n",
    "\n",
    "En este workflow, haremos uso de dos widgets de 'Data Table'. Este widget nos permite ver los datos en un formato de tabla. La primera tabla de datos está conectada al widget \"Twitter\". Podemos ver estos datos haciendo doble clic en el widget 'Data Table' correspondiente."
   ]
  },
  {
   "cell_type": "markdown",
   "metadata": {},
   "source": [
    "#### El widget Guardar datos\n",
    "\n",
    "Este widget guarda datos de la tabla de datos como .csv. Haga doble clic en este widget para definir el nombre y la ruta de su archivo.\n",
    "Nota: \"Guardar datos\" solo guardará los datos resaltados en la \"Tabla de datos\". Por lo tanto, para resaltar datos en la tabla de datos, haga doble clic en el widget \"Tabla de datos\" para abrir la ventana \"Tabla de datos\". Haga doble clic en el \"título\" en la esquina superior izquierda de la tabla, toda la tabla de datos se resalta y se guarda automáticamente en .csv"
   ]
  },
  {
   "cell_type": "markdown",
   "metadata": {},
   "source": [
    "#### El texto previo al proceso\n",
    "\n",
    "Esto construye una tubería de procesamiento previo de texto. Nos permite transformar, tokenizar y filtrar nuestros datos. Haga doble clic en el widget para abrir la ventana Preproceso. Queremos transformar nuestros datos manteniendo minúsculas en todos los tweets, eliminando acentos, analizando HTML y eliminando URLs; entonces, marque todas las casillas en la sección Transformación.\n",
    "\n",
    "En Tokenización, solo nos interesa dividirnos por expresiones regulares y mantener solo palabras. Seleccione Regexp y escriba \\ w + como patrón.\n",
    "\n",
    "En Filtrado, eliminaremos las palabras vacías en el idioma inglés. Por lo tanto, marque \"Stopwords\" y configure el idioma en \"English\""
   ]
  },
  {
   "cell_type": "markdown",
   "metadata": {},
   "source": [
    "#### La nube de palabras\n",
    "\n",
    "Este widget es uno de mis elementos visuales de análisis de texto favoritos. Le ayuda a ver las palabras más mencionadas en los datos de texto. Vea cómo se ve nuestra nube:"
   ]
  },
  {
   "cell_type": "markdown",
   "metadata": {},
   "source": [
    "#### El análisis de sentimientos\n",
    "\n",
    "Haga doble clic en este widget y seleccione Vader. VADER utiliza una combinación de una lista de características léxicas (por ejemplo, palabras) que generalmente se etiquetan de acuerdo con su orientación semántica como positivas o negativas. VADER no solo informa sobre el puntaje de Positividad y Negatividad, sino que también nos informa sobre cuán positivo o negativo es un sentimiento."
   ]
  },
  {
   "cell_type": "markdown",
   "metadata": {},
   "source": [
    "La \"Tabla de datos\" que se conecta al widget de \"Análisis de opiniones\" contiene los tweets y la puntuación de opiniones. Esta es la información que nos interesa; Servirá como una base de datos para nuestro tablero interactivo. En la siguiente parte de este tutorial, exploraremos cómo crear un panel de análisis de sentimientos completamente funcional con Power BI."
   ]
  },
  {
   "cell_type": "markdown",
   "metadata": {},
   "source": [
    "# PowerBi\n",
    "\n",
    "To build a dashboard, you have to connect to a data source. The following are the steps you need to follow to connect to a data source:\n",
    "\n",
    "Click on the ‘Get Data’ button.\n",
    "Select the source type; in this tutorial, we are working with a Text/CSV file\n",
    "Locate the data in the file explorer and select it; once you connect successfully to our data source, you will see the window below:\n",
    "    "
   ]
  },
  {
   "cell_type": "markdown",
   "metadata": {},
   "source": [
    "Step 3: Preparing Data for the Load\n",
    "\n",
    "Data doesn’t always come clean and prepared. Before loading data into powerbi, it is always good practice to clean the data in Power Query. To prepare data for load, click the ‘Transform Data’ button."
   ]
  },
  {
   "cell_type": "markdown",
   "metadata": {},
   "source": [
    "Follow these steps to prepare the data for load:\n",
    "\n",
    "    Use the First row as a header: the first row of our data is good to serve as our data table header. On the Home ribbon, click ‘User first row as headers’.\n",
    "    Remove the first 2 rows: we don’t need the first 2 rows on our data table, so let’s get rid of it. On the Home ribbon, click ‘Remove Row’ and click ‘Remove Top Rows’ and input 2 in the Remove Top Row dialogue box as shown in the image below:\n",
    "    3. Change Data Type: To change Data Type, click the data type button on the left side of the column name. We need to change some data to their correct data types; the following columns should be changed to Decimal Numbers, ‘pos’,’ neg’,’ neu’, and ‘compound’; the other numeric columns should be changed to the Whole Number. The Date column should be converted to Date/Time.\n",
    "    4. Create a Conditional Column: Let’s create a conditional column called ‘Sentiment’. The Sentiment column will help us identify the Negative, Positive and Neutral sentiments from the ‘Compound’ score. Follow these steps to create the conditional column.\n",
    "\n",
    "4a. On the Upper ribbon, click ‘Add Column’ and select ‘Conditional Column’\n",
    "4b. Now input the conditions; if ‘compound’ is less than 0, the sentiment is ‘negative’; if ‘compound’ equals 0, the sentiment is ‘neutral’; if ‘compound’ is greater than 0, the sentiment is ‘positive’. See screenshot below:\n",
    "5. Load Data: Now that we prepared our data, let’s go ahead and Load. Click the Close & Apply button to load data."
   ]
  },
  {
   "cell_type": "markdown",
   "metadata": {},
   "source": [
    "Step 4: Building the Dashboard\n",
    "\n",
    "Now that we have our data cleaned, let’s go ahead and build the dashboard.\n",
    "Follow these steps to build the dashboard:\n",
    "\n",
    "1. Change the dashboard background: see snapshot below and follow the steps below:\n",
    "1a. On the Visualisation pane, select the format icon\n",
    "1b. Select the Page background, click the Color and select a black color. Turn color transparency to 0%. The background is now black as shown in the snapshot below:\n",
    "\n"
   ]
  },
  {
   "cell_type": "markdown",
   "metadata": {},
   "source": [
    "2. Visual 1- Table: To import a visual from the visualization pane to the report space, click the visual and you’ll see it on the report space. We will start by bringing the Table visual to the report space.\n",
    "\n",
    "Now that you have the Table in the Report space, do the following:\n",
    "\n",
    "a. On the Data Fields, drag the date column to the value field of the table as shown in the screenshot below\n",
    "\n",
    "We date is being displayed hierarchically; this is not what we want. So, let’s change the Date from hierarchy to normal date as shown in the screenshot below:\n",
    "\n",
    "b. Drag the ‘Author Name’, ‘Content’, ‘Sentiment’, ‘Author Follower Count’ and the ‘Compound’ columns to the Value Field of the Visual. Rename ‘Compound’ as ‘Score’ by double-clicking it on the Value pane\n",
    "\n",
    "Visual 2- Card: To avoid your current visual being changed by the new visual, click on the background of your report before selecting the Card visual. On the Visualisation pane, click the Card visual as shown in the screenshot below:\n",
    "\n",
    "Now that you have the Card in the Report space, drag content into the Visual field. By default, the Card will show the First Sentence, change this by clicking the drop-down arrow on the visual and select ‘count’ as shown below:"
   ]
  },
  {
   "cell_type": "code",
   "execution_count": null,
   "metadata": {},
   "outputs": [],
   "source": []
  },
  {
   "cell_type": "code",
   "execution_count": null,
   "metadata": {},
   "outputs": [],
   "source": []
  },
  {
   "cell_type": "code",
   "execution_count": null,
   "metadata": {},
   "outputs": [],
   "source": []
  },
  {
   "cell_type": "code",
   "execution_count": null,
   "metadata": {},
   "outputs": [],
   "source": []
  },
  {
   "cell_type": "code",
   "execution_count": null,
   "metadata": {},
   "outputs": [],
   "source": []
  },
  {
   "cell_type": "code",
   "execution_count": null,
   "metadata": {},
   "outputs": [],
   "source": []
  },
  {
   "cell_type": "code",
   "execution_count": null,
   "metadata": {},
   "outputs": [],
   "source": []
  },
  {
   "cell_type": "code",
   "execution_count": null,
   "metadata": {},
   "outputs": [],
   "source": []
  },
  {
   "cell_type": "code",
   "execution_count": null,
   "metadata": {},
   "outputs": [],
   "source": []
  },
  {
   "cell_type": "code",
   "execution_count": null,
   "metadata": {},
   "outputs": [],
   "source": []
  }
 ],
 "metadata": {
  "kernelspec": {
   "display_name": "Python 3",
   "language": "python",
   "name": "python3"
  },
  "language_info": {
   "codemirror_mode": {
    "name": "ipython",
    "version": 3
   },
   "file_extension": ".py",
   "mimetype": "text/x-python",
   "name": "python",
   "nbconvert_exporter": "python",
   "pygments_lexer": "ipython3",
   "version": "3.7.6"
  }
 },
 "nbformat": 4,
 "nbformat_minor": 4
}
