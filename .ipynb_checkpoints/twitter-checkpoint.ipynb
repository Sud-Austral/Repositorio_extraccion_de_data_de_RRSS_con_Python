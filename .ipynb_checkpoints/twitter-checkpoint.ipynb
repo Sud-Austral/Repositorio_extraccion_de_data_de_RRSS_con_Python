{
 "cells": [
  {
   "cell_type": "code",
   "execution_count": 29,
   "metadata": {},
   "outputs": [],
   "source": [
    "import tweepy"
   ]
  },
  {
   "cell_type": "markdown",
   "metadata": {},
   "source": [
    "1 Hay que agregar un mensaje de alerta que indique la no existencia de resultados\n",
    "2 hay que desplegar en el excel todas las variables relacionadas al tweet que se pueda"
   ]
  },
  {
   "cell_type": "code",
   "execution_count": 30,
   "metadata": {},
   "outputs": [],
   "source": [
    "from tweepy import OAuthHandler"
   ]
  },
  {
   "cell_type": "code",
   "execution_count": 31,
   "metadata": {},
   "outputs": [],
   "source": [
    "api_key = \"koO4XqTuWFr5ADGcE8kjIkVoU\"\n",
    "api_secret = \"3F4sk9qU8zbKBROuLPUUj1uvE2YuhseXPe0ahMQoivg4icN5bL\"\n",
    "access_token = \"1230251564616515586-2KqPsCG2mIJp3irRjENgHpCfQUxTUg\"\n",
    "access_secret = \"6PJfMtYGY7w6csiIX9m1S5jFEKNZ3hE9PVkHKeN1S14iM\"\n",
    "auth = OAuthHandler(api_key, api_secret)\n",
    "auth.set_access_token(access_token, access_secret)\n",
    "#api = tweepy.API(auth) \n",
    "api = tweepy.API(auth, wait_on_rate_limit=True)"
   ]
  },
  {
   "cell_type": "code",
   "execution_count": 32,
   "metadata": {},
   "outputs": [
    {
     "name": "stdout",
     "output_type": "stream",
     "text": [
      "['El @MMAChile lanzó Tarjeta Digital, que busca reemplazar a las antiguas tarjetas impresas de papel. ¡Hoy este desaf… https://t.co/tlnPQTI6PX', datetime.datetime(2020, 3, 10, 15, 7, 9), b'El @MMAChile lanz\\xc3\\xb3 Tarjeta Digital, que busca reemplazar a las antiguas tarjetas impresas de papel. \\xc2\\xa1Hoy este desaf\\xe2\\x80\\xa6 https://t.co/tlnPQTI6PX', Place(_api=<tweepy.api.API object at 0x000001CC68700E88>, id='009bffed2486be17', url='https://api.twitter.com/1.1/geo/id/009bffed2486be17.json', place_type='city', name='Puente Alto', full_name='Puente Alto, Chile', country_code='CL', country='Chile', contained_within=[], bounding_box=BoundingBox(_api=<tweepy.api.API object at 0x000001CC68700E88>, type='Polygon', coordinates=[[[-70.6319484, -33.6441471], [-70.4867352, -33.6441471], [-70.4867352, -33.542929], [-70.6319484, -33.542929]]]), attributes={})]\n",
      "['@Mad_maxx83 @metrodesantiago No entiendes el punto. Si el ambiente no es seguro, simplemente se cierra, pero abrir… https://t.co/PfhIaSJEKR', datetime.datetime(2020, 3, 6, 1, 58, 56), b'@Mad_maxx83 @metrodesantiago No entiendes el punto. Si el ambiente no es seguro, simplemente se cierra, pero abrir\\xe2\\x80\\xa6 https://t.co/PfhIaSJEKR', Place(_api=<tweepy.api.API object at 0x000001CC68700E88>, id='009bffed2486be17', url='https://api.twitter.com/1.1/geo/id/009bffed2486be17.json', place_type='city', name='Puente Alto', full_name='Puente Alto, Chile', country_code='CL', country='Chile', contained_within=[], bounding_box=BoundingBox(_api=<tweepy.api.API object at 0x000001CC68700E88>, type='Polygon', coordinates=[[[-70.6319484, -33.6441471], [-70.4867352, -33.6441471], [-70.4867352, -33.542929], [-70.6319484, -33.542929]]]), attributes={})]\n",
      "['@metrodesantiago En este momento hay fuego en runa de las entradas a plaza puente alto ....ojo con el ambiente..', datetime.datetime(2020, 3, 4, 23, 10, 30), b'@metrodesantiago En este momento hay fuego en runa de las entradas a plaza puente alto ....ojo con el ambiente..', Place(_api=<tweepy.api.API object at 0x000001CC68700E88>, id='009bffed2486be17', url='https://api.twitter.com/1.1/geo/id/009bffed2486be17.json', place_type='city', name='Puente Alto', full_name='Puente Alto, Chile', country_code='CL', country='Chile', contained_within=[], bounding_box=BoundingBox(_api=<tweepy.api.API object at 0x000001CC68700E88>, type='Polygon', coordinates=[[[-70.6319484, -33.6441471], [-70.4867352, -33.6441471], [-70.4867352, -33.542929], [-70.6319484, -33.542929]]]), attributes={})]\n"
     ]
    }
   ],
   "source": [
    "import datetime\n",
    "import csv\n",
    "csvFile = open('tweets.csv', 'a')\n",
    "\n",
    "filename = 'ana444 '+(datetime.datetime.now().strftime(\"%Y-%m-%d-%H\"))+'.csv'\n",
    "\n",
    "with open (filename, 'a+', newline='') as csvFile:\n",
    "    csvWriter = csv.writer(csvFile)\n",
    "    for tweet in tweepy.Cursor(api.search ,  q = 'ambiente',geocode=\"-33.622096,-70.592343,4.5km\").items():\n",
    "        print ([tweet.text, tweet.created_at, tweet.text.encode('utf-8'), tweet.place])\n",
    "        csvWriter.writerow([tweet.created_at, tweet.text.encode('utf-8'), tweet.place])"
   ]
  },
  {
   "cell_type": "code",
   "execution_count": null,
   "metadata": {},
   "outputs": [],
   "source": []
  },
  {
   "cell_type": "code",
   "execution_count": null,
   "metadata": {},
   "outputs": [],
   "source": []
  }
 ],
 "metadata": {
  "kernelspec": {
   "display_name": "Python 3",
   "language": "python",
   "name": "python3"
  },
  "language_info": {
   "codemirror_mode": {
    "name": "ipython",
    "version": 3
   },
   "file_extension": ".py",
   "mimetype": "text/x-python",
   "name": "python",
   "nbconvert_exporter": "python",
   "pygments_lexer": "ipython3",
   "version": "3.7.4"
  }
 },
 "nbformat": 4,
 "nbformat_minor": 4
}
