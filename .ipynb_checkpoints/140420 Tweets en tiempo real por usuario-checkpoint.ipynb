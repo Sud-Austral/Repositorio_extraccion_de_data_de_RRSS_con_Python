{
 "cells": [
  {
   "cell_type": "markdown",
   "metadata": {},
   "source": [
    "# 140420 Tweets en tiempo real por usuario"
   ]
  },
  {
   "cell_type": "code",
   "execution_count": 23,
   "metadata": {},
   "outputs": [
    {
     "name": "stdout",
     "output_type": "stream",
     "text": [
      "Christian Castro \n",
      "last updated: 2020-04-11 \n",
      "\n",
      "numpy 1.18.2\n",
      "pandas 1.0.1\n",
      "matplotlib 3.1.3\n",
      "Propiedad de DataIntelligence\n"
     ]
    }
   ],
   "source": [
    "%load_ext watermark\n",
    "%watermark -a \"Christian Castro\" -u -d -p numpy,pandas,matplotlib\n",
    "%watermark -a \"Propiedad de DataIntelligence\" "
   ]
  },
  {
   "cell_type": "markdown",
   "metadata": {},
   "source": [
    "1\n",
    "@colmedchile\n",
    "tweets_colegio_medico.csv\n",
    "https://twitter.com/colmedchile/status/1249754648476516352\n",
    "\n",
    "2\n",
    "@ministeriosalud\n",
    "tweets_min_sal.csv\n",
    "\n",
    "3\n",
    "@opsoms\n",
    "tweets_opsoms.csv\n",
    "\n",
    "4\n",
    "@SuperDeSalud\n",
    "tweets_super_de_salud.csv\n",
    "\n",
    "5\n",
    "@ispch\n",
    "tweets_ispch.csv\n",
    "\n",
    "\n",
    "https://raw.githubusercontent.com/Sud-Austral/Repositorio_extraccion_de_data_de_RRSS_con_Python/master/tweets_colegio_medico.csv\n",
    "https://raw.githubusercontent.com/Sud-Austral/Repositorio_extraccion_de_data_de_RRSS_con_Python/master/tweets_min_sal.csv\n",
    "https://raw.githubusercontent.com/Sud-Austral/Repositorio_extraccion_de_data_de_RRSS_con_Python/master\n",
    "/tweets_opsoms.csv\n",
    "https://raw.githubusercontent.com/Sud-Austral/Repositorio_extraccion_de_data_de_RRSS_con_Python/master\n",
    "/tweets_super_de_salud.csv\n",
    "https://raw.githubusercontent.com/Sud-Austral/Repositorio_extraccion_de_data_de_RRSS_con_Python/master\n",
    "/tweets_ispch.csv\n",
    "\n",
    "sochimu: no twitea nada:\n",
    "\n",
    "Fuente:\n",
    "\n",
    "https://github.com/RodolfoFerro/pandas_twitter"
   ]
  },
  {
   "cell_type": "code",
   "execution_count": 1,
   "metadata": {},
   "outputs": [],
   "source": [
    "# General:\n",
    "import tweepy           # To consume Twitter's API\n",
    "import pandas as pd     # To handle data\n",
    "import numpy as np      # For number computing\n",
    "\n",
    "# For plotting and visualization:\n",
    "from IPython.display import display\n",
    "import matplotlib.pyplot as plt\n",
    "import seaborn as sns\n",
    "%matplotlib inline\n",
    "\n",
    "# Declaramos nuestras Twitter API Keys:\n",
    "# Twitter App access keys for @user\n",
    "\n",
    "# Consume:\n",
    "CONSUMER_KEY    = 'koO4XqTuWFr5ADGcE8kjIkVoU'\n",
    "CONSUMER_SECRET = '3F4sk9qU8zbKBROuLPUUj1uvE2YuhseXPe0ahMQoivg4icN5bL'\n",
    "\n",
    "# Access:\n",
    "ACCESS_TOKEN  = '1230251564616515586-2KqPsCG2mIJp3irRjENgHpCfQUxTUg'\n",
    "ACCESS_SECRET = '6PJfMtYGY7w6csiIX9m1S5jFEKNZ3hE9PVkHKeN1S14iM'"
   ]
  },
  {
   "cell_type": "code",
   "execution_count": 2,
   "metadata": {},
   "outputs": [],
   "source": [
    "# We import our access keys:\n",
    "from credentials import *    # This will allow us to use the keys as variables\n",
    "\n",
    "# API's setup:\n",
    "def twitter_setup():\n",
    "    \"\"\"\n",
    "    Utility function to setup the Twitter's API\n",
    "    with our access keys provided.\n",
    "    \"\"\"\n",
    "    # Authentication and access using keys:\n",
    "    auth = tweepy.OAuthHandler(CONSUMER_KEY, CONSUMER_SECRET)\n",
    "    auth.set_access_token(ACCESS_TOKEN, ACCESS_SECRET)\n",
    "\n",
    "    # Return API with authentication:\n",
    "    api = tweepy.API(auth)\n",
    "    return api"
   ]
  },
  {
   "cell_type": "code",
   "execution_count": 3,
   "metadata": {
    "scrolled": true
   },
   "outputs": [
    {
     "name": "stdout",
     "output_type": "stream",
     "text": [
      "ingrese el usuario de Twitter sobre el cual hacer la consulta sin comillas ni arroba:\n",
      "> who\n",
      "Number of tweets extracted: 10.\n",
      "\n",
      "10 recent tweets:\n",
      "\n",
      "RT @pahowho: 🙏 We are grateful with @salomonbeda &amp; the group of Latin American singers 🎶 🎼 that joined forces to record a new version of hi…\n",
      "\n",
      "RT @DrTedros: Without treatment, #ChagasDisease can lead to severe cardiac &amp; digestive complications &amp; become fatal. On #WorldChagasDisease…\n",
      "\n",
      "RT @DrTedros: Today for the first time, the global community is recognising #WorldChagasDiseaseDay.\n",
      "#ChagasDisease is referred to sometimes…\n",
      "\n",
      "WHO updates #COVID19 dashboard with better data visualization 👉 https://t.co/h7o3A0MiHj #coronavirus https://t.co/0kghRaLiPQ\n",
      "\n",
      "RT @WHO: It's the first-ever #WorldChagasDiseaseDay\n",
      "\n",
      "#ChagasDisease is a potentially life-threatening illness, transmitted through contact…\n",
      "\n",
      "The full statement on #Ebola Emergency Committee by @DrTedros 👇 https://t.co/G4CnCWihDN\n",
      "\n",
      "The full #Ebola Emergency Committee statement 👇 \n",
      "https://t.co/bEJ03ApgfU\n",
      "\n",
      ".@DrTedros accepted the recommendation of the #Ebola Emergency Committee that the outbreak in #DRC continues to con… https://t.co/nh41wuFmDe\n",
      "\n",
      "The #Ebola Emergency Committee provided the following advice for WHO ⬇️ https://t.co/viDbMlzeVh\n",
      "\n",
      "The #Ebola Emergency Committee provided the following advice for countries at risk ⬇️ https://t.co/icOOkusG0P\n",
      "\n"
     ]
    }
   ],
   "source": [
    "prompt = '> '\n",
    "tweet=''\n",
    "print(\"ingrese el usuario de Twitter sobre el cual hacer la consulta sin comillas ni arroba:\")\n",
    "usuario_de_consulta = input(prompt)\n",
    "\n",
    "# We create an extractor object:\n",
    "extractor = twitter_setup()\n",
    "\n",
    "# We create a tweet list as follows:\n",
    "tweets = extractor.user_timeline(screen_name=usuario_de_consulta, count=10)\n",
    "print(\"Number of tweets extracted: {}.\\n\".format(len(tweets)))\n",
    "\n",
    "# We print the most recent 5 tweets:\n",
    "print(\"10 recent tweets:\\n\")\n",
    "for tweet in tweets[:10]:\n",
    "    print(tweet.text)\n",
    "    print()\n",
    "    \n",
    "# realDonaldTrump    "
   ]
  },
  {
   "cell_type": "code",
   "execution_count": 4,
   "metadata": {},
   "outputs": [
    {
     "data": {
      "text/html": [
       "<div>\n",
       "<style scoped>\n",
       "    .dataframe tbody tr th:only-of-type {\n",
       "        vertical-align: middle;\n",
       "    }\n",
       "\n",
       "    .dataframe tbody tr th {\n",
       "        vertical-align: top;\n",
       "    }\n",
       "\n",
       "    .dataframe thead th {\n",
       "        text-align: right;\n",
       "    }\n",
       "</style>\n",
       "<table border=\"1\" class=\"dataframe\">\n",
       "  <thead>\n",
       "    <tr style=\"text-align: right;\">\n",
       "      <th></th>\n",
       "      <th>Tweets</th>\n",
       "    </tr>\n",
       "  </thead>\n",
       "  <tbody>\n",
       "    <tr>\n",
       "      <th>0</th>\n",
       "      <td>RT @pahowho: 🙏 We are grateful with @salomonbe...</td>\n",
       "    </tr>\n",
       "    <tr>\n",
       "      <th>1</th>\n",
       "      <td>RT @DrTedros: Without treatment, #ChagasDiseas...</td>\n",
       "    </tr>\n",
       "    <tr>\n",
       "      <th>2</th>\n",
       "      <td>RT @DrTedros: Today for the first time, the gl...</td>\n",
       "    </tr>\n",
       "    <tr>\n",
       "      <th>3</th>\n",
       "      <td>WHO updates #COVID19 dashboard with better dat...</td>\n",
       "    </tr>\n",
       "    <tr>\n",
       "      <th>4</th>\n",
       "      <td>RT @WHO: It's the first-ever #WorldChagasDisea...</td>\n",
       "    </tr>\n",
       "    <tr>\n",
       "      <th>5</th>\n",
       "      <td>The full statement on #Ebola Emergency Committ...</td>\n",
       "    </tr>\n",
       "    <tr>\n",
       "      <th>6</th>\n",
       "      <td>The full #Ebola Emergency Committee statement ...</td>\n",
       "    </tr>\n",
       "    <tr>\n",
       "      <th>7</th>\n",
       "      <td>.@DrTedros accepted the recommendation of the ...</td>\n",
       "    </tr>\n",
       "    <tr>\n",
       "      <th>8</th>\n",
       "      <td>The #Ebola Emergency Committee provided the fo...</td>\n",
       "    </tr>\n",
       "    <tr>\n",
       "      <th>9</th>\n",
       "      <td>The #Ebola Emergency Committee provided the fo...</td>\n",
       "    </tr>\n",
       "  </tbody>\n",
       "</table>\n",
       "</div>"
      ],
      "text/plain": [
       "                                              Tweets\n",
       "0  RT @pahowho: 🙏 We are grateful with @salomonbe...\n",
       "1  RT @DrTedros: Without treatment, #ChagasDiseas...\n",
       "2  RT @DrTedros: Today for the first time, the gl...\n",
       "3  WHO updates #COVID19 dashboard with better dat...\n",
       "4  RT @WHO: It's the first-ever #WorldChagasDisea...\n",
       "5  The full statement on #Ebola Emergency Committ...\n",
       "6  The full #Ebola Emergency Committee statement ...\n",
       "7  .@DrTedros accepted the recommendation of the ...\n",
       "8  The #Ebola Emergency Committee provided the fo...\n",
       "9  The #Ebola Emergency Committee provided the fo..."
      ]
     },
     "metadata": {},
     "output_type": "display_data"
    }
   ],
   "source": [
    "# We create a pandas dataframe as follows:\n",
    "data = pd.DataFrame(data=[tweet.text for tweet in tweets], columns=['Tweets'])\n",
    "\n",
    "# We display the first 10 elements of the dataframe:\n",
    "display(data.head(10))"
   ]
  },
  {
   "cell_type": "code",
   "execution_count": 5,
   "metadata": {},
   "outputs": [
    {
     "name": "stdout",
     "output_type": "stream",
     "text": [
      "['__class__', '__delattr__', '__dict__', '__dir__', '__doc__', '__eq__', '__format__', '__ge__', '__getattribute__', '__getstate__', '__gt__', '__hash__', '__init__', '__init_subclass__', '__le__', '__lt__', '__module__', '__ne__', '__new__', '__reduce__', '__reduce_ex__', '__repr__', '__setattr__', '__sizeof__', '__str__', '__subclasshook__', '__weakref__', '_api', '_json', 'author', 'contributors', 'coordinates', 'created_at', 'destroy', 'entities', 'favorite', 'favorite_count', 'favorited', 'geo', 'id', 'id_str', 'in_reply_to_screen_name', 'in_reply_to_status_id', 'in_reply_to_status_id_str', 'in_reply_to_user_id', 'in_reply_to_user_id_str', 'is_quote_status', 'lang', 'parse', 'parse_list', 'place', 'quoted_status_id', 'quoted_status_id_str', 'retweet', 'retweet_count', 'retweeted', 'retweeted_status', 'retweets', 'source', 'source_url', 'text', 'truncated', 'user']\n"
     ]
    }
   ],
   "source": [
    "# Internal methods of a single tweet object:\n",
    "print(dir(tweets[0]))"
   ]
  },
  {
   "cell_type": "code",
   "execution_count": 6,
   "metadata": {},
   "outputs": [
    {
     "name": "stdout",
     "output_type": "stream",
     "text": [
      "1250137561453953024\n",
      "2020-04-14 19:03:15\n",
      "Twitter Web App\n",
      "0\n",
      "32\n",
      "None\n",
      "None\n",
      "{'hashtags': [], 'symbols': [], 'user_mentions': [{'screen_name': 'pahowho', 'name': 'PAHO/WHO', 'id': 20629893, 'id_str': '20629893', 'indices': [3, 11]}, {'screen_name': 'salomonbeda', 'name': 'Salomón Beda', 'id': 347951243, 'id_str': '347951243', 'indices': [36, 48]}], 'urls': []}\n"
     ]
    }
   ],
   "source": [
    "# We print info from the first tweet:\n",
    "print(tweets[0].id)\n",
    "print(tweets[0].created_at)\n",
    "print(tweets[0].source)\n",
    "print(tweets[0].favorite_count)\n",
    "print(tweets[0].retweet_count)\n",
    "print(tweets[0].geo)\n",
    "print(tweets[0].coordinates)\n",
    "print(tweets[0].entities)"
   ]
  },
  {
   "cell_type": "code",
   "execution_count": 7,
   "metadata": {
    "scrolled": true
   },
   "outputs": [
    {
     "data": {
      "text/html": [
       "<div>\n",
       "<style scoped>\n",
       "    .dataframe tbody tr th:only-of-type {\n",
       "        vertical-align: middle;\n",
       "    }\n",
       "\n",
       "    .dataframe tbody tr th {\n",
       "        vertical-align: top;\n",
       "    }\n",
       "\n",
       "    .dataframe thead th {\n",
       "        text-align: right;\n",
       "    }\n",
       "</style>\n",
       "<table border=\"1\" class=\"dataframe\">\n",
       "  <thead>\n",
       "    <tr style=\"text-align: right;\">\n",
       "      <th></th>\n",
       "      <th>Tweets</th>\n",
       "      <th>ID</th>\n",
       "      <th>Date</th>\n",
       "      <th>Source</th>\n",
       "      <th>Likes</th>\n",
       "      <th>RTs</th>\n",
       "    </tr>\n",
       "  </thead>\n",
       "  <tbody>\n",
       "    <tr>\n",
       "      <th>0</th>\n",
       "      <td>RT @pahowho: 🙏 We are grateful with @salomonbe...</td>\n",
       "      <td>1250137561453953024</td>\n",
       "      <td>2020-04-14 19:03:15</td>\n",
       "      <td>Twitter Web App</td>\n",
       "      <td>0</td>\n",
       "      <td>32</td>\n",
       "    </tr>\n",
       "    <tr>\n",
       "      <th>1</th>\n",
       "      <td>RT @DrTedros: Without treatment, #ChagasDiseas...</td>\n",
       "      <td>1250135652957589506</td>\n",
       "      <td>2020-04-14 18:55:40</td>\n",
       "      <td>Twitter Web App</td>\n",
       "      <td>0</td>\n",
       "      <td>64</td>\n",
       "    </tr>\n",
       "    <tr>\n",
       "      <th>2</th>\n",
       "      <td>RT @DrTedros: Today for the first time, the gl...</td>\n",
       "      <td>1250135646884282381</td>\n",
       "      <td>2020-04-14 18:55:39</td>\n",
       "      <td>Twitter Web App</td>\n",
       "      <td>0</td>\n",
       "      <td>159</td>\n",
       "    </tr>\n",
       "    <tr>\n",
       "      <th>3</th>\n",
       "      <td>WHO updates #COVID19 dashboard with better dat...</td>\n",
       "      <td>1250133051037884416</td>\n",
       "      <td>2020-04-14 18:45:20</td>\n",
       "      <td>Twitter Web App</td>\n",
       "      <td>426</td>\n",
       "      <td>220</td>\n",
       "    </tr>\n",
       "    <tr>\n",
       "      <th>4</th>\n",
       "      <td>RT @WHO: It's the first-ever #WorldChagasDisea...</td>\n",
       "      <td>1250126366701486080</td>\n",
       "      <td>2020-04-14 18:18:46</td>\n",
       "      <td>Twitter Web App</td>\n",
       "      <td>0</td>\n",
       "      <td>686</td>\n",
       "    </tr>\n",
       "    <tr>\n",
       "      <th>5</th>\n",
       "      <td>The full statement on #Ebola Emergency Committ...</td>\n",
       "      <td>1250126077055447040</td>\n",
       "      <td>2020-04-14 18:17:37</td>\n",
       "      <td>Twitter Web App</td>\n",
       "      <td>59</td>\n",
       "      <td>30</td>\n",
       "    </tr>\n",
       "    <tr>\n",
       "      <th>6</th>\n",
       "      <td>The full #Ebola Emergency Committee statement ...</td>\n",
       "      <td>1250125788680269825</td>\n",
       "      <td>2020-04-14 18:16:28</td>\n",
       "      <td>Twitter Web App</td>\n",
       "      <td>79</td>\n",
       "      <td>29</td>\n",
       "    </tr>\n",
       "    <tr>\n",
       "      <th>7</th>\n",
       "      <td>.@DrTedros accepted the recommendation of the ...</td>\n",
       "      <td>1250122996427210752</td>\n",
       "      <td>2020-04-14 18:05:23</td>\n",
       "      <td>Twitter Web App</td>\n",
       "      <td>104</td>\n",
       "      <td>46</td>\n",
       "    </tr>\n",
       "    <tr>\n",
       "      <th>8</th>\n",
       "      <td>The #Ebola Emergency Committee provided the fo...</td>\n",
       "      <td>1250113854979411968</td>\n",
       "      <td>2020-04-14 17:29:03</td>\n",
       "      <td>Twitter Web App</td>\n",
       "      <td>82</td>\n",
       "      <td>31</td>\n",
       "    </tr>\n",
       "    <tr>\n",
       "      <th>9</th>\n",
       "      <td>The #Ebola Emergency Committee provided the fo...</td>\n",
       "      <td>1250113853301690375</td>\n",
       "      <td>2020-04-14 17:29:03</td>\n",
       "      <td>Twitter Web App</td>\n",
       "      <td>44</td>\n",
       "      <td>19</td>\n",
       "    </tr>\n",
       "  </tbody>\n",
       "</table>\n",
       "</div>"
      ],
      "text/plain": [
       "                                              Tweets                   ID  \\\n",
       "0  RT @pahowho: 🙏 We are grateful with @salomonbe...  1250137561453953024   \n",
       "1  RT @DrTedros: Without treatment, #ChagasDiseas...  1250135652957589506   \n",
       "2  RT @DrTedros: Today for the first time, the gl...  1250135646884282381   \n",
       "3  WHO updates #COVID19 dashboard with better dat...  1250133051037884416   \n",
       "4  RT @WHO: It's the first-ever #WorldChagasDisea...  1250126366701486080   \n",
       "5  The full statement on #Ebola Emergency Committ...  1250126077055447040   \n",
       "6  The full #Ebola Emergency Committee statement ...  1250125788680269825   \n",
       "7  .@DrTedros accepted the recommendation of the ...  1250122996427210752   \n",
       "8  The #Ebola Emergency Committee provided the fo...  1250113854979411968   \n",
       "9  The #Ebola Emergency Committee provided the fo...  1250113853301690375   \n",
       "\n",
       "                 Date           Source  Likes  RTs  \n",
       "0 2020-04-14 19:03:15  Twitter Web App      0   32  \n",
       "1 2020-04-14 18:55:40  Twitter Web App      0   64  \n",
       "2 2020-04-14 18:55:39  Twitter Web App      0  159  \n",
       "3 2020-04-14 18:45:20  Twitter Web App    426  220  \n",
       "4 2020-04-14 18:18:46  Twitter Web App      0  686  \n",
       "5 2020-04-14 18:17:37  Twitter Web App     59   30  \n",
       "6 2020-04-14 18:16:28  Twitter Web App     79   29  \n",
       "7 2020-04-14 18:05:23  Twitter Web App    104   46  \n",
       "8 2020-04-14 17:29:03  Twitter Web App     82   31  \n",
       "9 2020-04-14 17:29:03  Twitter Web App     44   19  "
      ]
     },
     "metadata": {},
     "output_type": "display_data"
    }
   ],
   "source": [
    "# We add relevant data:\n",
    "#data['len']  = np.array([len(tweet.text) for tweet in tweets])\n",
    "data['ID'] = np.array([tweet.id for tweet in tweets])\n",
    "data['Date'] = np.array([tweet.created_at for tweet in tweets])\n",
    "data['Source'] = np.array([tweet.source for tweet in tweets])\n",
    "data['Likes']  = np.array([tweet.favorite_count for tweet in tweets])\n",
    "data['RTs']    = np.array([tweet.retweet_count for tweet in tweets])\n",
    "\n",
    "#And to display again the dataframe to see the changes we just...:\n",
    "\n",
    "# Display of first 10 elements from dataframe:\n",
    "display(data.head(10))"
   ]
  },
  {
   "cell_type": "markdown",
   "metadata": {},
   "source": [
    "ahora agregemos un string a la columna ID "
   ]
  },
  {
   "cell_type": "code",
   "execution_count": null,
   "metadata": {},
   "outputs": [],
   "source": [
    "elstringid = 'https://twitter.com/'+usuario_de_consulta+'/status/'\n",
    "data['ID'] = elstringid + data['ID'].astype(str)\n",
    "display(data.head(10))"
   ]
  },
  {
   "cell_type": "code",
   "execution_count": 8,
   "metadata": {},
   "outputs": [],
   "source": [
    "import csv\n",
    "data.to_csv(r'whooo.csv', index = False)"
   ]
  },
  {
   "cell_type": "markdown",
   "metadata": {},
   "source": [
    "#### Ahora se debe borrar el contenido del txt:"
   ]
  },
  {
   "cell_type": "code",
   "execution_count": null,
   "metadata": {},
   "outputs": [],
   "source": []
  },
  {
   "cell_type": "code",
   "execution_count": null,
   "metadata": {},
   "outputs": [],
   "source": []
  }
 ],
 "metadata": {
  "kernelspec": {
   "display_name": "Python 3",
   "language": "python",
   "name": "python3"
  },
  "language_info": {
   "codemirror_mode": {
    "name": "ipython",
    "version": 3
   },
   "file_extension": ".py",
   "mimetype": "text/x-python",
   "name": "python",
   "nbconvert_exporter": "python",
   "pygments_lexer": "ipython3",
   "version": "3.7.6"
  }
 },
 "nbformat": 4,
 "nbformat_minor": 4
}
