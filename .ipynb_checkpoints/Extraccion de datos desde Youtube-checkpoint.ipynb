{
 "cells": [
  {
   "cell_type": "markdown",
   "metadata": {},
   "source": [
    "# Extracción de datos desde Youtube con Python\n",
    "\n",
    " Fuentes: \n",
    " ### Tutorial: Descarga contenido de Youtube con Python\n",
    " https://developers.google.com/youtube/v3/docs/?apix=true\n",
    " ### Ironsistem Software\n",
    " http://ironsistem.com/tutoriales/python/descarga-contenido-de-youtube-con-python/#\n",
    "\n",
    " \n"
   ]
  },
  {
   "cell_type": "markdown",
   "metadata": {},
   "source": [
    "Pafy es una fantástica librería que dotara nuestro intérprete de python con las instrucciones necesarias, \n",
    "para traer información de nuestros enlaces como:\n",
    "\n",
    " 1. Numero de vistas\n",
    " + Duración\n",
    " +   Rating\n",
    " +  Autor\n",
    " +   Thumnails\n",
    " +   Keywords\n",
    " + Playlists\n",
    "\n",
    "También nos permite extraer el audio y vídeo de nuestros enlaces, con la opción de elegir la resolución, \n",
    "bitrate y formatos disponibles. Aunque según el creador, la libreria permite trabajar con enlaces reestringidos, \n",
    "hay algunos videos (como VEVO) que no los puede procesar por completo. Sin embargo, considero que es la mejor \n",
    "libreria que existe para este fin, ademas de que no necesita dependencias.\n",
    "\n",
    "Rescataremos info de un video promocional del Joker:\n",
    "\n"
   ]
  },
  {
   "cell_type": "code",
   "execution_count": 3,
   "metadata": {
    "scrolled": true
   },
   "outputs": [],
   "source": [
    "import pafy\n",
    "enlace = \"https://www.youtube.com/watch?v=zAGVQLHvwOY\"\n",
    "video = pafy.new(enlace)"
   ]
  },
  {
   "cell_type": "markdown",
   "metadata": {},
   "source": [
    "Hay que instalar la librería youtube-dl para evitar que surga un error:\n",
    "pip install --upgrade youtube-dl"
   ]
  },
  {
   "cell_type": "code",
   "execution_count": 4,
   "metadata": {},
   "outputs": [
    {
     "data": {
      "text/plain": [
       "'JOKER - Final Trailer - Now Playing In Theaters'"
      ]
     },
     "execution_count": 4,
     "metadata": {},
     "output_type": "execute_result"
    }
   ],
   "source": [
    "# devuelve el titulo del vídeo\n",
    "video.title"
   ]
  },
  {
   "cell_type": "code",
   "execution_count": 5,
   "metadata": {},
   "outputs": [
    {
     "data": {
      "text/plain": [
       "84048842"
      ]
     },
     "execution_count": 5,
     "metadata": {},
     "output_type": "execute_result"
    }
   ],
   "source": [
    "# Devuelve el número de visitas totales:\n",
    "video.viewcount\n"
   ]
  },
  {
   "cell_type": "code",
   "execution_count": 6,
   "metadata": {},
   "outputs": [
    {
     "data": {
      "text/plain": [
       "'zAGVQLHvwOY'"
      ]
     },
     "execution_count": 6,
     "metadata": {},
     "output_type": "execute_result"
    }
   ],
   "source": [
    "video.videoid"
   ]
  },
  {
   "cell_type": "code",
   "execution_count": 7,
   "metadata": {},
   "outputs": [
    {
     "data": {
      "text/plain": [
       "1330172"
      ]
     },
     "execution_count": 7,
     "metadata": {},
     "output_type": "execute_result"
    }
   ],
   "source": [
    "video.likes"
   ]
  },
  {
   "cell_type": "code",
   "execution_count": 80,
   "metadata": {},
   "outputs": [
    {
     "data": {
      "text/plain": [
       "'WarnerBrosPictures'"
      ]
     },
     "execution_count": 80,
     "metadata": {},
     "output_type": "execute_result"
    }
   ],
   "source": [
    "# devuelve el nombre de usuario\n",
    "video.username"
   ]
  },
  {
   "cell_type": "code",
   "execution_count": 81,
   "metadata": {},
   "outputs": [
    {
     "data": {
      "text/plain": [
       "4.8940935"
      ]
     },
     "execution_count": 81,
     "metadata": {},
     "output_type": "execute_result"
    }
   ],
   "source": [
    "video.rating"
   ]
  },
  {
   "cell_type": "code",
   "execution_count": 82,
   "metadata": {},
   "outputs": [
    {
     "data": {
      "text/plain": [
       "'00:02:24'"
      ]
     },
     "execution_count": 82,
     "metadata": {},
     "output_type": "execute_result"
    }
   ],
   "source": [
    "video.duration"
   ]
  },
  {
   "cell_type": "code",
   "execution_count": 83,
   "metadata": {
    "scrolled": true
   },
   "outputs": [
    {
     "data": {
      "text/plain": [
       "36113"
      ]
     },
     "execution_count": 83,
     "metadata": {},
     "output_type": "execute_result"
    }
   ],
   "source": [
    "# devuelve el numero de dislikes\n",
    "video.dislikes"
   ]
  },
  {
   "cell_type": "code",
   "execution_count": 84,
   "metadata": {},
   "outputs": [
    {
     "data": {
      "text/plain": [
       "1327842"
      ]
     },
     "execution_count": 84,
     "metadata": {},
     "output_type": "execute_result"
    }
   ],
   "source": [
    "# devuelve el numero de likes\n",
    "video.likes"
   ]
  },
  {
   "cell_type": "code",
   "execution_count": 85,
   "metadata": {},
   "outputs": [],
   "source": [
    "# entrega un error la siguiente línea:\n",
    "# video.description"
   ]
  },
  {
   "cell_type": "markdown",
   "metadata": {},
   "source": [
    "GdataError: Youtube Error 403: Access Not Configured. YouTube Data API has not been used in project 422897895433 before \n",
    "or it is disabled. \n",
    "Enable it by visiting \n",
    "\n",
    "GdataError: Error de Youtube 403: Acceso no configurado. La API de datos de YouTube no se ha utilizado en el proyecto\n",
    "422897895433 antes o está deshabilitado.\n",
    "Habilítelo visitando:\n",
    "\n",
    "https://console.developers.google.com/apis/api/youtube.googleapis.com/overview?project=422897895433 y reintente. \n",
    "If you enabled this API recently, wait a few minutes for the action to propagate to our systems and retry."
   ]
  },
  {
   "cell_type": "code",
   "execution_count": 86,
   "metadata": {},
   "outputs": [
    {
     "data": {
      "text/plain": [
       "normal:mp4@1280x720"
      ]
     },
     "execution_count": 86,
     "metadata": {},
     "output_type": "execute_result"
    }
   ],
   "source": [
    "video.getbest()"
   ]
  },
  {
   "cell_type": "code",
   "execution_count": 87,
   "metadata": {},
   "outputs": [
    {
     "name": "stdout",
     "output_type": "stream",
     "text": [
      "\n"
     ]
    }
   ],
   "source": [
    "archivo = video.getbest() # o video.streams[0]\n",
    "archivo.download()\n"
   ]
  },
  {
   "cell_type": "code",
   "execution_count": 88,
   "metadata": {},
   "outputs": [
    {
     "data": {
      "text/plain": [
       "'160k'"
      ]
     },
     "execution_count": 88,
     "metadata": {},
     "output_type": "execute_result"
    }
   ],
   "source": [
    "audio = video.getbestaudio()\n",
    "audio.bitrate"
   ]
  },
  {
   "cell_type": "code",
   "execution_count": 89,
   "metadata": {},
   "outputs": [
    {
     "data": {
      "text/plain": [
       "[audio:webm@50k, audio:webm@70k, audio:m4a@128k, audio:webm@160k]"
      ]
     },
     "execution_count": 89,
     "metadata": {},
     "output_type": "execute_result"
    }
   ],
   "source": [
    "audio = video.audiostreams\n",
    "audio"
   ]
  },
  {
   "cell_type": "code",
   "execution_count": 90,
   "metadata": {},
   "outputs": [
    {
     "name": "stdout",
     "output_type": "stream",
     "text": [
      "  874,905.0 Bytes [100.00%] received. Rate: [4034 KB/s].  ETA: [0 secs]    \n"
     ]
    }
   ],
   "source": [
    "audio\n",
    "audio[0].download()"
   ]
  }
 ],
 "metadata": {
  "kernelspec": {
   "display_name": "Python 3",
   "language": "python",
   "name": "python3"
  },
  "language_info": {
   "codemirror_mode": {
    "name": "ipython",
    "version": 3
   },
   "file_extension": ".py",
   "mimetype": "text/x-python",
   "name": "python",
   "nbconvert_exporter": "python",
   "pygments_lexer": "ipython3",
   "version": "3.7.3"
  }
 },
 "nbformat": 4,
 "nbformat_minor": 2
}
