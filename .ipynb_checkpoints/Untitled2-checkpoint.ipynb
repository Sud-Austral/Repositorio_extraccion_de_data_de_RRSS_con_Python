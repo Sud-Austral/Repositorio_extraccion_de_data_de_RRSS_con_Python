{
 "cells": [
  {
   "cell_type": "markdown",
   "metadata": {},
   "source": [
    "borrar"
   ]
  },
  {
   "cell_type": "code",
   "execution_count": null,
   "metadata": {},
   "outputs": [],
   "source": [
    "# agregar el despliegue de un mensaje en el caso de no \n",
    "# encontrar tweets según los para metros especificados\n",
    "\n",
    "# Extraer tweets que contengan la palabra \n",
    "#IsladeMaipo dentro del 18 de octubre al 18 de marzo. [Considerar ubicación geográfica] \n",
    "tweet=''\n",
    "import datetime\n",
    "import csv\n",
    "csvFile = open('tweet.csv', 'a')\n",
    "\n",
    "filename = 'alcalde001_'+(datetime.datetime.now().strftime(\"%Y-%m-%d-%H\"))+'.csv'\n",
    "\n",
    "with open (filename, 'a+', newline='') as csvFile:\n",
    "    csvWriter = csv.writer(csvFile)\n",
    "    for tweet in tweepy.Cursor(api.search , \n",
    "                   since='2019-10-18', q = 'Carlos Adasme, carlos adasme',\n",
    "                               geocode=\"-33.746827,-70.900098,0.5km\").items():\n",
    "        print ([tweet.created_at, tweet.text.encode('utf-8'), tweet.id, tweet.place])\n",
    "        \n",
    "        csvWriter.writerow([tweet.created_at, \n",
    "                            tweet.text.encode('utf-8'), \n",
    "                            tweet.id, \n",
    "                            tweet.place])\n",
    "    if tweet == '':\n",
    "        print('No hay nada que mostrar')"
   ]
  }
 ],
 "metadata": {
  "kernelspec": {
   "display_name": "Python 3",
   "language": "python",
   "name": "python3"
  },
  "language_info": {
   "codemirror_mode": {
    "name": "ipython",
    "version": 3
   },
   "file_extension": ".py",
   "mimetype": "text/x-python",
   "name": "python",
   "nbconvert_exporter": "python",
   "pygments_lexer": "ipython3",
   "version": "3.7.4"
  }
 },
 "nbformat": 4,
 "nbformat_minor": 4
}
