{
 "cells": [
  {
   "cell_type": "markdown",
   "metadata": {},
   "source": [
    "# Referencia API de Tweepy 6 de Marzo"
   ]
  },
  {
   "cell_type": "markdown",
   "metadata": {},
   "source": [
    "## tweepy.api - Contenedor API de Twitter"
   ]
  },
  {
   "cell_type": "code",
   "execution_count": 1,
   "metadata": {},
   "outputs": [],
   "source": [
    "import tweepy\n",
    "import csv\n",
    "from tweepy import OAuthHandler\n",
    "# Ahora procedemos a autenticarnos usando el API Key, el API secret Key, el Access token y el \n",
    "# Access token secret que se generaron al crear nuestra aplicación en Twitter y\n",
    "# reemplazamos las equis (x) tal como se indica en el post\n",
    "api_key = \"SN2i3HKfTrW1gjN5JEyyfitSj\"\n",
    "api_secret = \"BatOpOsZLR5UnHtqqVMCczXgquCO1jBLobHBv7wxPyyQzc4QaM\"\n",
    "access_token = \"1230251564616515586-WVHPqLTN0mryB36qMPkROmeYRUILZR\"\n",
    "access_secret = \"KbS2sanV9Z6htqo2tM3yVFZGy86hgXnC5spJuXF3fg3sc\"\n",
    "auth = OAuthHandler(api_key, api_secret)\n",
    "auth.set_access_token(access_token, access_secret)\n",
    "api = tweepy.API(auth) \n",
    "\n",
    "\n"
   ]
  },
  {
   "cell_type": "markdown",
   "metadata": {},
   "source": [
    "### 1 Métodos de línea de tiempo"
   ]
  },
  {
   "cell_type": "markdown",
   "metadata": {},
   "source": [
    "1 API.home_timeline ([since_id] [, max_id] [, count] [, page])\n",
    "\n",
    "    Devuelve los 20 estados más recientes, incluidos los retuits, publicados por el usuario que autentica y los amigos de ese usuario. Este es el equivalente de /timeline/home en la Web.\n",
    "    \n",
    "    Parámetros:\n",
    "\n",
    "        since_id: devuelve solo estados con un ID mayor que (es decir, más reciente que) el ID especificado.\n",
    "        max_id: devuelve solo estados con una ID menor (es decir, anterior a) o igual a la ID especificada.\n",
    "        recuento: el número de resultados para intentar recuperar por página.\n",
    "        page: especifica la página de resultados para recuperar. Nota: hay límites de paginación.\n",
    "\n",
    "    Tipo de devolución: lista de objetos de estado\n",
    "    \n",
    "    devuelve los primeros veinte tweets en la línea de tiempo de su home. Estos tweets pueden ser de sus amigos, seguidores o usuarios que Twitter ha decidido promocionar en su línea de tiempo. Aquí, imprime el nombre del autor, el identificador de Twitter y el texto de su tweet.\n",
    "\n"
   ]
  },
  {
   "cell_type": "code",
   "execution_count": 2,
   "metadata": {},
   "outputs": [],
   "source": [
    "tweets = api.home_timeline()\n",
    "\n",
    "for tweet in tweets:\n",
    "    print('{real_name} (@{name}) said {tweet}\\n\\n'.format(\n",
    "        real_name=tweet.author.name, name=tweet.author.screen_name,\n",
    "        tweet=tweet.text))"
   ]
  },
  {
   "cell_type": "code",
   "execution_count": 3,
   "metadata": {},
   "outputs": [
    {
     "data": {
      "text/plain": [
       "''"
      ]
     },
     "execution_count": 3,
     "metadata": {},
     "output_type": "execute_result"
    }
   ],
   "source": [
    "me = api.me()\n",
    "\n",
    "me.screen_name\n",
    "me.name\n",
    "me.description\n"
   ]
  },
  {
   "cell_type": "markdown",
   "metadata": {},
   "source": [
    "2 API.statuses_lookup(id_ [, include_entities] [, trim_user] [, map _] [, include_ext_alt_text] [, include_card_uri])\n",
    "\n",
    "    Devuelve objetos Tweet completos para hasta 100 tweets por solicitud, especificados por el parámetro id_.\n",
    "    Parámetros:\n",
    "\n",
    "        id_: una lista de ID de Tweet para buscar, hasta 100\n",
    "        include_entities: el nodo de entidades no se incluirá cuando se establece en falso. El valor predeterminado es verdadero.\n",
    "        trim_user: un booleano que indica si se deben proporcionar ID de usuario, en lugar de objetos de usuario completos. Por defecto es False.\n",
    "        map_ - Un booleano que indica si se incluyen o no tweets que no se pueden mostrar. Por defecto es False.\n",
    "        include_ext_alt_text: si se ha agregado texto alternativo a cualquier entidad multimedia adjunta, este parámetro devolverá un valor ext_alt_text en la clave de nivel superior para la entidad multimedia.\n",
    "        include_card_uri: un booleano que indica si el Tweet recuperado debe incluir un atributo card_uri cuando hay una tarjeta de anuncios adjunta al Tweet y cuando esa tarjeta se adjuntó utilizando el valor card_uri.\n",
    "\n",
    "    Tipo de devolución:\n",
    "\n",
    "    lista de objetos de estado"
   ]
  },
  {
   "cell_type": "code",
   "execution_count": 4,
   "metadata": {},
   "outputs": [],
   "source": [
    "users = [\"hillaryclinton\", \"realdonaldtrump\"]\n",
    "\n",
    "tweets = api.statuses_lookup(users) # id_list is the list of tweet ids\n",
    "tweet_txt = []\n",
    "for i in tweets:\n",
    "    tweet_txt.append(i.text)"
   ]
  },
  {
   "cell_type": "markdown",
   "metadata": {},
   "source": [
    "Fuentes:\n",
    "    \n",
    "    tweepy DocumentationRelease 3.8.0, Joshua Roesslein\n",
    "    https://readthedocs.org/projects/tweepy/downloads/pdf/latest/"
   ]
  },
  {
   "cell_type": "markdown",
   "metadata": {},
   "source": [
    "3 API.user_timeline ([id / user_id / screen_name] [, since_id] [, max_id] [, count] [, page])\n",
    "\n",
    "    Devuelve los 20 estados más recientes publicados por el usuario de autenticación o el usuario especificado. También es posible solicitar la línea de tiempo de otro usuario a través del parámetro id.\n",
    "    Parámetros:\n",
    "\n",
    "        id: especifica la ID o el nombre de usuario del usuario.\n",
    "        user_id: especifica la ID del usuario. Útil para la desambiguación cuando una identificación de usuario válida también es un nombre de pantalla válido.\n",
    "        nombre_pantalla: especifica el nombre de pantalla del usuario. Útil para la desambiguación cuando un nombre de pantalla válido también es una ID de usuario.\n",
    "        since_id: devuelve solo estados con un ID mayor que (es decir, más reciente que) el ID especificado.\n",
    "        max_id: devuelve solo estados con una ID menor (es decir, anterior a) o igual a la ID especificada.\n",
    "        recuento: el número de resultados para intentar recuperar por página.\n",
    "        page: especifica la página de resultados para recuperar. Nota: hay límites de paginación.\n",
    "\n",
    "    Tipo de devolución: lista de objetos de estado\n",
    "\n"
   ]
  },
  {
   "cell_type": "code",
   "execution_count": 5,
   "metadata": {},
   "outputs": [
    {
     "name": "stdout",
     "output_type": "stream",
     "text": [
      "{'created_at': 'Fri Mar 06 17:58:03 +0000 2020', 'id': 1235988025680760838, 'id_str': '1235988025680760838', 'text': \"@mr_taylor Congratulations, Mike! We're lucky to have you on the team. And thank you for registering to vote immediately. :)\", 'truncated': False, 'entities': {'hashtags': [], 'symbols': [], 'user_mentions': [{'screen_name': 'mr_taylor', 'name': 'Mike Taylor', 'id': 12886082, 'id_str': '12886082', 'indices': [0, 10]}], 'urls': []}, 'source': '<a href=\"https://mobile.twitter.com\" rel=\"nofollow\">Twitter Web App</a>', 'in_reply_to_status_id': 1235978846559703043, 'in_reply_to_status_id_str': '1235978846559703043', 'in_reply_to_user_id': 12886082, 'in_reply_to_user_id_str': '12886082', 'in_reply_to_screen_name': 'mr_taylor', 'user': {'id': 1339835893, 'id_str': '1339835893', 'name': 'Hillary Clinton', 'screen_name': 'HillaryClinton', 'location': 'New York, NY', 'description': '2016 Democratic Nominee, SecState, Senator, hair icon. Mom, Wife, Grandma x3, lawyer, advocate, fan of walks in the woods & standing up for our democracy.', 'url': 'https://t.co/99DVW9q1yt', 'entities': {'url': {'urls': [{'url': 'https://t.co/99DVW9q1yt', 'expanded_url': 'http://onwardtogether.org', 'display_url': 'onwardtogether.org', 'indices': [0, 23]}]}, 'description': {'urls': []}}, 'protected': False, 'followers_count': 26849769, 'friends_count': 818, 'listed_count': 42907, 'created_at': 'Tue Apr 09 18:04:35 +0000 2013', 'favourites_count': 1117, 'utc_offset': None, 'time_zone': None, 'geo_enabled': False, 'verified': True, 'statuses_count': 11448, 'lang': None, 'contributors_enabled': False, 'is_translator': False, 'is_translation_enabled': False, 'profile_background_color': '0057B8', 'profile_background_image_url': 'http://abs.twimg.com/images/themes/theme1/bg.png', 'profile_background_image_url_https': 'https://abs.twimg.com/images/themes/theme1/bg.png', 'profile_background_tile': False, 'profile_image_url': 'http://pbs.twimg.com/profile_images/1051914952192057344/xwZDe7zt_normal.jpg', 'profile_image_url_https': 'https://pbs.twimg.com/profile_images/1051914952192057344/xwZDe7zt_normal.jpg', 'profile_banner_url': 'https://pbs.twimg.com/profile_banners/1339835893/1539631689', 'profile_link_color': '0057B8', 'profile_sidebar_border_color': '000000', 'profile_sidebar_fill_color': '000000', 'profile_text_color': '000000', 'profile_use_background_image': False, 'has_extended_profile': True, 'default_profile': False, 'default_profile_image': False, 'following': False, 'follow_request_sent': False, 'notifications': False, 'translator_type': 'none'}, 'geo': None, 'coordinates': None, 'place': None, 'contributors': None, 'is_quote_status': False, 'retweet_count': 14, 'favorite_count': 110, 'favorited': False, 'retweeted': False, 'lang': 'en'}\n"
     ]
    }
   ],
   "source": [
    "\n",
    "\n",
    "stuff = api.user_timeline(screen_name = 'hillaryclinton', count = 1, include_rts = True)\n",
    "# for status in stuff:\n",
    "#    print (status.author, status.user)\n",
    "for status in stuff:\n",
    "    print (status._json)\n",
    "# print (stuff)"
   ]
  },
  {
   "cell_type": "markdown",
   "metadata": {},
   "source": [
    "4 API.retweets_of_me ([since_id] [, max_id] [, count] [, page])\n",
    "\n",
    "    Devuelve los 20 tweets más recientes del usuario autenticado que otros han retuiteado.\n",
    "    Parámetros:\n",
    "\n",
    "        since_id: devuelve solo estados con un ID mayor que (es decir, más reciente que) el ID especificado.\n",
    "        max_id: devuelve solo estados con una ID menor (es decir, anterior a) o igual a la ID especificada.\n",
    "        recuento: el número de resultados para intentar recuperar por página.\n",
    "        page: especifica la página de resultados para recuperar. Nota: hay límites de paginación.\n",
    "\n",
    "    Tipo de devolución: lista de objetos de estado\n",
    "\n",
    "\n"
   ]
  },
  {
   "cell_type": "markdown",
   "metadata": {},
   "source": [
    "5 API.mentions_timeline ([since_id] [, max_id] [, count])\n",
    "\n",
    "    Devuelve las 20 menciones más recientes, incluidos los retuits.\n",
    "    \n",
    "    Parámetros:\n",
    "\n",
    "        since_id: devuelve solo estados con un ID mayor que (es decir, más reciente que) el ID especificado.\n",
    "        max_id: devuelve solo estados con una ID menor (es decir, anterior a) o igual a la ID especificada.\n",
    "        recuento: el número de resultados para intentar recuperar por página.\n",
    "\n",
    "    Tipo de devolución:lista de objetos de estado"
   ]
  },
  {
   "cell_type": "code",
   "execution_count": 6,
   "metadata": {},
   "outputs": [],
   "source": [
    "for mentions in tweepy.Cursor(api.mentions_timeline).items():\n",
    "\n",
    "    print (mentions.text)"
   ]
  },
  {
   "cell_type": "markdown",
   "metadata": {},
   "source": [
    "### 2 Métodos de estado"
   ]
  },
  {
   "cell_type": "markdown",
   "metadata": {},
   "source": [
    "1 API.get_status (id [, trim_user] [, include_my_retweet] [, include_entities] [, include_ext_alt_text] [, include_card_uri])\n",
    "\n",
    "    Devuelve un solo estado especificado por el parámetro ID.\n",
    "    \n",
    "    Parámetros:\n",
    "\n",
    "        id: la identificación numérica del estado.\n",
    "        trim_user: un booleano que indica si se deben proporcionar ID de usuario, en lugar de objetos de usuario completos. Por defecto es False.\n",
    "        include_my_retweet: un booleano que indica si los Tweets devueltos que han sido retuiteados por el usuario autenticador deben incluir un nodo current_user_retweet adicional, que contenga el ID del estado de origen del retweet.\n",
    "        include_entities: el nodo de entidades no se incluirá cuando se establece en falso. El valor predeterminado es verdadero.\n",
    "        include_ext_alt_text: si se ha agregado texto alternativo a cualquier entidad multimedia adjunta, este parámetro devolverá un valor ext_alt_text en la clave de nivel superior para la entidad multimedia.\n",
    "        include_card_uri: un booleano que indica si el Tweet recuperado debe incluir un atributo card_uri cuando hay una tarjeta de anuncios adjunta al Tweet y cuando esa tarjeta se adjuntó utilizando el valor card_uri.\n",
    "\n",
    "    Tipo de devolución: Objeto de estado"
   ]
  },
  {
   "cell_type": "code",
   "execution_count": 7,
   "metadata": {},
   "outputs": [],
   "source": [
    "\n",
    "tweets = api.statuses_lookup('897135420198223872') # id_list is the list of tweet ids\n",
    "tweet_txt = []\n",
    "for i in tweets:\n",
    "    tweet_txt.append(i.text)"
   ]
  },
  {
   "cell_type": "code",
   "execution_count": null,
   "metadata": {},
   "outputs": [],
   "source": []
  }
 ],
 "metadata": {
  "kernelspec": {
   "display_name": "Python 3",
   "language": "python",
   "name": "python3"
  },
  "language_info": {
   "codemirror_mode": {
    "name": "ipython",
    "version": 3
   },
   "file_extension": ".py",
   "mimetype": "text/x-python",
   "name": "python",
   "nbconvert_exporter": "python",
   "pygments_lexer": "ipython3",
   "version": "3.7.4"
  }
 },
 "nbformat": 4,
 "nbformat_minor": 2
}
