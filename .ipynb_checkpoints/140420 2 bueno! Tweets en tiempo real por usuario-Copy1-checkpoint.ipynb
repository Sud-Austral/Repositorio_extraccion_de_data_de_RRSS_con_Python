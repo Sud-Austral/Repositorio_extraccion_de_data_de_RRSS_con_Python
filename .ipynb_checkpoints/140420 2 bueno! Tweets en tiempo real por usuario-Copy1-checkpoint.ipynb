{
 "cells": [
  {
   "cell_type": "markdown",
   "metadata": {},
   "source": [
    "# 140420 Tweets por usuario\n",
    "\n",
    "código excelente!"
   ]
  },
  {
   "cell_type": "code",
   "execution_count": 23,
   "metadata": {},
   "outputs": [
    {
     "name": "stdout",
     "output_type": "stream",
     "text": [
      "Christian Castro \n",
      "last updated: 2020-04-11 \n",
      "\n",
      "numpy 1.18.2\n",
      "pandas 1.0.1\n",
      "matplotlib 3.1.3\n",
      "Propiedad de DataIntelligence\n"
     ]
    }
   ],
   "source": [
    "%load_ext watermark\n",
    "%watermark -a \"Christian Castro\" -u -d -p numpy,pandas,matplotlib\n",
    "%watermark -a \"Propiedad de DataIntelligence\" "
   ]
  },
  {
   "cell_type": "markdown",
   "metadata": {},
   "source": [
    "1\n",
    "@colmedchile\n",
    "tweets_colegio_medico.csv\n",
    "https://twitter.com/colmedchile/status/1249754648476516352\n",
    "\n",
    "2\n",
    "@ministeriosalud\n",
    "tweets_min_sal.csv\n",
    "\n",
    "3\n",
    "@opsoms\n",
    "tweets_opsoms.csv\n",
    "\n",
    "4\n",
    "@SuperDeSalud\n",
    "tweets_super_de_salud.csv\n",
    "\n",
    "5\n",
    "@ispch\n",
    "tweets_ispch.csv\n",
    "\n",
    "\n",
    "https://raw.githubusercontent.com/Sud-Austral/Repositorio_extraccion_de_data_de_RRSS_con_Python/master/tweets_who.csv\n",
    "https://raw.githubusercontent.com/Sud-Austral/Repositorio_extraccion_de_data_de_RRSS_con_Python/master/tweets_colegio_medico.csv\n",
    "https://raw.githubusercontent.com/Sud-Austral/Repositorio_extraccion_de_data_de_RRSS_con_Python/master/tweets_min_sal.csv\n",
    "\n",
    "sochimu\n",
    "\n",
    "https://raw.githubusercontent.com/Sud-Austral/Repositorio_extraccion_de_data_de_RRSS_con_Python/master/reversed_tweets_colegio_medico.csv\n",
    "https://raw.githubusercontent.com/Sud-Austral/Repositorio_extraccion_de_data_de_RRSS_con_Python/master/reversed_twitter_min_sal.csv\n",
    "https://raw.githubusercontent.com/Sud-Austral/Repositorio_extraccion_de_data_de_RRSS_con_Python/master/reversed_twitter_who.csv\n",
    "\n",
    "Fuente:\n",
    "\n",
    "https://github.com/RodolfoFerro/pandas_twitter"
   ]
  },
  {
   "cell_type": "code",
   "execution_count": null,
   "metadata": {},
   "outputs": [],
   "source": [
    "# General:\n",
    "import tweepy           # To consume Twitter's API\n",
    "import pandas as pd     # To handle data\n",
    "import numpy as np      # For number computing\n",
    "\n",
    "# For plotting and visualization:\n",
    "from IPython.display import display\n",
    "import matplotlib.pyplot as plt\n",
    "import seaborn as sns\n",
    "%matplotlib inline\n",
    "\n",
    "# Declaramos nuestras Twitter API Keys:\n",
    "# Twitter App access keys for @user\n",
    "\n",
    "# Consume:\n",
    "CONSUMER_KEY    = 'koO4XqTuWFr5ADGcE8kjIkVoU'\n",
    "CONSUMER_SECRET = '3F4sk9qU8zbKBROuLPUUj1uvE2YuhseXPe0ahMQoivg4icN5bL'\n",
    "\n",
    "# Access:\n",
    "ACCESS_TOKEN  = '1230251564616515586-2KqPsCG2mIJp3irRjENgHpCfQUxTUg'\n",
    "ACCESS_SECRET = '6PJfMtYGY7w6csiIX9m1S5jFEKNZ3hE9PVkHKeN1S14iM'"
   ]
  },
  {
   "cell_type": "code",
   "execution_count": null,
   "metadata": {},
   "outputs": [],
   "source": [
    "# We import our access keys:\n",
    "from credentials import *    # This will allow us to use the keys as variables\n",
    "\n",
    "# API's setup:\n",
    "def twitter_setup():\n",
    "    \"\"\"\n",
    "    Utility function to setup the Twitter's API\n",
    "    with our access keys provided.\n",
    "    \"\"\"\n",
    "    # Authentication and access using keys:\n",
    "    auth = tweepy.OAuthHandler(CONSUMER_KEY, CONSUMER_SECRET)\n",
    "    auth.set_access_token(ACCESS_TOKEN, ACCESS_SECRET)\n",
    "\n",
    "    # Return API with authentication:\n",
    "    api = tweepy.API(auth)\n",
    "    return api"
   ]
  },
  {
   "cell_type": "code",
   "execution_count": null,
   "metadata": {
    "scrolled": true
   },
   "outputs": [],
   "source": [
    "prompt = '> '\n",
    "tweet=''\n",
    "print(\"ingrese el usuario de Twitter sobre el cual hacer la consulta sin comillas ni arroba:\")\n",
    "usuario_de_consulta = input(prompt)\n",
    "\n",
    "# We create an extractor object:\n",
    "extractor = twitter_setup()\n",
    "\n",
    "# We create a tweet list as follows:\n",
    "tweets = extractor.user_timeline(screen_name=usuario_de_consulta, count=10)\n",
    "print(\"Number of tweets extracted: {}.\\n\".format(len(tweets)))\n",
    "\n",
    "# We print the most recent 5 tweets:\n",
    "print(\"10 recent tweets:\\n\")\n",
    "for tweet in tweets[:10]:\n",
    "    print(tweet.text)\n",
    "    print()\n",
    "    \n",
    "# realDonaldTrump    "
   ]
  },
  {
   "cell_type": "code",
   "execution_count": null,
   "metadata": {},
   "outputs": [],
   "source": [
    "# We create a pandas dataframe as follows:\n",
    "data = pd.DataFrame(data=[tweet.text for tweet in tweets], columns=['Tweets'])\n",
    "\n",
    "# We display the first 10 elements of the dataframe:\n",
    "display(data.head(10))"
   ]
  },
  {
   "cell_type": "code",
   "execution_count": null,
   "metadata": {},
   "outputs": [],
   "source": [
    "# Internal methods of a single tweet object:\n",
    "print(dir(tweets[0]))"
   ]
  },
  {
   "cell_type": "code",
   "execution_count": null,
   "metadata": {},
   "outputs": [],
   "source": [
    "# We print info from the first tweet:\n",
    "print(tweets[0].id)\n",
    "print(tweets[0].created_at)\n",
    "print(tweets[0].source)\n",
    "print(tweets[0].favorite_count)\n",
    "print(tweets[0].retweet_count)\n",
    "print(tweets[0].geo)\n",
    "print(tweets[0].coordinates)\n",
    "print(tweets[0].entities)"
   ]
  },
  {
   "cell_type": "code",
   "execution_count": null,
   "metadata": {
    "scrolled": true
   },
   "outputs": [],
   "source": [
    "# We add relevant data:\n",
    "#data['len']  = np.array([len(tweet.text) for tweet in tweets])\n",
    "data['ID'] = np.array([tweet.id for tweet in tweets])\n",
    "data['Date'] = np.array([tweet.created_at for tweet in tweets])\n",
    "data['Source'] = np.array([tweet.source for tweet in tweets])\n",
    "data['Likes']  = np.array([tweet.favorite_count for tweet in tweets])\n",
    "data['RTs']    = np.array([tweet.retweet_count for tweet in tweets])\n",
    "\n",
    "#And to display again the dataframe to see the changes we just...:\n",
    "\n",
    "# Display of first 10 elements from dataframe:\n",
    "display(data.head(10))"
   ]
  },
  {
   "cell_type": "markdown",
   "metadata": {},
   "source": [
    "ahora agregemos un string a la columna ID "
   ]
  },
  {
   "cell_type": "code",
   "execution_count": null,
   "metadata": {},
   "outputs": [],
   "source": [
    "elstringid = 'https://twitter.com/'+usuario_de_consulta+'/status/'\n",
    "data['ID'] = elstringid + data['ID'].astype(str)\n",
    "display(data.head(10))"
   ]
  },
  {
   "cell_type": "code",
   "execution_count": null,
   "metadata": {},
   "outputs": [],
   "source": [
    "import csv\n",
    "data.to_csv(r'tweets_opsoms.csv', index = False)"
   ]
  },
  {
   "cell_type": "markdown",
   "metadata": {},
   "source": [
    "#### Ahora se debe borrar el contenido del txt:"
   ]
  },
  {
   "cell_type": "code",
   "execution_count": null,
   "metadata": {},
   "outputs": [],
   "source": []
  }
 ],
 "metadata": {
  "kernelspec": {
   "display_name": "Python 3",
   "language": "python",
   "name": "python3"
  },
  "language_info": {
   "codemirror_mode": {
    "name": "ipython",
    "version": 3
   },
   "file_extension": ".py",
   "mimetype": "text/x-python",
   "name": "python",
   "nbconvert_exporter": "python",
   "pygments_lexer": "ipython3",
   "version": "3.7.6"
  }
 },
 "nbformat": 4,
 "nbformat_minor": 4
}
