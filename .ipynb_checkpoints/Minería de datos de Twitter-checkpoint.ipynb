{
 "cells": [
  {
   "cell_type": "markdown",
   "metadata": {},
   "source": [
    "# Minería de datos sobre Twitter con Python\n",
    "\n",
    "#### Fuente: https://discoverdatasciencelab.com/2018/11/30/mineria-de-datos-de-twitter-python/"
   ]
  },
  {
   "cell_type": "markdown",
   "metadata": {},
   "source": [
    "### Insumos utiles que resultan de la mineria de datos sobre twitter:\n",
    "    1. Obtener los tweets que incluyan el nombre una empresa o producto y posteriormente hacer un análisis de \n",
    "    sentimientos sobre los tweets que contengan el o los términos seleccionados y saber si los usuarios tienen \n",
    "    una apreciación positiva o negativa de una empresa o producto.\n",
    "    2. Crear un gráfico social de los usuarios más populares (influencers) que mencionan a nuestro producto \n",
    "    o empresa en Twitter\n",
    "    3. Recopilar datos en tiempo real de un evento como por ejemplo el lanzamiento de producto para su análisis\n",
    "    4. Identificar los lugares, ciudades y/o países en los cuales nuestra empresa o producto son mencionados\n",
    "    5. Analizar los datos de usuarios específicos y su interacción con otros usuarios en Twitter\n",
    "    6. Hacer un Monitoreo de los seguidores y usuarios a los que sigue un usuario\n",
    "    7. Encontrar influenciadores en Twitter y la tendencia en el crecimiento de sus seguidores\n"
   ]
  },
  {
   "cell_type": "markdown",
   "metadata": {},
   "source": [
    "La mineria de datos sobre twitter incluye dos pasos: \n",
    "    1. Configurar una cuenta de desarrollador en Twitter y\n",
    "    2. Analizar con Python"
   ]
  },
  {
   "cell_type": "markdown",
   "metadata": {},
   "source": [
    "## 1. Construir una cuenta de desarrollador en Twitter"
   ]
  },
  {
   "cell_type": "markdown",
   "metadata": {},
   "source": [
    "Ingresando a https://apps.twitter.com/. debemos llegar a esta URL: https://developer.twitter.com/en/apps y donde nos registraremos como desarrollador. Una vez registrados, debemos esperar un momento a que nuestra cuenta sea creada y ya podemos construir una app."
   ]
  },
  {
   "cell_type": "markdown",
   "metadata": {},
   "source": [
    "Primero debemos instalar desde Anaconda prompt tweepy: pip install tweepy"
   ]
  },
  {
   "cell_type": "markdown",
   "metadata": {},
   "source": [
    "Objetivos:\n",
    "    Familiarizarse con tweepy (API – Twitter), la cual nos permitirá conectarnos y hacer queries en Twitter\n",
    "    Extraer datos de Twitter y conocer sus aplicaciones.\n"
   ]
  },
  {
   "cell_type": "code",
   "execution_count": 1,
   "metadata": {},
   "outputs": [],
   "source": [
    "# Antes de importar tweepy es necesario instalar tweepy (ver la explicación en el post).\n",
    "import tweepy"
   ]
  },
  {
   "cell_type": "code",
   "execution_count": 2,
   "metadata": {},
   "outputs": [],
   "source": [
    "from tweepy import OAuthHandler"
   ]
  },
  {
   "cell_type": "code",
   "execution_count": 3,
   "metadata": {},
   "outputs": [],
   "source": [
    "# Ahora procedemos a autenticarnos usando el API Key, el API secret Key, el Access token y el Access token secret que se generaron al crear nuestra aplicación en Twitter y\n",
    "#reemplazamos las equis (x) tal como se indica en el post\n",
    "api_key = \"SN2i3HKfTrW1gjN5JEyyfitSj\"\n",
    "api_secret = \"BatOpOsZLR5UnHtqqVMCczXgquCO1jBLobHBv7wxPyyQzc4QaM\"\n",
    "access_token = \"1230251564616515586-WVHPqLTN0mryB36qMPkROmeYRUILZR\"\n",
    "access_secret = \"KbS2sanV9Z6htqo2tM3yVFZGy86hgXnC5spJuXF3fg3sc\"\n",
    "auth = OAuthHandler(api_key, api_secret)\n",
    "auth.set_access_token(access_token, access_secret)\n",
    "api = tweepy.API(auth) \n"
   ]
  },
  {
   "cell_type": "code",
   "execution_count": 4,
   "metadata": {},
   "outputs": [
    {
     "name": "stdout",
     "output_type": "stream",
     "text": [
      "United States\n",
      "United States Minor Outlying Islands\n"
     ]
    }
   ],
   "source": [
    "places = api.geo_search(query=\"USA\", granularity=\"country\")\n",
    "for public_tweet in places:\n",
    "    print (public_tweet.name)\n",
    "    \n"
   ]
  },
  {
   "cell_type": "code",
   "execution_count": 5,
   "metadata": {},
   "outputs": [
    {
     "name": "stdout",
     "output_type": "stream",
     "text": [
      "#picpaynobbb\n",
      "River\n",
      "#UFC248\n",
      "#ラブライブFMT決勝戦上映会\n",
      "Gallardo\n",
      "#FMSInternacional\n",
      "#MostRequestedLive\n",
      "Tevez\n",
      "Russo\n",
      "Carlitos\n",
      "Maradona\n",
      "Superliga\n",
      "一山選手\n",
      "Román\n",
      "Riquelme\n",
      "Alfaro\n",
      "Zielinski\n",
      "Gimnasia\n",
      "Loustau\n",
      "一山さん\n",
      "Alemán\n",
      "Campeón\n",
      "RECUERDO ARISTEMO\n",
      "Otero\n",
      "Borré\n",
      "メリッサ\n",
      "Boquita\n",
      "Jack Edwards\n",
      "De Rossi\n",
      "びわ湖\n",
      "#HappyWomensDay2020\n",
      "#キラメイジャー\n",
      "#AfaBostera\n",
      "#altashoras\n",
      "#غياب_جماعي\n",
      "#सुरुवात_सामाजिक_समानतेची\n",
      "#8martdunyakadinlargunu\n",
      "#MulheresComBolsonaro\n",
      "#エアブー\n",
      "#cornoravirus\n",
      "#LaDivinaComida\n",
      "#minggupagi\n",
      "#DünyayıKadınGüzelleştirir\n",
      "#RechazoTuTongo\n",
      "#千葉雄大と白石麻衣がスマホ落とし中\n",
      "#一山麻緒\n",
      "#AskJhene\n",
      "#宇宙Six\n",
      "#Svengoolie\n"
     ]
    }
   ],
   "source": [
    "trends_result = api.trends_place(1)\n",
    "for trend in trends_result[0][\"trends\"]:\n",
    "    print(trend[\"name\"])\n"
   ]
  },
  {
   "cell_type": "code",
   "execution_count": 6,
   "metadata": {},
   "outputs": [
    {
     "name": "stdout",
     "output_type": "stream",
     "text": [
      "RT @EDF_deMexico: \"En 🇲🇽 nos alimentamos en gran parte de alimentos ultraprocesados, en lugar de elegir más 🍉🌽🍅🥜🐟. Hacerlo contribuye al cu…\n",
      "RT @elespectador: #LoMásLeído en Medio Ambiente: Hallan nueva especie en el fondo del Océano y encuentran plástico en su interior\n",
      "https://t…\n",
      "RT @CaroCarisima: Esta semana, New York se unió a la lista de ciudades TONTAS que prohibieron las bolsas de plástico.\n",
      "\n",
      "Ahora, las tiendas r…\n",
      "RT @Ingenieros_EJC: @COL_EJERCITO #BR13 @Ingenieros_EJC #BIBYA y diferentes entidades ambientales, se reunieron para definir trabajo en pro…\n",
      "RT @ELTIEMPO: Los perros más hábiles e inteligentes del mundo https://t.co/abeeNs29Os https://t.co/TiOtKgA259\n",
      "RT @ELTIEMPO: Los perros más hábiles e inteligentes del mundo https://t.co/abeeNs29Os https://t.co/TiOtKgA259\n",
      "RT @ELTIEMPO: Los perros más hábiles e inteligentes del mundo https://t.co/abeeNs29Os https://t.co/TiOtKgA259\n",
      "RT @BIBOCol: Hallan nueva especie en el fondo del Océano y encuentran plástico en su interior. https://t.co/kivag3OFrd\n",
      "RT @cjportillaj: @wilcheschaux @MendozaGoez @Proarbol_Col @P_Cultural @JohariGautier @herman_amayat @duvides @cero_hambre @RedArbolUrbano @…\n",
      "RT @olmedolopezm: Quisiera poder hablar con @QuinteroCalle, como en campaña:\n",
      "1. La Universidad\n",
      "2. Lo social\n",
      "3. La seguridad.\n",
      "4. Hidroituang…\n",
      "RT @elespectador: #LoMásLeído en Medio Ambiente: Hallan nueva especie en el fondo del Océano y encuentran plástico en su interior\n",
      "https://t…\n",
      "@HoveDidier @JuanLuisCasCo @Bogota Ahora somos ambientalistas... vamos a promover el fin de los y de los particular… https://t.co/mud30437Cp\n",
      "RT @MAE_Manabi: El Ministro @juandehowitth, señaló \"Vamos a trabajar de manera articulada con los municipios, la Academia y ustedes como ci…\n",
      "RT @olmedolopezm: Quisiera poder hablar con @QuinteroCalle, como en campaña:\n",
      "1. La Universidad\n",
      "2. Lo social\n",
      "3. La seguridad.\n",
      "4. Hidroituang…\n",
      "RT @ELTIEMPO: Los perros más hábiles e inteligentes del mundo https://t.co/abeeNs29Os https://t.co/TiOtKgA259\n",
      "RT @elespectador: #LoMásLeído en Medio Ambiente: Hallan nueva especie en el fondo del Océano y encuentran plástico en su interior\n",
      "https://t…\n",
      "RT @elespectador: #LoMásLeído en Medio Ambiente: Hallan nueva especie en el fondo del Océano y encuentran plástico en su interior\n",
      "https://t…\n",
      "@AlcaldiadeMed @Areametropol @INDERMEDELLIN Pues lo lógico es que cancelen todo tipo de eventos al aire libre, porq… https://t.co/ZdQ7vw7EcR\n",
      "RT @spcver: Boletín 72 h. Domingo medio nublado a nublado c/nieblas, lloviznas o lluvias dispersas matutinas en la llanura-costa y vesperti…\n",
      "#LoMásLeído en Medio Ambiente: Hallan nueva especie en el fondo del Océano y encuentran plástico en su interior… https://t.co/y4y53s2zVv\n",
      "Viendo como se vuelve el tapa bocas con apenas unas horas de uso, uno se da cuenta que estamos respirando polvo, ti… https://t.co/Lbg39SGOm7\n",
      "RT @piopiochile: Lamentamos este atentado contra el medio ambiente que nos dejará con preemergencia pal lunes #RechazoTuTongo #retraso http…\n",
      "RT @BIBOCol: Hallan nueva especie en el fondo del Océano y encuentran plástico en su interior. https://t.co/kivag3OFrd\n",
      "RT @BIBOCol: Hallan nueva especie en el fondo del Océano y encuentran plástico en su interior. https://t.co/kivag3OFrd\n",
      "RT @GobCDMX: Renueva tu membresía de @ecobici para que sigas contribuyendo al medio ambiente y mejorando tu salud 🚴‍♀️🚴‍♂️\n",
      " \n",
      "Es muy fácil,…\n",
      "RT @olmedolopezm: Quisiera poder hablar con @QuinteroCalle, como en campaña:\n",
      "1. La Universidad\n",
      "2. Lo social\n",
      "3. La seguridad.\n",
      "4. Hidroituang…\n",
      "@UrquidesC ¿Debemos entender que la estética es más importante que la necesidad real de nuestro medio ambiente? La… https://t.co/pYT4n2OTY1\n",
      "RT @AmaiaArraztoaL: Comenzando patriotas de Viña!! Por Chile!! Por ti, por mi, por nuestro medio ambiente, por alejar a la miseria!! Voto #…\n",
      "RT @DCordell2016: #TeamDollNature protege a los animales y el medio ambiente ♻️ mas que un Team, es una petición de apoyo al planeta\n",
      "https:…\n",
      "🍁 El antes y el después de la contaminada playa de Versova en la India no deja indiferente a nadie... https://t.co/46fw3YBXW9\n",
      "@KenSmithramos @AntonioAttolini Uy, se nota que les dolió el poder que les quitaron. O más bien, que perdieron. No… https://t.co/MtOTgZY71R\n",
      "RT @ELTIEMPO: Los perros más hábiles e inteligentes del mundo https://t.co/abeeNs29Os https://t.co/TiOtKgA259\n",
      "RT @ELTIEMPO: Los perros más hábiles e inteligentes del mundo https://t.co/abeeNs29Os https://t.co/TiOtKgA259\n",
      "RT @CaroCarisima: Esta semana, New York se unió a la lista de ciudades TONTAS que prohibieron las bolsas de plástico.\n",
      "\n",
      "Ahora, las tiendas r…\n",
      "RT @GobCDMX: Una bolsa de plástico desechada en la ciudad puede llegar a contaminar los océanos, por eso, desde el 1 de enero de 2020 en la…\n",
      "RT @ELTIEMPO: Los perros más hábiles e inteligentes del mundo https://t.co/abeeNs29Os https://t.co/TiOtKgA259\n",
      "RT @MexicoSocial_: La #Tierra ha perdido cerca del 50% de sus #Corales de aguas profundas durante los últimos 30 años. \n",
      "\n",
      "Lee https://t.co/4…\n",
      "RT @CancilleriaCol: Con la ayuda del sector de medio ambiente de la Dirección de Fronteras de la @CancilleriaCol se entregaron 150 hidropan…\n",
      "RT @ELTIEMPO: Los perros más hábiles e inteligentes del mundo https://t.co/abeeNs29Os https://t.co/TiOtKgA259\n",
      "RT @ELTIEMPO: Los perros más hábiles e inteligentes del mundo https://t.co/abeeNs29Os https://t.co/TiOtKgA259\n",
      "RT @MexicoSocial_: La #Tierra ha perdido cerca del 50% de sus #Corales de aguas profundas durante los últimos 30 años. \n",
      "\n",
      "Lee https://t.co/4…\n",
      "RT @MexicoSocial_: La #Tierra ha perdido cerca del 50% de sus #Corales de aguas profundas durante los últimos 30 años. \n",
      "\n",
      "Lee https://t.co/4…\n",
      "RT @ELTIEMPO: Los perros más hábiles e inteligentes del mundo https://t.co/abeeNs29Os https://t.co/TiOtKgA259\n",
      "RT @ELTIEMPO: Los perros más hábiles e inteligentes del mundo https://t.co/abeeNs29Os https://t.co/TiOtKgA259\n",
      "@LeoMosquera10 @Ambiente_Ec @juandehowitth @Gamanoticiasec @TVCElComercioTv @24horasUIO @TelediarioEC… https://t.co/nrL8UHfk73\n",
      "Ari siendo boludeada parte mil\n",
      "\n",
      "[8/3 00:17] Ailín: feliz día♥\n",
      "[8/3 00:18] Cande: Feliz díaaa negras ❣️\n",
      "[8/3 00:20]… https://t.co/3hb6GeXRvF\n",
      "RT @ELTIEMPO: Los perros más hábiles e inteligentes del mundo https://t.co/abeeNs29Os https://t.co/TiOtKgA259\n",
      "@DoctorFarola Mínimo era el ministro de Salud o el de medio ambiente que tenía que hacer las Obras del estado, obvi… https://t.co/ftuzOSyS32\n",
      "RT @UnionOficiales: El Teniente Coronel D. Francisco Pulido toma posesión como Jefe de  la Comandancia de la @guardiacivil\n",
      "de Huesca.\n",
      "\n",
      "Le d…\n",
      "RT @GermanZaGa: -No necesito ser mujer para pelear por ellas\n",
      "-No necesito ser miembro para pelear por la comunidad LGBT \n",
      "-No necesito ser u…\n",
      "RT @alfredodelmazo: Con las estufas ecológicas cuidamos el medio ambiente y lo más importante, la salud y la economía de muchas familias me…\n",
      "Los delirios seniles del anciano desquiciado son altamente destructivos para el medio ambiente https://t.co/Xiq0r1DaSg\n",
      "RT @ELTIEMPO: Los perros más hábiles e inteligentes del mundo https://t.co/abeeNs29Os https://t.co/TiOtKgA259\n",
      "RT @ELTIEMPO: Los perros más hábiles e inteligentes del mundo https://t.co/abeeNs29Os https://t.co/TiOtKgA259\n",
      "@SraPalta Y si ayuda al medio ambiente \"en algo\" lo cual no creo...pues bien (? idk.\n",
      "RT @ELTIEMPO: Los perros más hábiles e inteligentes del mundo https://t.co/abeeNs29Os https://t.co/TiOtKgA259\n",
      "@AntonioAttolini Dónde quedó este defensor del medio ambiente https://t.co/Eaj7VVXpX0\n",
      "RT @Ingenieros_EJC: @COL_EJERCITO #BR13 @Ingenieros_EJC #BIBYA y diferentes entidades ambientales, se reunieron para definir trabajo en pro…\n",
      "RT @ELTIEMPO: Los perros más hábiles e inteligentes del mundo https://t.co/abeeNs29Os https://t.co/TiOtKgA259\n",
      "RT @JuanAlonsoMilan: Que triste ser parte de una sociedad donde la gente opina desde el odio, y desde argumentos sin fundamentos. He visto…\n",
      "RT @yoquiza: @Ingenieros_EJC @COL_EJERCITO Medio ambiente, activo estratégico de la Nación\n",
      "@fabricvel @raulclementelh @juandehowitth @Ambiente_Ec @eluniversocom @Expresoec @CarlosVerareal @EcuavisaInforma… https://t.co/I5KedIZaNC\n",
      "RT @DCordell2016: #TeamDollNature protege a los animales y el medio ambiente ♻️ mas que un Team, es una petición de apoyo al planeta\n",
      "https:…\n",
      "@SraPalta Mi mamá me ponía pañales de tela cuando era bebé no por el medio ambiente exactamente, sino porque era má… https://t.co/x19IcVblgB\n",
      "RT @JuanBerdejaM: @TamaraBlazquezH @Claudiashein @UNESCOMexico @PROFEPA_Mx @CONANP_mx Así es! Sabemos que los segundos pisos y puentes vehi…\n",
      "RT @ELTIEMPO: Los perros más hábiles e inteligentes del mundo https://t.co/abeeNs29Os https://t.co/TiOtKgA259\n",
      "RT @alfredodelmazo: Con las estufas ecológicas cuidamos el medio ambiente y lo más importante, la salud y la economía de muchas familias me…\n",
      "RT @ELTIEMPO: Los perros más hábiles e inteligentes del mundo https://t.co/abeeNs29Os https://t.co/TiOtKgA259\n",
      "RT @GabyGamboa_S: Parte importante de cuidar el medio ambiente y de cumplir con la #Agenda2030, es hacer más eficiente el uso de energía en…\n",
      "Turismo trama ayuda a contribuir con el.medio ambiente https://t.co/PqVL6SVY2x\n",
      "@luismorales0621 Eso lo sabemos, pero esta gente sigue protegiendo a los camioneros por miedo a que le frenen todo.… https://t.co/sXK4WdW3RM\n",
      "RT @MTurismoRD: .@HaciendaCufa 2da parada, del día, proyecto que promueve el turismo ecológico, la unión de las familias y el cuidado del m…\n",
      "RT @ELTIEMPO: Los perros más hábiles e inteligentes del mundo https://t.co/abeeNs29Os https://t.co/TiOtKgA259\n",
      "♻️ Estándar Passivhaus: qué es y por qué es tan beneficioso para el medio ambiente... https://t.co/lmP5CbHSlW\n",
      "RT @ELTIEMPO: Los perros más hábiles e inteligentes del mundo https://t.co/abeeNs29Os https://t.co/TiOtKgA259\n",
      "RT @LizVictoriaHta: Estamos comprometidos con el medio ambiente, buscamos alternativas que beneficien en la economía de las familias aprove…\n",
      "@feliperaytyson @MilenaMayorga Yo le veo futuro como Ministra de Medio Ambiente.\n",
      "RT @GobCDMX: Con el rescate del 🌳🌱 Parque Ecológico Xochimilco, no sólo recuperamos un espacio más para la ciudadanía, también recuperamos…\n",
      "Los perros más hábiles e inteligentes del mundo https://t.co/abeeNs29Os https://t.co/TiOtKgA259\n",
      "Una pena ver como se esta dañando tanto el medio ambiente😰 \n",
      "#LugaresQueHablan2020\n",
      "@PANCHOSAAVEDRA \n",
      "#LeyDeGlaciares\n",
      "RT @SOBSECDMX: Con el rescate del Parque Ecológico Xochimilco recuperamos la naturaleza, el espacio público y la memoria histórica de la Ci…\n",
      "RT @RaulSolisEU: ¿Os imagináis que el sujeto político del movimiento obrero hubiese sido inflexible y hoy no defendiera el medio ambiente,…\n",
      "RT @GobCDMX: Una bolsa de plástico desechada en la ciudad puede llegar a contaminar los océanos, por eso, desde el 1 de enero de 2020 en la…\n",
      "@TamaraBlazquezH @Claudiashein @UNESCOMexico @PROFEPA_Mx @CONANP_mx Así es! Sabemos que los segundos pisos y puente… https://t.co/ZnK7ITwH6X\n",
      "RT @cjportillaj: @wilcheschaux @MendozaGoez @Proarbol_Col @P_Cultural @JohariGautier @herman_amayat @duvides @cero_hambre @RedArbolUrbano @…\n",
      "RT @PUMAGUA: Extracción de litio en México podría tener impacto en el medio ambiente. “Si hay contaminación por litio en los mantos acuífer…\n",
      "RT @PoliciaDeris: Con @ProteccionPonal recorriendo y patrullando áreas protegidas #lagunadelotún, en coordinación con @ParquesColombia  con…\n",
      "Llegada de Nestlé a Veracrúz  genera deforestación y daño al medio ambiente #cafe  https://t.co/yY5q9X6LsK\n",
      "RT @PensandoEnMX: Los estragos que ocasiona el cambio climático son más reales que nunca. Es urgente que el gobierno se tome en serio y con…\n",
      "RT @ClementeCH: Defender las áreas naturales protegidas de los intereses desmedidos de las mineras es parte fundamental del cuidado a nuest…\n",
      "¿Tu marca aún no invierte en el medio ambiente? Pues esta cifra la va a convencer https://t.co/U4AGERGSzz https://t.co/ugUCUElCUb\n",
      "RT @CaroCarisima: Esta semana, New York se unió a la lista de ciudades TONTAS que prohibieron las bolsas de plástico.\n",
      "\n",
      "Ahora, las tiendas r…\n",
      "@omarkabada @sadbumblebee @MddeH @qz Y sembrando vida no está reforestando no solo en Tabasco, todos el país e\n",
      "Info… https://t.co/XRxXk7LZRu\n",
      "RT @pcivilchiapas: En el Centro de Monitoreo de #ProtecciónCivil trabajamos los 365 días del año con el objetivo de proteger la vida, el pa…\n",
      "RT @KenSmithramos: @AntonioAttolini Trump no lo podría haber dicho mejor: la tala de “algunos” árboles no importa. Ahora apoyas la destrucc…\n",
      "RT @Fannygonzalezt: Preguntas serias para la @AlcaldiadeMed ¿les quedó grande el medio ambiente de Medellín? ¿se han tomado las medidas cor…\n",
      "RT @GobCDMX: Una bolsa de plástico desechada en la ciudad puede llegar a contaminar los océanos, por eso, desde el 1 de enero de 2020 en la…\n",
      "RT @eldiario: #Exclusivo | El Refugio de Fauna Silvestre de Cuare 🌳🐦 no escapa de la crisis ambiental venezolana 🇻🇪. \n",
      "\n",
      "🔹 Pérdida de la biod…\n",
      "RT @AmaiaArraztoaL: Comenzando patriotas de Viña!! Por Chile!! Por ti, por mi, por nuestro medio ambiente, por alejar a la miseria!! Voto #…\n",
      "RT @BIBOCol: Hallan nueva especie en el fondo del Océano y encuentran plástico en su interior. https://t.co/kivag3OFrd\n"
     ]
    }
   ],
   "source": [
    "tweets = api.search('medio ambiente', count=100, lat=-33.365900, long=-70.513310)\n",
    "for public in tweets:\n",
    "    print (public.text)\n",
    "\n",
    "    "
   ]
  },
  {
   "cell_type": "markdown",
   "metadata": {},
   "source": [
    "http://docs.tweepy.org/en/latest/api.html\n",
    "\n",
    "<img src=\"img001.jpg\">"
   ]
  },
  {
   "cell_type": "code",
   "execution_count": 7,
   "metadata": {},
   "outputs": [
    {
     "name": "stdout",
     "output_type": "stream",
     "text": [
      "Protect yourself and your community from coronavirus with common sense precautions: wash your hands, stay home when… https://t.co/3J4CZwGJup\n",
      "Michelle and I are sending our prayers to those affected by the severe storms in Tennessee, especially to those who… https://t.co/48jXyUeupn\n",
      "America needs you as states prepare for the next round of redistricting. It's up to all of us to make sure we have… https://t.co/HghrAbSMGn\n",
      "Shirley Chisholm said \"You don't make progress by standing on the sidelines, whimpering and complaining. You make p… https://t.co/AQqsZ3bmsw\n",
      "RT @ObamaFoundation: The Obama Presidential Center will make Jackson Park a part of presidential history. In 1893, Frederick Douglass made…\n",
      "After a lifetime of reaching for the stars, today, Katherine Johnson landed among them. She spent decades as a hidd… https://t.co/Z2SzFvXmW7\n",
      "Happy birthday to one of my heroes — someone who believed our right to vote was more important than his own life. T… https://t.co/hK0tnVcacQ\n",
      "https://t.co/AQJsfBf0ri\n",
      "Here are a couple of articles that are worth reading — from housing to health, these stories use data to explore ch… https://t.co/KlSkp31mmi\n",
      "Eleven years ago today, near the bottom of the worst recession in generations, I signed the Recovery Act, paving th… https://t.co/6IyeQfvElc\n",
      "RT @ObamaFoundation: It’s a big day in Chicago as @NBAAllStar returns to our city for the first time since 1988. But before tipoff we’re ki…\n",
      "Happy Valentine’s Day to my forever dance partner, @MichelleObama. https://t.co/lHvTGUwEHr\n",
      "What a great example of citizenship, what each of us can do to make a difference for all of us: https://t.co/YxsvONUuVl\n",
      "Even if the methods are new, sowing the seeds of doubt, division, and discord to turn Americans against each other… https://t.co/He8uASDGEF\n",
      "Thirty years on, I remember the hope we all felt watching Mandela’s release from prison. The gift of a new way of s… https://t.co/ZtWqtwqYmE\n",
      "Congrats to Julia and Steven, the filmmakers behind American Factory, for telling such a complex, moving story abou… https://t.co/gvQzSMCVPE\n",
      "Sixty years ago today, the Greensboro Four stood up to injustice by sitting down at a lunch counter. Our journey is… https://t.co/fLcldO9VnD\n",
      "Kobe was a legend on the court and just getting started in what would have been just as meaningful a second act. To… https://t.co/YlRRr9ng7Q\n",
      "Every so often, I re-read Dr. King’s Letter from a Birmingham Jail. While some of the injustices may have changed,… https://t.co/9TxGaZKcaC\n",
      "In every scene, you are my star, @MichelleObama! Happy birthday, baby! https://t.co/hgMBhHasBj\n",
      "Glad to see American Factory’s Oscar nod for Best Documentary. It’s the kind of story we don’t see often enough and… https://t.co/FSdnLUbNBA\n",
      "Our fellow Americans in Puerto Rico can use our support after this week’s earthquakes. They’ve shown their enduring… https://t.co/qxjRcyT8cR\n",
      "Here’s the thing: Even with problems of this magnitude, each of us can still find a way to make change. That’s why… https://t.co/K3YYej7d0s\n",
      "The catastrophic fires in Australia are the latest example of the very real and very urgent consequences of climate… https://t.co/anmhvMTvGz\n",
      "With David Stern’s passing, I’m reflecting on everything he did to take the NBA global, creating entire new generat… https://t.co/lUABFGYPQL\n",
      "Here’s to a happy, healthy, and hopeful 2020. Happy New Year, everybody!\n",
      "From hip-hop to country to The Boss, here are my songs of the year. If you’re looking for something to keep you com… https://t.co/MGNAUPPgTj\n",
      "If there’s one thing I love about @RepJohnLewis, it’s his incomparable will to fight. I know he’s got a lot more of… https://t.co/5prseTALoX\n",
      "Next up are my favorite movies and TV shows of 2019. Of course, there’s also American Factory, a film from our own… https://t.co/qJ7QkWzkjE\n",
      "As we wind down 2019, I wanted to share with you my annual list of favorites that made the last year a little brigh… https://t.co/hHUU0DWR46\n",
      "From the Obama family to yours, Merry Christmas! https://t.co/dNfx52AjMN\n",
      "On behalf of my family, Chag Sameach and Happy Hanukkah! As Jews around the world celebrate, let the menorah’s ligh… https://t.co/JG1nJIY9Uq\n",
      "2019 was full of moments that show humanity at its best—compassionate, entrepreneurial, determined. And yes, hopefu… https://t.co/XU93yaGnKS\n",
      "RT @ObamaFoundation: #ObamaLeaders convened 200 inspiring changemakers from across the Asia Pacific. Take a look at their week in Kuala Lum…\n",
      "RT @GetUSCovered: Did you miss your chance to #GetCovered with affordable health coverage at https://t.co/p8DQwo89C7? \n",
      "\n",
      "Well you’re in luck…\n",
      "You can get the zen garden next week, but tomorrow is the last day to sign up for health coverage at… https://t.co/7aDwT0Kr6N\n",
      "It was remarkable to be back in the Asia-Pacific region with my sister this week, joined by hundreds of talented an… https://t.co/XWCz7q32yf\n",
      "My sister Maya and I are about to take the stage at @ObamaFoundation Leaders: Asia-Pacific. We'll be talking about… https://t.co/iNIbFzF8Tr\n",
      "RT @MichelleObama: Julia Roberts, Deborah Henry, and I are about to take the stage at #ObamaLeaders: Asia-Pacific to reflect on our visit t…\n",
      "I thought it was about time I share my holiday gift list — a few practical items, all $10 or less. The best one? He… https://t.co/9div5vrK95\n",
      "In Vietnam I had the chance to sit down with some of our @ObamaFoundation leaders and alumni from across the Asia P… https://t.co/tV1ffldUIy\n",
      "RT @MichelleObama: What an incredible day in Vietnam with members of the @GirlsAlliance community!\n",
      "\n",
      "Take a look at our visit to Cần Giuộc h…\n",
      "Because of Paul Volcker, our financial system is stronger and safer for the American people. I’ll remember Paul for… https://t.co/FLH7iNb1o1\n",
      "Today, we give thanks for our blessings, give back to those around us, and enjoy some time — and turkey, and maybe… https://t.co/Y1wrA5SHHH\n",
      "Before arguing with friends or family around the Thanksgiving table, take a look at the science behind arguing bett… https://t.co/hYMSHMmxNq\n",
      "Politicians shouldn’t be picking their voters. Voters should be picking their representatives. But unless we act, t… https://t.co/Td81P2kRUb\n",
      "Take a look at this piece to understand the very real consequences of gerrymandering. In Asheville, NC, we see what… https://t.co/zt6gHRDNCS\n",
      "Young leaders like these are powering the promise of the Asia Pacific region. Michelle and I couldn’t be more impre… https://t.co/RHQjTYreVr\n",
      "Proud to see Oluwaseun @AyodejiOsowobi in this list. She’s an @ObamaFoundation Leader who’s organizing young people… https://t.co/y8oGn0exHw\n",
      "Stories like this are a reminder of our duty, as a country and as Americans, to support every veteran—not only in w… https://t.co/clVuvQQEyd\n",
      "This Veterans Day, here’s a moving portrait of the extraordinary resilience of my friend Cory Remsburg, an Army Ran… https://t.co/bwYxW8LZyd\n",
      "No one says it better than @MichelleObama — the Obama Presidential Center coming to the South Side isn't for us, it… https://t.co/kNLNbOVpHr\n",
      "Proud of all the Americans who showed up to vote yesterday, electing a set of hopeful, forward-thinking leaders pri… https://t.co/9EA708TmyI\n",
      "Proud to endorse an outstanding group of Virginia Democrats in Tuesday’s election—candidates who’ll not only advanc… https://t.co/s7lkCMYXu7\n",
      "Today’s the first day of open enrollment on https://t.co/ob1Ynoesod, and high-quality coverage might be more afford… https://t.co/lWds9MEdZv\n",
      "Congrats to the World Champion @Nationals and their fans! A great group that always showed up when it counted and w… https://t.co/bx1Cg6Jvcz\n",
      "RT @ObamaFoundation: Watch live: @BarackObama is about to take the stage at the #ObamaSummit. Tune in now at https://t.co/aGSLPSV4Fe for hi…\n",
      "RT @ObamaFoundation: Take a tour with @BarackObama through the future Obama Presidential Center on Chicago’s South Side. https://t.co/n5n6s…\n",
      "Glad to be back in Chicago for the @ObamaFoundation Summit. It’s where I first learned to organize—and where I met… https://t.co/umAF2H7vjZ\n",
      ".@SamanthaJPower is a Pulitzer winner, an incredible writer, and a great friend. Her memoir, The Education of an Id… https://t.co/rsVrBUOSIJ\n",
      "Michelle and I are heartbroken over the passing of our friend, Elijah Cummings. May his example inspire more Americ… https://t.co/Km5EWFuGaw\n",
      "I was proud to work with Justin Trudeau as President. He's a hard-working, effective leader who takes on big issues… https://t.co/nZdSmWcpgP\n",
      "In December, Michelle and I will head to Malaysia for the first @ObamaFoundation Leaders: Asia-Pacific gathering. T… https://t.co/sDWtdRPHCQ\n",
      "Yesterday, marathoner Eliud Kipchoge became the first ever to break two hours. Today in Chicago, Brigid Kosgei set… https://t.co/xbTHZbEo1K\n",
      "RT @MichelleObama: Happy #DayoftheGirl! I’m excited to share that in December, I’ll be visiting Vietnam to meet some of the inspiring girls…\n",
      "Congrats to the @WashMystics on a gutsy, first-ever championship! A great team performance when it counted. If folk… https://t.co/6M93KCXeVW\n",
      "Here’s an interesting read—a reminder that behind every opinion lies a human being with real experiences and a stor… https://t.co/r7MX8F6tsX\n",
      "As President, I leaned on @AmbassadorRice’s experience, expertise, and willingness to tell me what I needed to hear… https://t.co/oWx2obfDF5\n",
      "Like the Beatles said: It’s getting better all the time. Thanks, babe, for 27 amazing years! https://t.co/mImRqIYn1R\n",
      "On National Voter Registration Day, it’s up to us as citizens to make sure everyone we know can make their voices h… https://t.co/rYRdykNARc\n",
      "One challenge will define the future for today’s young generation more dramatically than any other: Climate change.… https://t.co/MYeQbArWwu\n",
      "Just 16, @GretaThunberg is already one of our planet’s greatest advocates. Recognizing that her generation will bea… https://t.co/mrXtVgE3aN\n",
      "That’s what Americans do when others are in need – we help. We give. We inspire. Want to make a difference? There a… https://t.co/2mdo9GlaLl\n",
      "Jermaine Bell is just six years old, but when he saw people in need, he took the money he’d been saving for a trip… https://t.co/W4LaUUEYe6\n",
      "Bahamian families and communities face a long recovery from Hurricane Dorian. And Americans are reaching out to hel… https://t.co/9AbyqU5gcf\n",
      "As we remember those we lost on 9/11, we also remember the spirit of unity and togetherness that defined the weeks… https://t.co/vVlN1ckjQg\n",
      "Marca had a remarkable way of bringing out the best within us. For me, she was a trusted voice and a persistent, bu… https://t.co/NKXEI9izsi\n",
      "Yesterday’s ruling is a big win for North Carolina—and for all of us. Voters should choose their representatives, n… https://t.co/nQ1T3U3eBU\n",
      "Saw this story of a young person doing great work and wanted to share it—keep it up, David! That’s some creative or… https://t.co/LI2hQ3Tovf\n",
      "Training is at the heart of organizing. It’s why I’ve always made it a priority – from my 2008 campaign until now.… https://t.co/KMSmanB2OK\n",
      "With summer winding down, here’s a sampling of what Michelle and I have been listening to — some new, some old, som… https://t.co/f41MILYSBr\n",
      "A good story gives you the chance to better understand someone else’s life. It can help you find common ground. And… https://t.co/cDU3IJN1nq\n",
      "Toni Morrison was a national treasure, as good a storyteller, as captivating, in person as she was on the page. Her… https://t.co/859oLQ94Ta\n",
      "Until all of us stand up and insist on holding public officials accountable for changing our gun laws, these traged… https://t.co/QO6QOjix7M\n",
      "https://t.co/nNOVtQ50O4\n",
      "The families of our wounded warriors don't often get a lot of fanfare, but they're serving and sacrificing right al… https://t.co/dNQIaG7WAA\n",
      "Recent court decisions make it clear that the change we need to restore our democracy has to come from the ground u… https://t.co/iAsd5KCAdM\n",
      "Here’s a worthwhile Sunday read: “…nothing should temper partisanship more than an awareness that somewhere, on som… https://t.co/XSbZhrhvcT\n",
      "I’ve always been proud of what this team accomplished during my administration. But more than what we did, I’m prou… https://t.co/b7pswCxgE1\n",
      "RT @ObamaFoundation: Leaders: Africa may have ended, but 200 inspiring #ObamaLeaders returned to their homes with the new connections and f…\n",
      "Economist Raj Chetty is not only identifying the decline in opportunity we’ve seen in recent decades—but trying to… https://t.co/aVvBp3i2Ey\n",
      "Here are a couple of articles backed by new research that are worth taking a look at: A new study on the Medicaid e… https://t.co/ZxoqspJKRA\n",
      "In America, we don’t fear the future, we embrace it. 50 years ago, that spirit took us to the moon. Today, it’s emb… https://t.co/dWqbdzNq83\n",
      "RT @MichelleObama: What truly makes our country great is its diversity. I’ve seen that beauty in so many ways over the years. Whether we ar…\n",
      "#MandelaDay reminds us that when things feel dark, confusing, or impossible—take a look back at his writings. There… https://t.co/dQ4IzuzBNQ\n",
      "I have a good feeling about these Chicago @UrbanAlliance interns. Thanks for letting me spend yesterday afternoon w… https://t.co/FF40nHbs63\n",
      "The @ObamaFoundation is helping a new generation of leaders make their mark, and there’s an extraordinary group gat… https://t.co/azU3MXDYlN\n",
      "Proud to rep America’s best team! Congrats @USWNT and thanks for being such a strong inspiration for women and girl… https://t.co/L8OY8yP0Mi\n",
      "Yes! Fourth star. Back to back. Congrats to the record breakers on the @USWNT, an incredible team that’s always pus… https://t.co/2wYRZDpcaO\n",
      "RT @MichelleObama: Good luck to the @USWNT! You all are some of the most fearless, powerful, awe-inspiring athletes I’ve ever seen—and toge…\n"
     ]
    }
   ],
   "source": [
    "auth = tweepy.OAuthHandler(api_key, api_secret)\n",
    "auth.set_access_token(access_token, access_secret)\n",
    "\n",
    "api = tweepy.API(auth)\n",
    "\n",
    "#stuff = api.user_timeline(screen_name = 'MAAInsiders', count = 100, include_rts = True)\n",
    "stuff = api.user_timeline(since_id= 10, screen_name = 'barackobama', count = 100, include_rts = True)\n",
    "\n",
    "for status in stuff:\n",
    "\n",
    "    print(status.text)"
   ]
  },
  {
   "cell_type": "code",
   "execution_count": 22,
   "metadata": {},
   "outputs": [
    {
     "ename": "SyntaxError",
     "evalue": "invalid syntax (<ipython-input-22-f5a4780bb451>, line 1)",
     "output_type": "error",
     "traceback": [
      "\u001b[1;36m  File \u001b[1;32m\"<ipython-input-22-f5a4780bb451>\"\u001b[1;36m, line \u001b[1;32m1\u001b[0m\n\u001b[1;33m    GET https://api.twitter.com/1.1/trends/closest.json?lat=37.7, long=-122.400612831116\u001b[0m\n\u001b[1;37m            ^\u001b[0m\n\u001b[1;31mSyntaxError\u001b[0m\u001b[1;31m:\u001b[0m invalid syntax\n"
     ]
    }
   ],
   "source": []
  },
  {
   "cell_type": "code",
   "execution_count": 16,
   "metadata": {},
   "outputs": [],
   "source": [
    "# Nuestra variable api es el punto de entrada a Twitter. \n",
    "#Usando esta variable ahora vamos a leer el timeline de nuestra cuenta de Twitter (página de inicio de Twitter).\n",
    "public_tweets = api.home_timeline(10)\n",
    "#Hace un loop por cada uno de los tweets optenidos\n",
    "for tweet in public_tweets:\n",
    "# imprimir el texto de cada uno de los tweets\n",
    "    print (tweet.text)"
   ]
  },
  {
   "cell_type": "code",
   "execution_count": 17,
   "metadata": {},
   "outputs": [
    {
     "ename": "TweepError",
     "evalue": "Failed to send request: Only unicode objects are escapable. Got Ellipsis of type <class 'ellipsis'>.",
     "output_type": "error",
     "traceback": [
      "\u001b[1;31m---------------------------------------------------------------------------\u001b[0m",
      "\u001b[1;31mValueError\u001b[0m                                Traceback (most recent call last)",
      "\u001b[1;32mC:\\Anaconda3\\lib\\site-packages\\tweepy\\binder.py\u001b[0m in \u001b[0;36mexecute\u001b[1;34m(self)\u001b[0m\n\u001b[0;32m    188\u001b[0m                                                 \u001b[0mauth\u001b[0m\u001b[1;33m=\u001b[0m\u001b[0mauth\u001b[0m\u001b[1;33m,\u001b[0m\u001b[1;33m\u001b[0m\u001b[1;33m\u001b[0m\u001b[0m\n\u001b[1;32m--> 189\u001b[1;33m                                                 proxies=self.api.proxy)\n\u001b[0m\u001b[0;32m    190\u001b[0m                 \u001b[1;32mexcept\u001b[0m \u001b[0mException\u001b[0m \u001b[1;32mas\u001b[0m \u001b[0me\u001b[0m\u001b[1;33m:\u001b[0m\u001b[1;33m\u001b[0m\u001b[1;33m\u001b[0m\u001b[0m\n",
      "\u001b[1;32mC:\\Anaconda3\\lib\\site-packages\\requests\\sessions.py\u001b[0m in \u001b[0;36mrequest\u001b[1;34m(self, method, url, params, data, headers, cookies, files, auth, timeout, allow_redirects, proxies, hooks, stream, verify, cert, json)\u001b[0m\n\u001b[0;32m    518\u001b[0m         )\n\u001b[1;32m--> 519\u001b[1;33m         \u001b[0mprep\u001b[0m \u001b[1;33m=\u001b[0m \u001b[0mself\u001b[0m\u001b[1;33m.\u001b[0m\u001b[0mprepare_request\u001b[0m\u001b[1;33m(\u001b[0m\u001b[0mreq\u001b[0m\u001b[1;33m)\u001b[0m\u001b[1;33m\u001b[0m\u001b[1;33m\u001b[0m\u001b[0m\n\u001b[0m\u001b[0;32m    520\u001b[0m \u001b[1;33m\u001b[0m\u001b[0m\n",
      "\u001b[1;32mC:\\Anaconda3\\lib\\site-packages\\requests\\sessions.py\u001b[0m in \u001b[0;36mprepare_request\u001b[1;34m(self, request)\u001b[0m\n\u001b[0;32m    461\u001b[0m             \u001b[0mcookies\u001b[0m\u001b[1;33m=\u001b[0m\u001b[0mmerged_cookies\u001b[0m\u001b[1;33m,\u001b[0m\u001b[1;33m\u001b[0m\u001b[1;33m\u001b[0m\u001b[0m\n\u001b[1;32m--> 462\u001b[1;33m             \u001b[0mhooks\u001b[0m\u001b[1;33m=\u001b[0m\u001b[0mmerge_hooks\u001b[0m\u001b[1;33m(\u001b[0m\u001b[0mrequest\u001b[0m\u001b[1;33m.\u001b[0m\u001b[0mhooks\u001b[0m\u001b[1;33m,\u001b[0m \u001b[0mself\u001b[0m\u001b[1;33m.\u001b[0m\u001b[0mhooks\u001b[0m\u001b[1;33m)\u001b[0m\u001b[1;33m,\u001b[0m\u001b[1;33m\u001b[0m\u001b[1;33m\u001b[0m\u001b[0m\n\u001b[0m\u001b[0;32m    463\u001b[0m         )\n",
      "\u001b[1;32mC:\\Anaconda3\\lib\\site-packages\\requests\\models.py\u001b[0m in \u001b[0;36mprepare\u001b[1;34m(self, method, url, headers, files, data, params, auth, cookies, hooks, json)\u001b[0m\n\u001b[0;32m    316\u001b[0m         \u001b[0mself\u001b[0m\u001b[1;33m.\u001b[0m\u001b[0mprepare_body\u001b[0m\u001b[1;33m(\u001b[0m\u001b[0mdata\u001b[0m\u001b[1;33m,\u001b[0m \u001b[0mfiles\u001b[0m\u001b[1;33m,\u001b[0m \u001b[0mjson\u001b[0m\u001b[1;33m)\u001b[0m\u001b[1;33m\u001b[0m\u001b[1;33m\u001b[0m\u001b[0m\n\u001b[1;32m--> 317\u001b[1;33m         \u001b[0mself\u001b[0m\u001b[1;33m.\u001b[0m\u001b[0mprepare_auth\u001b[0m\u001b[1;33m(\u001b[0m\u001b[0mauth\u001b[0m\u001b[1;33m,\u001b[0m \u001b[0murl\u001b[0m\u001b[1;33m)\u001b[0m\u001b[1;33m\u001b[0m\u001b[1;33m\u001b[0m\u001b[0m\n\u001b[0m\u001b[0;32m    318\u001b[0m \u001b[1;33m\u001b[0m\u001b[0m\n",
      "\u001b[1;32mC:\\Anaconda3\\lib\\site-packages\\requests\\models.py\u001b[0m in \u001b[0;36mprepare_auth\u001b[1;34m(self, auth, url)\u001b[0m\n\u001b[0;32m    547\u001b[0m             \u001b[1;31m# Allow auth to make its changes.\u001b[0m\u001b[1;33m\u001b[0m\u001b[1;33m\u001b[0m\u001b[1;33m\u001b[0m\u001b[0m\n\u001b[1;32m--> 548\u001b[1;33m             \u001b[0mr\u001b[0m \u001b[1;33m=\u001b[0m \u001b[0mauth\u001b[0m\u001b[1;33m(\u001b[0m\u001b[0mself\u001b[0m\u001b[1;33m)\u001b[0m\u001b[1;33m\u001b[0m\u001b[1;33m\u001b[0m\u001b[0m\n\u001b[0m\u001b[0;32m    549\u001b[0m \u001b[1;33m\u001b[0m\u001b[0m\n",
      "\u001b[1;32mC:\\Anaconda3\\lib\\site-packages\\requests_oauthlib\\oauth1_auth.py\u001b[0m in \u001b[0;36m__call__\u001b[1;34m(self, r)\u001b[0m\n\u001b[0;32m    108\u001b[0m             r.url, headers, _ = self.client.sign(\n\u001b[1;32m--> 109\u001b[1;33m                 \u001b[0municode\u001b[0m\u001b[1;33m(\u001b[0m\u001b[0mr\u001b[0m\u001b[1;33m.\u001b[0m\u001b[0murl\u001b[0m\u001b[1;33m)\u001b[0m\u001b[1;33m,\u001b[0m \u001b[0municode\u001b[0m\u001b[1;33m(\u001b[0m\u001b[0mr\u001b[0m\u001b[1;33m.\u001b[0m\u001b[0mmethod\u001b[0m\u001b[1;33m)\u001b[0m\u001b[1;33m,\u001b[0m \u001b[1;32mNone\u001b[0m\u001b[1;33m,\u001b[0m \u001b[0mr\u001b[0m\u001b[1;33m.\u001b[0m\u001b[0mheaders\u001b[0m\u001b[1;33m\u001b[0m\u001b[1;33m\u001b[0m\u001b[0m\n\u001b[0m\u001b[0;32m    110\u001b[0m             )\n",
      "\u001b[1;32mC:\\Anaconda3\\lib\\site-packages\\oauthlib\\oauth1\\rfc5849\\__init__.py\u001b[0m in \u001b[0;36msign\u001b[1;34m(self, uri, http_method, body, headers, realm)\u001b[0m\n\u001b[0;32m    312\u001b[0m         request.oauth_params.append(\n\u001b[1;32m--> 313\u001b[1;33m             ('oauth_signature', self.get_oauth_signature(request)))\n\u001b[0m\u001b[0;32m    314\u001b[0m \u001b[1;33m\u001b[0m\u001b[0m\n",
      "\u001b[1;32mC:\\Anaconda3\\lib\\site-packages\\oauthlib\\oauth1\\rfc5849\\__init__.py\u001b[0m in \u001b[0;36mget_oauth_signature\u001b[1;34m(self, request)\u001b[0m\n\u001b[0;32m    126\u001b[0m \u001b[1;33m\u001b[0m\u001b[0m\n\u001b[1;32m--> 127\u001b[1;33m         \u001b[0muri\u001b[0m\u001b[1;33m,\u001b[0m \u001b[0mheaders\u001b[0m\u001b[1;33m,\u001b[0m \u001b[0mbody\u001b[0m \u001b[1;33m=\u001b[0m \u001b[0mself\u001b[0m\u001b[1;33m.\u001b[0m\u001b[0m_render\u001b[0m\u001b[1;33m(\u001b[0m\u001b[0mrequest\u001b[0m\u001b[1;33m)\u001b[0m\u001b[1;33m\u001b[0m\u001b[1;33m\u001b[0m\u001b[0m\n\u001b[0m\u001b[0;32m    128\u001b[0m \u001b[1;33m\u001b[0m\u001b[0m\n",
      "\u001b[1;32mC:\\Anaconda3\\lib\\site-packages\\oauthlib\\oauth1\\rfc5849\\__init__.py\u001b[0m in \u001b[0;36m_render\u001b[1;34m(self, request, formencode, realm)\u001b[0m\n\u001b[0;32m    209\u001b[0m             headers = parameters.prepare_headers(\n\u001b[1;32m--> 210\u001b[1;33m                 request.oauth_params, request.headers, realm=realm)\n\u001b[0m\u001b[0;32m    211\u001b[0m         \u001b[1;32melif\u001b[0m \u001b[0mself\u001b[0m\u001b[1;33m.\u001b[0m\u001b[0msignature_type\u001b[0m \u001b[1;33m==\u001b[0m \u001b[0mSIGNATURE_TYPE_BODY\u001b[0m \u001b[1;32mand\u001b[0m \u001b[0mrequest\u001b[0m\u001b[1;33m.\u001b[0m\u001b[0mdecoded_body\u001b[0m \u001b[1;32mis\u001b[0m \u001b[1;32mnot\u001b[0m \u001b[1;32mNone\u001b[0m\u001b[1;33m:\u001b[0m\u001b[1;33m\u001b[0m\u001b[1;33m\u001b[0m\u001b[0m\n",
      "\u001b[1;32mC:\\Anaconda3\\lib\\site-packages\\oauthlib\\oauth1\\rfc5849\\utils.py\u001b[0m in \u001b[0;36mwrapper\u001b[1;34m(params, *args, **kwargs)\u001b[0m\n\u001b[0;32m     31\u001b[0m         \u001b[0mparams\u001b[0m \u001b[1;33m=\u001b[0m \u001b[0mfilter_oauth_params\u001b[0m\u001b[1;33m(\u001b[0m\u001b[0mparams\u001b[0m\u001b[1;33m)\u001b[0m\u001b[1;33m\u001b[0m\u001b[1;33m\u001b[0m\u001b[0m\n\u001b[1;32m---> 32\u001b[1;33m         \u001b[1;32mreturn\u001b[0m \u001b[0mtarget\u001b[0m\u001b[1;33m(\u001b[0m\u001b[0mparams\u001b[0m\u001b[1;33m,\u001b[0m \u001b[1;33m*\u001b[0m\u001b[0margs\u001b[0m\u001b[1;33m,\u001b[0m \u001b[1;33m**\u001b[0m\u001b[0mkwargs\u001b[0m\u001b[1;33m)\u001b[0m\u001b[1;33m\u001b[0m\u001b[1;33m\u001b[0m\u001b[0m\n\u001b[0m\u001b[0;32m     33\u001b[0m \u001b[1;33m\u001b[0m\u001b[0m\n",
      "\u001b[1;32mC:\\Anaconda3\\lib\\site-packages\\oauthlib\\oauth1\\rfc5849\\parameters.py\u001b[0m in \u001b[0;36mprepare_headers\u001b[1;34m(oauth_params, headers, realm)\u001b[0m\n\u001b[0;32m     58\u001b[0m         \u001b[0mescaped_name\u001b[0m \u001b[1;33m=\u001b[0m \u001b[0mutils\u001b[0m\u001b[1;33m.\u001b[0m\u001b[0mescape\u001b[0m\u001b[1;33m(\u001b[0m\u001b[0moauth_parameter_name\u001b[0m\u001b[1;33m)\u001b[0m\u001b[1;33m\u001b[0m\u001b[1;33m\u001b[0m\u001b[0m\n\u001b[1;32m---> 59\u001b[1;33m         \u001b[0mescaped_value\u001b[0m \u001b[1;33m=\u001b[0m \u001b[0mutils\u001b[0m\u001b[1;33m.\u001b[0m\u001b[0mescape\u001b[0m\u001b[1;33m(\u001b[0m\u001b[0mvalue\u001b[0m\u001b[1;33m)\u001b[0m\u001b[1;33m\u001b[0m\u001b[1;33m\u001b[0m\u001b[0m\n\u001b[0m\u001b[0;32m     60\u001b[0m \u001b[1;33m\u001b[0m\u001b[0m\n",
      "\u001b[1;32mC:\\Anaconda3\\lib\\site-packages\\oauthlib\\oauth1\\rfc5849\\utils.py\u001b[0m in \u001b[0;36mescape\u001b[1;34m(u)\u001b[0m\n\u001b[0;32m     56\u001b[0m         raise ValueError('Only unicode objects are escapable. ' +\n\u001b[1;32m---> 57\u001b[1;33m                          'Got %r of type %s.' % (u, type(u)))\n\u001b[0m\u001b[0;32m     58\u001b[0m     \u001b[1;31m# Letters, digits, and the characters '_.-' are already treated as safe\u001b[0m\u001b[1;33m\u001b[0m\u001b[1;33m\u001b[0m\u001b[1;33m\u001b[0m\u001b[0m\n",
      "\u001b[1;31mValueError\u001b[0m: Only unicode objects are escapable. Got Ellipsis of type <class 'ellipsis'>.",
      "\nDuring handling of the above exception, another exception occurred:\n",
      "\u001b[1;31mTweepError\u001b[0m                                Traceback (most recent call last)",
      "\u001b[1;32m<ipython-input-17-097fac03029a>\u001b[0m in \u001b[0;36m<module>\u001b[1;34m\u001b[0m\n\u001b[1;32m----> 1\u001b[1;33m \u001b[1;32mfor\u001b[0m \u001b[0mstatus\u001b[0m \u001b[1;32min\u001b[0m \u001b[0mtweepy\u001b[0m\u001b[1;33m.\u001b[0m\u001b[0mCursor\u001b[0m\u001b[1;33m(\u001b[0m\u001b[0mapi\u001b[0m\u001b[1;33m.\u001b[0m\u001b[0mhome_timeline\u001b[0m\u001b[1;33m)\u001b[0m\u001b[1;33m.\u001b[0m\u001b[0mitems\u001b[0m\u001b[1;33m(\u001b[0m\u001b[1;36m10\u001b[0m\u001b[1;33m)\u001b[0m\u001b[1;33m:\u001b[0m\u001b[1;33m\u001b[0m\u001b[1;33m\u001b[0m\u001b[0m\n\u001b[0m\u001b[0;32m      2\u001b[0m     \u001b[1;31m# Process a single status\u001b[0m\u001b[1;33m\u001b[0m\u001b[1;33m\u001b[0m\u001b[1;33m\u001b[0m\u001b[0m\n\u001b[0;32m      3\u001b[0m     \u001b[0mprint\u001b[0m\u001b[1;33m(\u001b[0m\u001b[0mstatus\u001b[0m\u001b[1;33m.\u001b[0m\u001b[0mtext\u001b[0m\u001b[1;33m)\u001b[0m\u001b[1;33m\u001b[0m\u001b[1;33m\u001b[0m\u001b[0m\n",
      "\u001b[1;32mC:\\Anaconda3\\lib\\site-packages\\tweepy\\cursor.py\u001b[0m in \u001b[0;36m__next__\u001b[1;34m(self)\u001b[0m\n\u001b[0;32m     45\u001b[0m \u001b[1;33m\u001b[0m\u001b[0m\n\u001b[0;32m     46\u001b[0m     \u001b[1;32mdef\u001b[0m \u001b[0m__next__\u001b[0m\u001b[1;33m(\u001b[0m\u001b[0mself\u001b[0m\u001b[1;33m)\u001b[0m\u001b[1;33m:\u001b[0m\u001b[1;33m\u001b[0m\u001b[1;33m\u001b[0m\u001b[0m\n\u001b[1;32m---> 47\u001b[1;33m         \u001b[1;32mreturn\u001b[0m \u001b[0mself\u001b[0m\u001b[1;33m.\u001b[0m\u001b[0mnext\u001b[0m\u001b[1;33m(\u001b[0m\u001b[1;33m)\u001b[0m\u001b[1;33m\u001b[0m\u001b[1;33m\u001b[0m\u001b[0m\n\u001b[0m\u001b[0;32m     48\u001b[0m \u001b[1;33m\u001b[0m\u001b[0m\n\u001b[0;32m     49\u001b[0m     \u001b[1;32mdef\u001b[0m \u001b[0mnext\u001b[0m\u001b[1;33m(\u001b[0m\u001b[0mself\u001b[0m\u001b[1;33m)\u001b[0m\u001b[1;33m:\u001b[0m\u001b[1;33m\u001b[0m\u001b[1;33m\u001b[0m\u001b[0m\n",
      "\u001b[1;32mC:\\Anaconda3\\lib\\site-packages\\tweepy\\cursor.py\u001b[0m in \u001b[0;36mnext\u001b[1;34m(self)\u001b[0m\n\u001b[0;32m    193\u001b[0m         \u001b[1;32mif\u001b[0m \u001b[0mself\u001b[0m\u001b[1;33m.\u001b[0m\u001b[0mcurrent_page\u001b[0m \u001b[1;32mis\u001b[0m \u001b[1;32mNone\u001b[0m \u001b[1;32mor\u001b[0m \u001b[0mself\u001b[0m\u001b[1;33m.\u001b[0m\u001b[0mpage_index\u001b[0m \u001b[1;33m==\u001b[0m \u001b[0mlen\u001b[0m\u001b[1;33m(\u001b[0m\u001b[0mself\u001b[0m\u001b[1;33m.\u001b[0m\u001b[0mcurrent_page\u001b[0m\u001b[1;33m)\u001b[0m \u001b[1;33m-\u001b[0m \u001b[1;36m1\u001b[0m\u001b[1;33m:\u001b[0m\u001b[1;33m\u001b[0m\u001b[1;33m\u001b[0m\u001b[0m\n\u001b[0;32m    194\u001b[0m             \u001b[1;31m# Reached end of current page, get the next page...\u001b[0m\u001b[1;33m\u001b[0m\u001b[1;33m\u001b[0m\u001b[1;33m\u001b[0m\u001b[0m\n\u001b[1;32m--> 195\u001b[1;33m             \u001b[0mself\u001b[0m\u001b[1;33m.\u001b[0m\u001b[0mcurrent_page\u001b[0m \u001b[1;33m=\u001b[0m \u001b[0mself\u001b[0m\u001b[1;33m.\u001b[0m\u001b[0mpage_iterator\u001b[0m\u001b[1;33m.\u001b[0m\u001b[0mnext\u001b[0m\u001b[1;33m(\u001b[0m\u001b[1;33m)\u001b[0m\u001b[1;33m\u001b[0m\u001b[1;33m\u001b[0m\u001b[0m\n\u001b[0m\u001b[0;32m    196\u001b[0m             \u001b[0mself\u001b[0m\u001b[1;33m.\u001b[0m\u001b[0mpage_index\u001b[0m \u001b[1;33m=\u001b[0m \u001b[1;33m-\u001b[0m\u001b[1;36m1\u001b[0m\u001b[1;33m\u001b[0m\u001b[1;33m\u001b[0m\u001b[0m\n\u001b[0;32m    197\u001b[0m         \u001b[0mself\u001b[0m\u001b[1;33m.\u001b[0m\u001b[0mpage_index\u001b[0m \u001b[1;33m+=\u001b[0m \u001b[1;36m1\u001b[0m\u001b[1;33m\u001b[0m\u001b[1;33m\u001b[0m\u001b[0m\n",
      "\u001b[1;32mC:\\Anaconda3\\lib\\site-packages\\tweepy\\cursor.py\u001b[0m in \u001b[0;36mnext\u001b[1;34m(self)\u001b[0m\n\u001b[0;32m    104\u001b[0m \u001b[1;33m\u001b[0m\u001b[0m\n\u001b[0;32m    105\u001b[0m         \u001b[1;32mif\u001b[0m \u001b[0mself\u001b[0m\u001b[1;33m.\u001b[0m\u001b[0mindex\u001b[0m \u001b[1;33m>=\u001b[0m \u001b[0mlen\u001b[0m\u001b[1;33m(\u001b[0m\u001b[0mself\u001b[0m\u001b[1;33m.\u001b[0m\u001b[0mresults\u001b[0m\u001b[1;33m)\u001b[0m \u001b[1;33m-\u001b[0m \u001b[1;36m1\u001b[0m\u001b[1;33m:\u001b[0m\u001b[1;33m\u001b[0m\u001b[1;33m\u001b[0m\u001b[0m\n\u001b[1;32m--> 106\u001b[1;33m             \u001b[0mdata\u001b[0m \u001b[1;33m=\u001b[0m \u001b[0mself\u001b[0m\u001b[1;33m.\u001b[0m\u001b[0mmethod\u001b[0m\u001b[1;33m(\u001b[0m\u001b[0mmax_id\u001b[0m\u001b[1;33m=\u001b[0m\u001b[0mself\u001b[0m\u001b[1;33m.\u001b[0m\u001b[0mmax_id\u001b[0m\u001b[1;33m,\u001b[0m \u001b[0mparser\u001b[0m\u001b[1;33m=\u001b[0m\u001b[0mRawParser\u001b[0m\u001b[1;33m(\u001b[0m\u001b[1;33m)\u001b[0m\u001b[1;33m,\u001b[0m \u001b[1;33m*\u001b[0m\u001b[0mself\u001b[0m\u001b[1;33m.\u001b[0m\u001b[0margs\u001b[0m\u001b[1;33m,\u001b[0m \u001b[1;33m**\u001b[0m\u001b[0mself\u001b[0m\u001b[1;33m.\u001b[0m\u001b[0mkargs\u001b[0m\u001b[1;33m)\u001b[0m\u001b[1;33m\u001b[0m\u001b[1;33m\u001b[0m\u001b[0m\n\u001b[0m\u001b[0;32m    107\u001b[0m \u001b[1;33m\u001b[0m\u001b[0m\n\u001b[0;32m    108\u001b[0m             \u001b[1;32mif\u001b[0m \u001b[0mhasattr\u001b[0m\u001b[1;33m(\u001b[0m\u001b[0mself\u001b[0m\u001b[1;33m.\u001b[0m\u001b[0mmethod\u001b[0m\u001b[1;33m,\u001b[0m \u001b[1;34m'__self__'\u001b[0m\u001b[1;33m)\u001b[0m\u001b[1;33m:\u001b[0m\u001b[1;33m\u001b[0m\u001b[1;33m\u001b[0m\u001b[0m\n",
      "\u001b[1;32mC:\\Anaconda3\\lib\\site-packages\\tweepy\\binder.py\u001b[0m in \u001b[0;36m_call\u001b[1;34m(*args, **kwargs)\u001b[0m\n\u001b[0;32m    248\u001b[0m                 \u001b[1;32mreturn\u001b[0m \u001b[0mmethod\u001b[0m\u001b[1;33m\u001b[0m\u001b[1;33m\u001b[0m\u001b[0m\n\u001b[0;32m    249\u001b[0m             \u001b[1;32melse\u001b[0m\u001b[1;33m:\u001b[0m\u001b[1;33m\u001b[0m\u001b[1;33m\u001b[0m\u001b[0m\n\u001b[1;32m--> 250\u001b[1;33m                 \u001b[1;32mreturn\u001b[0m \u001b[0mmethod\u001b[0m\u001b[1;33m.\u001b[0m\u001b[0mexecute\u001b[0m\u001b[1;33m(\u001b[0m\u001b[1;33m)\u001b[0m\u001b[1;33m\u001b[0m\u001b[1;33m\u001b[0m\u001b[0m\n\u001b[0m\u001b[0;32m    251\u001b[0m         \u001b[1;32mfinally\u001b[0m\u001b[1;33m:\u001b[0m\u001b[1;33m\u001b[0m\u001b[1;33m\u001b[0m\u001b[0m\n\u001b[0;32m    252\u001b[0m             \u001b[0mmethod\u001b[0m\u001b[1;33m.\u001b[0m\u001b[0msession\u001b[0m\u001b[1;33m.\u001b[0m\u001b[0mclose\u001b[0m\u001b[1;33m(\u001b[0m\u001b[1;33m)\u001b[0m\u001b[1;33m\u001b[0m\u001b[1;33m\u001b[0m\u001b[0m\n",
      "\u001b[1;32mC:\\Anaconda3\\lib\\site-packages\\tweepy\\binder.py\u001b[0m in \u001b[0;36mexecute\u001b[1;34m(self)\u001b[0m\n\u001b[0;32m    189\u001b[0m                                                 proxies=self.api.proxy)\n\u001b[0;32m    190\u001b[0m                 \u001b[1;32mexcept\u001b[0m \u001b[0mException\u001b[0m \u001b[1;32mas\u001b[0m \u001b[0me\u001b[0m\u001b[1;33m:\u001b[0m\u001b[1;33m\u001b[0m\u001b[1;33m\u001b[0m\u001b[0m\n\u001b[1;32m--> 191\u001b[1;33m                     \u001b[0msix\u001b[0m\u001b[1;33m.\u001b[0m\u001b[0mreraise\u001b[0m\u001b[1;33m(\u001b[0m\u001b[0mTweepError\u001b[0m\u001b[1;33m,\u001b[0m \u001b[0mTweepError\u001b[0m\u001b[1;33m(\u001b[0m\u001b[1;34m'Failed to send request: %s'\u001b[0m \u001b[1;33m%\u001b[0m \u001b[0me\u001b[0m\u001b[1;33m)\u001b[0m\u001b[1;33m,\u001b[0m \u001b[0msys\u001b[0m\u001b[1;33m.\u001b[0m\u001b[0mexc_info\u001b[0m\u001b[1;33m(\u001b[0m\u001b[1;33m)\u001b[0m\u001b[1;33m[\u001b[0m\u001b[1;36m2\u001b[0m\u001b[1;33m]\u001b[0m\u001b[1;33m)\u001b[0m\u001b[1;33m\u001b[0m\u001b[1;33m\u001b[0m\u001b[0m\n\u001b[0m\u001b[0;32m    192\u001b[0m \u001b[1;33m\u001b[0m\u001b[0m\n\u001b[0;32m    193\u001b[0m                 \u001b[0mrem_calls\u001b[0m \u001b[1;33m=\u001b[0m \u001b[0mresp\u001b[0m\u001b[1;33m.\u001b[0m\u001b[0mheaders\u001b[0m\u001b[1;33m.\u001b[0m\u001b[0mget\u001b[0m\u001b[1;33m(\u001b[0m\u001b[1;34m'x-rate-limit-remaining'\u001b[0m\u001b[1;33m)\u001b[0m\u001b[1;33m\u001b[0m\u001b[1;33m\u001b[0m\u001b[0m\n",
      "\u001b[1;32mC:\\Anaconda3\\lib\\site-packages\\six.py\u001b[0m in \u001b[0;36mreraise\u001b[1;34m(tp, value, tb)\u001b[0m\n\u001b[0;32m    690\u001b[0m                 \u001b[0mvalue\u001b[0m \u001b[1;33m=\u001b[0m \u001b[0mtp\u001b[0m\u001b[1;33m(\u001b[0m\u001b[1;33m)\u001b[0m\u001b[1;33m\u001b[0m\u001b[1;33m\u001b[0m\u001b[0m\n\u001b[0;32m    691\u001b[0m             \u001b[1;32mif\u001b[0m \u001b[0mvalue\u001b[0m\u001b[1;33m.\u001b[0m\u001b[0m__traceback__\u001b[0m \u001b[1;32mis\u001b[0m \u001b[1;32mnot\u001b[0m \u001b[0mtb\u001b[0m\u001b[1;33m:\u001b[0m\u001b[1;33m\u001b[0m\u001b[1;33m\u001b[0m\u001b[0m\n\u001b[1;32m--> 692\u001b[1;33m                 \u001b[1;32mraise\u001b[0m \u001b[0mvalue\u001b[0m\u001b[1;33m.\u001b[0m\u001b[0mwith_traceback\u001b[0m\u001b[1;33m(\u001b[0m\u001b[0mtb\u001b[0m\u001b[1;33m)\u001b[0m\u001b[1;33m\u001b[0m\u001b[1;33m\u001b[0m\u001b[0m\n\u001b[0m\u001b[0;32m    693\u001b[0m             \u001b[1;32mraise\u001b[0m \u001b[0mvalue\u001b[0m\u001b[1;33m\u001b[0m\u001b[1;33m\u001b[0m\u001b[0m\n\u001b[0;32m    694\u001b[0m         \u001b[1;32mfinally\u001b[0m\u001b[1;33m:\u001b[0m\u001b[1;33m\u001b[0m\u001b[1;33m\u001b[0m\u001b[0m\n",
      "\u001b[1;32mC:\\Anaconda3\\lib\\site-packages\\tweepy\\binder.py\u001b[0m in \u001b[0;36mexecute\u001b[1;34m(self)\u001b[0m\n\u001b[0;32m    187\u001b[0m                                                 \u001b[0mtimeout\u001b[0m\u001b[1;33m=\u001b[0m\u001b[0mself\u001b[0m\u001b[1;33m.\u001b[0m\u001b[0mapi\u001b[0m\u001b[1;33m.\u001b[0m\u001b[0mtimeout\u001b[0m\u001b[1;33m,\u001b[0m\u001b[1;33m\u001b[0m\u001b[1;33m\u001b[0m\u001b[0m\n\u001b[0;32m    188\u001b[0m                                                 \u001b[0mauth\u001b[0m\u001b[1;33m=\u001b[0m\u001b[0mauth\u001b[0m\u001b[1;33m,\u001b[0m\u001b[1;33m\u001b[0m\u001b[1;33m\u001b[0m\u001b[0m\n\u001b[1;32m--> 189\u001b[1;33m                                                 proxies=self.api.proxy)\n\u001b[0m\u001b[0;32m    190\u001b[0m                 \u001b[1;32mexcept\u001b[0m \u001b[0mException\u001b[0m \u001b[1;32mas\u001b[0m \u001b[0me\u001b[0m\u001b[1;33m:\u001b[0m\u001b[1;33m\u001b[0m\u001b[1;33m\u001b[0m\u001b[0m\n\u001b[0;32m    191\u001b[0m                     \u001b[0msix\u001b[0m\u001b[1;33m.\u001b[0m\u001b[0mreraise\u001b[0m\u001b[1;33m(\u001b[0m\u001b[0mTweepError\u001b[0m\u001b[1;33m,\u001b[0m \u001b[0mTweepError\u001b[0m\u001b[1;33m(\u001b[0m\u001b[1;34m'Failed to send request: %s'\u001b[0m \u001b[1;33m%\u001b[0m \u001b[0me\u001b[0m\u001b[1;33m)\u001b[0m\u001b[1;33m,\u001b[0m \u001b[0msys\u001b[0m\u001b[1;33m.\u001b[0m\u001b[0mexc_info\u001b[0m\u001b[1;33m(\u001b[0m\u001b[1;33m)\u001b[0m\u001b[1;33m[\u001b[0m\u001b[1;36m2\u001b[0m\u001b[1;33m]\u001b[0m\u001b[1;33m)\u001b[0m\u001b[1;33m\u001b[0m\u001b[1;33m\u001b[0m\u001b[0m\n",
      "\u001b[1;32mC:\\Anaconda3\\lib\\site-packages\\requests\\sessions.py\u001b[0m in \u001b[0;36mrequest\u001b[1;34m(self, method, url, params, data, headers, cookies, files, auth, timeout, allow_redirects, proxies, hooks, stream, verify, cert, json)\u001b[0m\n\u001b[0;32m    517\u001b[0m             \u001b[0mhooks\u001b[0m\u001b[1;33m=\u001b[0m\u001b[0mhooks\u001b[0m\u001b[1;33m,\u001b[0m\u001b[1;33m\u001b[0m\u001b[1;33m\u001b[0m\u001b[0m\n\u001b[0;32m    518\u001b[0m         )\n\u001b[1;32m--> 519\u001b[1;33m         \u001b[0mprep\u001b[0m \u001b[1;33m=\u001b[0m \u001b[0mself\u001b[0m\u001b[1;33m.\u001b[0m\u001b[0mprepare_request\u001b[0m\u001b[1;33m(\u001b[0m\u001b[0mreq\u001b[0m\u001b[1;33m)\u001b[0m\u001b[1;33m\u001b[0m\u001b[1;33m\u001b[0m\u001b[0m\n\u001b[0m\u001b[0;32m    520\u001b[0m \u001b[1;33m\u001b[0m\u001b[0m\n\u001b[0;32m    521\u001b[0m         \u001b[0mproxies\u001b[0m \u001b[1;33m=\u001b[0m \u001b[0mproxies\u001b[0m \u001b[1;32mor\u001b[0m \u001b[1;33m{\u001b[0m\u001b[1;33m}\u001b[0m\u001b[1;33m\u001b[0m\u001b[1;33m\u001b[0m\u001b[0m\n",
      "\u001b[1;32mC:\\Anaconda3\\lib\\site-packages\\requests\\sessions.py\u001b[0m in \u001b[0;36mprepare_request\u001b[1;34m(self, request)\u001b[0m\n\u001b[0;32m    460\u001b[0m             \u001b[0mauth\u001b[0m\u001b[1;33m=\u001b[0m\u001b[0mmerge_setting\u001b[0m\u001b[1;33m(\u001b[0m\u001b[0mauth\u001b[0m\u001b[1;33m,\u001b[0m \u001b[0mself\u001b[0m\u001b[1;33m.\u001b[0m\u001b[0mauth\u001b[0m\u001b[1;33m)\u001b[0m\u001b[1;33m,\u001b[0m\u001b[1;33m\u001b[0m\u001b[1;33m\u001b[0m\u001b[0m\n\u001b[0;32m    461\u001b[0m             \u001b[0mcookies\u001b[0m\u001b[1;33m=\u001b[0m\u001b[0mmerged_cookies\u001b[0m\u001b[1;33m,\u001b[0m\u001b[1;33m\u001b[0m\u001b[1;33m\u001b[0m\u001b[0m\n\u001b[1;32m--> 462\u001b[1;33m             \u001b[0mhooks\u001b[0m\u001b[1;33m=\u001b[0m\u001b[0mmerge_hooks\u001b[0m\u001b[1;33m(\u001b[0m\u001b[0mrequest\u001b[0m\u001b[1;33m.\u001b[0m\u001b[0mhooks\u001b[0m\u001b[1;33m,\u001b[0m \u001b[0mself\u001b[0m\u001b[1;33m.\u001b[0m\u001b[0mhooks\u001b[0m\u001b[1;33m)\u001b[0m\u001b[1;33m,\u001b[0m\u001b[1;33m\u001b[0m\u001b[1;33m\u001b[0m\u001b[0m\n\u001b[0m\u001b[0;32m    463\u001b[0m         )\n\u001b[0;32m    464\u001b[0m         \u001b[1;32mreturn\u001b[0m \u001b[0mp\u001b[0m\u001b[1;33m\u001b[0m\u001b[1;33m\u001b[0m\u001b[0m\n",
      "\u001b[1;32mC:\\Anaconda3\\lib\\site-packages\\requests\\models.py\u001b[0m in \u001b[0;36mprepare\u001b[1;34m(self, method, url, headers, files, data, params, auth, cookies, hooks, json)\u001b[0m\n\u001b[0;32m    315\u001b[0m         \u001b[0mself\u001b[0m\u001b[1;33m.\u001b[0m\u001b[0mprepare_cookies\u001b[0m\u001b[1;33m(\u001b[0m\u001b[0mcookies\u001b[0m\u001b[1;33m)\u001b[0m\u001b[1;33m\u001b[0m\u001b[1;33m\u001b[0m\u001b[0m\n\u001b[0;32m    316\u001b[0m         \u001b[0mself\u001b[0m\u001b[1;33m.\u001b[0m\u001b[0mprepare_body\u001b[0m\u001b[1;33m(\u001b[0m\u001b[0mdata\u001b[0m\u001b[1;33m,\u001b[0m \u001b[0mfiles\u001b[0m\u001b[1;33m,\u001b[0m \u001b[0mjson\u001b[0m\u001b[1;33m)\u001b[0m\u001b[1;33m\u001b[0m\u001b[1;33m\u001b[0m\u001b[0m\n\u001b[1;32m--> 317\u001b[1;33m         \u001b[0mself\u001b[0m\u001b[1;33m.\u001b[0m\u001b[0mprepare_auth\u001b[0m\u001b[1;33m(\u001b[0m\u001b[0mauth\u001b[0m\u001b[1;33m,\u001b[0m \u001b[0murl\u001b[0m\u001b[1;33m)\u001b[0m\u001b[1;33m\u001b[0m\u001b[1;33m\u001b[0m\u001b[0m\n\u001b[0m\u001b[0;32m    318\u001b[0m \u001b[1;33m\u001b[0m\u001b[0m\n\u001b[0;32m    319\u001b[0m         \u001b[1;31m# Note that prepare_auth must be last to enable authentication schemes\u001b[0m\u001b[1;33m\u001b[0m\u001b[1;33m\u001b[0m\u001b[1;33m\u001b[0m\u001b[0m\n",
      "\u001b[1;32mC:\\Anaconda3\\lib\\site-packages\\requests\\models.py\u001b[0m in \u001b[0;36mprepare_auth\u001b[1;34m(self, auth, url)\u001b[0m\n\u001b[0;32m    546\u001b[0m \u001b[1;33m\u001b[0m\u001b[0m\n\u001b[0;32m    547\u001b[0m             \u001b[1;31m# Allow auth to make its changes.\u001b[0m\u001b[1;33m\u001b[0m\u001b[1;33m\u001b[0m\u001b[1;33m\u001b[0m\u001b[0m\n\u001b[1;32m--> 548\u001b[1;33m             \u001b[0mr\u001b[0m \u001b[1;33m=\u001b[0m \u001b[0mauth\u001b[0m\u001b[1;33m(\u001b[0m\u001b[0mself\u001b[0m\u001b[1;33m)\u001b[0m\u001b[1;33m\u001b[0m\u001b[1;33m\u001b[0m\u001b[0m\n\u001b[0m\u001b[0;32m    549\u001b[0m \u001b[1;33m\u001b[0m\u001b[0m\n\u001b[0;32m    550\u001b[0m             \u001b[1;31m# Update self to reflect the auth changes.\u001b[0m\u001b[1;33m\u001b[0m\u001b[1;33m\u001b[0m\u001b[1;33m\u001b[0m\u001b[0m\n",
      "\u001b[1;32mC:\\Anaconda3\\lib\\site-packages\\requests_oauthlib\\oauth1_auth.py\u001b[0m in \u001b[0;36m__call__\u001b[1;34m(self, r)\u001b[0m\n\u001b[0;32m    107\u001b[0m             \u001b[1;31m# Omit body data in the signing of non form-encoded requests\u001b[0m\u001b[1;33m\u001b[0m\u001b[1;33m\u001b[0m\u001b[1;33m\u001b[0m\u001b[0m\n\u001b[0;32m    108\u001b[0m             r.url, headers, _ = self.client.sign(\n\u001b[1;32m--> 109\u001b[1;33m                 \u001b[0municode\u001b[0m\u001b[1;33m(\u001b[0m\u001b[0mr\u001b[0m\u001b[1;33m.\u001b[0m\u001b[0murl\u001b[0m\u001b[1;33m)\u001b[0m\u001b[1;33m,\u001b[0m \u001b[0municode\u001b[0m\u001b[1;33m(\u001b[0m\u001b[0mr\u001b[0m\u001b[1;33m.\u001b[0m\u001b[0mmethod\u001b[0m\u001b[1;33m)\u001b[0m\u001b[1;33m,\u001b[0m \u001b[1;32mNone\u001b[0m\u001b[1;33m,\u001b[0m \u001b[0mr\u001b[0m\u001b[1;33m.\u001b[0m\u001b[0mheaders\u001b[0m\u001b[1;33m\u001b[0m\u001b[1;33m\u001b[0m\u001b[0m\n\u001b[0m\u001b[0;32m    110\u001b[0m             )\n\u001b[0;32m    111\u001b[0m \u001b[1;33m\u001b[0m\u001b[0m\n",
      "\u001b[1;32mC:\\Anaconda3\\lib\\site-packages\\oauthlib\\oauth1\\rfc5849\\__init__.py\u001b[0m in \u001b[0;36msign\u001b[1;34m(self, uri, http_method, body, headers, realm)\u001b[0m\n\u001b[0;32m    311\u001b[0m         \u001b[1;31m# generate the signature\u001b[0m\u001b[1;33m\u001b[0m\u001b[1;33m\u001b[0m\u001b[1;33m\u001b[0m\u001b[0m\n\u001b[0;32m    312\u001b[0m         request.oauth_params.append(\n\u001b[1;32m--> 313\u001b[1;33m             ('oauth_signature', self.get_oauth_signature(request)))\n\u001b[0m\u001b[0;32m    314\u001b[0m \u001b[1;33m\u001b[0m\u001b[0m\n\u001b[0;32m    315\u001b[0m         \u001b[1;31m# render the signed request and return it\u001b[0m\u001b[1;33m\u001b[0m\u001b[1;33m\u001b[0m\u001b[1;33m\u001b[0m\u001b[0m\n",
      "\u001b[1;32mC:\\Anaconda3\\lib\\site-packages\\oauthlib\\oauth1\\rfc5849\\__init__.py\u001b[0m in \u001b[0;36mget_oauth_signature\u001b[1;34m(self, request)\u001b[0m\n\u001b[0;32m    125\u001b[0m                                             self.resource_owner_secret)\n\u001b[0;32m    126\u001b[0m \u001b[1;33m\u001b[0m\u001b[0m\n\u001b[1;32m--> 127\u001b[1;33m         \u001b[0muri\u001b[0m\u001b[1;33m,\u001b[0m \u001b[0mheaders\u001b[0m\u001b[1;33m,\u001b[0m \u001b[0mbody\u001b[0m \u001b[1;33m=\u001b[0m \u001b[0mself\u001b[0m\u001b[1;33m.\u001b[0m\u001b[0m_render\u001b[0m\u001b[1;33m(\u001b[0m\u001b[0mrequest\u001b[0m\u001b[1;33m)\u001b[0m\u001b[1;33m\u001b[0m\u001b[1;33m\u001b[0m\u001b[0m\n\u001b[0m\u001b[0;32m    128\u001b[0m \u001b[1;33m\u001b[0m\u001b[0m\n\u001b[0;32m    129\u001b[0m         collected_params = signature.collect_parameters(\n",
      "\u001b[1;32mC:\\Anaconda3\\lib\\site-packages\\oauthlib\\oauth1\\rfc5849\\__init__.py\u001b[0m in \u001b[0;36m_render\u001b[1;34m(self, request, formencode, realm)\u001b[0m\n\u001b[0;32m    208\u001b[0m         \u001b[1;32mif\u001b[0m \u001b[0mself\u001b[0m\u001b[1;33m.\u001b[0m\u001b[0msignature_type\u001b[0m \u001b[1;33m==\u001b[0m \u001b[0mSIGNATURE_TYPE_AUTH_HEADER\u001b[0m\u001b[1;33m:\u001b[0m\u001b[1;33m\u001b[0m\u001b[1;33m\u001b[0m\u001b[0m\n\u001b[0;32m    209\u001b[0m             headers = parameters.prepare_headers(\n\u001b[1;32m--> 210\u001b[1;33m                 request.oauth_params, request.headers, realm=realm)\n\u001b[0m\u001b[0;32m    211\u001b[0m         \u001b[1;32melif\u001b[0m \u001b[0mself\u001b[0m\u001b[1;33m.\u001b[0m\u001b[0msignature_type\u001b[0m \u001b[1;33m==\u001b[0m \u001b[0mSIGNATURE_TYPE_BODY\u001b[0m \u001b[1;32mand\u001b[0m \u001b[0mrequest\u001b[0m\u001b[1;33m.\u001b[0m\u001b[0mdecoded_body\u001b[0m \u001b[1;32mis\u001b[0m \u001b[1;32mnot\u001b[0m \u001b[1;32mNone\u001b[0m\u001b[1;33m:\u001b[0m\u001b[1;33m\u001b[0m\u001b[1;33m\u001b[0m\u001b[0m\n\u001b[0;32m    212\u001b[0m             body = parameters.prepare_form_encoded_body(\n",
      "\u001b[1;32mC:\\Anaconda3\\lib\\site-packages\\oauthlib\\oauth1\\rfc5849\\utils.py\u001b[0m in \u001b[0;36mwrapper\u001b[1;34m(params, *args, **kwargs)\u001b[0m\n\u001b[0;32m     30\u001b[0m     \u001b[1;32mdef\u001b[0m \u001b[0mwrapper\u001b[0m\u001b[1;33m(\u001b[0m\u001b[0mparams\u001b[0m\u001b[1;33m,\u001b[0m \u001b[1;33m*\u001b[0m\u001b[0margs\u001b[0m\u001b[1;33m,\u001b[0m \u001b[1;33m**\u001b[0m\u001b[0mkwargs\u001b[0m\u001b[1;33m)\u001b[0m\u001b[1;33m:\u001b[0m\u001b[1;33m\u001b[0m\u001b[1;33m\u001b[0m\u001b[0m\n\u001b[0;32m     31\u001b[0m         \u001b[0mparams\u001b[0m \u001b[1;33m=\u001b[0m \u001b[0mfilter_oauth_params\u001b[0m\u001b[1;33m(\u001b[0m\u001b[0mparams\u001b[0m\u001b[1;33m)\u001b[0m\u001b[1;33m\u001b[0m\u001b[1;33m\u001b[0m\u001b[0m\n\u001b[1;32m---> 32\u001b[1;33m         \u001b[1;32mreturn\u001b[0m \u001b[0mtarget\u001b[0m\u001b[1;33m(\u001b[0m\u001b[0mparams\u001b[0m\u001b[1;33m,\u001b[0m \u001b[1;33m*\u001b[0m\u001b[0margs\u001b[0m\u001b[1;33m,\u001b[0m \u001b[1;33m**\u001b[0m\u001b[0mkwargs\u001b[0m\u001b[1;33m)\u001b[0m\u001b[1;33m\u001b[0m\u001b[1;33m\u001b[0m\u001b[0m\n\u001b[0m\u001b[0;32m     33\u001b[0m \u001b[1;33m\u001b[0m\u001b[0m\n\u001b[0;32m     34\u001b[0m     \u001b[0mwrapper\u001b[0m\u001b[1;33m.\u001b[0m\u001b[0m__doc__\u001b[0m \u001b[1;33m=\u001b[0m \u001b[0mtarget\u001b[0m\u001b[1;33m.\u001b[0m\u001b[0m__doc__\u001b[0m\u001b[1;33m\u001b[0m\u001b[1;33m\u001b[0m\u001b[0m\n",
      "\u001b[1;32mC:\\Anaconda3\\lib\\site-packages\\oauthlib\\oauth1\\rfc5849\\parameters.py\u001b[0m in \u001b[0;36mprepare_headers\u001b[1;34m(oauth_params, headers, realm)\u001b[0m\n\u001b[0;32m     57\u001b[0m         \u001b[1;31m# .. _`Section 3.6`: https://tools.ietf.org/html/rfc5849#section-3.6\u001b[0m\u001b[1;33m\u001b[0m\u001b[1;33m\u001b[0m\u001b[1;33m\u001b[0m\u001b[0m\n\u001b[0;32m     58\u001b[0m         \u001b[0mescaped_name\u001b[0m \u001b[1;33m=\u001b[0m \u001b[0mutils\u001b[0m\u001b[1;33m.\u001b[0m\u001b[0mescape\u001b[0m\u001b[1;33m(\u001b[0m\u001b[0moauth_parameter_name\u001b[0m\u001b[1;33m)\u001b[0m\u001b[1;33m\u001b[0m\u001b[1;33m\u001b[0m\u001b[0m\n\u001b[1;32m---> 59\u001b[1;33m         \u001b[0mescaped_value\u001b[0m \u001b[1;33m=\u001b[0m \u001b[0mutils\u001b[0m\u001b[1;33m.\u001b[0m\u001b[0mescape\u001b[0m\u001b[1;33m(\u001b[0m\u001b[0mvalue\u001b[0m\u001b[1;33m)\u001b[0m\u001b[1;33m\u001b[0m\u001b[1;33m\u001b[0m\u001b[0m\n\u001b[0m\u001b[0;32m     60\u001b[0m \u001b[1;33m\u001b[0m\u001b[0m\n\u001b[0;32m     61\u001b[0m         \u001b[1;31m# 2.  Each parameter's name is immediately followed by an \"=\" character\u001b[0m\u001b[1;33m\u001b[0m\u001b[1;33m\u001b[0m\u001b[1;33m\u001b[0m\u001b[0m\n",
      "\u001b[1;32mC:\\Anaconda3\\lib\\site-packages\\oauthlib\\oauth1\\rfc5849\\utils.py\u001b[0m in \u001b[0;36mescape\u001b[1;34m(u)\u001b[0m\n\u001b[0;32m     55\u001b[0m     \u001b[1;32mif\u001b[0m \u001b[1;32mnot\u001b[0m \u001b[0misinstance\u001b[0m\u001b[1;33m(\u001b[0m\u001b[0mu\u001b[0m\u001b[1;33m,\u001b[0m \u001b[0municode_type\u001b[0m\u001b[1;33m)\u001b[0m\u001b[1;33m:\u001b[0m\u001b[1;33m\u001b[0m\u001b[1;33m\u001b[0m\u001b[0m\n\u001b[0;32m     56\u001b[0m         raise ValueError('Only unicode objects are escapable. ' +\n\u001b[1;32m---> 57\u001b[1;33m                          'Got %r of type %s.' % (u, type(u)))\n\u001b[0m\u001b[0;32m     58\u001b[0m     \u001b[1;31m# Letters, digits, and the characters '_.-' are already treated as safe\u001b[0m\u001b[1;33m\u001b[0m\u001b[1;33m\u001b[0m\u001b[1;33m\u001b[0m\u001b[0m\n\u001b[0;32m     59\u001b[0m     \u001b[1;31m# by urllib.quote(). We need to add '~' to fully support rfc5849.\u001b[0m\u001b[1;33m\u001b[0m\u001b[1;33m\u001b[0m\u001b[1;33m\u001b[0m\u001b[0m\n",
      "\u001b[1;31mTweepError\u001b[0m: Failed to send request: Only unicode objects are escapable. Got Ellipsis of type <class 'ellipsis'>."
     ]
    }
   ],
   "source": [
    "for status in tweepy.Cursor(api.home_timeline).items(10):\n",
    "    # Process a single status\n",
    "    print(status.text)"
   ]
  },
  {
   "cell_type": "code",
   "execution_count": 16,
   "metadata": {},
   "outputs": [
    {
     "ename": "TweepError",
     "evalue": "Failed to send request: Only unicode objects are escapable. Got Ellipsis of type <class 'ellipsis'>.",
     "output_type": "error",
     "traceback": [
      "\u001b[1;31m---------------------------------------------------------------------------\u001b[0m",
      "\u001b[1;31mValueError\u001b[0m                                Traceback (most recent call last)",
      "\u001b[1;32mC:\\Anaconda3\\lib\\site-packages\\tweepy\\binder.py\u001b[0m in \u001b[0;36mexecute\u001b[1;34m(self)\u001b[0m\n\u001b[0;32m    188\u001b[0m                                                 \u001b[0mauth\u001b[0m\u001b[1;33m=\u001b[0m\u001b[0mauth\u001b[0m\u001b[1;33m,\u001b[0m\u001b[1;33m\u001b[0m\u001b[1;33m\u001b[0m\u001b[0m\n\u001b[1;32m--> 189\u001b[1;33m                                                 proxies=self.api.proxy)\n\u001b[0m\u001b[0;32m    190\u001b[0m                 \u001b[1;32mexcept\u001b[0m \u001b[0mException\u001b[0m \u001b[1;32mas\u001b[0m \u001b[0me\u001b[0m\u001b[1;33m:\u001b[0m\u001b[1;33m\u001b[0m\u001b[1;33m\u001b[0m\u001b[0m\n",
      "\u001b[1;32mC:\\Anaconda3\\lib\\site-packages\\requests\\sessions.py\u001b[0m in \u001b[0;36mrequest\u001b[1;34m(self, method, url, params, data, headers, cookies, files, auth, timeout, allow_redirects, proxies, hooks, stream, verify, cert, json)\u001b[0m\n\u001b[0;32m    518\u001b[0m         )\n\u001b[1;32m--> 519\u001b[1;33m         \u001b[0mprep\u001b[0m \u001b[1;33m=\u001b[0m \u001b[0mself\u001b[0m\u001b[1;33m.\u001b[0m\u001b[0mprepare_request\u001b[0m\u001b[1;33m(\u001b[0m\u001b[0mreq\u001b[0m\u001b[1;33m)\u001b[0m\u001b[1;33m\u001b[0m\u001b[1;33m\u001b[0m\u001b[0m\n\u001b[0m\u001b[0;32m    520\u001b[0m \u001b[1;33m\u001b[0m\u001b[0m\n",
      "\u001b[1;32mC:\\Anaconda3\\lib\\site-packages\\requests\\sessions.py\u001b[0m in \u001b[0;36mprepare_request\u001b[1;34m(self, request)\u001b[0m\n\u001b[0;32m    461\u001b[0m             \u001b[0mcookies\u001b[0m\u001b[1;33m=\u001b[0m\u001b[0mmerged_cookies\u001b[0m\u001b[1;33m,\u001b[0m\u001b[1;33m\u001b[0m\u001b[1;33m\u001b[0m\u001b[0m\n\u001b[1;32m--> 462\u001b[1;33m             \u001b[0mhooks\u001b[0m\u001b[1;33m=\u001b[0m\u001b[0mmerge_hooks\u001b[0m\u001b[1;33m(\u001b[0m\u001b[0mrequest\u001b[0m\u001b[1;33m.\u001b[0m\u001b[0mhooks\u001b[0m\u001b[1;33m,\u001b[0m \u001b[0mself\u001b[0m\u001b[1;33m.\u001b[0m\u001b[0mhooks\u001b[0m\u001b[1;33m)\u001b[0m\u001b[1;33m,\u001b[0m\u001b[1;33m\u001b[0m\u001b[1;33m\u001b[0m\u001b[0m\n\u001b[0m\u001b[0;32m    463\u001b[0m         )\n",
      "\u001b[1;32mC:\\Anaconda3\\lib\\site-packages\\requests\\models.py\u001b[0m in \u001b[0;36mprepare\u001b[1;34m(self, method, url, headers, files, data, params, auth, cookies, hooks, json)\u001b[0m\n\u001b[0;32m    316\u001b[0m         \u001b[0mself\u001b[0m\u001b[1;33m.\u001b[0m\u001b[0mprepare_body\u001b[0m\u001b[1;33m(\u001b[0m\u001b[0mdata\u001b[0m\u001b[1;33m,\u001b[0m \u001b[0mfiles\u001b[0m\u001b[1;33m,\u001b[0m \u001b[0mjson\u001b[0m\u001b[1;33m)\u001b[0m\u001b[1;33m\u001b[0m\u001b[1;33m\u001b[0m\u001b[0m\n\u001b[1;32m--> 317\u001b[1;33m         \u001b[0mself\u001b[0m\u001b[1;33m.\u001b[0m\u001b[0mprepare_auth\u001b[0m\u001b[1;33m(\u001b[0m\u001b[0mauth\u001b[0m\u001b[1;33m,\u001b[0m \u001b[0murl\u001b[0m\u001b[1;33m)\u001b[0m\u001b[1;33m\u001b[0m\u001b[1;33m\u001b[0m\u001b[0m\n\u001b[0m\u001b[0;32m    318\u001b[0m \u001b[1;33m\u001b[0m\u001b[0m\n",
      "\u001b[1;32mC:\\Anaconda3\\lib\\site-packages\\requests\\models.py\u001b[0m in \u001b[0;36mprepare_auth\u001b[1;34m(self, auth, url)\u001b[0m\n\u001b[0;32m    547\u001b[0m             \u001b[1;31m# Allow auth to make its changes.\u001b[0m\u001b[1;33m\u001b[0m\u001b[1;33m\u001b[0m\u001b[1;33m\u001b[0m\u001b[0m\n\u001b[1;32m--> 548\u001b[1;33m             \u001b[0mr\u001b[0m \u001b[1;33m=\u001b[0m \u001b[0mauth\u001b[0m\u001b[1;33m(\u001b[0m\u001b[0mself\u001b[0m\u001b[1;33m)\u001b[0m\u001b[1;33m\u001b[0m\u001b[1;33m\u001b[0m\u001b[0m\n\u001b[0m\u001b[0;32m    549\u001b[0m \u001b[1;33m\u001b[0m\u001b[0m\n",
      "\u001b[1;32mC:\\Anaconda3\\lib\\site-packages\\requests_oauthlib\\oauth1_auth.py\u001b[0m in \u001b[0;36m__call__\u001b[1;34m(self, r)\u001b[0m\n\u001b[0;32m    108\u001b[0m             r.url, headers, _ = self.client.sign(\n\u001b[1;32m--> 109\u001b[1;33m                 \u001b[0municode\u001b[0m\u001b[1;33m(\u001b[0m\u001b[0mr\u001b[0m\u001b[1;33m.\u001b[0m\u001b[0murl\u001b[0m\u001b[1;33m)\u001b[0m\u001b[1;33m,\u001b[0m \u001b[0municode\u001b[0m\u001b[1;33m(\u001b[0m\u001b[0mr\u001b[0m\u001b[1;33m.\u001b[0m\u001b[0mmethod\u001b[0m\u001b[1;33m)\u001b[0m\u001b[1;33m,\u001b[0m \u001b[1;32mNone\u001b[0m\u001b[1;33m,\u001b[0m \u001b[0mr\u001b[0m\u001b[1;33m.\u001b[0m\u001b[0mheaders\u001b[0m\u001b[1;33m\u001b[0m\u001b[1;33m\u001b[0m\u001b[0m\n\u001b[0m\u001b[0;32m    110\u001b[0m             )\n",
      "\u001b[1;32mC:\\Anaconda3\\lib\\site-packages\\oauthlib\\oauth1\\rfc5849\\__init__.py\u001b[0m in \u001b[0;36msign\u001b[1;34m(self, uri, http_method, body, headers, realm)\u001b[0m\n\u001b[0;32m    312\u001b[0m         request.oauth_params.append(\n\u001b[1;32m--> 313\u001b[1;33m             ('oauth_signature', self.get_oauth_signature(request)))\n\u001b[0m\u001b[0;32m    314\u001b[0m \u001b[1;33m\u001b[0m\u001b[0m\n",
      "\u001b[1;32mC:\\Anaconda3\\lib\\site-packages\\oauthlib\\oauth1\\rfc5849\\__init__.py\u001b[0m in \u001b[0;36mget_oauth_signature\u001b[1;34m(self, request)\u001b[0m\n\u001b[0;32m    126\u001b[0m \u001b[1;33m\u001b[0m\u001b[0m\n\u001b[1;32m--> 127\u001b[1;33m         \u001b[0muri\u001b[0m\u001b[1;33m,\u001b[0m \u001b[0mheaders\u001b[0m\u001b[1;33m,\u001b[0m \u001b[0mbody\u001b[0m \u001b[1;33m=\u001b[0m \u001b[0mself\u001b[0m\u001b[1;33m.\u001b[0m\u001b[0m_render\u001b[0m\u001b[1;33m(\u001b[0m\u001b[0mrequest\u001b[0m\u001b[1;33m)\u001b[0m\u001b[1;33m\u001b[0m\u001b[1;33m\u001b[0m\u001b[0m\n\u001b[0m\u001b[0;32m    128\u001b[0m \u001b[1;33m\u001b[0m\u001b[0m\n",
      "\u001b[1;32mC:\\Anaconda3\\lib\\site-packages\\oauthlib\\oauth1\\rfc5849\\__init__.py\u001b[0m in \u001b[0;36m_render\u001b[1;34m(self, request, formencode, realm)\u001b[0m\n\u001b[0;32m    209\u001b[0m             headers = parameters.prepare_headers(\n\u001b[1;32m--> 210\u001b[1;33m                 request.oauth_params, request.headers, realm=realm)\n\u001b[0m\u001b[0;32m    211\u001b[0m         \u001b[1;32melif\u001b[0m \u001b[0mself\u001b[0m\u001b[1;33m.\u001b[0m\u001b[0msignature_type\u001b[0m \u001b[1;33m==\u001b[0m \u001b[0mSIGNATURE_TYPE_BODY\u001b[0m \u001b[1;32mand\u001b[0m \u001b[0mrequest\u001b[0m\u001b[1;33m.\u001b[0m\u001b[0mdecoded_body\u001b[0m \u001b[1;32mis\u001b[0m \u001b[1;32mnot\u001b[0m \u001b[1;32mNone\u001b[0m\u001b[1;33m:\u001b[0m\u001b[1;33m\u001b[0m\u001b[1;33m\u001b[0m\u001b[0m\n",
      "\u001b[1;32mC:\\Anaconda3\\lib\\site-packages\\oauthlib\\oauth1\\rfc5849\\utils.py\u001b[0m in \u001b[0;36mwrapper\u001b[1;34m(params, *args, **kwargs)\u001b[0m\n\u001b[0;32m     31\u001b[0m         \u001b[0mparams\u001b[0m \u001b[1;33m=\u001b[0m \u001b[0mfilter_oauth_params\u001b[0m\u001b[1;33m(\u001b[0m\u001b[0mparams\u001b[0m\u001b[1;33m)\u001b[0m\u001b[1;33m\u001b[0m\u001b[1;33m\u001b[0m\u001b[0m\n\u001b[1;32m---> 32\u001b[1;33m         \u001b[1;32mreturn\u001b[0m \u001b[0mtarget\u001b[0m\u001b[1;33m(\u001b[0m\u001b[0mparams\u001b[0m\u001b[1;33m,\u001b[0m \u001b[1;33m*\u001b[0m\u001b[0margs\u001b[0m\u001b[1;33m,\u001b[0m \u001b[1;33m**\u001b[0m\u001b[0mkwargs\u001b[0m\u001b[1;33m)\u001b[0m\u001b[1;33m\u001b[0m\u001b[1;33m\u001b[0m\u001b[0m\n\u001b[0m\u001b[0;32m     33\u001b[0m \u001b[1;33m\u001b[0m\u001b[0m\n",
      "\u001b[1;32mC:\\Anaconda3\\lib\\site-packages\\oauthlib\\oauth1\\rfc5849\\parameters.py\u001b[0m in \u001b[0;36mprepare_headers\u001b[1;34m(oauth_params, headers, realm)\u001b[0m\n\u001b[0;32m     58\u001b[0m         \u001b[0mescaped_name\u001b[0m \u001b[1;33m=\u001b[0m \u001b[0mutils\u001b[0m\u001b[1;33m.\u001b[0m\u001b[0mescape\u001b[0m\u001b[1;33m(\u001b[0m\u001b[0moauth_parameter_name\u001b[0m\u001b[1;33m)\u001b[0m\u001b[1;33m\u001b[0m\u001b[1;33m\u001b[0m\u001b[0m\n\u001b[1;32m---> 59\u001b[1;33m         \u001b[0mescaped_value\u001b[0m \u001b[1;33m=\u001b[0m \u001b[0mutils\u001b[0m\u001b[1;33m.\u001b[0m\u001b[0mescape\u001b[0m\u001b[1;33m(\u001b[0m\u001b[0mvalue\u001b[0m\u001b[1;33m)\u001b[0m\u001b[1;33m\u001b[0m\u001b[1;33m\u001b[0m\u001b[0m\n\u001b[0m\u001b[0;32m     60\u001b[0m \u001b[1;33m\u001b[0m\u001b[0m\n",
      "\u001b[1;32mC:\\Anaconda3\\lib\\site-packages\\oauthlib\\oauth1\\rfc5849\\utils.py\u001b[0m in \u001b[0;36mescape\u001b[1;34m(u)\u001b[0m\n\u001b[0;32m     56\u001b[0m         raise ValueError('Only unicode objects are escapable. ' +\n\u001b[1;32m---> 57\u001b[1;33m                          'Got %r of type %s.' % (u, type(u)))\n\u001b[0m\u001b[0;32m     58\u001b[0m     \u001b[1;31m# Letters, digits, and the characters '_.-' are already treated as safe\u001b[0m\u001b[1;33m\u001b[0m\u001b[1;33m\u001b[0m\u001b[1;33m\u001b[0m\u001b[0m\n",
      "\u001b[1;31mValueError\u001b[0m: Only unicode objects are escapable. Got Ellipsis of type <class 'ellipsis'>.",
      "\nDuring handling of the above exception, another exception occurred:\n",
      "\u001b[1;31mTweepError\u001b[0m                                Traceback (most recent call last)",
      "\u001b[1;32m<ipython-input-16-cd6e4a8998ed>\u001b[0m in \u001b[0;36m<module>\u001b[1;34m\u001b[0m\n\u001b[1;32m----> 1\u001b[1;33m \u001b[0mpublic_tweets\u001b[0m \u001b[1;33m=\u001b[0m \u001b[0mapi\u001b[0m\u001b[1;33m.\u001b[0m\u001b[0mupdate_status\u001b[0m\u001b[1;33m(\u001b[0m\u001b[0mtweet\u001b[0m\u001b[1;33m,\u001b[0m \u001b[0mlat\u001b[0m \u001b[1;33m=\u001b[0m \u001b[1;33m-\u001b[0m\u001b[1;36m33.736345\u001b[0m\u001b[1;33m,\u001b[0m \u001b[0mlong\u001b[0m \u001b[1;33m=\u001b[0m \u001b[1;33m-\u001b[0m\u001b[1;36m70.891338\u001b[0m\u001b[1;33m)\u001b[0m\u001b[1;33m\u001b[0m\u001b[1;33m\u001b[0m\u001b[0m\n\u001b[0m\u001b[0;32m      2\u001b[0m \u001b[1;32mfor\u001b[0m \u001b[0mpublic_tweet\u001b[0m \u001b[1;32min\u001b[0m \u001b[0mpublic_tweets\u001b[0m\u001b[1;33m:\u001b[0m\u001b[1;33m\u001b[0m\u001b[1;33m\u001b[0m\u001b[0m\n\u001b[0;32m      3\u001b[0m     \u001b[0mprint\u001b[0m \u001b[1;33m(\u001b[0m\u001b[0mpublic_tweet\u001b[0m\u001b[1;33m.\u001b[0m\u001b[0mtext\u001b[0m\u001b[1;33m)\u001b[0m\u001b[1;33m\u001b[0m\u001b[1;33m\u001b[0m\u001b[0m\n\u001b[0;32m      4\u001b[0m \u001b[1;33m\u001b[0m\u001b[0m\n",
      "\u001b[1;32mC:\\Anaconda3\\lib\\site-packages\\tweepy\\api.py\u001b[0m in \u001b[0;36mupdate_status\u001b[1;34m(self, *args, **kwargs)\u001b[0m\n\u001b[0;32m    191\u001b[0m             \u001b[0mallowed_param\u001b[0m\u001b[1;33m=\u001b[0m\u001b[1;33m[\u001b[0m\u001b[1;34m'status'\u001b[0m\u001b[1;33m,\u001b[0m \u001b[1;34m'in_reply_to_status_id'\u001b[0m\u001b[1;33m,\u001b[0m \u001b[1;34m'in_reply_to_status_id_str'\u001b[0m\u001b[1;33m,\u001b[0m \u001b[1;34m'auto_populate_reply_metadata'\u001b[0m\u001b[1;33m,\u001b[0m \u001b[1;34m'lat'\u001b[0m\u001b[1;33m,\u001b[0m \u001b[1;34m'long'\u001b[0m\u001b[1;33m,\u001b[0m \u001b[1;34m'source'\u001b[0m\u001b[1;33m,\u001b[0m \u001b[1;34m'place_id'\u001b[0m\u001b[1;33m,\u001b[0m \u001b[1;34m'display_coordinates'\u001b[0m\u001b[1;33m]\u001b[0m\u001b[1;33m,\u001b[0m\u001b[1;33m\u001b[0m\u001b[1;33m\u001b[0m\u001b[0m\n\u001b[0;32m    192\u001b[0m             \u001b[0mrequire_auth\u001b[0m\u001b[1;33m=\u001b[0m\u001b[1;32mTrue\u001b[0m\u001b[1;33m\u001b[0m\u001b[1;33m\u001b[0m\u001b[0m\n\u001b[1;32m--> 193\u001b[1;33m         )(post_data=post_data, *args, **kwargs)\n\u001b[0m\u001b[0;32m    194\u001b[0m \u001b[1;33m\u001b[0m\u001b[0m\n\u001b[0;32m    195\u001b[0m     \u001b[1;32mdef\u001b[0m \u001b[0mmedia_upload\u001b[0m\u001b[1;33m(\u001b[0m\u001b[0mself\u001b[0m\u001b[1;33m,\u001b[0m \u001b[0mfilename\u001b[0m\u001b[1;33m,\u001b[0m \u001b[1;33m*\u001b[0m\u001b[0margs\u001b[0m\u001b[1;33m,\u001b[0m \u001b[1;33m**\u001b[0m\u001b[0mkwargs\u001b[0m\u001b[1;33m)\u001b[0m\u001b[1;33m:\u001b[0m\u001b[1;33m\u001b[0m\u001b[1;33m\u001b[0m\u001b[0m\n",
      "\u001b[1;32mC:\\Anaconda3\\lib\\site-packages\\tweepy\\binder.py\u001b[0m in \u001b[0;36m_call\u001b[1;34m(*args, **kwargs)\u001b[0m\n\u001b[0;32m    248\u001b[0m                 \u001b[1;32mreturn\u001b[0m \u001b[0mmethod\u001b[0m\u001b[1;33m\u001b[0m\u001b[1;33m\u001b[0m\u001b[0m\n\u001b[0;32m    249\u001b[0m             \u001b[1;32melse\u001b[0m\u001b[1;33m:\u001b[0m\u001b[1;33m\u001b[0m\u001b[1;33m\u001b[0m\u001b[0m\n\u001b[1;32m--> 250\u001b[1;33m                 \u001b[1;32mreturn\u001b[0m \u001b[0mmethod\u001b[0m\u001b[1;33m.\u001b[0m\u001b[0mexecute\u001b[0m\u001b[1;33m(\u001b[0m\u001b[1;33m)\u001b[0m\u001b[1;33m\u001b[0m\u001b[1;33m\u001b[0m\u001b[0m\n\u001b[0m\u001b[0;32m    251\u001b[0m         \u001b[1;32mfinally\u001b[0m\u001b[1;33m:\u001b[0m\u001b[1;33m\u001b[0m\u001b[1;33m\u001b[0m\u001b[0m\n\u001b[0;32m    252\u001b[0m             \u001b[0mmethod\u001b[0m\u001b[1;33m.\u001b[0m\u001b[0msession\u001b[0m\u001b[1;33m.\u001b[0m\u001b[0mclose\u001b[0m\u001b[1;33m(\u001b[0m\u001b[1;33m)\u001b[0m\u001b[1;33m\u001b[0m\u001b[1;33m\u001b[0m\u001b[0m\n",
      "\u001b[1;32mC:\\Anaconda3\\lib\\site-packages\\tweepy\\binder.py\u001b[0m in \u001b[0;36mexecute\u001b[1;34m(self)\u001b[0m\n\u001b[0;32m    189\u001b[0m                                                 proxies=self.api.proxy)\n\u001b[0;32m    190\u001b[0m                 \u001b[1;32mexcept\u001b[0m \u001b[0mException\u001b[0m \u001b[1;32mas\u001b[0m \u001b[0me\u001b[0m\u001b[1;33m:\u001b[0m\u001b[1;33m\u001b[0m\u001b[1;33m\u001b[0m\u001b[0m\n\u001b[1;32m--> 191\u001b[1;33m                     \u001b[0msix\u001b[0m\u001b[1;33m.\u001b[0m\u001b[0mreraise\u001b[0m\u001b[1;33m(\u001b[0m\u001b[0mTweepError\u001b[0m\u001b[1;33m,\u001b[0m \u001b[0mTweepError\u001b[0m\u001b[1;33m(\u001b[0m\u001b[1;34m'Failed to send request: %s'\u001b[0m \u001b[1;33m%\u001b[0m \u001b[0me\u001b[0m\u001b[1;33m)\u001b[0m\u001b[1;33m,\u001b[0m \u001b[0msys\u001b[0m\u001b[1;33m.\u001b[0m\u001b[0mexc_info\u001b[0m\u001b[1;33m(\u001b[0m\u001b[1;33m)\u001b[0m\u001b[1;33m[\u001b[0m\u001b[1;36m2\u001b[0m\u001b[1;33m]\u001b[0m\u001b[1;33m)\u001b[0m\u001b[1;33m\u001b[0m\u001b[1;33m\u001b[0m\u001b[0m\n\u001b[0m\u001b[0;32m    192\u001b[0m \u001b[1;33m\u001b[0m\u001b[0m\n\u001b[0;32m    193\u001b[0m                 \u001b[0mrem_calls\u001b[0m \u001b[1;33m=\u001b[0m \u001b[0mresp\u001b[0m\u001b[1;33m.\u001b[0m\u001b[0mheaders\u001b[0m\u001b[1;33m.\u001b[0m\u001b[0mget\u001b[0m\u001b[1;33m(\u001b[0m\u001b[1;34m'x-rate-limit-remaining'\u001b[0m\u001b[1;33m)\u001b[0m\u001b[1;33m\u001b[0m\u001b[1;33m\u001b[0m\u001b[0m\n",
      "\u001b[1;32mC:\\Anaconda3\\lib\\site-packages\\six.py\u001b[0m in \u001b[0;36mreraise\u001b[1;34m(tp, value, tb)\u001b[0m\n\u001b[0;32m    690\u001b[0m                 \u001b[0mvalue\u001b[0m \u001b[1;33m=\u001b[0m \u001b[0mtp\u001b[0m\u001b[1;33m(\u001b[0m\u001b[1;33m)\u001b[0m\u001b[1;33m\u001b[0m\u001b[1;33m\u001b[0m\u001b[0m\n\u001b[0;32m    691\u001b[0m             \u001b[1;32mif\u001b[0m \u001b[0mvalue\u001b[0m\u001b[1;33m.\u001b[0m\u001b[0m__traceback__\u001b[0m \u001b[1;32mis\u001b[0m \u001b[1;32mnot\u001b[0m \u001b[0mtb\u001b[0m\u001b[1;33m:\u001b[0m\u001b[1;33m\u001b[0m\u001b[1;33m\u001b[0m\u001b[0m\n\u001b[1;32m--> 692\u001b[1;33m                 \u001b[1;32mraise\u001b[0m \u001b[0mvalue\u001b[0m\u001b[1;33m.\u001b[0m\u001b[0mwith_traceback\u001b[0m\u001b[1;33m(\u001b[0m\u001b[0mtb\u001b[0m\u001b[1;33m)\u001b[0m\u001b[1;33m\u001b[0m\u001b[1;33m\u001b[0m\u001b[0m\n\u001b[0m\u001b[0;32m    693\u001b[0m             \u001b[1;32mraise\u001b[0m \u001b[0mvalue\u001b[0m\u001b[1;33m\u001b[0m\u001b[1;33m\u001b[0m\u001b[0m\n\u001b[0;32m    694\u001b[0m         \u001b[1;32mfinally\u001b[0m\u001b[1;33m:\u001b[0m\u001b[1;33m\u001b[0m\u001b[1;33m\u001b[0m\u001b[0m\n",
      "\u001b[1;32mC:\\Anaconda3\\lib\\site-packages\\tweepy\\binder.py\u001b[0m in \u001b[0;36mexecute\u001b[1;34m(self)\u001b[0m\n\u001b[0;32m    187\u001b[0m                                                 \u001b[0mtimeout\u001b[0m\u001b[1;33m=\u001b[0m\u001b[0mself\u001b[0m\u001b[1;33m.\u001b[0m\u001b[0mapi\u001b[0m\u001b[1;33m.\u001b[0m\u001b[0mtimeout\u001b[0m\u001b[1;33m,\u001b[0m\u001b[1;33m\u001b[0m\u001b[1;33m\u001b[0m\u001b[0m\n\u001b[0;32m    188\u001b[0m                                                 \u001b[0mauth\u001b[0m\u001b[1;33m=\u001b[0m\u001b[0mauth\u001b[0m\u001b[1;33m,\u001b[0m\u001b[1;33m\u001b[0m\u001b[1;33m\u001b[0m\u001b[0m\n\u001b[1;32m--> 189\u001b[1;33m                                                 proxies=self.api.proxy)\n\u001b[0m\u001b[0;32m    190\u001b[0m                 \u001b[1;32mexcept\u001b[0m \u001b[0mException\u001b[0m \u001b[1;32mas\u001b[0m \u001b[0me\u001b[0m\u001b[1;33m:\u001b[0m\u001b[1;33m\u001b[0m\u001b[1;33m\u001b[0m\u001b[0m\n\u001b[0;32m    191\u001b[0m                     \u001b[0msix\u001b[0m\u001b[1;33m.\u001b[0m\u001b[0mreraise\u001b[0m\u001b[1;33m(\u001b[0m\u001b[0mTweepError\u001b[0m\u001b[1;33m,\u001b[0m \u001b[0mTweepError\u001b[0m\u001b[1;33m(\u001b[0m\u001b[1;34m'Failed to send request: %s'\u001b[0m \u001b[1;33m%\u001b[0m \u001b[0me\u001b[0m\u001b[1;33m)\u001b[0m\u001b[1;33m,\u001b[0m \u001b[0msys\u001b[0m\u001b[1;33m.\u001b[0m\u001b[0mexc_info\u001b[0m\u001b[1;33m(\u001b[0m\u001b[1;33m)\u001b[0m\u001b[1;33m[\u001b[0m\u001b[1;36m2\u001b[0m\u001b[1;33m]\u001b[0m\u001b[1;33m)\u001b[0m\u001b[1;33m\u001b[0m\u001b[1;33m\u001b[0m\u001b[0m\n",
      "\u001b[1;32mC:\\Anaconda3\\lib\\site-packages\\requests\\sessions.py\u001b[0m in \u001b[0;36mrequest\u001b[1;34m(self, method, url, params, data, headers, cookies, files, auth, timeout, allow_redirects, proxies, hooks, stream, verify, cert, json)\u001b[0m\n\u001b[0;32m    517\u001b[0m             \u001b[0mhooks\u001b[0m\u001b[1;33m=\u001b[0m\u001b[0mhooks\u001b[0m\u001b[1;33m,\u001b[0m\u001b[1;33m\u001b[0m\u001b[1;33m\u001b[0m\u001b[0m\n\u001b[0;32m    518\u001b[0m         )\n\u001b[1;32m--> 519\u001b[1;33m         \u001b[0mprep\u001b[0m \u001b[1;33m=\u001b[0m \u001b[0mself\u001b[0m\u001b[1;33m.\u001b[0m\u001b[0mprepare_request\u001b[0m\u001b[1;33m(\u001b[0m\u001b[0mreq\u001b[0m\u001b[1;33m)\u001b[0m\u001b[1;33m\u001b[0m\u001b[1;33m\u001b[0m\u001b[0m\n\u001b[0m\u001b[0;32m    520\u001b[0m \u001b[1;33m\u001b[0m\u001b[0m\n\u001b[0;32m    521\u001b[0m         \u001b[0mproxies\u001b[0m \u001b[1;33m=\u001b[0m \u001b[0mproxies\u001b[0m \u001b[1;32mor\u001b[0m \u001b[1;33m{\u001b[0m\u001b[1;33m}\u001b[0m\u001b[1;33m\u001b[0m\u001b[1;33m\u001b[0m\u001b[0m\n",
      "\u001b[1;32mC:\\Anaconda3\\lib\\site-packages\\requests\\sessions.py\u001b[0m in \u001b[0;36mprepare_request\u001b[1;34m(self, request)\u001b[0m\n\u001b[0;32m    460\u001b[0m             \u001b[0mauth\u001b[0m\u001b[1;33m=\u001b[0m\u001b[0mmerge_setting\u001b[0m\u001b[1;33m(\u001b[0m\u001b[0mauth\u001b[0m\u001b[1;33m,\u001b[0m \u001b[0mself\u001b[0m\u001b[1;33m.\u001b[0m\u001b[0mauth\u001b[0m\u001b[1;33m)\u001b[0m\u001b[1;33m,\u001b[0m\u001b[1;33m\u001b[0m\u001b[1;33m\u001b[0m\u001b[0m\n\u001b[0;32m    461\u001b[0m             \u001b[0mcookies\u001b[0m\u001b[1;33m=\u001b[0m\u001b[0mmerged_cookies\u001b[0m\u001b[1;33m,\u001b[0m\u001b[1;33m\u001b[0m\u001b[1;33m\u001b[0m\u001b[0m\n\u001b[1;32m--> 462\u001b[1;33m             \u001b[0mhooks\u001b[0m\u001b[1;33m=\u001b[0m\u001b[0mmerge_hooks\u001b[0m\u001b[1;33m(\u001b[0m\u001b[0mrequest\u001b[0m\u001b[1;33m.\u001b[0m\u001b[0mhooks\u001b[0m\u001b[1;33m,\u001b[0m \u001b[0mself\u001b[0m\u001b[1;33m.\u001b[0m\u001b[0mhooks\u001b[0m\u001b[1;33m)\u001b[0m\u001b[1;33m,\u001b[0m\u001b[1;33m\u001b[0m\u001b[1;33m\u001b[0m\u001b[0m\n\u001b[0m\u001b[0;32m    463\u001b[0m         )\n\u001b[0;32m    464\u001b[0m         \u001b[1;32mreturn\u001b[0m \u001b[0mp\u001b[0m\u001b[1;33m\u001b[0m\u001b[1;33m\u001b[0m\u001b[0m\n",
      "\u001b[1;32mC:\\Anaconda3\\lib\\site-packages\\requests\\models.py\u001b[0m in \u001b[0;36mprepare\u001b[1;34m(self, method, url, headers, files, data, params, auth, cookies, hooks, json)\u001b[0m\n\u001b[0;32m    315\u001b[0m         \u001b[0mself\u001b[0m\u001b[1;33m.\u001b[0m\u001b[0mprepare_cookies\u001b[0m\u001b[1;33m(\u001b[0m\u001b[0mcookies\u001b[0m\u001b[1;33m)\u001b[0m\u001b[1;33m\u001b[0m\u001b[1;33m\u001b[0m\u001b[0m\n\u001b[0;32m    316\u001b[0m         \u001b[0mself\u001b[0m\u001b[1;33m.\u001b[0m\u001b[0mprepare_body\u001b[0m\u001b[1;33m(\u001b[0m\u001b[0mdata\u001b[0m\u001b[1;33m,\u001b[0m \u001b[0mfiles\u001b[0m\u001b[1;33m,\u001b[0m \u001b[0mjson\u001b[0m\u001b[1;33m)\u001b[0m\u001b[1;33m\u001b[0m\u001b[1;33m\u001b[0m\u001b[0m\n\u001b[1;32m--> 317\u001b[1;33m         \u001b[0mself\u001b[0m\u001b[1;33m.\u001b[0m\u001b[0mprepare_auth\u001b[0m\u001b[1;33m(\u001b[0m\u001b[0mauth\u001b[0m\u001b[1;33m,\u001b[0m \u001b[0murl\u001b[0m\u001b[1;33m)\u001b[0m\u001b[1;33m\u001b[0m\u001b[1;33m\u001b[0m\u001b[0m\n\u001b[0m\u001b[0;32m    318\u001b[0m \u001b[1;33m\u001b[0m\u001b[0m\n\u001b[0;32m    319\u001b[0m         \u001b[1;31m# Note that prepare_auth must be last to enable authentication schemes\u001b[0m\u001b[1;33m\u001b[0m\u001b[1;33m\u001b[0m\u001b[1;33m\u001b[0m\u001b[0m\n",
      "\u001b[1;32mC:\\Anaconda3\\lib\\site-packages\\requests\\models.py\u001b[0m in \u001b[0;36mprepare_auth\u001b[1;34m(self, auth, url)\u001b[0m\n\u001b[0;32m    546\u001b[0m \u001b[1;33m\u001b[0m\u001b[0m\n\u001b[0;32m    547\u001b[0m             \u001b[1;31m# Allow auth to make its changes.\u001b[0m\u001b[1;33m\u001b[0m\u001b[1;33m\u001b[0m\u001b[1;33m\u001b[0m\u001b[0m\n\u001b[1;32m--> 548\u001b[1;33m             \u001b[0mr\u001b[0m \u001b[1;33m=\u001b[0m \u001b[0mauth\u001b[0m\u001b[1;33m(\u001b[0m\u001b[0mself\u001b[0m\u001b[1;33m)\u001b[0m\u001b[1;33m\u001b[0m\u001b[1;33m\u001b[0m\u001b[0m\n\u001b[0m\u001b[0;32m    549\u001b[0m \u001b[1;33m\u001b[0m\u001b[0m\n\u001b[0;32m    550\u001b[0m             \u001b[1;31m# Update self to reflect the auth changes.\u001b[0m\u001b[1;33m\u001b[0m\u001b[1;33m\u001b[0m\u001b[1;33m\u001b[0m\u001b[0m\n",
      "\u001b[1;32mC:\\Anaconda3\\lib\\site-packages\\requests_oauthlib\\oauth1_auth.py\u001b[0m in \u001b[0;36m__call__\u001b[1;34m(self, r)\u001b[0m\n\u001b[0;32m    107\u001b[0m             \u001b[1;31m# Omit body data in the signing of non form-encoded requests\u001b[0m\u001b[1;33m\u001b[0m\u001b[1;33m\u001b[0m\u001b[1;33m\u001b[0m\u001b[0m\n\u001b[0;32m    108\u001b[0m             r.url, headers, _ = self.client.sign(\n\u001b[1;32m--> 109\u001b[1;33m                 \u001b[0municode\u001b[0m\u001b[1;33m(\u001b[0m\u001b[0mr\u001b[0m\u001b[1;33m.\u001b[0m\u001b[0murl\u001b[0m\u001b[1;33m)\u001b[0m\u001b[1;33m,\u001b[0m \u001b[0municode\u001b[0m\u001b[1;33m(\u001b[0m\u001b[0mr\u001b[0m\u001b[1;33m.\u001b[0m\u001b[0mmethod\u001b[0m\u001b[1;33m)\u001b[0m\u001b[1;33m,\u001b[0m \u001b[1;32mNone\u001b[0m\u001b[1;33m,\u001b[0m \u001b[0mr\u001b[0m\u001b[1;33m.\u001b[0m\u001b[0mheaders\u001b[0m\u001b[1;33m\u001b[0m\u001b[1;33m\u001b[0m\u001b[0m\n\u001b[0m\u001b[0;32m    110\u001b[0m             )\n\u001b[0;32m    111\u001b[0m \u001b[1;33m\u001b[0m\u001b[0m\n",
      "\u001b[1;32mC:\\Anaconda3\\lib\\site-packages\\oauthlib\\oauth1\\rfc5849\\__init__.py\u001b[0m in \u001b[0;36msign\u001b[1;34m(self, uri, http_method, body, headers, realm)\u001b[0m\n\u001b[0;32m    311\u001b[0m         \u001b[1;31m# generate the signature\u001b[0m\u001b[1;33m\u001b[0m\u001b[1;33m\u001b[0m\u001b[1;33m\u001b[0m\u001b[0m\n\u001b[0;32m    312\u001b[0m         request.oauth_params.append(\n\u001b[1;32m--> 313\u001b[1;33m             ('oauth_signature', self.get_oauth_signature(request)))\n\u001b[0m\u001b[0;32m    314\u001b[0m \u001b[1;33m\u001b[0m\u001b[0m\n\u001b[0;32m    315\u001b[0m         \u001b[1;31m# render the signed request and return it\u001b[0m\u001b[1;33m\u001b[0m\u001b[1;33m\u001b[0m\u001b[1;33m\u001b[0m\u001b[0m\n",
      "\u001b[1;32mC:\\Anaconda3\\lib\\site-packages\\oauthlib\\oauth1\\rfc5849\\__init__.py\u001b[0m in \u001b[0;36mget_oauth_signature\u001b[1;34m(self, request)\u001b[0m\n\u001b[0;32m    125\u001b[0m                                             self.resource_owner_secret)\n\u001b[0;32m    126\u001b[0m \u001b[1;33m\u001b[0m\u001b[0m\n\u001b[1;32m--> 127\u001b[1;33m         \u001b[0muri\u001b[0m\u001b[1;33m,\u001b[0m \u001b[0mheaders\u001b[0m\u001b[1;33m,\u001b[0m \u001b[0mbody\u001b[0m \u001b[1;33m=\u001b[0m \u001b[0mself\u001b[0m\u001b[1;33m.\u001b[0m\u001b[0m_render\u001b[0m\u001b[1;33m(\u001b[0m\u001b[0mrequest\u001b[0m\u001b[1;33m)\u001b[0m\u001b[1;33m\u001b[0m\u001b[1;33m\u001b[0m\u001b[0m\n\u001b[0m\u001b[0;32m    128\u001b[0m \u001b[1;33m\u001b[0m\u001b[0m\n\u001b[0;32m    129\u001b[0m         collected_params = signature.collect_parameters(\n",
      "\u001b[1;32mC:\\Anaconda3\\lib\\site-packages\\oauthlib\\oauth1\\rfc5849\\__init__.py\u001b[0m in \u001b[0;36m_render\u001b[1;34m(self, request, formencode, realm)\u001b[0m\n\u001b[0;32m    208\u001b[0m         \u001b[1;32mif\u001b[0m \u001b[0mself\u001b[0m\u001b[1;33m.\u001b[0m\u001b[0msignature_type\u001b[0m \u001b[1;33m==\u001b[0m \u001b[0mSIGNATURE_TYPE_AUTH_HEADER\u001b[0m\u001b[1;33m:\u001b[0m\u001b[1;33m\u001b[0m\u001b[1;33m\u001b[0m\u001b[0m\n\u001b[0;32m    209\u001b[0m             headers = parameters.prepare_headers(\n\u001b[1;32m--> 210\u001b[1;33m                 request.oauth_params, request.headers, realm=realm)\n\u001b[0m\u001b[0;32m    211\u001b[0m         \u001b[1;32melif\u001b[0m \u001b[0mself\u001b[0m\u001b[1;33m.\u001b[0m\u001b[0msignature_type\u001b[0m \u001b[1;33m==\u001b[0m \u001b[0mSIGNATURE_TYPE_BODY\u001b[0m \u001b[1;32mand\u001b[0m \u001b[0mrequest\u001b[0m\u001b[1;33m.\u001b[0m\u001b[0mdecoded_body\u001b[0m \u001b[1;32mis\u001b[0m \u001b[1;32mnot\u001b[0m \u001b[1;32mNone\u001b[0m\u001b[1;33m:\u001b[0m\u001b[1;33m\u001b[0m\u001b[1;33m\u001b[0m\u001b[0m\n\u001b[0;32m    212\u001b[0m             body = parameters.prepare_form_encoded_body(\n",
      "\u001b[1;32mC:\\Anaconda3\\lib\\site-packages\\oauthlib\\oauth1\\rfc5849\\utils.py\u001b[0m in \u001b[0;36mwrapper\u001b[1;34m(params, *args, **kwargs)\u001b[0m\n\u001b[0;32m     30\u001b[0m     \u001b[1;32mdef\u001b[0m \u001b[0mwrapper\u001b[0m\u001b[1;33m(\u001b[0m\u001b[0mparams\u001b[0m\u001b[1;33m,\u001b[0m \u001b[1;33m*\u001b[0m\u001b[0margs\u001b[0m\u001b[1;33m,\u001b[0m \u001b[1;33m**\u001b[0m\u001b[0mkwargs\u001b[0m\u001b[1;33m)\u001b[0m\u001b[1;33m:\u001b[0m\u001b[1;33m\u001b[0m\u001b[1;33m\u001b[0m\u001b[0m\n\u001b[0;32m     31\u001b[0m         \u001b[0mparams\u001b[0m \u001b[1;33m=\u001b[0m \u001b[0mfilter_oauth_params\u001b[0m\u001b[1;33m(\u001b[0m\u001b[0mparams\u001b[0m\u001b[1;33m)\u001b[0m\u001b[1;33m\u001b[0m\u001b[1;33m\u001b[0m\u001b[0m\n\u001b[1;32m---> 32\u001b[1;33m         \u001b[1;32mreturn\u001b[0m \u001b[0mtarget\u001b[0m\u001b[1;33m(\u001b[0m\u001b[0mparams\u001b[0m\u001b[1;33m,\u001b[0m \u001b[1;33m*\u001b[0m\u001b[0margs\u001b[0m\u001b[1;33m,\u001b[0m \u001b[1;33m**\u001b[0m\u001b[0mkwargs\u001b[0m\u001b[1;33m)\u001b[0m\u001b[1;33m\u001b[0m\u001b[1;33m\u001b[0m\u001b[0m\n\u001b[0m\u001b[0;32m     33\u001b[0m \u001b[1;33m\u001b[0m\u001b[0m\n\u001b[0;32m     34\u001b[0m     \u001b[0mwrapper\u001b[0m\u001b[1;33m.\u001b[0m\u001b[0m__doc__\u001b[0m \u001b[1;33m=\u001b[0m \u001b[0mtarget\u001b[0m\u001b[1;33m.\u001b[0m\u001b[0m__doc__\u001b[0m\u001b[1;33m\u001b[0m\u001b[1;33m\u001b[0m\u001b[0m\n",
      "\u001b[1;32mC:\\Anaconda3\\lib\\site-packages\\oauthlib\\oauth1\\rfc5849\\parameters.py\u001b[0m in \u001b[0;36mprepare_headers\u001b[1;34m(oauth_params, headers, realm)\u001b[0m\n\u001b[0;32m     57\u001b[0m         \u001b[1;31m# .. _`Section 3.6`: https://tools.ietf.org/html/rfc5849#section-3.6\u001b[0m\u001b[1;33m\u001b[0m\u001b[1;33m\u001b[0m\u001b[1;33m\u001b[0m\u001b[0m\n\u001b[0;32m     58\u001b[0m         \u001b[0mescaped_name\u001b[0m \u001b[1;33m=\u001b[0m \u001b[0mutils\u001b[0m\u001b[1;33m.\u001b[0m\u001b[0mescape\u001b[0m\u001b[1;33m(\u001b[0m\u001b[0moauth_parameter_name\u001b[0m\u001b[1;33m)\u001b[0m\u001b[1;33m\u001b[0m\u001b[1;33m\u001b[0m\u001b[0m\n\u001b[1;32m---> 59\u001b[1;33m         \u001b[0mescaped_value\u001b[0m \u001b[1;33m=\u001b[0m \u001b[0mutils\u001b[0m\u001b[1;33m.\u001b[0m\u001b[0mescape\u001b[0m\u001b[1;33m(\u001b[0m\u001b[0mvalue\u001b[0m\u001b[1;33m)\u001b[0m\u001b[1;33m\u001b[0m\u001b[1;33m\u001b[0m\u001b[0m\n\u001b[0m\u001b[0;32m     60\u001b[0m \u001b[1;33m\u001b[0m\u001b[0m\n\u001b[0;32m     61\u001b[0m         \u001b[1;31m# 2.  Each parameter's name is immediately followed by an \"=\" character\u001b[0m\u001b[1;33m\u001b[0m\u001b[1;33m\u001b[0m\u001b[1;33m\u001b[0m\u001b[0m\n",
      "\u001b[1;32mC:\\Anaconda3\\lib\\site-packages\\oauthlib\\oauth1\\rfc5849\\utils.py\u001b[0m in \u001b[0;36mescape\u001b[1;34m(u)\u001b[0m\n\u001b[0;32m     55\u001b[0m     \u001b[1;32mif\u001b[0m \u001b[1;32mnot\u001b[0m \u001b[0misinstance\u001b[0m\u001b[1;33m(\u001b[0m\u001b[0mu\u001b[0m\u001b[1;33m,\u001b[0m \u001b[0municode_type\u001b[0m\u001b[1;33m)\u001b[0m\u001b[1;33m:\u001b[0m\u001b[1;33m\u001b[0m\u001b[1;33m\u001b[0m\u001b[0m\n\u001b[0;32m     56\u001b[0m         raise ValueError('Only unicode objects are escapable. ' +\n\u001b[1;32m---> 57\u001b[1;33m                          'Got %r of type %s.' % (u, type(u)))\n\u001b[0m\u001b[0;32m     58\u001b[0m     \u001b[1;31m# Letters, digits, and the characters '_.-' are already treated as safe\u001b[0m\u001b[1;33m\u001b[0m\u001b[1;33m\u001b[0m\u001b[1;33m\u001b[0m\u001b[0m\n\u001b[0;32m     59\u001b[0m     \u001b[1;31m# by urllib.quote(). We need to add '~' to fully support rfc5849.\u001b[0m\u001b[1;33m\u001b[0m\u001b[1;33m\u001b[0m\u001b[1;33m\u001b[0m\u001b[0m\n",
      "\u001b[1;31mTweepError\u001b[0m: Failed to send request: Only unicode objects are escapable. Got Ellipsis of type <class 'ellipsis'>."
     ]
    }
   ],
   "source": [
    "public_tweets = api.update_status(tweet, lat = -33.736345, long = -70.891338)\n",
    "for public_tweet in public_tweets:\n",
    "    print (public_tweet.text)\n",
    "    \n"
   ]
  },
  {
   "cell_type": "code",
   "execution_count": 6,
   "metadata": {},
   "outputs": [],
   "source": [
    "# Obtener un listado de los usuarios a los cuales estamos siguiendo desde nuestra cuenta de Twitter\n",
    "friends = api.friends()\n",
    "#Hace un loop por cada uno de los tweets obtenidos\n",
    "for friend in friends:\n",
    "# Imprimir a los usuarios que seguimos y seguidores.\n",
    "    print(friend.name)"
   ]
  },
  {
   "cell_type": "code",
   "execution_count": 7,
   "metadata": {},
   "outputs": [
    {
     "name": "stdout",
     "output_type": "stream",
     "text": [
      "¡No lo olvidemos! La gestión sostenible de la tierra, incluida la gestión forestal sostenible, puede prevenir y red… https://t.co/LiC1OITSzW\n",
      "“Buscamos apoyar el enlace entre productores de bienes naturales y empresarios dispuestos a neutralizar su huella.… https://t.co/paP4YM4daQ\n",
      "RT @ColbunEnergia: @udeconcepcion @ecopartnerbank Al evento asistieron también, representantes de la Seremi de Agricultura de la región del…\n",
      "¡Vamos avanzando! Muchas gracias @ColbunEnergia por confiar en nuestro equipo. #MejorEnergia https://t.co/RYsMIxJK2N\n",
      "RT @FAOAmericas: Apreciar el suelo sobre el que caminamos 🌱\n",
      "\n",
      "¿Por qué tenemos que valorar nuestros suelos?\n",
      "\n",
      "Leer más👉 https://t.co/TZUcWRGO…\n",
      "Nuestro Presidente, Aldo Rosenblum, nos habla en este video acerca de la importancia de reforestar, la unión de lo… https://t.co/4tpf25Bo8O\n",
      "En marco de la iniciativa de @ColbunEnergia de reforestar con especies nativas en su predio Corderito, localizado e… https://t.co/E9m0bLXk5L\n",
      "[HILO] Hemos firmado un importante acuerdo de cooperación junto a @ColbunEnergia y la @udeconcepcion enfocado a dar… https://t.co/CAhB2oiGWa\n",
      "Nuestra Directora tiene un importante mensaje en relación al cuidado de nuestros bosques, de la sequía y de las pro… https://t.co/E2kXScY8Ee\n",
      "“Nos las arreglamos para darles un fuerte apoyo al multilateralismo, a la ciencia y a aumentar la ambición” Teresa… https://t.co/D3iebDj4mW\n"
     ]
    }
   ],
   "source": [
    "# Extraer los últimos 3 tweets de un usuario específico (Ska-p)\n",
    "# Para esto vamos a utilizar el método user_timeline\n",
    "# usuario de twitter\n",
    "\n",
    "name = \"ecopartnerbank\"\n",
    "# número de tweets\n",
    "tweetCount = 10\n",
    "resultado = api.user_timeline(id=name, count=tweetCount)\n",
    "for tweet in resultado:\n",
    "    print(tweet.text)"
   ]
  },
  {
   "cell_type": "code",
   "execution_count": null,
   "metadata": {},
   "outputs": [],
   "source": []
  },
  {
   "cell_type": "code",
   "execution_count": null,
   "metadata": {},
   "outputs": [],
   "source": []
  }
 ],
 "metadata": {
  "kernelspec": {
   "display_name": "Python 3",
   "language": "python",
   "name": "python3"
  },
  "language_info": {
   "codemirror_mode": {
    "name": "ipython",
    "version": 3
   },
   "file_extension": ".py",
   "mimetype": "text/x-python",
   "name": "python",
   "nbconvert_exporter": "python",
   "pygments_lexer": "ipython3",
   "version": "3.7.4"
  }
 },
 "nbformat": 4,
 "nbformat_minor": 2
}
