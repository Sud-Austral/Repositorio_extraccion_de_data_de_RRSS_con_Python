{
 "cells": [
  {
   "cell_type": "code",
   "execution_count": 5,
   "metadata": {},
   "outputs": [
    {
     "name": "stdout",
     "output_type": "stream",
     "text": [
      "{'name': 'Christian Castro', 'friends': {'data': [], 'summary': {'total_count': 35}}, 'id': '115533413376184'}\n"
     ]
    }
   ],
   "source": [
    "import requests\n",
    "import facebook\n",
    "token = 'EAAHvm8OZBTkgBAPopnkrNV9WK80LiuRkMxCrZCOpTZB28gBPvvt64i9l37FKU9oK5aJw62bfR3WX972IkGIpxmogZCGIhvVu5duwIIRpTiATvux2VBhdFIS8CfNKBaefO6p2QZBYZCMWDqiBeK7nuJKLUs6KJ9tf6nD6PF8BOGGgZDZD' # I cannot disclose my token here :)\n",
    "graph = facebook.GraphAPI(access_token= token, version = '2.8')\n",
    "friends = graph.get_object('me', fields='name,friends{birthday,name}')\n",
    "\n",
    "print (friends)"
   ]
  },
  {
   "cell_type": "code",
   "execution_count": null,
   "metadata": {},
   "outputs": [],
   "source": []
  }
 ],
 "metadata": {
  "kernelspec": {
   "display_name": "Python 3",
   "language": "python",
   "name": "python3"
  },
  "language_info": {
   "codemirror_mode": {
    "name": "ipython",
    "version": 3
   },
   "file_extension": ".py",
   "mimetype": "text/x-python",
   "name": "python",
   "nbconvert_exporter": "python",
   "pygments_lexer": "ipython3",
   "version": "3.7.3"
  }
 },
 "nbformat": 4,
 "nbformat_minor": 2
}
