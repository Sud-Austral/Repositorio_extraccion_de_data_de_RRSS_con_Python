{
 "cells": [
  {
   "cell_type": "markdown",
   "metadata": {},
   "source": [
    "# 110420 Extracción en tiempo real de tweets por usuario VII\n",
    "\n",
    "maqueta"
   ]
  },
  {
   "cell_type": "code",
   "execution_count": 4,
   "metadata": {},
   "outputs": [
    {
     "name": "stdout",
     "output_type": "stream",
     "text": [
      "Christian Castro \n",
      "last updated: 2020-04-09 \n",
      "\n",
      "numpy 1.18.2\n",
      "pandas 1.0.1\n",
      "matplotlib 3.1.3\n",
      "Propiedad de DataIntelligence\n"
     ]
    }
   ],
   "source": [
    "#%load_ext watermark\n",
    "%watermark -a \"Christian Castro\" -u -d -p numpy,pandas,matplotlib\n",
    "%watermark -a \"Propiedad de DataIntelligence\" "
   ]
  },
  {
   "cell_type": "code",
   "execution_count": 8,
   "metadata": {},
   "outputs": [
    {
     "name": "stdout",
     "output_type": "stream",
     "text": [
      "{\"created_at\":\"Sat Apr 11 15:04:02 +0000 2020\",\"id\":1248990197238452225,\"id_str\":\"1248990197238452225\",\"text\":\"@ministeriosalud El mismo Cantinflas enmudecer\\u00eda al escuchar las explicaciones del ministrito @jmanalich ;los falle\\u2026 https:\\/\\/t.co\\/gBZ9X0wkYa\",\"display_text_range\":[17,140],\"source\":\"\\u003ca href=\\\"http:\\/\\/twitter.com\\/download\\/iphone\\\" rel=\\\"nofollow\\\"\\u003eTwitter for iPhone\\u003c\\/a\\u003e\",\"truncated\":true,\"in_reply_to_status_id\":1248984114817990661,\"in_reply_to_status_id_str\":\"1248984114817990661\",\"in_reply_to_user_id\":153825949,\"in_reply_to_user_id_str\":\"153825949\",\"in_reply_to_screen_name\":\"ministeriosalud\",\"user\":{\"id\":4857734039,\"id_str\":\"4857734039\",\"name\":\"L Tijerina\",\"screen_name\":\"mexicohunter20\",\"location\":\"Laredo, TX\",\"url\":null,\"description\":\"Emprendedor y asiduo estudioso de la historia pol\\u00edtica y comercial.\",\"translator_type\":\"none\",\"protected\":false,\"verified\":false,\"followers_count\":211,\"friends_count\":434,\"listed_count\":6,\"favourites_count\":14347,\"statuses_count\":14423,\"created_at\":\"Thu Jan 28 16:25:16 +0000 2016\",\"utc_offset\":null,\"time_zone\":null,\"geo_enabled\":true,\"lang\":null,\"contributors_enabled\":false,\"is_translator\":false,\"profile_background_color\":\"F5F8FA\",\"profile_background_image_url\":\"\",\"profile_background_image_url_https\":\"\",\"profile_background_tile\":false,\"profile_link_color\":\"1DA1F2\",\"profile_sidebar_border_color\":\"C0DEED\",\"profile_sidebar_fill_color\":\"DDEEF6\",\"profile_text_color\":\"333333\",\"profile_use_background_image\":true,\"profile_image_url\":\"http:\\/\\/pbs.twimg.com\\/profile_images\\/1236681270391955457\\/8jiNJ9Vj_normal.jpg\",\"profile_image_url_https\":\"https:\\/\\/pbs.twimg.com\\/profile_images\\/1236681270391955457\\/8jiNJ9Vj_normal.jpg\",\"profile_banner_url\":\"https:\\/\\/pbs.twimg.com\\/profile_banners\\/4857734039\\/1583682767\",\"default_profile\":true,\"default_profile_image\":false,\"following\":null,\"follow_request_sent\":null,\"notifications\":null},\"geo\":null,\"coordinates\":null,\"place\":null,\"contributors\":null,\"is_quote_status\":false,\"extended_tweet\":{\"full_text\":\"@ministeriosalud El mismo Cantinflas enmudecer\\u00eda al escuchar las explicaciones del ministrito @jmanalich ;los fallecidos no se consideran v\\u00edctimas del Coronavirus-19 si hab\\u00edan tenido otra enfermedad cualquiera que sea. Si lo operaron de ap\\u00e9ndice hace 30 a\\u00f1os, usted muere por complicaci\\u00f3n ap\\u00e9ndice\",\"display_text_range\":[17,297],\"entities\":{\"hashtags\":[],\"urls\":[],\"user_mentions\":[{\"screen_name\":\"ministeriosalud\",\"name\":\"Ministerio de Salud\",\"id\":153825949,\"id_str\":\"153825949\",\"indices\":[0,16]},{\"screen_name\":\"jmanalich\",\"name\":\"Jaime Ma\\u00f1alich\",\"id\":114834301,\"id_str\":\"114834301\",\"indices\":[94,104]}],\"symbols\":[]}},\"quote_count\":0,\"reply_count\":0,\"retweet_count\":0,\"favorite_count\":0,\"entities\":{\"hashtags\":[],\"urls\":[{\"url\":\"https:\\/\\/t.co\\/gBZ9X0wkYa\",\"expanded_url\":\"https:\\/\\/twitter.com\\/i\\/web\\/status\\/1248990197238452225\",\"display_url\":\"twitter.com\\/i\\/web\\/status\\/1\\u2026\",\"indices\":[117,140]}],\"user_mentions\":[{\"screen_name\":\"ministeriosalud\",\"name\":\"Ministerio de Salud\",\"id\":153825949,\"id_str\":\"153825949\",\"indices\":[0,16]},{\"screen_name\":\"jmanalich\",\"name\":\"Jaime Ma\\u00f1alich\",\"id\":114834301,\"id_str\":\"114834301\",\"indices\":[94,104]}],\"symbols\":[]},\"favorited\":false,\"retweeted\":false,\"filter_level\":\"low\",\"lang\":\"es\",\"timestamp_ms\":\"1586617442794\"}\n",
      "\n",
      "{\"created_at\":\"Sat Apr 11 15:04:04 +0000 2020\",\"id\":1248990205320798208,\"id_str\":\"1248990205320798208\",\"text\":\"@ministeriosalud @GobiernodeChile @arturozunigaj Lo est\\u00e1n haciendo la raja cabrxs.\",\"display_text_range\":[49,82],\"source\":\"\\u003ca href=\\\"http:\\/\\/twitter.com\\/download\\/iphone\\\" rel=\\\"nofollow\\\"\\u003eTwitter for iPhone\\u003c\\/a\\u003e\",\"truncated\":false,\"in_reply_to_status_id\":1248985140094697479,\"in_reply_to_status_id_str\":\"1248985140094697479\",\"in_reply_to_user_id\":153825949,\"in_reply_to_user_id_str\":\"153825949\",\"in_reply_to_screen_name\":\"ministeriosalud\",\"user\":{\"id\":2409642750,\"id_str\":\"2409642750\",\"name\":\"P \\u10db u \\ua492 o\",\"screen_name\":\"pin8shit\",\"location\":\"Concepci\\u00f3n, Chile\",\"url\":null,\"description\":\"what up\",\"translator_type\":\"none\",\"protected\":false,\"verified\":false,\"followers_count\":612,\"friends_count\":671,\"listed_count\":0,\"favourites_count\":44768,\"statuses_count\":11373,\"created_at\":\"Mon Mar 24 22:35:56 +0000 2014\",\"utc_offset\":null,\"time_zone\":null,\"geo_enabled\":true,\"lang\":null,\"contributors_enabled\":false,\"is_translator\":false,\"profile_background_color\":\"C0DEED\",\"profile_background_image_url\":\"http:\\/\\/abs.twimg.com\\/images\\/themes\\/theme1\\/bg.png\",\"profile_background_image_url_https\":\"https:\\/\\/abs.twimg.com\\/images\\/themes\\/theme1\\/bg.png\",\"profile_background_tile\":false,\"profile_link_color\":\"1DA1F2\",\"profile_sidebar_border_color\":\"C0DEED\",\"profile_sidebar_fill_color\":\"DDEEF6\",\"profile_text_color\":\"333333\",\"profile_use_background_image\":true,\"profile_image_url\":\"http:\\/\\/pbs.twimg.com\\/profile_images\\/1212989722307571712\\/7A-cCQuC_normal.jpg\",\"profile_image_url_https\":\"https:\\/\\/pbs.twimg.com\\/profile_images\\/1212989722307571712\\/7A-cCQuC_normal.jpg\",\"profile_banner_url\":\"https:\\/\\/pbs.twimg.com\\/profile_banners\\/2409642750\\/1578033965\",\"default_profile\":true,\"default_profile_image\":false,\"following\":null,\"follow_request_sent\":null,\"notifications\":null},\"geo\":null,\"coordinates\":null,\"place\":null,\"contributors\":null,\"is_quote_status\":false,\"quote_count\":0,\"reply_count\":0,\"retweet_count\":0,\"favorite_count\":0,\"entities\":{\"hashtags\":[],\"urls\":[],\"user_mentions\":[{\"screen_name\":\"ministeriosalud\",\"name\":\"Ministerio de Salud\",\"id\":153825949,\"id_str\":\"153825949\",\"indices\":[0,16]},{\"screen_name\":\"GobiernodeChile\",\"name\":\"Gobierno de Chile\",\"id\":42102939,\"id_str\":\"42102939\",\"indices\":[17,33]},{\"screen_name\":\"arturozunigaj\",\"name\":\"Arturo Z\\u00fa\\u00f1iga\",\"id\":2718835035,\"id_str\":\"2718835035\",\"indices\":[34,48]}],\"symbols\":[]},\"favorited\":false,\"retweeted\":false,\"filter_level\":\"low\",\"lang\":\"es\",\"timestamp_ms\":\"1586617444721\"}\n",
      "\n",
      "{\"created_at\":\"Sat Apr 11 15:04:05 +0000 2020\",\"id\":1248990206637813761,\"id_str\":\"1248990206637813761\",\"text\":\"RT @ministeriosalud: Subsec @arturozunigaj  | Reporte diario #Covid_19 \\n\\n- 426 casos nuevos\\n- 6.927 casos totales\\n- 383 hospitalizadas\\n- 55\\u2026\",\"source\":\"\\u003ca href=\\\"http:\\/\\/twitter.com\\/download\\/iphone\\\" rel=\\\"nofollow\\\"\\u003eTwitter for iPhone\\u003c\\/a\\u003e\",\"truncated\":false,\"in_reply_to_status_id\":null,\"in_reply_to_status_id_str\":null,\"in_reply_to_user_id\":null,\"in_reply_to_user_id_str\":null,\"in_reply_to_screen_name\":null,\"user\":{\"id\":53975799,\"id_str\":\"53975799\",\"name\":\"Andrea Sakurada \\ud83c\\udde8\\ud83c\\uddf1\\ud83c\\uddef\\ud83c\\uddf5\",\"screen_name\":\"AndreaSakurada\",\"location\":\"Arica, Chile\",\"url\":null,\"description\":\"Arique\\u00f1a, M\\u00e9dico dedicada a la Calidad e Infecciones asociadas a la atenci\\u00f3n en Salud....No tolerante de la violencia.......\",\"translator_type\":\"none\",\"protected\":false,\"verified\":false,\"followers_count\":645,\"friends_count\":915,\"listed_count\":1,\"favourites_count\":36851,\"statuses_count\":95484,\"created_at\":\"Sun Jul 05 18:55:42 +0000 2009\",\"utc_offset\":null,\"time_zone\":null,\"geo_enabled\":true,\"lang\":null,\"contributors_enabled\":false,\"is_translator\":false,\"profile_background_color\":\"0099B9\",\"profile_background_image_url\":\"http:\\/\\/abs.twimg.com\\/images\\/themes\\/theme4\\/bg.gif\",\"profile_background_image_url_https\":\"https:\\/\\/abs.twimg.com\\/images\\/themes\\/theme4\\/bg.gif\",\"profile_background_tile\":false,\"profile_link_color\":\"0099B9\",\"profile_sidebar_border_color\":\"5ED4DC\",\"profile_sidebar_fill_color\":\"95E8EC\",\"profile_text_color\":\"3C3940\",\"profile_use_background_image\":true,\"profile_image_url\":\"http:\\/\\/pbs.twimg.com\\/profile_images\\/1114789446119899136\\/uibU0H2t_normal.jpg\",\"profile_image_url_https\":\"https:\\/\\/pbs.twimg.com\\/profile_images\\/1114789446119899136\\/uibU0H2t_normal.jpg\",\"profile_banner_url\":\"https:\\/\\/pbs.twimg.com\\/profile_banners\\/53975799\\/1555790604\",\"default_profile\":false,\"default_profile_image\":false,\"following\":null,\"follow_request_sent\":null,\"notifications\":null},\"geo\":null,\"coordinates\":null,\"place\":null,\"contributors\":null,\"retweeted_status\":{\"created_at\":\"Sat Apr 11 14:43:57 +0000 2020\",\"id\":1248985140094697479,\"id_str\":\"1248985140094697479\",\"text\":\"Subsec @arturozunigaj  | Reporte diario #Covid_19 \\n\\n- 426 casos nuevos\\n- 6.927 casos totales\\n- 383 hospitalizadas\\n-\\u2026 https:\\/\\/t.co\\/AMdQXD6hZj\",\"display_text_range\":[0,140],\"source\":\"\\u003ca href=\\\"https:\\/\\/mobile.twitter.com\\\" rel=\\\"nofollow\\\"\\u003eTwitter Web App\\u003c\\/a\\u003e\",\"truncated\":true,\"in_reply_to_status_id\":null,\"in_reply_to_status_id_str\":null,\"in_reply_to_user_id\":null,\"in_reply_to_user_id_str\":null,\"in_reply_to_screen_name\":null,\"user\":{\"id\":153825949,\"id_str\":\"153825949\",\"name\":\"Ministerio de Salud\",\"screen_name\":\"ministeriosalud\",\"location\":\"Chile\",\"url\":\"http:\\/\\/www.minsal.cl\",\"description\":\"Cuenta oficial del Ministerio de Salud del @GobiernoDeChile. Ministro @jmanalich. Subsec Salud P\\u00fablica @pdazan. Subsec Redes Asistenciales @arturozunigaj\",\"translator_type\":\"none\",\"protected\":false,\"verified\":true,\"followers_count\":348003,\"friends_count\":2490,\"listed_count\":832,\"favourites_count\":20081,\"statuses_count\":48711,\"created_at\":\"Wed Jun 09 16:38:56 +0000 2010\",\"utc_offset\":null,\"time_zone\":null,\"geo_enabled\":true,\"lang\":null,\"contributors_enabled\":false,\"is_translator\":false,\"profile_background_color\":\"E5E5E5\",\"profile_background_image_url\":\"http:\\/\\/abs.twimg.com\\/images\\/themes\\/theme19\\/bg.gif\",\"profile_background_image_url_https\":\"https:\\/\\/abs.twimg.com\\/images\\/themes\\/theme19\\/bg.gif\",\"profile_background_tile\":false,\"profile_link_color\":\"0069AB\",\"profile_sidebar_border_color\":\"000000\",\"profile_sidebar_fill_color\":\"C0DFEC\",\"profile_text_color\":\"333333\",\"profile_use_background_image\":true,\"profile_image_url\":\"http:\\/\\/pbs.twimg.com\\/profile_images\\/1240679830183649288\\/S94zI3Yu_normal.jpg\",\"profile_image_url_https\":\"https:\\/\\/pbs.twimg.com\\/profile_images\\/1240679830183649288\\/S94zI3Yu_normal.jpg\",\"profile_banner_url\":\"https:\\/\\/pbs.twimg.com\\/profile_banners\\/153825949\\/1584461283\",\"default_profile\":false,\"default_profile_image\":false,\"following\":null,\"follow_request_sent\":null,\"notifications\":null},\"geo\":null,\"coordinates\":null,\"place\":null,\"contributors\":null,\"is_quote_status\":false,\"extended_tweet\":{\"full_text\":\"Subsec @arturozunigaj  | Reporte diario #Covid_19 \\n\\n- 426 casos nuevos\\n- 6.927 casos totales\\n- 383 hospitalizadas\\n- 555 ventiladores disponibles\\n- 1.909 recuperadas\\n- 8 personas fallecidas (73 en total)\\n\\nCorte de informaci\\u00f3n a las 21:00 horas de ayer. https:\\/\\/t.co\\/KGDg3FpN5q\",\"display_text_range\":[0,251],\"entities\":{\"hashtags\":[{\"text\":\"Covid_19\",\"indices\":[40,49]}],\"urls\":[],\"user_mentions\":[{\"screen_name\":\"arturozunigaj\",\"name\":\"Arturo Z\\u00fa\\u00f1iga\",\"id\":2718835035,\"id_str\":\"2718835035\",\"indices\":[7,21]}],\"symbols\":[],\"media\":[{\"id\":1248985057257193474,\"id_str\":\"1248985057257193474\",\"indices\":[252,275],\"media_url\":\"http:\\/\\/pbs.twimg.com\\/media\\/EVVJSsuWAAIlwUL.jpg\",\"media_url_https\":\"https:\\/\\/pbs.twimg.com\\/media\\/EVVJSsuWAAIlwUL.jpg\",\"url\":\"https:\\/\\/t.co\\/KGDg3FpN5q\",\"display_url\":\"pic.twitter.com\\/KGDg3FpN5q\",\"expanded_url\":\"https:\\/\\/twitter.com\\/ministeriosalud\\/status\\/1248985140094697479\\/photo\\/1\",\"type\":\"photo\",\"sizes\":{\"thumb\":{\"w\":150,\"h\":150,\"resize\":\"crop\"},\"medium\":{\"w\":1024,\"h\":576,\"resize\":\"fit\"},\"small\":{\"w\":680,\"h\":383,\"resize\":\"fit\"},\"large\":{\"w\":1024,\"h\":576,\"resize\":\"fit\"}}}]},\"extended_entities\":{\"media\":[{\"id\":1248985057257193474,\"id_str\":\"1248985057257193474\",\"indices\":[252,275],\"media_url\":\"http:\\/\\/pbs.twimg.com\\/media\\/EVVJSsuWAAIlwUL.jpg\",\"media_url_https\":\"https:\\/\\/pbs.twimg.com\\/media\\/EVVJSsuWAAIlwUL.jpg\",\"url\":\"https:\\/\\/t.co\\/KGDg3FpN5q\",\"display_url\":\"pic.twitter.com\\/KGDg3FpN5q\",\"expanded_url\":\"https:\\/\\/twitter.com\\/ministeriosalud\\/status\\/1248985140094697479\\/photo\\/1\",\"type\":\"photo\",\"sizes\":{\"thumb\":{\"w\":150,\"h\":150,\"resize\":\"crop\"},\"medium\":{\"w\":1024,\"h\":576,\"resize\":\"fit\"},\"small\":{\"w\":680,\"h\":383,\"resize\":\"fit\"},\"large\":{\"w\":1024,\"h\":576,\"resize\":\"fit\"}}}]}},\"quote_count\":22,\"reply_count\":34,\"retweet_count\":182,\"favorite_count\":85,\"entities\":{\"hashtags\":[{\"text\":\"Covid_19\",\"indices\":[40,49]}],\"urls\":[{\"url\":\"https:\\/\\/t.co\\/AMdQXD6hZj\",\"expanded_url\":\"https:\\/\\/twitter.com\\/i\\/web\\/status\\/1248985140094697479\",\"display_url\":\"twitter.com\\/i\\/web\\/status\\/1\\u2026\",\"indices\":[117,140]}],\"user_mentions\":[{\"screen_name\":\"arturozunigaj\",\"name\":\"Arturo Z\\u00fa\\u00f1iga\",\"id\":2718835035,\"id_str\":\"2718835035\",\"indices\":[7,21]}],\"symbols\":[]},\"favorited\":false,\"retweeted\":false,\"possibly_sensitive\":false,\"filter_level\":\"low\",\"lang\":\"es\"},\"is_quote_status\":false,\"quote_count\":0,\"reply_count\":0,\"retweet_count\":0,\"favorite_count\":0,\"entities\":{\"hashtags\":[{\"text\":\"Covid_19\",\"indices\":[61,70]}],\"urls\":[],\"user_mentions\":[{\"screen_name\":\"ministeriosalud\",\"name\":\"Ministerio de Salud\",\"id\":153825949,\"id_str\":\"153825949\",\"indices\":[3,19]},{\"screen_name\":\"arturozunigaj\",\"name\":\"Arturo Z\\u00fa\\u00f1iga\",\"id\":2718835035,\"id_str\":\"2718835035\",\"indices\":[28,42]}],\"symbols\":[]},\"favorited\":false,\"retweeted\":false,\"filter_level\":\"low\",\"lang\":\"es\",\"timestamp_ms\":\"1586617445035\"}\n",
      "\n"
     ]
    },
    {
     "name": "stdout",
     "output_type": "stream",
     "text": [
      "{\"created_at\":\"Sat Apr 11 15:04:13 +0000 2020\",\"id\":1248990240271990784,\"id_str\":\"1248990240271990784\",\"text\":\"RT @ministeriosalud: Subsec @arturozunigaj  | Reporte diario #Covid_19 \\n\\n- 426 casos nuevos\\n- 6.927 casos totales\\n- 383 hospitalizadas\\n- 55\\u2026\",\"source\":\"\\u003ca href=\\\"http:\\/\\/twitter.com\\/download\\/iphone\\\" rel=\\\"nofollow\\\"\\u003eTwitter for iPhone\\u003c\\/a\\u003e\",\"truncated\":false,\"in_reply_to_status_id\":null,\"in_reply_to_status_id_str\":null,\"in_reply_to_user_id\":null,\"in_reply_to_user_id_str\":null,\"in_reply_to_screen_name\":null,\"user\":{\"id\":744682131411042304,\"id_str\":\"744682131411042304\",\"name\":\"Leandro\",\"screen_name\":\"LeandroMora9\",\"location\":\"Pinto\",\"url\":null,\"description\":\"El ciclismo me mueve! \\nNo sigo las masas ni ideolog\\u00edas!\\ndisfruto de cualquier disciplina en bicicleta, es lo m\\u00edo \\ud83e\\udd18\\nmonitor de ciclismo \\n Master A1\",\"translator_type\":\"none\",\"protected\":false,\"verified\":false,\"followers_count\":85,\"friends_count\":204,\"listed_count\":2,\"favourites_count\":2951,\"statuses_count\":1242,\"created_at\":\"Mon Jun 20 00:03:50 +0000 2016\",\"utc_offset\":null,\"time_zone\":null,\"geo_enabled\":false,\"lang\":null,\"contributors_enabled\":false,\"is_translator\":false,\"profile_background_color\":\"F5F8FA\",\"profile_background_image_url\":\"\",\"profile_background_image_url_https\":\"\",\"profile_background_tile\":false,\"profile_link_color\":\"1DA1F2\",\"profile_sidebar_border_color\":\"C0DEED\",\"profile_sidebar_fill_color\":\"DDEEF6\",\"profile_text_color\":\"333333\",\"profile_use_background_image\":true,\"profile_image_url\":\"http:\\/\\/pbs.twimg.com\\/profile_images\\/1210278271209750529\\/8Yquy0OM_normal.jpg\",\"profile_image_url_https\":\"https:\\/\\/pbs.twimg.com\\/profile_images\\/1210278271209750529\\/8Yquy0OM_normal.jpg\",\"profile_banner_url\":\"https:\\/\\/pbs.twimg.com\\/profile_banners\\/744682131411042304\\/1575174364\",\"default_profile\":true,\"default_profile_image\":false,\"following\":null,\"follow_request_sent\":null,\"notifications\":null},\"geo\":null,\"coordinates\":null,\"place\":null,\"contributors\":null,\"retweeted_status\":{\"created_at\":\"Sat Apr 11 14:43:57 +0000 2020\",\"id\":1248985140094697479,\"id_str\":\"1248985140094697479\",\"text\":\"Subsec @arturozunigaj  | Reporte diario #Covid_19 \\n\\n- 426 casos nuevos\\n- 6.927 casos totales\\n- 383 hospitalizadas\\n-\\u2026 https:\\/\\/t.co\\/AMdQXD6hZj\",\"display_text_range\":[0,140],\"source\":\"\\u003ca href=\\\"https:\\/\\/mobile.twitter.com\\\" rel=\\\"nofollow\\\"\\u003eTwitter Web App\\u003c\\/a\\u003e\",\"truncated\":true,\"in_reply_to_status_id\":null,\"in_reply_to_status_id_str\":null,\"in_reply_to_user_id\":null,\"in_reply_to_user_id_str\":null,\"in_reply_to_screen_name\":null,\"user\":{\"id\":153825949,\"id_str\":\"153825949\",\"name\":\"Ministerio de Salud\",\"screen_name\":\"ministeriosalud\",\"location\":\"Chile\",\"url\":\"http:\\/\\/www.minsal.cl\",\"description\":\"Cuenta oficial del Ministerio de Salud del @GobiernoDeChile. Ministro @jmanalich. Subsec Salud P\\u00fablica @pdazan. Subsec Redes Asistenciales @arturozunigaj\",\"translator_type\":\"none\",\"protected\":false,\"verified\":true,\"followers_count\":348005,\"friends_count\":2490,\"listed_count\":832,\"favourites_count\":20081,\"statuses_count\":48711,\"created_at\":\"Wed Jun 09 16:38:56 +0000 2010\",\"utc_offset\":null,\"time_zone\":null,\"geo_enabled\":true,\"lang\":null,\"contributors_enabled\":false,\"is_translator\":false,\"profile_background_color\":\"E5E5E5\",\"profile_background_image_url\":\"http:\\/\\/abs.twimg.com\\/images\\/themes\\/theme19\\/bg.gif\",\"profile_background_image_url_https\":\"https:\\/\\/abs.twimg.com\\/images\\/themes\\/theme19\\/bg.gif\",\"profile_background_tile\":false,\"profile_link_color\":\"0069AB\",\"profile_sidebar_border_color\":\"000000\",\"profile_sidebar_fill_color\":\"C0DFEC\",\"profile_text_color\":\"333333\",\"profile_use_background_image\":true,\"profile_image_url\":\"http:\\/\\/pbs.twimg.com\\/profile_images\\/1240679830183649288\\/S94zI3Yu_normal.jpg\",\"profile_image_url_https\":\"https:\\/\\/pbs.twimg.com\\/profile_images\\/1240679830183649288\\/S94zI3Yu_normal.jpg\",\"profile_banner_url\":\"https:\\/\\/pbs.twimg.com\\/profile_banners\\/153825949\\/1584461283\",\"default_profile\":false,\"default_profile_image\":false,\"following\":null,\"follow_request_sent\":null,\"notifications\":null},\"geo\":null,\"coordinates\":null,\"place\":null,\"contributors\":null,\"is_quote_status\":false,\"extended_tweet\":{\"full_text\":\"Subsec @arturozunigaj  | Reporte diario #Covid_19 \\n\\n- 426 casos nuevos\\n- 6.927 casos totales\\n- 383 hospitalizadas\\n- 555 ventiladores disponibles\\n- 1.909 recuperadas\\n- 8 personas fallecidas (73 en total)\\n\\nCorte de informaci\\u00f3n a las 21:00 horas de ayer. https:\\/\\/t.co\\/KGDg3FpN5q\",\"display_text_range\":[0,251],\"entities\":{\"hashtags\":[{\"text\":\"Covid_19\",\"indices\":[40,49]}],\"urls\":[],\"user_mentions\":[{\"screen_name\":\"arturozunigaj\",\"name\":\"Arturo Z\\u00fa\\u00f1iga\",\"id\":2718835035,\"id_str\":\"2718835035\",\"indices\":[7,21]}],\"symbols\":[],\"media\":[{\"id\":1248985057257193474,\"id_str\":\"1248985057257193474\",\"indices\":[252,275],\"media_url\":\"http:\\/\\/pbs.twimg.com\\/media\\/EVVJSsuWAAIlwUL.jpg\",\"media_url_https\":\"https:\\/\\/pbs.twimg.com\\/media\\/EVVJSsuWAAIlwUL.jpg\",\"url\":\"https:\\/\\/t.co\\/KGDg3FpN5q\",\"display_url\":\"pic.twitter.com\\/KGDg3FpN5q\",\"expanded_url\":\"https:\\/\\/twitter.com\\/ministeriosalud\\/status\\/1248985140094697479\\/photo\\/1\",\"type\":\"photo\",\"sizes\":{\"thumb\":{\"w\":150,\"h\":150,\"resize\":\"crop\"},\"medium\":{\"w\":1024,\"h\":576,\"resize\":\"fit\"},\"small\":{\"w\":680,\"h\":383,\"resize\":\"fit\"},\"large\":{\"w\":1024,\"h\":576,\"resize\":\"fit\"}}}]},\"extended_entities\":{\"media\":[{\"id\":1248985057257193474,\"id_str\":\"1248985057257193474\",\"indices\":[252,275],\"media_url\":\"http:\\/\\/pbs.twimg.com\\/media\\/EVVJSsuWAAIlwUL.jpg\",\"media_url_https\":\"https:\\/\\/pbs.twimg.com\\/media\\/EVVJSsuWAAIlwUL.jpg\",\"url\":\"https:\\/\\/t.co\\/KGDg3FpN5q\",\"display_url\":\"pic.twitter.com\\/KGDg3FpN5q\",\"expanded_url\":\"https:\\/\\/twitter.com\\/ministeriosalud\\/status\\/1248985140094697479\\/photo\\/1\",\"type\":\"photo\",\"sizes\":{\"thumb\":{\"w\":150,\"h\":150,\"resize\":\"crop\"},\"medium\":{\"w\":1024,\"h\":576,\"resize\":\"fit\"},\"small\":{\"w\":680,\"h\":383,\"resize\":\"fit\"},\"large\":{\"w\":1024,\"h\":576,\"resize\":\"fit\"}}}]}},\"quote_count\":22,\"reply_count\":34,\"retweet_count\":183,\"favorite_count\":85,\"entities\":{\"hashtags\":[{\"text\":\"Covid_19\",\"indices\":[40,49]}],\"urls\":[{\"url\":\"https:\\/\\/t.co\\/AMdQXD6hZj\",\"expanded_url\":\"https:\\/\\/twitter.com\\/i\\/web\\/status\\/1248985140094697479\",\"display_url\":\"twitter.com\\/i\\/web\\/status\\/1\\u2026\",\"indices\":[117,140]}],\"user_mentions\":[{\"screen_name\":\"arturozunigaj\",\"name\":\"Arturo Z\\u00fa\\u00f1iga\",\"id\":2718835035,\"id_str\":\"2718835035\",\"indices\":[7,21]}],\"symbols\":[]},\"favorited\":false,\"retweeted\":false,\"possibly_sensitive\":false,\"filter_level\":\"low\",\"lang\":\"es\"},\"is_quote_status\":false,\"quote_count\":0,\"reply_count\":0,\"retweet_count\":0,\"favorite_count\":0,\"entities\":{\"hashtags\":[{\"text\":\"Covid_19\",\"indices\":[61,70]}],\"urls\":[],\"user_mentions\":[{\"screen_name\":\"ministeriosalud\",\"name\":\"Ministerio de Salud\",\"id\":153825949,\"id_str\":\"153825949\",\"indices\":[3,19]},{\"screen_name\":\"arturozunigaj\",\"name\":\"Arturo Z\\u00fa\\u00f1iga\",\"id\":2718835035,\"id_str\":\"2718835035\",\"indices\":[28,42]}],\"symbols\":[]},\"favorited\":false,\"retweeted\":false,\"filter_level\":\"low\",\"lang\":\"es\",\"timestamp_ms\":\"1586617453054\"}\n",
      "\n",
      "{\"created_at\":\"Sat Apr 11 15:04:16 +0000 2020\",\"id\":1248990253362405379,\"id_str\":\"1248990253362405379\",\"text\":\"RT @ministeriosalud: Ministro @jmanalich | #COVID_19\\n\\n\\\"Quiero insistir en que el comportamiento en el mundo de este virus, afecta a persona\\u2026\",\"source\":\"\\u003ca href=\\\"http:\\/\\/twitter.com\\/download\\/iphone\\\" rel=\\\"nofollow\\\"\\u003eTwitter for iPhone\\u003c\\/a\\u003e\",\"truncated\":false,\"in_reply_to_status_id\":null,\"in_reply_to_status_id_str\":null,\"in_reply_to_user_id\":null,\"in_reply_to_user_id_str\":null,\"in_reply_to_screen_name\":null,\"user\":{\"id\":1185932584984940545,\"id_str\":\"1185932584984940545\",\"name\":\"\\ud835\\udcf5\\ud835\\udcf8\\ud835\\udcec\\ud835\\udcfe\\ud835\\udcfc.\\ud835\\udcea\\ud835\\udcf6\\ud835\\udcf8\\ud835\\udcee\\ud835\\udcf7\\ud835\\udcfe\\ud835\\udcfc (\\ud835\\udc3f\\ud835\\udc56\\ud835\\udc4f\\ud835\\udc52\\ud835\\udc5f\\ud835\\udc61\\ud835\\udc4e\\ud835\\udc5f\\ud835\\udc56\\ud835\\udc4e)\\ud83d\\udc0d\",\"screen_name\":\"PazAmoenus\",\"location\":\"San Felipe, Chile\",\"url\":\"http:\\/\\/instagram.com\\/locus.amoenus\",\"description\":\"Manejo la cuenta libertaria \\ud83d\\udde3http:\\/\\/Instagram.com\\/gatos_libertarios y http:\\/\\/Instagram.com\\/libertienda.v Militante en http:\\/\\/Instagram.com\\/partido_libertario_v\",\"translator_type\":\"none\",\"protected\":false,\"verified\":false,\"followers_count\":767,\"friends_count\":1368,\"listed_count\":2,\"favourites_count\":3215,\"statuses_count\":3632,\"created_at\":\"Sun Oct 20 14:56:18 +0000 2019\",\"utc_offset\":null,\"time_zone\":null,\"geo_enabled\":false,\"lang\":null,\"contributors_enabled\":false,\"is_translator\":false,\"profile_background_color\":\"F5F8FA\",\"profile_background_image_url\":\"\",\"profile_background_image_url_https\":\"\",\"profile_background_tile\":false,\"profile_link_color\":\"1DA1F2\",\"profile_sidebar_border_color\":\"C0DEED\",\"profile_sidebar_fill_color\":\"DDEEF6\",\"profile_text_color\":\"333333\",\"profile_use_background_image\":true,\"profile_image_url\":\"http:\\/\\/pbs.twimg.com\\/profile_images\\/1242671904378572800\\/egSaWtMf_normal.jpg\",\"profile_image_url_https\":\"https:\\/\\/pbs.twimg.com\\/profile_images\\/1242671904378572800\\/egSaWtMf_normal.jpg\",\"profile_banner_url\":\"https:\\/\\/pbs.twimg.com\\/profile_banners\\/1185932584984940545\\/1585500717\",\"default_profile\":true,\"default_profile_image\":false,\"following\":null,\"follow_request_sent\":null,\"notifications\":null},\"geo\":null,\"coordinates\":null,\"place\":null,\"contributors\":null,\"retweeted_status\":{\"created_at\":\"Sat Apr 11 14:49:06 +0000 2020\",\"id\":1248986437363609600,\"id_str\":\"1248986437363609600\",\"text\":\"Ministro @jmanalich | #COVID_19\\n\\n\\\"Quiero insistir en que el comportamiento en el mundo de este virus, afecta a pers\\u2026 https:\\/\\/t.co\\/HXsE0KmMz3\",\"display_text_range\":[0,140],\"source\":\"\\u003ca href=\\\"https:\\/\\/mobile.twitter.com\\\" rel=\\\"nofollow\\\"\\u003eTwitter Web App\\u003c\\/a\\u003e\",\"truncated\":true,\"in_reply_to_status_id\":null,\"in_reply_to_status_id_str\":null,\"in_reply_to_user_id\":null,\"in_reply_to_user_id_str\":null,\"in_reply_to_screen_name\":null,\"user\":{\"id\":153825949,\"id_str\":\"153825949\",\"name\":\"Ministerio de Salud\",\"screen_name\":\"ministeriosalud\",\"location\":\"Chile\",\"url\":\"http:\\/\\/www.minsal.cl\",\"description\":\"Cuenta oficial del Ministerio de Salud del @GobiernoDeChile. Ministro @jmanalich. Subsec Salud P\\u00fablica @pdazan. Subsec Redes Asistenciales @arturozunigaj\",\"translator_type\":\"none\",\"protected\":false,\"verified\":true,\"followers_count\":348006,\"friends_count\":2490,\"listed_count\":832,\"favourites_count\":20081,\"statuses_count\":48711,\"created_at\":\"Wed Jun 09 16:38:56 +0000 2010\",\"utc_offset\":null,\"time_zone\":null,\"geo_enabled\":true,\"lang\":null,\"contributors_enabled\":false,\"is_translator\":false,\"profile_background_color\":\"E5E5E5\",\"profile_background_image_url\":\"http:\\/\\/abs.twimg.com\\/images\\/themes\\/theme19\\/bg.gif\",\"profile_background_image_url_https\":\"https:\\/\\/abs.twimg.com\\/images\\/themes\\/theme19\\/bg.gif\",\"profile_background_tile\":false,\"profile_link_color\":\"0069AB\",\"profile_sidebar_border_color\":\"000000\",\"profile_sidebar_fill_color\":\"C0DFEC\",\"profile_text_color\":\"333333\",\"profile_use_background_image\":true,\"profile_image_url\":\"http:\\/\\/pbs.twimg.com\\/profile_images\\/1240679830183649288\\/S94zI3Yu_normal.jpg\",\"profile_image_url_https\":\"https:\\/\\/pbs.twimg.com\\/profile_images\\/1240679830183649288\\/S94zI3Yu_normal.jpg\",\"profile_banner_url\":\"https:\\/\\/pbs.twimg.com\\/profile_banners\\/153825949\\/1584461283\",\"default_profile\":false,\"default_profile_image\":false,\"following\":null,\"follow_request_sent\":null,\"notifications\":null},\"geo\":null,\"coordinates\":null,\"place\":null,\"contributors\":null,\"is_quote_status\":false,\"extended_tweet\":{\"full_text\":\"Ministro @jmanalich | #COVID_19\\n\\n\\\"Quiero insistir en que el comportamiento en el mundo de este virus, afecta a personas de enfermedad avanzada y\\/o con enfermedades base\\\".\\n\\n\\\"Este hecho acent\\u00faa la necesidad de proteger a personas mayores\\\". https:\\/\\/t.co\\/0dIiwBN4nd\",\"display_text_range\":[0,237],\"entities\":{\"hashtags\":[{\"text\":\"COVID_19\",\"indices\":[22,31]}],\"urls\":[],\"user_mentions\":[{\"screen_name\":\"jmanalich\",\"name\":\"Jaime Ma\\u00f1alich\",\"id\":114834301,\"id_str\":\"114834301\",\"indices\":[9,19]}],\"symbols\":[],\"media\":[{\"id\":1248986409559560194,\"id_str\":\"1248986409559560194\",\"indices\":[238,261],\"media_url\":\"http:\\/\\/pbs.twimg.com\\/media\\/EVVKhacWkAIAcP9.jpg\",\"media_url_https\":\"https:\\/\\/pbs.twimg.com\\/media\\/EVVKhacWkAIAcP9.jpg\",\"url\":\"https:\\/\\/t.co\\/0dIiwBN4nd\",\"display_url\":\"pic.twitter.com\\/0dIiwBN4nd\",\"expanded_url\":\"https:\\/\\/twitter.com\\/ministeriosalud\\/status\\/1248986437363609600\\/photo\\/1\",\"type\":\"photo\",\"sizes\":{\"thumb\":{\"w\":150,\"h\":150,\"resize\":\"crop\"},\"small\":{\"w\":680,\"h\":383,\"resize\":\"fit\"},\"medium\":{\"w\":1024,\"h\":576,\"resize\":\"fit\"},\"large\":{\"w\":1024,\"h\":576,\"resize\":\"fit\"}}}]},\"extended_entities\":{\"media\":[{\"id\":1248986409559560194,\"id_str\":\"1248986409559560194\",\"indices\":[238,261],\"media_url\":\"http:\\/\\/pbs.twimg.com\\/media\\/EVVKhacWkAIAcP9.jpg\",\"media_url_https\":\"https:\\/\\/pbs.twimg.com\\/media\\/EVVKhacWkAIAcP9.jpg\",\"url\":\"https:\\/\\/t.co\\/0dIiwBN4nd\",\"display_url\":\"pic.twitter.com\\/0dIiwBN4nd\",\"expanded_url\":\"https:\\/\\/twitter.com\\/ministeriosalud\\/status\\/1248986437363609600\\/photo\\/1\",\"type\":\"photo\",\"sizes\":{\"thumb\":{\"w\":150,\"h\":150,\"resize\":\"crop\"},\"small\":{\"w\":680,\"h\":383,\"resize\":\"fit\"},\"medium\":{\"w\":1024,\"h\":576,\"resize\":\"fit\"},\"large\":{\"w\":1024,\"h\":576,\"resize\":\"fit\"}}}]}},\"quote_count\":3,\"reply_count\":17,\"retweet_count\":39,\"favorite_count\":40,\"entities\":{\"hashtags\":[{\"text\":\"COVID_19\",\"indices\":[22,31]}],\"urls\":[{\"url\":\"https:\\/\\/t.co\\/HXsE0KmMz3\",\"expanded_url\":\"https:\\/\\/twitter.com\\/i\\/web\\/status\\/1248986437363609600\",\"display_url\":\"twitter.com\\/i\\/web\\/status\\/1\\u2026\",\"indices\":[117,140]}],\"user_mentions\":[{\"screen_name\":\"jmanalich\",\"name\":\"Jaime Ma\\u00f1alich\",\"id\":114834301,\"id_str\":\"114834301\",\"indices\":[9,19]}],\"symbols\":[]},\"favorited\":false,\"retweeted\":false,\"possibly_sensitive\":false,\"filter_level\":\"low\",\"lang\":\"es\"},\"is_quote_status\":false,\"quote_count\":0,\"reply_count\":0,\"retweet_count\":0,\"favorite_count\":0,\"entities\":{\"hashtags\":[{\"text\":\"COVID_19\",\"indices\":[43,52]}],\"urls\":[],\"user_mentions\":[{\"screen_name\":\"ministeriosalud\",\"name\":\"Ministerio de Salud\",\"id\":153825949,\"id_str\":\"153825949\",\"indices\":[3,19]},{\"screen_name\":\"jmanalich\",\"name\":\"Jaime Ma\\u00f1alich\",\"id\":114834301,\"id_str\":\"114834301\",\"indices\":[30,40]}],\"symbols\":[]},\"favorited\":false,\"retweeted\":false,\"filter_level\":\"low\",\"lang\":\"es\",\"timestamp_ms\":\"1586617456175\"}\n",
      "\n"
     ]
    },
    {
     "name": "stdout",
     "output_type": "stream",
     "text": [
      "{\"created_at\":\"Sat Apr 11 15:04:18 +0000 2020\",\"id\":1248990264435376129,\"id_str\":\"1248990264435376129\",\"text\":\"@ministeriosalud @jmanalich Excelente trabajo Ministro Ma\\u00f1alich\",\"display_text_range\":[28,63],\"source\":\"\\u003ca href=\\\"http:\\/\\/twitter.com\\/download\\/iphone\\\" rel=\\\"nofollow\\\"\\u003eTwitter for iPhone\\u003c\\/a\\u003e\",\"truncated\":false,\"in_reply_to_status_id\":1248988594934632448,\"in_reply_to_status_id_str\":\"1248988594934632448\",\"in_reply_to_user_id\":153825949,\"in_reply_to_user_id_str\":\"153825949\",\"in_reply_to_screen_name\":\"ministeriosalud\",\"user\":{\"id\":867212208,\"id_str\":\"867212208\",\"name\":\"Todo es posible\",\"screen_name\":\"lamaya_19\",\"location\":null,\"url\":null,\"description\":null,\"translator_type\":\"none\",\"protected\":false,\"verified\":false,\"followers_count\":54,\"friends_count\":494,\"listed_count\":0,\"favourites_count\":7141,\"statuses_count\":9329,\"created_at\":\"Mon Oct 08 01:15:08 +0000 2012\",\"utc_offset\":null,\"time_zone\":null,\"geo_enabled\":false,\"lang\":null,\"contributors_enabled\":false,\"is_translator\":false,\"profile_background_color\":\"C0DEED\",\"profile_background_image_url\":\"http:\\/\\/abs.twimg.com\\/images\\/themes\\/theme1\\/bg.png\",\"profile_background_image_url_https\":\"https:\\/\\/abs.twimg.com\\/images\\/themes\\/theme1\\/bg.png\",\"profile_background_tile\":false,\"profile_link_color\":\"1DA1F2\",\"profile_sidebar_border_color\":\"C0DEED\",\"profile_sidebar_fill_color\":\"DDEEF6\",\"profile_text_color\":\"333333\",\"profile_use_background_image\":true,\"profile_image_url\":\"http:\\/\\/pbs.twimg.com\\/profile_images\\/439196920691830784\\/Mz_u4P_u_normal.jpeg\",\"profile_image_url_https\":\"https:\\/\\/pbs.twimg.com\\/profile_images\\/439196920691830784\\/Mz_u4P_u_normal.jpeg\",\"default_profile\":true,\"default_profile_image\":false,\"following\":null,\"follow_request_sent\":null,\"notifications\":null},\"geo\":null,\"coordinates\":null,\"place\":null,\"contributors\":null,\"is_quote_status\":false,\"quote_count\":0,\"reply_count\":0,\"retweet_count\":0,\"favorite_count\":0,\"entities\":{\"hashtags\":[],\"urls\":[],\"user_mentions\":[{\"screen_name\":\"ministeriosalud\",\"name\":\"Ministerio de Salud\",\"id\":153825949,\"id_str\":\"153825949\",\"indices\":[0,16]},{\"screen_name\":\"jmanalich\",\"name\":\"Jaime Ma\\u00f1alich\",\"id\":114834301,\"id_str\":\"114834301\",\"indices\":[17,27]}],\"symbols\":[]},\"favorited\":false,\"retweeted\":false,\"filter_level\":\"low\",\"lang\":\"es\",\"timestamp_ms\":\"1586617458815\"}\n",
      "\n",
      "{\"created_at\":\"Sat Apr 11 15:04:20 +0000 2020\",\"id\":1248990273583136768,\"id_str\":\"1248990273583136768\",\"text\":\"RT @ministeriosalud: Subsec @arturozunigaj  | Reporte diario #Covid_19 \\n\\n- 426 casos nuevos\\n- 6.927 casos totales\\n- 383 hospitalizadas\\n- 55\\u2026\",\"source\":\"\\u003ca href=\\\"http:\\/\\/twitter.com\\/download\\/android\\\" rel=\\\"nofollow\\\"\\u003eTwitter for Android\\u003c\\/a\\u003e\",\"truncated\":false,\"in_reply_to_status_id\":null,\"in_reply_to_status_id_str\":null,\"in_reply_to_user_id\":null,\"in_reply_to_user_id_str\":null,\"in_reply_to_screen_name\":null,\"user\":{\"id\":406971016,\"id_str\":\"406971016\",\"name\":\"ariela bocas\",\"screen_name\":\"ariela_bocas\",\"location\":null,\"url\":null,\"description\":null,\"translator_type\":\"none\",\"protected\":false,\"verified\":false,\"followers_count\":147,\"friends_count\":523,\"listed_count\":2,\"favourites_count\":3315,\"statuses_count\":2866,\"created_at\":\"Mon Nov 07 13:01:26 +0000 2011\",\"utc_offset\":null,\"time_zone\":null,\"geo_enabled\":true,\"lang\":null,\"contributors_enabled\":false,\"is_translator\":false,\"profile_background_color\":\"C0DEED\",\"profile_background_image_url\":\"http:\\/\\/abs.twimg.com\\/images\\/themes\\/theme1\\/bg.png\",\"profile_background_image_url_https\":\"https:\\/\\/abs.twimg.com\\/images\\/themes\\/theme1\\/bg.png\",\"profile_background_tile\":false,\"profile_link_color\":\"1DA1F2\",\"profile_sidebar_border_color\":\"C0DEED\",\"profile_sidebar_fill_color\":\"DDEEF6\",\"profile_text_color\":\"333333\",\"profile_use_background_image\":true,\"profile_image_url\":\"http:\\/\\/pbs.twimg.com\\/profile_images\\/566614107143811072\\/r71ozasu_normal.jpeg\",\"profile_image_url_https\":\"https:\\/\\/pbs.twimg.com\\/profile_images\\/566614107143811072\\/r71ozasu_normal.jpeg\",\"profile_banner_url\":\"https:\\/\\/pbs.twimg.com\\/profile_banners\\/406971016\\/1423926312\",\"default_profile\":true,\"default_profile_image\":false,\"following\":null,\"follow_request_sent\":null,\"notifications\":null},\"geo\":null,\"coordinates\":null,\"place\":null,\"contributors\":null,\"retweeted_status\":{\"created_at\":\"Sat Apr 11 14:43:57 +0000 2020\",\"id\":1248985140094697479,\"id_str\":\"1248985140094697479\",\"text\":\"Subsec @arturozunigaj  | Reporte diario #Covid_19 \\n\\n- 426 casos nuevos\\n- 6.927 casos totales\\n- 383 hospitalizadas\\n-\\u2026 https:\\/\\/t.co\\/AMdQXD6hZj\",\"display_text_range\":[0,140],\"source\":\"\\u003ca href=\\\"https:\\/\\/mobile.twitter.com\\\" rel=\\\"nofollow\\\"\\u003eTwitter Web App\\u003c\\/a\\u003e\",\"truncated\":true,\"in_reply_to_status_id\":null,\"in_reply_to_status_id_str\":null,\"in_reply_to_user_id\":null,\"in_reply_to_user_id_str\":null,\"in_reply_to_screen_name\":null,\"user\":{\"id\":153825949,\"id_str\":\"153825949\",\"name\":\"Ministerio de Salud\",\"screen_name\":\"ministeriosalud\",\"location\":\"Chile\",\"url\":\"http:\\/\\/www.minsal.cl\",\"description\":\"Cuenta oficial del Ministerio de Salud del @GobiernoDeChile. Ministro @jmanalich. Subsec Salud P\\u00fablica @pdazan. Subsec Redes Asistenciales @arturozunigaj\",\"translator_type\":\"none\",\"protected\":false,\"verified\":true,\"followers_count\":348007,\"friends_count\":2490,\"listed_count\":832,\"favourites_count\":20081,\"statuses_count\":48711,\"created_at\":\"Wed Jun 09 16:38:56 +0000 2010\",\"utc_offset\":null,\"time_zone\":null,\"geo_enabled\":true,\"lang\":null,\"contributors_enabled\":false,\"is_translator\":false,\"profile_background_color\":\"E5E5E5\",\"profile_background_image_url\":\"http:\\/\\/abs.twimg.com\\/images\\/themes\\/theme19\\/bg.gif\",\"profile_background_image_url_https\":\"https:\\/\\/abs.twimg.com\\/images\\/themes\\/theme19\\/bg.gif\",\"profile_background_tile\":false,\"profile_link_color\":\"0069AB\",\"profile_sidebar_border_color\":\"000000\",\"profile_sidebar_fill_color\":\"C0DFEC\",\"profile_text_color\":\"333333\",\"profile_use_background_image\":true,\"profile_image_url\":\"http:\\/\\/pbs.twimg.com\\/profile_images\\/1240679830183649288\\/S94zI3Yu_normal.jpg\",\"profile_image_url_https\":\"https:\\/\\/pbs.twimg.com\\/profile_images\\/1240679830183649288\\/S94zI3Yu_normal.jpg\",\"profile_banner_url\":\"https:\\/\\/pbs.twimg.com\\/profile_banners\\/153825949\\/1584461283\",\"default_profile\":false,\"default_profile_image\":false,\"following\":null,\"follow_request_sent\":null,\"notifications\":null},\"geo\":null,\"coordinates\":null,\"place\":null,\"contributors\":null,\"is_quote_status\":false,\"extended_tweet\":{\"full_text\":\"Subsec @arturozunigaj  | Reporte diario #Covid_19 \\n\\n- 426 casos nuevos\\n- 6.927 casos totales\\n- 383 hospitalizadas\\n- 555 ventiladores disponibles\\n- 1.909 recuperadas\\n- 8 personas fallecidas (73 en total)\\n\\nCorte de informaci\\u00f3n a las 21:00 horas de ayer. https:\\/\\/t.co\\/KGDg3FpN5q\",\"display_text_range\":[0,251],\"entities\":{\"hashtags\":[{\"text\":\"Covid_19\",\"indices\":[40,49]}],\"urls\":[],\"user_mentions\":[{\"screen_name\":\"arturozunigaj\",\"name\":\"Arturo Z\\u00fa\\u00f1iga\",\"id\":2718835035,\"id_str\":\"2718835035\",\"indices\":[7,21]}],\"symbols\":[],\"media\":[{\"id\":1248985057257193474,\"id_str\":\"1248985057257193474\",\"indices\":[252,275],\"media_url\":\"http:\\/\\/pbs.twimg.com\\/media\\/EVVJSsuWAAIlwUL.jpg\",\"media_url_https\":\"https:\\/\\/pbs.twimg.com\\/media\\/EVVJSsuWAAIlwUL.jpg\",\"url\":\"https:\\/\\/t.co\\/KGDg3FpN5q\",\"display_url\":\"pic.twitter.com\\/KGDg3FpN5q\",\"expanded_url\":\"https:\\/\\/twitter.com\\/ministeriosalud\\/status\\/1248985140094697479\\/photo\\/1\",\"type\":\"photo\",\"sizes\":{\"thumb\":{\"w\":150,\"h\":150,\"resize\":\"crop\"},\"medium\":{\"w\":1024,\"h\":576,\"resize\":\"fit\"},\"small\":{\"w\":680,\"h\":383,\"resize\":\"fit\"},\"large\":{\"w\":1024,\"h\":576,\"resize\":\"fit\"}}}]},\"extended_entities\":{\"media\":[{\"id\":1248985057257193474,\"id_str\":\"1248985057257193474\",\"indices\":[252,275],\"media_url\":\"http:\\/\\/pbs.twimg.com\\/media\\/EVVJSsuWAAIlwUL.jpg\",\"media_url_https\":\"https:\\/\\/pbs.twimg.com\\/media\\/EVVJSsuWAAIlwUL.jpg\",\"url\":\"https:\\/\\/t.co\\/KGDg3FpN5q\",\"display_url\":\"pic.twitter.com\\/KGDg3FpN5q\",\"expanded_url\":\"https:\\/\\/twitter.com\\/ministeriosalud\\/status\\/1248985140094697479\\/photo\\/1\",\"type\":\"photo\",\"sizes\":{\"thumb\":{\"w\":150,\"h\":150,\"resize\":\"crop\"},\"medium\":{\"w\":1024,\"h\":576,\"resize\":\"fit\"},\"small\":{\"w\":680,\"h\":383,\"resize\":\"fit\"},\"large\":{\"w\":1024,\"h\":576,\"resize\":\"fit\"}}}]}},\"quote_count\":22,\"reply_count\":34,\"retweet_count\":185,\"favorite_count\":86,\"entities\":{\"hashtags\":[{\"text\":\"Covid_19\",\"indices\":[40,49]}],\"urls\":[{\"url\":\"https:\\/\\/t.co\\/AMdQXD6hZj\",\"expanded_url\":\"https:\\/\\/twitter.com\\/i\\/web\\/status\\/1248985140094697479\",\"display_url\":\"twitter.com\\/i\\/web\\/status\\/1\\u2026\",\"indices\":[117,140]}],\"user_mentions\":[{\"screen_name\":\"arturozunigaj\",\"name\":\"Arturo Z\\u00fa\\u00f1iga\",\"id\":2718835035,\"id_str\":\"2718835035\",\"indices\":[7,21]}],\"symbols\":[]},\"favorited\":false,\"retweeted\":false,\"possibly_sensitive\":false,\"filter_level\":\"low\",\"lang\":\"es\"},\"is_quote_status\":false,\"quote_count\":0,\"reply_count\":0,\"retweet_count\":0,\"favorite_count\":0,\"entities\":{\"hashtags\":[{\"text\":\"Covid_19\",\"indices\":[61,70]}],\"urls\":[],\"user_mentions\":[{\"screen_name\":\"ministeriosalud\",\"name\":\"Ministerio de Salud\",\"id\":153825949,\"id_str\":\"153825949\",\"indices\":[3,19]},{\"screen_name\":\"arturozunigaj\",\"name\":\"Arturo Z\\u00fa\\u00f1iga\",\"id\":2718835035,\"id_str\":\"2718835035\",\"indices\":[28,42]}],\"symbols\":[]},\"favorited\":false,\"retweeted\":false,\"filter_level\":\"low\",\"lang\":\"es\",\"timestamp_ms\":\"1586617460996\"}\n",
      "\n"
     ]
    },
    {
     "name": "stdout",
     "output_type": "stream",
     "text": [
      "{\"created_at\":\"Sat Apr 11 15:04:21 +0000 2020\",\"id\":1248990276707909635,\"id_str\":\"1248990276707909635\",\"text\":\"RT @ministeriosalud: Subsec @arturozunigaj  | Reporte diario #Covid_19 \\n\\n- 426 casos nuevos\\n- 6.927 casos totales\\n- 383 hospitalizadas\\n- 55\\u2026\",\"source\":\"\\u003ca href=\\\"http:\\/\\/twitter.com\\/download\\/android\\\" rel=\\\"nofollow\\\"\\u003eTwitter for Android\\u003c\\/a\\u003e\",\"truncated\":false,\"in_reply_to_status_id\":null,\"in_reply_to_status_id_str\":null,\"in_reply_to_user_id\":null,\"in_reply_to_user_id_str\":null,\"in_reply_to_screen_name\":null,\"user\":{\"id\":3167489639,\"id_str\":\"3167489639\",\"name\":\"Basilio Contreras T\",\"screen_name\":\"baco0713\",\"location\":\"Chill\\u00e1n\",\"url\":null,\"description\":\"Trabajador\",\"translator_type\":\"none\",\"protected\":false,\"verified\":false,\"followers_count\":65,\"friends_count\":917,\"listed_count\":0,\"favourites_count\":2777,\"statuses_count\":960,\"created_at\":\"Tue Apr 14 23:25:41 +0000 2015\",\"utc_offset\":null,\"time_zone\":null,\"geo_enabled\":true,\"lang\":null,\"contributors_enabled\":false,\"is_translator\":false,\"profile_background_color\":\"000000\",\"profile_background_image_url\":\"http:\\/\\/abs.twimg.com\\/images\\/themes\\/theme1\\/bg.png\",\"profile_background_image_url_https\":\"https:\\/\\/abs.twimg.com\\/images\\/themes\\/theme1\\/bg.png\",\"profile_background_tile\":false,\"profile_link_color\":\"94D487\",\"profile_sidebar_border_color\":\"000000\",\"profile_sidebar_fill_color\":\"000000\",\"profile_text_color\":\"000000\",\"profile_use_background_image\":false,\"profile_image_url\":\"http:\\/\\/pbs.twimg.com\\/profile_images\\/588155518201548802\\/XW0Di-G-_normal.jpg\",\"profile_image_url_https\":\"https:\\/\\/pbs.twimg.com\\/profile_images\\/588155518201548802\\/XW0Di-G-_normal.jpg\",\"default_profile\":false,\"default_profile_image\":false,\"following\":null,\"follow_request_sent\":null,\"notifications\":null},\"geo\":null,\"coordinates\":null,\"place\":null,\"contributors\":null,\"retweeted_status\":{\"created_at\":\"Sat Apr 11 14:43:57 +0000 2020\",\"id\":1248985140094697479,\"id_str\":\"1248985140094697479\",\"text\":\"Subsec @arturozunigaj  | Reporte diario #Covid_19 \\n\\n- 426 casos nuevos\\n- 6.927 casos totales\\n- 383 hospitalizadas\\n-\\u2026 https:\\/\\/t.co\\/AMdQXD6hZj\",\"display_text_range\":[0,140],\"source\":\"\\u003ca href=\\\"https:\\/\\/mobile.twitter.com\\\" rel=\\\"nofollow\\\"\\u003eTwitter Web App\\u003c\\/a\\u003e\",\"truncated\":true,\"in_reply_to_status_id\":null,\"in_reply_to_status_id_str\":null,\"in_reply_to_user_id\":null,\"in_reply_to_user_id_str\":null,\"in_reply_to_screen_name\":null,\"user\":{\"id\":153825949,\"id_str\":\"153825949\",\"name\":\"Ministerio de Salud\",\"screen_name\":\"ministeriosalud\",\"location\":\"Chile\",\"url\":\"http:\\/\\/www.minsal.cl\",\"description\":\"Cuenta oficial del Ministerio de Salud del @GobiernoDeChile. Ministro @jmanalich. Subsec Salud P\\u00fablica @pdazan. Subsec Redes Asistenciales @arturozunigaj\",\"translator_type\":\"none\",\"protected\":false,\"verified\":true,\"followers_count\":348007,\"friends_count\":2490,\"listed_count\":832,\"favourites_count\":20081,\"statuses_count\":48711,\"created_at\":\"Wed Jun 09 16:38:56 +0000 2010\",\"utc_offset\":null,\"time_zone\":null,\"geo_enabled\":true,\"lang\":null,\"contributors_enabled\":false,\"is_translator\":false,\"profile_background_color\":\"E5E5E5\",\"profile_background_image_url\":\"http:\\/\\/abs.twimg.com\\/images\\/themes\\/theme19\\/bg.gif\",\"profile_background_image_url_https\":\"https:\\/\\/abs.twimg.com\\/images\\/themes\\/theme19\\/bg.gif\",\"profile_background_tile\":false,\"profile_link_color\":\"0069AB\",\"profile_sidebar_border_color\":\"000000\",\"profile_sidebar_fill_color\":\"C0DFEC\",\"profile_text_color\":\"333333\",\"profile_use_background_image\":true,\"profile_image_url\":\"http:\\/\\/pbs.twimg.com\\/profile_images\\/1240679830183649288\\/S94zI3Yu_normal.jpg\",\"profile_image_url_https\":\"https:\\/\\/pbs.twimg.com\\/profile_images\\/1240679830183649288\\/S94zI3Yu_normal.jpg\",\"profile_banner_url\":\"https:\\/\\/pbs.twimg.com\\/profile_banners\\/153825949\\/1584461283\",\"default_profile\":false,\"default_profile_image\":false,\"following\":null,\"follow_request_sent\":null,\"notifications\":null},\"geo\":null,\"coordinates\":null,\"place\":null,\"contributors\":null,\"is_quote_status\":false,\"extended_tweet\":{\"full_text\":\"Subsec @arturozunigaj  | Reporte diario #Covid_19 \\n\\n- 426 casos nuevos\\n- 6.927 casos totales\\n- 383 hospitalizadas\\n- 555 ventiladores disponibles\\n- 1.909 recuperadas\\n- 8 personas fallecidas (73 en total)\\n\\nCorte de informaci\\u00f3n a las 21:00 horas de ayer. https:\\/\\/t.co\\/KGDg3FpN5q\",\"display_text_range\":[0,251],\"entities\":{\"hashtags\":[{\"text\":\"Covid_19\",\"indices\":[40,49]}],\"urls\":[],\"user_mentions\":[{\"screen_name\":\"arturozunigaj\",\"name\":\"Arturo Z\\u00fa\\u00f1iga\",\"id\":2718835035,\"id_str\":\"2718835035\",\"indices\":[7,21]}],\"symbols\":[],\"media\":[{\"id\":1248985057257193474,\"id_str\":\"1248985057257193474\",\"indices\":[252,275],\"media_url\":\"http:\\/\\/pbs.twimg.com\\/media\\/EVVJSsuWAAIlwUL.jpg\",\"media_url_https\":\"https:\\/\\/pbs.twimg.com\\/media\\/EVVJSsuWAAIlwUL.jpg\",\"url\":\"https:\\/\\/t.co\\/KGDg3FpN5q\",\"display_url\":\"pic.twitter.com\\/KGDg3FpN5q\",\"expanded_url\":\"https:\\/\\/twitter.com\\/ministeriosalud\\/status\\/1248985140094697479\\/photo\\/1\",\"type\":\"photo\",\"sizes\":{\"thumb\":{\"w\":150,\"h\":150,\"resize\":\"crop\"},\"medium\":{\"w\":1024,\"h\":576,\"resize\":\"fit\"},\"small\":{\"w\":680,\"h\":383,\"resize\":\"fit\"},\"large\":{\"w\":1024,\"h\":576,\"resize\":\"fit\"}}}]},\"extended_entities\":{\"media\":[{\"id\":1248985057257193474,\"id_str\":\"1248985057257193474\",\"indices\":[252,275],\"media_url\":\"http:\\/\\/pbs.twimg.com\\/media\\/EVVJSsuWAAIlwUL.jpg\",\"media_url_https\":\"https:\\/\\/pbs.twimg.com\\/media\\/EVVJSsuWAAIlwUL.jpg\",\"url\":\"https:\\/\\/t.co\\/KGDg3FpN5q\",\"display_url\":\"pic.twitter.com\\/KGDg3FpN5q\",\"expanded_url\":\"https:\\/\\/twitter.com\\/ministeriosalud\\/status\\/1248985140094697479\\/photo\\/1\",\"type\":\"photo\",\"sizes\":{\"thumb\":{\"w\":150,\"h\":150,\"resize\":\"crop\"},\"medium\":{\"w\":1024,\"h\":576,\"resize\":\"fit\"},\"small\":{\"w\":680,\"h\":383,\"resize\":\"fit\"},\"large\":{\"w\":1024,\"h\":576,\"resize\":\"fit\"}}}]}},\"quote_count\":22,\"reply_count\":34,\"retweet_count\":186,\"favorite_count\":86,\"entities\":{\"hashtags\":[{\"text\":\"Covid_19\",\"indices\":[40,49]}],\"urls\":[{\"url\":\"https:\\/\\/t.co\\/AMdQXD6hZj\",\"expanded_url\":\"https:\\/\\/twitter.com\\/i\\/web\\/status\\/1248985140094697479\",\"display_url\":\"twitter.com\\/i\\/web\\/status\\/1\\u2026\",\"indices\":[117,140]}],\"user_mentions\":[{\"screen_name\":\"arturozunigaj\",\"name\":\"Arturo Z\\u00fa\\u00f1iga\",\"id\":2718835035,\"id_str\":\"2718835035\",\"indices\":[7,21]}],\"symbols\":[]},\"favorited\":false,\"retweeted\":false,\"possibly_sensitive\":false,\"filter_level\":\"low\",\"lang\":\"es\"},\"is_quote_status\":false,\"quote_count\":0,\"reply_count\":0,\"retweet_count\":0,\"favorite_count\":0,\"entities\":{\"hashtags\":[{\"text\":\"Covid_19\",\"indices\":[61,70]}],\"urls\":[],\"user_mentions\":[{\"screen_name\":\"ministeriosalud\",\"name\":\"Ministerio de Salud\",\"id\":153825949,\"id_str\":\"153825949\",\"indices\":[3,19]},{\"screen_name\":\"arturozunigaj\",\"name\":\"Arturo Z\\u00fa\\u00f1iga\",\"id\":2718835035,\"id_str\":\"2718835035\",\"indices\":[28,42]}],\"symbols\":[]},\"favorited\":false,\"retweeted\":false,\"filter_level\":\"low\",\"lang\":\"es\",\"timestamp_ms\":\"1586617461741\"}\n",
      "\n",
      "{\"created_at\":\"Sat Apr 11 15:04:26 +0000 2020\",\"id\":1248990295473246208,\"id_str\":\"1248990295473246208\",\"text\":\"RT @ministeriosalud: Subsec @arturozunigaj  | Reporte diario #Covid_19 \\n\\n- 426 casos nuevos\\n- 6.927 casos totales\\n- 383 hospitalizadas\\n- 55\\u2026\",\"source\":\"\\u003ca href=\\\"http:\\/\\/twitter.com\\/download\\/android\\\" rel=\\\"nofollow\\\"\\u003eTwitter for Android\\u003c\\/a\\u003e\",\"truncated\":false,\"in_reply_to_status_id\":null,\"in_reply_to_status_id_str\":null,\"in_reply_to_user_id\":null,\"in_reply_to_user_id_str\":null,\"in_reply_to_screen_name\":null,\"user\":{\"id\":185059343,\"id_str\":\"185059343\",\"name\":\"Ver\\u00f3nica Jim\\u00e9nez\",\"screen_name\":\"veroj16\",\"location\":null,\"url\":null,\"description\":\"Vzla\\ud83c\\uddfb\\ud83c\\uddea\\/Chile\\ud83c\\udde8\\ud83c\\uddf1\",\"translator_type\":\"none\",\"protected\":false,\"verified\":false,\"followers_count\":1844,\"friends_count\":2682,\"listed_count\":24,\"favourites_count\":30510,\"statuses_count\":167470,\"created_at\":\"Tue Aug 31 03:38:20 +0000 2010\",\"utc_offset\":null,\"time_zone\":null,\"geo_enabled\":false,\"lang\":null,\"contributors_enabled\":false,\"is_translator\":false,\"profile_background_color\":\"C0DEED\",\"profile_background_image_url\":\"http:\\/\\/abs.twimg.com\\/images\\/themes\\/theme1\\/bg.png\",\"profile_background_image_url_https\":\"https:\\/\\/abs.twimg.com\\/images\\/themes\\/theme1\\/bg.png\",\"profile_background_tile\":false,\"profile_link_color\":\"1DA1F2\",\"profile_sidebar_border_color\":\"C0DEED\",\"profile_sidebar_fill_color\":\"DDEEF6\",\"profile_text_color\":\"333333\",\"profile_use_background_image\":true,\"profile_image_url\":\"http:\\/\\/pbs.twimg.com\\/profile_images\\/434418431015018497\\/tCZviRDm_normal.jpeg\",\"profile_image_url_https\":\"https:\\/\\/pbs.twimg.com\\/profile_images\\/434418431015018497\\/tCZviRDm_normal.jpeg\",\"profile_banner_url\":\"https:\\/\\/pbs.twimg.com\\/profile_banners\\/185059343\\/1385559341\",\"default_profile\":true,\"default_profile_image\":false,\"following\":null,\"follow_request_sent\":null,\"notifications\":null},\"geo\":null,\"coordinates\":null,\"place\":null,\"contributors\":null,\"retweeted_status\":{\"created_at\":\"Sat Apr 11 14:43:57 +0000 2020\",\"id\":1248985140094697479,\"id_str\":\"1248985140094697479\",\"text\":\"Subsec @arturozunigaj  | Reporte diario #Covid_19 \\n\\n- 426 casos nuevos\\n- 6.927 casos totales\\n- 383 hospitalizadas\\n-\\u2026 https:\\/\\/t.co\\/AMdQXD6hZj\",\"display_text_range\":[0,140],\"source\":\"\\u003ca href=\\\"https:\\/\\/mobile.twitter.com\\\" rel=\\\"nofollow\\\"\\u003eTwitter Web App\\u003c\\/a\\u003e\",\"truncated\":true,\"in_reply_to_status_id\":null,\"in_reply_to_status_id_str\":null,\"in_reply_to_user_id\":null,\"in_reply_to_user_id_str\":null,\"in_reply_to_screen_name\":null,\"user\":{\"id\":153825949,\"id_str\":\"153825949\",\"name\":\"Ministerio de Salud\",\"screen_name\":\"ministeriosalud\",\"location\":\"Chile\",\"url\":\"http:\\/\\/www.minsal.cl\",\"description\":\"Cuenta oficial del Ministerio de Salud del @GobiernoDeChile. Ministro @jmanalich. Subsec Salud P\\u00fablica @pdazan. Subsec Redes Asistenciales @arturozunigaj\",\"translator_type\":\"none\",\"protected\":false,\"verified\":true,\"followers_count\":348007,\"friends_count\":2490,\"listed_count\":832,\"favourites_count\":20081,\"statuses_count\":48711,\"created_at\":\"Wed Jun 09 16:38:56 +0000 2010\",\"utc_offset\":null,\"time_zone\":null,\"geo_enabled\":true,\"lang\":null,\"contributors_enabled\":false,\"is_translator\":false,\"profile_background_color\":\"E5E5E5\",\"profile_background_image_url\":\"http:\\/\\/abs.twimg.com\\/images\\/themes\\/theme19\\/bg.gif\",\"profile_background_image_url_https\":\"https:\\/\\/abs.twimg.com\\/images\\/themes\\/theme19\\/bg.gif\",\"profile_background_tile\":false,\"profile_link_color\":\"0069AB\",\"profile_sidebar_border_color\":\"000000\",\"profile_sidebar_fill_color\":\"C0DFEC\",\"profile_text_color\":\"333333\",\"profile_use_background_image\":true,\"profile_image_url\":\"http:\\/\\/pbs.twimg.com\\/profile_images\\/1240679830183649288\\/S94zI3Yu_normal.jpg\",\"profile_image_url_https\":\"https:\\/\\/pbs.twimg.com\\/profile_images\\/1240679830183649288\\/S94zI3Yu_normal.jpg\",\"profile_banner_url\":\"https:\\/\\/pbs.twimg.com\\/profile_banners\\/153825949\\/1584461283\",\"default_profile\":false,\"default_profile_image\":false,\"following\":null,\"follow_request_sent\":null,\"notifications\":null},\"geo\":null,\"coordinates\":null,\"place\":null,\"contributors\":null,\"is_quote_status\":false,\"extended_tweet\":{\"full_text\":\"Subsec @arturozunigaj  | Reporte diario #Covid_19 \\n\\n- 426 casos nuevos\\n- 6.927 casos totales\\n- 383 hospitalizadas\\n- 555 ventiladores disponibles\\n- 1.909 recuperadas\\n- 8 personas fallecidas (73 en total)\\n\\nCorte de informaci\\u00f3n a las 21:00 horas de ayer. https:\\/\\/t.co\\/KGDg3FpN5q\",\"display_text_range\":[0,251],\"entities\":{\"hashtags\":[{\"text\":\"Covid_19\",\"indices\":[40,49]}],\"urls\":[],\"user_mentions\":[{\"screen_name\":\"arturozunigaj\",\"name\":\"Arturo Z\\u00fa\\u00f1iga\",\"id\":2718835035,\"id_str\":\"2718835035\",\"indices\":[7,21]}],\"symbols\":[],\"media\":[{\"id\":1248985057257193474,\"id_str\":\"1248985057257193474\",\"indices\":[252,275],\"media_url\":\"http:\\/\\/pbs.twimg.com\\/media\\/EVVJSsuWAAIlwUL.jpg\",\"media_url_https\":\"https:\\/\\/pbs.twimg.com\\/media\\/EVVJSsuWAAIlwUL.jpg\",\"url\":\"https:\\/\\/t.co\\/KGDg3FpN5q\",\"display_url\":\"pic.twitter.com\\/KGDg3FpN5q\",\"expanded_url\":\"https:\\/\\/twitter.com\\/ministeriosalud\\/status\\/1248985140094697479\\/photo\\/1\",\"type\":\"photo\",\"sizes\":{\"thumb\":{\"w\":150,\"h\":150,\"resize\":\"crop\"},\"medium\":{\"w\":1024,\"h\":576,\"resize\":\"fit\"},\"small\":{\"w\":680,\"h\":383,\"resize\":\"fit\"},\"large\":{\"w\":1024,\"h\":576,\"resize\":\"fit\"}}}]},\"extended_entities\":{\"media\":[{\"id\":1248985057257193474,\"id_str\":\"1248985057257193474\",\"indices\":[252,275],\"media_url\":\"http:\\/\\/pbs.twimg.com\\/media\\/EVVJSsuWAAIlwUL.jpg\",\"media_url_https\":\"https:\\/\\/pbs.twimg.com\\/media\\/EVVJSsuWAAIlwUL.jpg\",\"url\":\"https:\\/\\/t.co\\/KGDg3FpN5q\",\"display_url\":\"pic.twitter.com\\/KGDg3FpN5q\",\"expanded_url\":\"https:\\/\\/twitter.com\\/ministeriosalud\\/status\\/1248985140094697479\\/photo\\/1\",\"type\":\"photo\",\"sizes\":{\"thumb\":{\"w\":150,\"h\":150,\"resize\":\"crop\"},\"medium\":{\"w\":1024,\"h\":576,\"resize\":\"fit\"},\"small\":{\"w\":680,\"h\":383,\"resize\":\"fit\"},\"large\":{\"w\":1024,\"h\":576,\"resize\":\"fit\"}}}]}},\"quote_count\":22,\"reply_count\":34,\"retweet_count\":187,\"favorite_count\":86,\"entities\":{\"hashtags\":[{\"text\":\"Covid_19\",\"indices\":[40,49]}],\"urls\":[{\"url\":\"https:\\/\\/t.co\\/AMdQXD6hZj\",\"expanded_url\":\"https:\\/\\/twitter.com\\/i\\/web\\/status\\/1248985140094697479\",\"display_url\":\"twitter.com\\/i\\/web\\/status\\/1\\u2026\",\"indices\":[117,140]}],\"user_mentions\":[{\"screen_name\":\"arturozunigaj\",\"name\":\"Arturo Z\\u00fa\\u00f1iga\",\"id\":2718835035,\"id_str\":\"2718835035\",\"indices\":[7,21]}],\"symbols\":[]},\"favorited\":false,\"retweeted\":false,\"possibly_sensitive\":false,\"filter_level\":\"low\",\"lang\":\"es\"},\"is_quote_status\":false,\"quote_count\":0,\"reply_count\":0,\"retweet_count\":0,\"favorite_count\":0,\"entities\":{\"hashtags\":[{\"text\":\"Covid_19\",\"indices\":[61,70]}],\"urls\":[],\"user_mentions\":[{\"screen_name\":\"ministeriosalud\",\"name\":\"Ministerio de Salud\",\"id\":153825949,\"id_str\":\"153825949\",\"indices\":[3,19]},{\"screen_name\":\"arturozunigaj\",\"name\":\"Arturo Z\\u00fa\\u00f1iga\",\"id\":2718835035,\"id_str\":\"2718835035\",\"indices\":[28,42]}],\"symbols\":[]},\"favorited\":false,\"retweeted\":false,\"filter_level\":\"low\",\"lang\":\"es\",\"timestamp_ms\":\"1586617466215\"}\n",
      "\n"
     ]
    },
    {
     "name": "stdout",
     "output_type": "stream",
     "text": [
      "{\"created_at\":\"Sat Apr 11 15:04:27 +0000 2020\",\"id\":1248990301437468672,\"id_str\":\"1248990301437468672\",\"text\":\"RT @ministeriosalud: Ministro @jmanalich | #COVID_19\\n\\n\\\"Quiero insistir en que el comportamiento en el mundo de este virus, afecta a persona\\u2026\",\"source\":\"\\u003ca href=\\\"http:\\/\\/twitter.com\\/download\\/iphone\\\" rel=\\\"nofollow\\\"\\u003eTwitter for iPhone\\u003c\\/a\\u003e\",\"truncated\":false,\"in_reply_to_status_id\":null,\"in_reply_to_status_id_str\":null,\"in_reply_to_user_id\":null,\"in_reply_to_user_id_str\":null,\"in_reply_to_screen_name\":null,\"user\":{\"id\":1217076994518781952,\"id_str\":\"1217076994518781952\",\"name\":\"martha_yines\",\"screen_name\":\"MarthaYines\",\"location\":null,\"url\":null,\"description\":null,\"translator_type\":\"none\",\"protected\":false,\"verified\":false,\"followers_count\":220,\"friends_count\":167,\"listed_count\":0,\"favourites_count\":7581,\"statuses_count\":15021,\"created_at\":\"Tue Jan 14 13:32:34 +0000 2020\",\"utc_offset\":null,\"time_zone\":null,\"geo_enabled\":false,\"lang\":null,\"contributors_enabled\":false,\"is_translator\":false,\"profile_background_color\":\"F5F8FA\",\"profile_background_image_url\":\"\",\"profile_background_image_url_https\":\"\",\"profile_background_tile\":false,\"profile_link_color\":\"1DA1F2\",\"profile_sidebar_border_color\":\"C0DEED\",\"profile_sidebar_fill_color\":\"DDEEF6\",\"profile_text_color\":\"333333\",\"profile_use_background_image\":true,\"profile_image_url\":\"http:\\/\\/pbs.twimg.com\\/profile_images\\/1217157248780328962\\/usWIT9GY_normal.jpg\",\"profile_image_url_https\":\"https:\\/\\/pbs.twimg.com\\/profile_images\\/1217157248780328962\\/usWIT9GY_normal.jpg\",\"profile_banner_url\":\"https:\\/\\/pbs.twimg.com\\/profile_banners\\/1217076994518781952\\/1579027955\",\"default_profile\":true,\"default_profile_image\":false,\"following\":null,\"follow_request_sent\":null,\"notifications\":null},\"geo\":null,\"coordinates\":null,\"place\":null,\"contributors\":null,\"retweeted_status\":{\"created_at\":\"Sat Apr 11 14:49:06 +0000 2020\",\"id\":1248986437363609600,\"id_str\":\"1248986437363609600\",\"text\":\"Ministro @jmanalich | #COVID_19\\n\\n\\\"Quiero insistir en que el comportamiento en el mundo de este virus, afecta a pers\\u2026 https:\\/\\/t.co\\/HXsE0KmMz3\",\"display_text_range\":[0,140],\"source\":\"\\u003ca href=\\\"https:\\/\\/mobile.twitter.com\\\" rel=\\\"nofollow\\\"\\u003eTwitter Web App\\u003c\\/a\\u003e\",\"truncated\":true,\"in_reply_to_status_id\":null,\"in_reply_to_status_id_str\":null,\"in_reply_to_user_id\":null,\"in_reply_to_user_id_str\":null,\"in_reply_to_screen_name\":null,\"user\":{\"id\":153825949,\"id_str\":\"153825949\",\"name\":\"Ministerio de Salud\",\"screen_name\":\"ministeriosalud\",\"location\":\"Chile\",\"url\":\"http:\\/\\/www.minsal.cl\",\"description\":\"Cuenta oficial del Ministerio de Salud del @GobiernoDeChile. Ministro @jmanalich. Subsec Salud P\\u00fablica @pdazan. Subsec Redes Asistenciales @arturozunigaj\",\"translator_type\":\"none\",\"protected\":false,\"verified\":true,\"followers_count\":348007,\"friends_count\":2490,\"listed_count\":832,\"favourites_count\":20081,\"statuses_count\":48711,\"created_at\":\"Wed Jun 09 16:38:56 +0000 2010\",\"utc_offset\":null,\"time_zone\":null,\"geo_enabled\":true,\"lang\":null,\"contributors_enabled\":false,\"is_translator\":false,\"profile_background_color\":\"E5E5E5\",\"profile_background_image_url\":\"http:\\/\\/abs.twimg.com\\/images\\/themes\\/theme19\\/bg.gif\",\"profile_background_image_url_https\":\"https:\\/\\/abs.twimg.com\\/images\\/themes\\/theme19\\/bg.gif\",\"profile_background_tile\":false,\"profile_link_color\":\"0069AB\",\"profile_sidebar_border_color\":\"000000\",\"profile_sidebar_fill_color\":\"C0DFEC\",\"profile_text_color\":\"333333\",\"profile_use_background_image\":true,\"profile_image_url\":\"http:\\/\\/pbs.twimg.com\\/profile_images\\/1240679830183649288\\/S94zI3Yu_normal.jpg\",\"profile_image_url_https\":\"https:\\/\\/pbs.twimg.com\\/profile_images\\/1240679830183649288\\/S94zI3Yu_normal.jpg\",\"profile_banner_url\":\"https:\\/\\/pbs.twimg.com\\/profile_banners\\/153825949\\/1584461283\",\"default_profile\":false,\"default_profile_image\":false,\"following\":null,\"follow_request_sent\":null,\"notifications\":null},\"geo\":null,\"coordinates\":null,\"place\":null,\"contributors\":null,\"is_quote_status\":false,\"extended_tweet\":{\"full_text\":\"Ministro @jmanalich | #COVID_19\\n\\n\\\"Quiero insistir en que el comportamiento en el mundo de este virus, afecta a personas de enfermedad avanzada y\\/o con enfermedades base\\\".\\n\\n\\\"Este hecho acent\\u00faa la necesidad de proteger a personas mayores\\\". https:\\/\\/t.co\\/0dIiwBN4nd\",\"display_text_range\":[0,237],\"entities\":{\"hashtags\":[{\"text\":\"COVID_19\",\"indices\":[22,31]}],\"urls\":[],\"user_mentions\":[{\"screen_name\":\"jmanalich\",\"name\":\"Jaime Ma\\u00f1alich\",\"id\":114834301,\"id_str\":\"114834301\",\"indices\":[9,19]}],\"symbols\":[],\"media\":[{\"id\":1248986409559560194,\"id_str\":\"1248986409559560194\",\"indices\":[238,261],\"media_url\":\"http:\\/\\/pbs.twimg.com\\/media\\/EVVKhacWkAIAcP9.jpg\",\"media_url_https\":\"https:\\/\\/pbs.twimg.com\\/media\\/EVVKhacWkAIAcP9.jpg\",\"url\":\"https:\\/\\/t.co\\/0dIiwBN4nd\",\"display_url\":\"pic.twitter.com\\/0dIiwBN4nd\",\"expanded_url\":\"https:\\/\\/twitter.com\\/ministeriosalud\\/status\\/1248986437363609600\\/photo\\/1\",\"type\":\"photo\",\"sizes\":{\"thumb\":{\"w\":150,\"h\":150,\"resize\":\"crop\"},\"small\":{\"w\":680,\"h\":383,\"resize\":\"fit\"},\"medium\":{\"w\":1024,\"h\":576,\"resize\":\"fit\"},\"large\":{\"w\":1024,\"h\":576,\"resize\":\"fit\"}}}]},\"extended_entities\":{\"media\":[{\"id\":1248986409559560194,\"id_str\":\"1248986409559560194\",\"indices\":[238,261],\"media_url\":\"http:\\/\\/pbs.twimg.com\\/media\\/EVVKhacWkAIAcP9.jpg\",\"media_url_https\":\"https:\\/\\/pbs.twimg.com\\/media\\/EVVKhacWkAIAcP9.jpg\",\"url\":\"https:\\/\\/t.co\\/0dIiwBN4nd\",\"display_url\":\"pic.twitter.com\\/0dIiwBN4nd\",\"expanded_url\":\"https:\\/\\/twitter.com\\/ministeriosalud\\/status\\/1248986437363609600\\/photo\\/1\",\"type\":\"photo\",\"sizes\":{\"thumb\":{\"w\":150,\"h\":150,\"resize\":\"crop\"},\"small\":{\"w\":680,\"h\":383,\"resize\":\"fit\"},\"medium\":{\"w\":1024,\"h\":576,\"resize\":\"fit\"},\"large\":{\"w\":1024,\"h\":576,\"resize\":\"fit\"}}}]}},\"quote_count\":3,\"reply_count\":17,\"retweet_count\":40,\"favorite_count\":40,\"entities\":{\"hashtags\":[{\"text\":\"COVID_19\",\"indices\":[22,31]}],\"urls\":[{\"url\":\"https:\\/\\/t.co\\/HXsE0KmMz3\",\"expanded_url\":\"https:\\/\\/twitter.com\\/i\\/web\\/status\\/1248986437363609600\",\"display_url\":\"twitter.com\\/i\\/web\\/status\\/1\\u2026\",\"indices\":[117,140]}],\"user_mentions\":[{\"screen_name\":\"jmanalich\",\"name\":\"Jaime Ma\\u00f1alich\",\"id\":114834301,\"id_str\":\"114834301\",\"indices\":[9,19]}],\"symbols\":[]},\"favorited\":false,\"retweeted\":false,\"possibly_sensitive\":false,\"filter_level\":\"low\",\"lang\":\"es\"},\"is_quote_status\":false,\"quote_count\":0,\"reply_count\":0,\"retweet_count\":0,\"favorite_count\":0,\"entities\":{\"hashtags\":[{\"text\":\"COVID_19\",\"indices\":[43,52]}],\"urls\":[],\"user_mentions\":[{\"screen_name\":\"ministeriosalud\",\"name\":\"Ministerio de Salud\",\"id\":153825949,\"id_str\":\"153825949\",\"indices\":[3,19]},{\"screen_name\":\"jmanalich\",\"name\":\"Jaime Ma\\u00f1alich\",\"id\":114834301,\"id_str\":\"114834301\",\"indices\":[30,40]}],\"symbols\":[]},\"favorited\":false,\"retweeted\":false,\"filter_level\":\"low\",\"lang\":\"es\",\"timestamp_ms\":\"1586617467637\"}\r\n",
      "\n"
     ]
    }
   ],
   "source": [
    "# Importamos las librerías necesarias:\n",
    "\n",
    "from tweepy.streaming import StreamListener\n",
    "from tweepy import OAuthHandler\n",
    "from tweepy import Stream\n",
    "import re\n",
    "import time\n",
    "\n",
    "# Declaramos nuestras Twitter API Keys:\n",
    "access_token = '1230251564616515586-2KqPsCG2mIJp3irRjENgHpCfQUxTUg'\n",
    "access_token_secret = '6PJfMtYGY7w6csiIX9m1S5jFEKNZ3hE9PVkHKeN1S14iM'\n",
    "consumer_key = 'koO4XqTuWFr5ADGcE8kjIkVoU'\n",
    "consumer_secret = '3F4sk9qU8zbKBROuLPUUj1uvE2YuhseXPe0ahMQoivg4icN5bL'\n",
    "\n",
    "#auth = tweepy.OAuthHandler(consumer_key, consumer_secret)\n",
    "#auth.set_access_token(access_token, access_token_secret)\n",
    "#api = tweepy.API(auth)\n",
    "\n",
    "# Se debe utilizar apscheduler\n",
    "# https://medium.com/better-programming/introduction-to-apscheduler-86337f3bb4a6\n",
    "'''Advanced Python Scheduler (APScheduler) es una biblioteca de Python que te permite programar \n",
    "tu código de Python para que se ejecute más tarde, ya sea solo una vez o periódicamente. \n",
    "Puede agregar nuevos trabajos o eliminar los antiguos sobre la marcha, según lo desees. \n",
    "Si almacena sus trabajos en una base de datos, también sobrevivirán a los reinicios del planificador \n",
    "y mantendrán su estado. Cuando se reinicia el planificador, ejecutará todos los trabajos que debería \n",
    "haber ejecutado mientras estaba desconectado'''\n",
    "\n",
    "#from apscheduler.schedulers.background import BackgroundScheduler\n",
    "\n",
    "# Inicializamos la variable global: \n",
    "tweet_count = 0\n",
    "\n",
    "# Ingresamos el número de tweets a ser descargados:\n",
    "n_tweets = 10\n",
    "\n",
    "# Crea la clase que manejará el stream de tweets:\n",
    "class StdOutListener(StreamListener):\n",
    "    \n",
    "    #sched = BackgroundScheduler(daemon=True)\n",
    "    #sched.add_job(lambda : sched.on_data(),'interval',seconds=500)\n",
    "    #sched.start()\n",
    "    #sched.shutdown()\n",
    "\n",
    "    def on_data(self, data):\n",
    "            \n",
    "            global tweet_count\n",
    "            global n_tweets\n",
    "            global stream\n",
    "            if tweet_count < n_tweets:\n",
    "            \n",
    "            # Imprimimos en pantalla los tweets descargados:\n",
    "                print(data)\n",
    "                tweet_count += 1\n",
    "            \n",
    "            # Guardar el archivo data como txt:\n",
    "            # el parámetro 'a' permite ir escribiendo debajo de lo ya existente en el txt:\n",
    "            # https://www.geeksforgeeks.org/reading-writing-text-files-python/\n",
    "                write_on_txt=open(\"twitter_min_sal.txt\",'a')\n",
    "                write_on_txt.write(data)\n",
    "                write_on_txt.close()  \n",
    "\n",
    "                return True\n",
    "        \n",
    "            else:\n",
    "                stream.disconnect()\n",
    "      \n",
    "    def on_error(self, status):\n",
    "        print(status)\n",
    "\n",
    "# Manejamos la autenticación de Twitter y la conexión a la API de Streaming de Twitter:\n",
    "l = StdOutListener()\n",
    "auth = OAuthHandler(consumer_key, consumer_secret)\n",
    "auth.set_access_token(access_token, access_token_secret)\n",
    "stream = Stream(auth, l)\n",
    "\n",
    "# Integramos un flitro para que busque un usuario, en éste caso de la WHO:\n",
    "# id del colegio_medico: 633098103\n",
    "# id del usuario: Ministerio de salud: 153825949\n",
    "# id del usuario: SOCHIMU medicina de urgencia: 2882584795\n",
    "# id del usuario: WHO: 14499829\n",
    "usuario = ['153825949']\n",
    "stream.filter(follow=usuario)"
   ]
  },
  {
   "cell_type": "code",
   "execution_count": 6,
   "metadata": {
    "scrolled": true
   },
   "outputs": [
    {
     "ename": "FileNotFoundError",
     "evalue": "[Errno 2] No such file or directory: 'twitter_min_sal.txt'",
     "output_type": "error",
     "traceback": [
      "\u001b[1;31m---------------------------------------------------------------------------\u001b[0m",
      "\u001b[1;31mFileNotFoundError\u001b[0m                         Traceback (most recent call last)",
      "\u001b[1;32m<ipython-input-6-996f625c59c6>\u001b[0m in \u001b[0;36m<module>\u001b[1;34m\u001b[0m\n\u001b[0;32m      5\u001b[0m \u001b[1;33m\u001b[0m\u001b[0m\n\u001b[0;32m      6\u001b[0m \u001b[0mtweets_data\u001b[0m \u001b[1;33m=\u001b[0m \u001b[1;33m[\u001b[0m\u001b[1;33m]\u001b[0m\u001b[1;33m\u001b[0m\u001b[1;33m\u001b[0m\u001b[0m\n\u001b[1;32m----> 7\u001b[1;33m \u001b[0mtweets_file\u001b[0m \u001b[1;33m=\u001b[0m \u001b[0mopen\u001b[0m\u001b[1;33m(\u001b[0m\u001b[0mtweets_data_path\u001b[0m\u001b[1;33m,\u001b[0m \u001b[1;34m\"r\"\u001b[0m\u001b[1;33m)\u001b[0m\u001b[1;33m\u001b[0m\u001b[1;33m\u001b[0m\u001b[0m\n\u001b[0m\u001b[0;32m      8\u001b[0m \u001b[1;32mfor\u001b[0m \u001b[0mline\u001b[0m \u001b[1;32min\u001b[0m \u001b[0mtweets_file\u001b[0m\u001b[1;33m:\u001b[0m\u001b[1;33m\u001b[0m\u001b[1;33m\u001b[0m\u001b[0m\n\u001b[0;32m      9\u001b[0m     \u001b[1;32mtry\u001b[0m\u001b[1;33m:\u001b[0m\u001b[1;33m\u001b[0m\u001b[1;33m\u001b[0m\u001b[0m\n",
      "\u001b[1;31mFileNotFoundError\u001b[0m: [Errno 2] No such file or directory: 'twitter_min_sal.txt'"
     ]
    }
   ],
   "source": [
    "import json\n",
    "import pandas as pd\n",
    "tweets_data_path = \"twitter_min_sal.txt\"  \n",
    "\n",
    "\n",
    "tweets_data = []  \n",
    "tweets_file = open(tweets_data_path, \"r\")  \n",
    "for line in tweets_file:  \n",
    "    try:  \n",
    "        tweet = json.loads(line)  \n",
    "        tweets_data.append(tweet)  \n",
    "    except:  \n",
    "        continue\n",
    "        \n",
    "tweets = pd.DataFrame()\n",
    "\n",
    "tweets['Texto del tweet'] = list(map(lambda tweet: tweet['text'], tweets_data))\n",
    "tweets['Usuario'] = list(map(lambda tweet: tweet['user']['screen_name'], tweets_data))\n",
    "tweets['Fecha'] = list(map(lambda tweet: tweet['created_at'], tweets_data))\n",
    "\n",
    "#url = f\"https://twitter.com/user/status/{tweet.id}\"\n",
    "\n",
    "#tweets['id'] = list(map(lambda tweet: tweet['id'], tweets_data))\n",
    "\n",
    "tweets['id'] = list(map(lambda tweet: tweet['id'], tweets_data))\n",
    "\n",
    "tweets"
   ]
  },
  {
   "cell_type": "code",
   "execution_count": 7,
   "metadata": {},
   "outputs": [
    {
     "data": {
      "text/html": [
       "<div>\n",
       "<style scoped>\n",
       "    .dataframe tbody tr th:only-of-type {\n",
       "        vertical-align: middle;\n",
       "    }\n",
       "\n",
       "    .dataframe tbody tr th {\n",
       "        vertical-align: top;\n",
       "    }\n",
       "\n",
       "    .dataframe thead th {\n",
       "        text-align: right;\n",
       "    }\n",
       "</style>\n",
       "<table border=\"1\" class=\"dataframe\">\n",
       "  <thead>\n",
       "    <tr style=\"text-align: right;\">\n",
       "      <th></th>\n",
       "      <th>Texto del tweet</th>\n",
       "      <th>Usuario</th>\n",
       "      <th>Fecha</th>\n",
       "      <th>id</th>\n",
       "    </tr>\n",
       "  </thead>\n",
       "  <tbody>\n",
       "    <tr>\n",
       "      <th>9</th>\n",
       "      <td>RT @colmedchile: Estamos preocupados por la si...</td>\n",
       "      <td>karen_haichelis</td>\n",
       "      <td>Sat Apr 11 14:52:15 +0000 2020</td>\n",
       "      <td>1248987231337025536</td>\n",
       "    </tr>\n",
       "    <tr>\n",
       "      <th>8</th>\n",
       "      <td>RT @colmedchile: Junto a nuestra Comisión de #...</td>\n",
       "      <td>MazoyerCath</td>\n",
       "      <td>Sat Apr 11 14:52:13 +0000 2020</td>\n",
       "      <td>1248987221421670406</td>\n",
       "    </tr>\n",
       "    <tr>\n",
       "      <th>7</th>\n",
       "      <td>RT @colmedchile: Conoce el informe elaborado p...</td>\n",
       "      <td>080Gthooo</td>\n",
       "      <td>Sat Apr 11 14:51:18 +0000 2020</td>\n",
       "      <td>1248986991947120642</td>\n",
       "    </tr>\n",
       "    <tr>\n",
       "      <th>6</th>\n",
       "      <td>RT @colmedchile: Conoce el informe elaborado p...</td>\n",
       "      <td>dridelatorre</td>\n",
       "      <td>Sat Apr 11 14:50:55 +0000 2020</td>\n",
       "      <td>1248986896178524160</td>\n",
       "    </tr>\n",
       "    <tr>\n",
       "      <th>5</th>\n",
       "      <td>RT @colmedchile: Estamos preocupados por la si...</td>\n",
       "      <td>RTeran2020</td>\n",
       "      <td>Sat Apr 11 14:49:03 +0000 2020</td>\n",
       "      <td>1248986426047422467</td>\n",
       "    </tr>\n",
       "    <tr>\n",
       "      <th>4</th>\n",
       "      <td>RT @colmedchile: Conoce el informe elaborado p...</td>\n",
       "      <td>smillaleo</td>\n",
       "      <td>Sat Apr 11 14:47:47 +0000 2020</td>\n",
       "      <td>1248986108446334982</td>\n",
       "    </tr>\n",
       "    <tr>\n",
       "      <th>3</th>\n",
       "      <td>RT @colmedchile: Junto a nuestra Comisión de #...</td>\n",
       "      <td>Iguerrerom</td>\n",
       "      <td>Sat Apr 11 14:47:45 +0000 2020</td>\n",
       "      <td>1248986096979062790</td>\n",
       "    </tr>\n",
       "    <tr>\n",
       "      <th>2</th>\n",
       "      <td>RT @colmedchile: Conoce el informe elaborado p...</td>\n",
       "      <td>gloriafsalazar</td>\n",
       "      <td>Sat Apr 11 14:46:33 +0000 2020</td>\n",
       "      <td>1248985794754285580</td>\n",
       "    </tr>\n",
       "    <tr>\n",
       "      <th>1</th>\n",
       "      <td>RT @colmedchile: Conoce el informe elaborado p...</td>\n",
       "      <td>Iguerrerom</td>\n",
       "      <td>Sat Apr 11 14:46:26 +0000 2020</td>\n",
       "      <td>1248985768405630979</td>\n",
       "    </tr>\n",
       "    <tr>\n",
       "      <th>0</th>\n",
       "      <td>@colmedchile @elbeatdeltambor @gonsat Con este...</td>\n",
       "      <td>Carmetita</td>\n",
       "      <td>Sat Apr 11 14:46:01 +0000 2020</td>\n",
       "      <td>1248985663791403008</td>\n",
       "    </tr>\n",
       "  </tbody>\n",
       "</table>\n",
       "</div>"
      ],
      "text/plain": [
       "                                     Texto del tweet          Usuario  \\\n",
       "9  RT @colmedchile: Estamos preocupados por la si...  karen_haichelis   \n",
       "8  RT @colmedchile: Junto a nuestra Comisión de #...      MazoyerCath   \n",
       "7  RT @colmedchile: Conoce el informe elaborado p...        080Gthooo   \n",
       "6  RT @colmedchile: Conoce el informe elaborado p...     dridelatorre   \n",
       "5  RT @colmedchile: Estamos preocupados por la si...       RTeran2020   \n",
       "4  RT @colmedchile: Conoce el informe elaborado p...        smillaleo   \n",
       "3  RT @colmedchile: Junto a nuestra Comisión de #...       Iguerrerom   \n",
       "2  RT @colmedchile: Conoce el informe elaborado p...   gloriafsalazar   \n",
       "1  RT @colmedchile: Conoce el informe elaborado p...       Iguerrerom   \n",
       "0  @colmedchile @elbeatdeltambor @gonsat Con este...        Carmetita   \n",
       "\n",
       "                            Fecha                   id  \n",
       "9  Sat Apr 11 14:52:15 +0000 2020  1248987231337025536  \n",
       "8  Sat Apr 11 14:52:13 +0000 2020  1248987221421670406  \n",
       "7  Sat Apr 11 14:51:18 +0000 2020  1248986991947120642  \n",
       "6  Sat Apr 11 14:50:55 +0000 2020  1248986896178524160  \n",
       "5  Sat Apr 11 14:49:03 +0000 2020  1248986426047422467  \n",
       "4  Sat Apr 11 14:47:47 +0000 2020  1248986108446334982  \n",
       "3  Sat Apr 11 14:47:45 +0000 2020  1248986096979062790  \n",
       "2  Sat Apr 11 14:46:33 +0000 2020  1248985794754285580  \n",
       "1  Sat Apr 11 14:46:26 +0000 2020  1248985768405630979  \n",
       "0  Sat Apr 11 14:46:01 +0000 2020  1248985663791403008  "
      ]
     },
     "execution_count": 7,
     "metadata": {},
     "output_type": "execute_result"
    }
   ],
   "source": [
    "reversed_tweets = tweets.iloc[::-1]\n",
    "reversed_tweets"
   ]
  },
  {
   "cell_type": "code",
   "execution_count": 4,
   "metadata": {},
   "outputs": [],
   "source": [
    "import csv\n",
    "#reversed_tweets.to_excel('reversed_tweets.csv', sheet_name='primera')\n",
    "tweets.to_csv(r'reversed_twitter_min_sal.csv', index = False)"
   ]
  },
  {
   "cell_type": "markdown",
   "metadata": {},
   "source": [
    "#### Ahora se debe borrar el contenido del txt:"
   ]
  },
  {
   "cell_type": "code",
   "execution_count": null,
   "metadata": {},
   "outputs": [],
   "source": []
  }
 ],
 "metadata": {
  "kernelspec": {
   "display_name": "Python 3",
   "language": "python",
   "name": "python3"
  },
  "language_info": {
   "codemirror_mode": {
    "name": "ipython",
    "version": 3
   },
   "file_extension": ".py",
   "mimetype": "text/x-python",
   "name": "python",
   "nbconvert_exporter": "python",
   "pygments_lexer": "ipython3",
   "version": "3.7.6"
  }
 },
 "nbformat": 4,
 "nbformat_minor": 4
}
