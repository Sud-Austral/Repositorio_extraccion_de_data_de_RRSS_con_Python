{
 "cells": [
  {
   "cell_type": "code",
   "execution_count": 1,
   "metadata": {},
   "outputs": [],
   "source": [
    "import scappingFacebook as sF"
   ]
  },
  {
   "cell_type": "code",
   "execution_count": 2,
   "metadata": {},
   "outputs": [],
   "source": [
    "from facebook_scraper import get_posts\n",
    "#salida = []\n",
    "#for post in get_posts('Cooperativa', pages=1, credentials=(\"informaticasudaustral@gmail.com\",\"Info.Sud91\")):\n",
    "#     salida.append(post[\"post_url\"])"
   ]
  },
  {
   "cell_type": "code",
   "execution_count": 3,
   "metadata": {},
   "outputs": [],
   "source": [
    "#link = salida[0].replace(\"m.facebook\",\"www.facebook\")"
   ]
  },
  {
   "cell_type": "code",
   "execution_count": 4,
   "metadata": {},
   "outputs": [],
   "source": [
    "def getPost(pagina, n):\n",
    "    salida = []\n",
    "    for post in get_posts(pagina, pages=n, credentials=(\"informaticasudaustral@gmail.com\",\"Info.Sud91\")):\n",
    "        if type(post[\"post_url\"]) == str:\n",
    "                #print(type(post[\"post_url\"]))\n",
    "                salida.append(post[\"post_url\"].replace(\"m.facebook\",\"www.facebook\"))\n",
    "        #texto = post[\"post_url\"]\n",
    "        #print(texto.replace(\"m.facebook\",\"www.facebook\"))\n",
    "        \n",
    "    return salida[:n]"
   ]
  },
  {
   "cell_type": "code",
   "execution_count": 5,
   "metadata": {},
   "outputs": [],
   "source": [
    "#print(getPost(\"Cooperativa\", 30)[0])"
   ]
  },
  {
   "cell_type": "code",
   "execution_count": 8,
   "metadata": {},
   "outputs": [],
   "source": [
    "\n",
    "from selenium import webdriver\n",
    "from selenium.webdriver.common.keys import Keys\n",
    "driver = webdriver.Firefox()\n",
    "driver.set_page_load_timeout(\"60\")\n",
    "driver.get(\"https://www.facebook.com\")\n",
    "\n",
    "driver.find_element_by_name(\"email\").send_keys(\"informaticasudaustral@gmail.com\")\n",
    "driver.find_element_by_name(\"pass\").send_keys(\"Info.Sud91\")\n",
    "\n",
    "driver.find_element_by_id(\"loginbutton\").click()\n",
    "driver.set_page_load_timeout(\"60\")\n",
    "\n",
    "\n",
    "for i in getPost(\"Cooperativa\", 3):\n",
    "    salida = []\n",
    "    salida.append(sF.comentarios(i, driver))\n"
   ]
  },
  {
   "cell_type": "code",
   "execution_count": 11,
   "metadata": {},
   "outputs": [
    {
     "name": "stdout",
     "output_type": "stream",
     "text": [
      "https://www.facebook.com/story.php?story_fbid=10157430843705895&id=313191260894\n",
      "https://www.facebook.com/story.php?story_fbid=10157430921470895&id=313191260894\n",
      "https://www.facebook.com/story.php?story_fbid=10157430878430895&id=313191260894\n"
     ]
    }
   ],
   "source": [
    "for i in getPost(\"Cooperativa\", 3):\n",
    "    print(i)"
   ]
  },
  {
   "cell_type": "code",
   "execution_count": 12,
   "metadata": {},
   "outputs": [],
   "source": [
    "from selenium import webdriver\n",
    "from selenium.webdriver.common.keys import Keys\n",
    "driver = webdriver.Firefox()\n",
    "driver.set_page_load_timeout(\"60\")\n",
    "driver.get(\"https://www.facebook.com\")\n",
    "\n",
    "driver.find_element_by_name(\"email\").send_keys(\"informaticasudaustral@gmail.com\")\n",
    "driver.find_element_by_name(\"pass\").send_keys(\"Info.Sud91\")\n",
    "\n",
    "driver.find_element_by_id(\"loginbutton\").click()\n",
    "driver.set_page_load_timeout(\"60\")\n",
    "data = sF.comentarios(\"https://www.facebook.com/story.php?story_fbid=10157430843705895&id=313191260894\", driver)"
   ]
  },
  {
   "cell_type": "code",
   "execution_count": 15,
   "metadata": {},
   "outputs": [
    {
     "data": {
      "text/html": [
       "<div>\n",
       "<style scoped>\n",
       "    .dataframe tbody tr th:only-of-type {\n",
       "        vertical-align: middle;\n",
       "    }\n",
       "\n",
       "    .dataframe tbody tr th {\n",
       "        vertical-align: top;\n",
       "    }\n",
       "\n",
       "    .dataframe thead th {\n",
       "        text-align: right;\n",
       "    }\n",
       "</style>\n",
       "<table border=\"1\" class=\"dataframe\">\n",
       "  <thead>\n",
       "    <tr style=\"text-align: right;\">\n",
       "      <th></th>\n",
       "      <th>comentario</th>\n",
       "      <th>likes</th>\n",
       "      <th>id</th>\n",
       "      <th>id_padre</th>\n",
       "      <th>hora</th>\n",
       "    </tr>\n",
       "  </thead>\n",
       "  <tbody>\n",
       "    <tr>\n",
       "      <th>0</th>\n",
       "      <td>German Ramirez Mientras no haya conciencia que...</td>\n",
       "      <td>184</td>\n",
       "      <td>1</td>\n",
       "      <td>0</td>\n",
       "      <td>1 d</td>\n",
       "    </tr>\n",
       "    <tr>\n",
       "      <th>1</th>\n",
       "      <td>Cecilia Alvarez Se cansó pues, si la paciencia...</td>\n",
       "      <td>275</td>\n",
       "      <td>2</td>\n",
       "      <td>0</td>\n",
       "      <td>1 d</td>\n",
       "    </tr>\n",
       "    <tr>\n",
       "      <th>2</th>\n",
       "      <td>Ricardo Andres Fernandez Garcia si la gente es...</td>\n",
       "      <td>87</td>\n",
       "      <td>3</td>\n",
       "      <td>0</td>\n",
       "      <td>1 d</td>\n",
       "    </tr>\n",
       "    <tr>\n",
       "      <th>3</th>\n",
       "      <td>Ale Rock Rock Igual un poco inconsecuente baja...</td>\n",
       "      <td>68</td>\n",
       "      <td>4</td>\n",
       "      <td>0</td>\n",
       "      <td>1 d</td>\n",
       "    </tr>\n",
       "    <tr>\n",
       "      <th>4</th>\n",
       "      <td>Angel Josue Vargas Alvarez Perdón, no es por p...</td>\n",
       "      <td>24</td>\n",
       "      <td>5</td>\n",
       "      <td>0</td>\n",
       "      <td>1 d</td>\n",
       "    </tr>\n",
       "  </tbody>\n",
       "</table>\n",
       "</div>"
      ],
      "text/plain": [
       "                                          comentario likes  id  id_padre hora\n",
       "0  German Ramirez Mientras no haya conciencia que...   184   1         0  1 d\n",
       "1  Cecilia Alvarez Se cansó pues, si la paciencia...   275   2         0  1 d\n",
       "2  Ricardo Andres Fernandez Garcia si la gente es...    87   3         0  1 d\n",
       "3  Ale Rock Rock Igual un poco inconsecuente baja...    68   4         0  1 d\n",
       "4  Angel Josue Vargas Alvarez Perdón, no es por p...    24   5         0  1 d"
      ]
     },
     "execution_count": 15,
     "metadata": {},
     "output_type": "execute_result"
    }
   ],
   "source": [
    "data = sF.comentarios(\"https://www.facebook.com/story.php?story_fbid=10157425418460895&id=313191260894\", driver)\n",
    "data.head()"
   ]
  },
  {
   "cell_type": "code",
   "execution_count": null,
   "metadata": {},
   "outputs": [],
   "source": []
  }
 ],
 "metadata": {
  "kernelspec": {
   "display_name": "Python 3",
   "language": "python",
   "name": "python3"
  },
  "language_info": {
   "codemirror_mode": {
    "name": "ipython",
    "version": 3
   },
   "file_extension": ".py",
   "mimetype": "text/x-python",
   "name": "python",
   "nbconvert_exporter": "python",
   "pygments_lexer": "ipython3",
   "version": "3.7.4"
  }
 },
 "nbformat": 4,
 "nbformat_minor": 2
}
