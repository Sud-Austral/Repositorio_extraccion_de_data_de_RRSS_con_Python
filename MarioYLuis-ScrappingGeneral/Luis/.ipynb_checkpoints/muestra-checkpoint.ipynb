{
 "cells": [
  {
   "cell_type": "code",
   "execution_count": 19,
   "metadata": {},
   "outputs": [
    {
     "ename": "IndentationError",
     "evalue": "expected an indented block (<ipython-input-19-53a4d6c4badd>, line 89)",
     "output_type": "error",
     "traceback": [
      "\u001b[1;36m  File \u001b[1;32m\"<ipython-input-19-53a4d6c4badd>\"\u001b[1;36m, line \u001b[1;32m89\u001b[0m\n\u001b[1;33m    except:\u001b[0m\n\u001b[1;37m    ^\u001b[0m\n\u001b[1;31mIndentationError\u001b[0m\u001b[1;31m:\u001b[0m expected an indented block\n"
     ]
    }
   ],
   "source": [
    "from selenium import webdriver\n",
    "from selenium.webdriver.common.keys import Keys\n",
    "import time\n",
    "import sys\n",
    "import pandas as pd\n",
    "import numpy as np\n",
    "\n",
    "driver = webdriver.Firefox()\n",
    "driver.set_page_load_timeout(\"60\")\n",
    "driver.get(\"https://www.facebook.com\")\n",
    "\n",
    "driver.find_element_by_name(\"email\").send_keys(\"informaticasudaustral@gmail.com\")\n",
    "driver.find_element_by_name(\"pass\").send_keys(\"Info.Sud91\")\n",
    "\n",
    "driver.find_element_by_id(\"loginbutton\").click()\n",
    "driver.set_page_load_timeout(\"60\")\n",
    "\n",
    "driver.get(\"https://www.facebook.com/story.php?story_fbid=10157425418460895&id=313191260894\")\n",
    "driver.set_page_load_timeout(\"60\")\n",
    "time.sleep(5)\n",
    "flag  = 1\n",
    "exit = \"\"\n",
    "while flag < 5:\n",
    "    try:\n",
    "        driver.find_element_by_class_name(\"_4sxc\").click()\n",
    "    except Exception as e:\n",
    "        exit = e\n",
    "        flag = flag + 1        \n",
    "hola = \"ola\"  \n",
    "Xpath = \"/html/body/div[1]/div[3]/div[1]/div/div/div[2]/div[2]/div/div[2]/div[2]/div/div[2]/div/div[1]/div/div/div/div/div/div[2]/div[2]/form/div/div[3]/ul/li\"\n",
    "comentario = []\n",
    "likes = []\n",
    "lista_id = []\n",
    "lista_parent_id = []\n",
    "hora = []\n",
    "numeroId = 1\n",
    "for i in driver.find_elements_by_xpath(Xpath):\n",
    "    try:\n",
    "        #print(\"ID \" + str(numeroId))\n",
    "        #print(\"Parent_ID \" + str(0))\n",
    "        lista_id.append(numeroId)\n",
    "        lista_parent_id.append(0)\n",
    "        \n",
    "        maduro = i.find_element_by_class_name(\"_72vr\")\n",
    "        comentario.append(maduro.text)\n",
    "        #print(\"Comentario:\" + maduro.text)\n",
    "        try:\n",
    "            like = i.find_element_by_class_name(\"_1lld\")\n",
    "            likes.append(like.text)\n",
    "            #print(\"Likes: \" + like.text)\n",
    "        except:\n",
    "            likes.append(\"0\")\n",
    "            #print(\"Likes: \" +\"0\")\n",
    "        #element = i.find_element_by_class_name(\"livetimestamp\")\n",
    "        print(i.find_element_by_class_name(\"livetimestamp\").text)\n",
    "        hora.append(i.find_element_by_class_name(\"livetimestamp\").text)\n",
    "        #print(\"_________________________________________________________________________________\")\n",
    "        parent_ID = numeroId\n",
    "        numeroId = numeroId + 1\n",
    "        try:\n",
    "            \n",
    "            subcomentarios = i.find_element_by_class_name(\"_2h2j\")\n",
    "            for j in range(len(subcomentarios.find_elements_by_class_name(\"_6c7i\"))):\n",
    "                #print(str(j))\n",
    "                aux = subcomentarios.find_elements_by_class_name(\"_6c7i\")[j]\n",
    "                maduro = aux.find_element_by_class_name(\"_72vr\")\n",
    "                #print(\"ID \" + str(numeroIderoId))\n",
    "                #print(\"ID \" + str(numeroId))\n",
    "                #print(\"Parent_ID \" + str(parent_ID))\n",
    "                #print(\"Comentario:\" + maduro.text)\n",
    "                lista_id.append(numeroId)\n",
    "                lista_parent_id.append(parent_ID)\n",
    "                comentario.append(maduro.text)\n",
    "                try:\n",
    "                    like = aux.find_element_by_class_name(\"_1lld\")\n",
    "                    likes.append(like.text)\n",
    "                    #print(\"Likes: \" + like.text)\n",
    "                except:\n",
    "                    likes.append(\"0\")\n",
    "                    #print(\"Likes: \" +\"0\")\n",
    "                \n",
    "                aux = subcomentarios.find_elements_by_class_name(\"livetimestamp\")[j]\n",
    "                hora.appendpend(aux.text)\n",
    "                print(\"Hora: \" + aux.text)\n",
    "                #print(\"////////////////////////////////////////////////////////////////////////////////\")\n",
    "                numeroId = numeroId + 1\n",
    "        except:\n",
    "            pass\n",
    "            #print(\"sin subtextos\")\n",
    "    except:\n",
    "        pass\n",
    "        #print(\"error\")\n",
    "        \n",
    "        \n",
    "        \n",
    "import pandas as pd\n",
    "\n",
    "\n",
    "\n",
    "data = pd.DataFrame({\n",
    "    \"comentario\":comentario,\n",
    "    \"likes\":likes,\n",
    "    \"id\": lista_id,\n",
    "    \"id_padre\":lista_parent_id,\n",
    "    \"hora\": hora \n",
    "})\n",
    "\n",
    "data.head()"
   ]
  },
  {
   "cell_type": "code",
   "execution_count": 8,
   "metadata": {},
   "outputs": [
    {
     "data": {
      "text/plain": [
       "(150, 150, 150, 150, 150)"
      ]
     },
     "execution_count": 8,
     "metadata": {},
     "output_type": "execute_result"
    }
   ],
   "source": [
    "len(comentario),len(likes),len(lista_id),len(lista_parent_id),len(hora) "
   ]
  },
  {
   "cell_type": "code",
   "execution_count": 13,
   "metadata": {},
   "outputs": [
    {
     "ename": "SyntaxError",
     "evalue": "invalid syntax (<ipython-input-13-7db05d577bc4>, line 1)",
     "output_type": "error",
     "traceback": [
      "\u001b[1;36m  File \u001b[1;32m\"<ipython-input-13-7db05d577bc4>\"\u001b[1;36m, line \u001b[1;32m1\u001b[0m\n\u001b[1;33m    WebElement webElement = driver;\u001b[0m\n\u001b[1;37m                        ^\u001b[0m\n\u001b[1;31mSyntaxError\u001b[0m\u001b[1;31m:\u001b[0m invalid syntax\n"
     ]
    }
   ],
   "source": [
    "WebElement webElement = driver; "
   ]
  },
  {
   "cell_type": "code",
   "execution_count": null,
   "metadata": {},
   "outputs": [],
   "source": []
  }
 ],
 "metadata": {
  "kernelspec": {
   "display_name": "Python 3",
   "language": "python",
   "name": "python3"
  },
  "language_info": {
   "codemirror_mode": {
    "name": "ipython",
    "version": 3
   },
   "file_extension": ".py",
   "mimetype": "text/x-python",
   "name": "python",
   "nbconvert_exporter": "python",
   "pygments_lexer": "ipython3",
   "version": "3.7.4"
  }
 },
 "nbformat": 4,
 "nbformat_minor": 2
}
