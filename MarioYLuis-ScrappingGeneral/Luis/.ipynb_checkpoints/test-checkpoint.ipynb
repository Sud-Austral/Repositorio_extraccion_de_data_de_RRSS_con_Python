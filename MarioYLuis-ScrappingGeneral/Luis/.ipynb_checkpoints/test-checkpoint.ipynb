{
 "cells": [
  {
   "cell_type": "code",
   "execution_count": 1,
   "metadata": {},
   "outputs": [
    {
     "data": {
      "text/html": [
       "<div>\n",
       "<style scoped>\n",
       "    .dataframe tbody tr th:only-of-type {\n",
       "        vertical-align: middle;\n",
       "    }\n",
       "\n",
       "    .dataframe tbody tr th {\n",
       "        vertical-align: top;\n",
       "    }\n",
       "\n",
       "    .dataframe thead th {\n",
       "        text-align: right;\n",
       "    }\n",
       "</style>\n",
       "<table border=\"1\" class=\"dataframe\">\n",
       "  <thead>\n",
       "    <tr style=\"text-align: right;\">\n",
       "      <th></th>\n",
       "      <th>comentario</th>\n",
       "      <th>likes</th>\n",
       "      <th>id</th>\n",
       "      <th>id_padre</th>\n",
       "      <th>hora</th>\n",
       "    </tr>\n",
       "  </thead>\n",
       "  <tbody>\n",
       "    <tr>\n",
       "      <th>0</th>\n",
       "      <td>German Ramirez Mientras no haya conciencia que...</td>\n",
       "      <td>184</td>\n",
       "      <td>1</td>\n",
       "      <td>0</td>\n",
       "      <td>1 d</td>\n",
       "    </tr>\n",
       "    <tr>\n",
       "      <th>1</th>\n",
       "      <td>Cecilia Alvarez Se cansó pues, si la paciencia...</td>\n",
       "      <td>275</td>\n",
       "      <td>2</td>\n",
       "      <td>0</td>\n",
       "      <td>1 d</td>\n",
       "    </tr>\n",
       "    <tr>\n",
       "      <th>2</th>\n",
       "      <td>Ricardo Andres Fernandez Garcia si la gente es...</td>\n",
       "      <td>87</td>\n",
       "      <td>3</td>\n",
       "      <td>0</td>\n",
       "      <td>1 d</td>\n",
       "    </tr>\n",
       "    <tr>\n",
       "      <th>3</th>\n",
       "      <td>Ale Rock Rock Igual un poco inconsecuente baja...</td>\n",
       "      <td>68</td>\n",
       "      <td>4</td>\n",
       "      <td>0</td>\n",
       "      <td>1 d</td>\n",
       "    </tr>\n",
       "    <tr>\n",
       "      <th>4</th>\n",
       "      <td>Angel Josue Vargas Alvarez Perdón, no es por p...</td>\n",
       "      <td>24</td>\n",
       "      <td>5</td>\n",
       "      <td>0</td>\n",
       "      <td>1 d</td>\n",
       "    </tr>\n",
       "  </tbody>\n",
       "</table>\n",
       "</div>"
      ],
      "text/plain": [
       "                                          comentario likes  id  id_padre hora\n",
       "0  German Ramirez Mientras no haya conciencia que...   184   1         0  1 d\n",
       "1  Cecilia Alvarez Se cansó pues, si la paciencia...   275   2         0  1 d\n",
       "2  Ricardo Andres Fernandez Garcia si la gente es...    87   3         0  1 d\n",
       "3  Ale Rock Rock Igual un poco inconsecuente baja...    68   4         0  1 d\n",
       "4  Angel Josue Vargas Alvarez Perdón, no es por p...    24   5         0  1 d"
      ]
     },
     "execution_count": 1,
     "metadata": {},
     "output_type": "execute_result"
    }
   ],
   "source": [
    "from selenium import webdriver\n",
    "from selenium.webdriver.common.keys import Keys\n",
    "import time\n",
    "import sys\n",
    "import pandas as pd\n",
    "import numpy as np\n",
    "import pandas as pd\n",
    "from facebook_scraper import get_posts\n",
    "\n",
    "driver = webdriver.Firefox()\n",
    "driver.set_page_load_timeout(\"60\")\n",
    "driver.get(\"https://www.facebook.com\")\n",
    "\n",
    "driver.find_element_by_name(\"email\").send_keys(\"informaticasudaustral@gmail.com\")\n",
    "driver.find_element_by_name(\"pass\").send_keys(\"Info.Sud91\")\n",
    "\n",
    "driver.find_element_by_id(\"loginbutton\").click()\n",
    "driver.set_page_load_timeout(\"60\")\n",
    "\n",
    "#driver.get(\"https://www.facebook.com/story.php?story_fbid=10157425418460895&id=313191260894\")\n",
    "driver.get(\"https://www.facebook.com/story.php?story_fbid=10157425418460895&id=313191260894\")\n",
    "driver.set_page_load_timeout(\"60\")\n",
    "time.sleep(5)\n",
    "flag  = 1\n",
    "exit = \"\"\n",
    "while flag < 5:\n",
    "    try:\n",
    "        driver.find_element_by_class_name(\"_4sxc\").click()\n",
    "    except Exception as e:\n",
    "        exit = e\n",
    "        flag = flag + 1        \n",
    "hola = \"ola\"  \n",
    "Xpath = \"/html/body/div[1]/div[3]/div[1]/div/div/div[2]/div[2]/div/div[2]/div[2]/div/div[2]/div/div[1]/div/div/div/div/div/div[2]/div[2]/form/div/div[3]/ul/li\"\n",
    "comentario = []\n",
    "likes = []\n",
    "lista_id = []\n",
    "lista_parent_id = []\n",
    "hora = []\n",
    "numeroId = 1\n",
    "for i in driver.find_elements_by_xpath(Xpath):\n",
    "    try:\n",
    "        #print(\"ID \" + str(numeroId))\n",
    "        #print(\"Parent_ID \" + str(0))\n",
    "        lista_id.append(numeroId)\n",
    "        lista_parent_id.append(0)\n",
    "\n",
    "        maduro = i.find_element_by_class_name(\"_72vr\")\n",
    "        comentario.append(maduro.text)\n",
    "        #print(\"Comentario:\" + maduro.text)\n",
    "        try:\n",
    "            like = i.find_element_by_class_name(\"_1lld\")\n",
    "            likes.append(like.text)\n",
    "            #print(\"Likes: \" + like.text)\n",
    "        except:\n",
    "            likes.append(\"0\")\n",
    "            #print(\"Likes: \" +\"0\")\n",
    "        #element = i.find_element_by_class_name(\"livetimestamp\")\n",
    "        #print(\"hola\")\n",
    "        #print(i.find_element_by_class_name(\"livetimestamp\").text)\n",
    "        hora.append(i.find_element_by_class_name(\"livetimestamp\").text)\n",
    "        #print(\"_________________________________________________________________________________\")\n",
    "        parent_ID = numeroId\n",
    "        numeroId = numeroId + 1\n",
    "        try:\n",
    "\n",
    "            subtexto = i.find_element_by_class_name(\"_2h2j\")\n",
    "            subcomentarios = subtexto.find_elements_by_class_name(\"_6c7i\")\n",
    "            horas = subtexto.find_elements_by_class_name(\"livetimestamp\")\n",
    "            #print(str(len(subcomentarios))+str(len(horas)))\n",
    "            for j in subtexto.find_elements_by_class_name(\"livetimestamp\"):\n",
    "                #print(j.text)\n",
    "                hora.appendpend(j.text)\n",
    "            #for j in range(len(subtexto.find_elements_by_class_name(\"_6c7i\"))):\n",
    "            for j in range(len(subcomentarios)):\n",
    "                #print(str(j))\n",
    "                aux = subcomentarios[j]\n",
    "                maduro = aux.find_element_by_class_name(\"_72vr\")\n",
    "                #print(\"ID \" + str(numeroIderoId))\n",
    "                #print(\"ID \" + str(numeroId))\n",
    "                #print(\"Parent_ID \" + str(parent_ID))\n",
    "                #print(\"Comentario:\" + maduro.text)\n",
    "                lista_id.append(numeroId)\n",
    "                lista_parent_id.append(parent_ID)\n",
    "                comentario.append(maduro.text)\n",
    "                try:\n",
    "                    like = aux.find_element_by_class_name(\"_1lld\")\n",
    "                    likes.append(like.text)\n",
    "                    #print(\"Likes: \" + like.text)\n",
    "                except:\n",
    "                    likes.append(\"0\")\n",
    "                    #print(\"Likes: \" +\"0\")\n",
    "                #print(\"hola 2\")\n",
    "                #aux = horas[j]\n",
    "\n",
    "\n",
    "                #print(\"Hora: \" + aux.text)\n",
    "                #print(\"////////////////////////////////////////////////////////////////////////////////\")\n",
    "                numeroId = numeroId + 1\n",
    "        except:\n",
    "            pass\n",
    "            #print(\"sin subtextos\")\n",
    "    except:\n",
    "        pass\n",
    "        #print(\"error\")\n",
    "data = pd.DataFrame({\n",
    "    \"comentario\":comentario,\n",
    "    \"likes\":likes,\n",
    "    \"id\": lista_id,\n",
    "    \"id_padre\":lista_parent_id,\n",
    "    \"hora\": hora \n",
    "})\n",
    "\n",
    "data.head()"
   ]
  },
  {
   "cell_type": "code",
   "execution_count": 7,
   "metadata": {},
   "outputs": [],
   "source": [
    "def getPost(pagina, n):\n",
    "    from facebook_scraper import get_posts\n",
    "    salida = []\n",
    "    for post in get_posts(pagina, pages=n, credentials=(\"informaticasudaustral@gmail.com\",\"Info.Sud91\")):\n",
    "        if type(post[\"post_url\"]) == str:\n",
    "                #print(type(post[\"post_url\"]))\n",
    "                salida.append(post[\"post_url\"].replace(\"m.facebook\",\"www.facebook\"))\n",
    "        #texto = post[\"post_url\"]\n",
    "        #print(texto.replace(\"m.facebook\",\"www.facebook\"))\n",
    "        \n",
    "    return salida[:n]"
   ]
  },
  {
   "cell_type": "code",
   "execution_count": 8,
   "metadata": {},
   "outputs": [
    {
     "name": "stdout",
     "output_type": "stream",
     "text": [
      "['https://www.facebook.com/story.php?story_fbid=10157432077825895&id=313191260894', 'https://www.facebook.com/story.php?story_fbid=10157432043370895&id=313191260894', 'https://www.facebook.com/story.php?story_fbid=10157432014390895&id=313191260894', 'https://www.facebook.com/story.php?story_fbid=10157432014005895&id=313191260894', 'https://www.facebook.com/story.php?story_fbid=10157431991510895&id=313191260894', 'https://www.facebook.com/story.php?story_fbid=10157431981010895&id=313191260894', 'https://www.facebook.com/story.php?story_fbid=10157431967120895&id=313191260894', 'https://www.facebook.com/story.php?story_fbid=10157431943950895&id=313191260894', 'https://www.facebook.com/story.php?story_fbid=10157431928825895&id=313191260894', 'https://www.facebook.com/story.php?story_fbid=10157431902080895&id=313191260894']\n"
     ]
    }
   ],
   "source": [
    "print(getPost(\"Cooperativa\",10))"
   ]
  },
  {
   "cell_type": "code",
   "execution_count": 47,
   "metadata": {},
   "outputs": [
    {
     "ename": "SyntaxError",
     "evalue": "invalid syntax (<ipython-input-47-da66b3c2c53d>, line 2)",
     "output_type": "error",
     "traceback": [
      "\u001b[1;36m  File \u001b[1;32m\"<ipython-input-47-da66b3c2c53d>\"\u001b[1;36m, line \u001b[1;32m2\u001b[0m\n\u001b[1;33m    def calcular(self numero):\u001b[0m\n\u001b[1;37m                           ^\u001b[0m\n\u001b[1;31mSyntaxError\u001b[0m\u001b[1;31m:\u001b[0m invalid syntax\n"
     ]
    }
   ],
   "source": [
    "#numero = 10\n",
    "def calcular(numero):\n",
    "    #global numero\n",
    "    numero = numero + 5\n",
    "    print(str(numero))\n",
    "    return False"
   ]
  },
  {
   "cell_type": "code",
   "execution_count": 40,
   "metadata": {},
   "outputs": [
    {
     "name": "stdout",
     "output_type": "stream",
     "text": [
      "1\n",
      "[6]\n",
      "1\n"
     ]
    }
   ],
   "source": [
    "\n",
    "numbero = 1\n",
    "x = 1\n",
    "print(str(x))\n",
    "calcular(x)\n",
    "print(str(x))"
   ]
  },
  {
   "cell_type": "code",
   "execution_count": 50,
   "metadata": {},
   "outputs": [],
   "source": [
    "def setx(y):\n",
    "     global x\n",
    "     x = y + 1\n",
    "     #global x\n",
    "     print('x is %d' % x)"
   ]
  },
  {
   "cell_type": "code",
   "execution_count": 45,
   "metadata": {},
   "outputs": [
    {
     "name": "stdout",
     "output_type": "stream",
     "text": [
      "x is 45\n"
     ]
    }
   ],
   "source": [
    "setx(44)"
   ]
  },
  {
   "cell_type": "code",
   "execution_count": 46,
   "metadata": {},
   "outputs": [
    {
     "data": {
      "text/plain": [
       "45"
      ]
     },
     "execution_count": 46,
     "metadata": {},
     "output_type": "execute_result"
    }
   ],
   "source": [
    "x"
   ]
  },
  {
   "cell_type": "code",
   "execution_count": 48,
   "metadata": {},
   "outputs": [
    {
     "name": "stdout",
     "output_type": "stream",
     "text": [
      "3\n",
      "x is 1\n",
      "1\n"
     ]
    }
   ],
   "source": [
    "x = 3\n",
    "print(str(x))\n",
    "setx(0)\n",
    "print(str(x))"
   ]
  },
  {
   "cell_type": "code",
   "execution_count": 51,
   "metadata": {},
   "outputs": [
    {
     "data": {
      "text/plain": [
       "100"
      ]
     },
     "execution_count": 51,
     "metadata": {},
     "output_type": "execute_result"
    }
   ],
   "source": [
    "a = {\"numero\":100}\n",
    "a[\"numero\"]"
   ]
  },
  {
   "cell_type": "code",
   "execution_count": 54,
   "metadata": {},
   "outputs": [],
   "source": [
    "def cambio(dicc,numero):\n",
    "    dicc[\"numero\"] = 200 + numero\n",
    "    return"
   ]
  },
  {
   "cell_type": "code",
   "execution_count": 55,
   "metadata": {},
   "outputs": [
    {
     "data": {
      "text/plain": [
       "255"
      ]
     },
     "execution_count": 55,
     "metadata": {},
     "output_type": "execute_result"
    }
   ],
   "source": [
    "cambio(a,55)\n",
    "a[\"numero\"]"
   ]
  },
  {
   "cell_type": "code",
   "execution_count": null,
   "metadata": {},
   "outputs": [],
   "source": []
  }
 ],
 "metadata": {
  "kernelspec": {
   "display_name": "Python 3",
   "language": "python",
   "name": "python3"
  },
  "language_info": {
   "codemirror_mode": {
    "name": "ipython",
    "version": 3
   },
   "file_extension": ".py",
   "mimetype": "text/x-python",
   "name": "python",
   "nbconvert_exporter": "python",
   "pygments_lexer": "ipython3",
   "version": "3.7.4"
  }
 },
 "nbformat": 4,
 "nbformat_minor": 2
}
