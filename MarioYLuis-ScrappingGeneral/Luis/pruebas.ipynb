{
 "cells": [
  {
   "cell_type": "code",
   "execution_count": 2,
   "metadata": {},
   "outputs": [],
   "source": [
    "import scappingFacebook as sF\n",
    "import pandas as pd"
   ]
  },
  {
   "cell_type": "code",
   "execution_count": 2,
   "metadata": {},
   "outputs": [],
   "source": [
    "#len(sF.getPost(\"elmostrador\",100))\n"
   ]
  },
  {
   "cell_type": "code",
   "execution_count": 7,
   "metadata": {},
   "outputs": [
    {
     "name": "stdout",
     "output_type": "stream",
     "text": [
      "Se guardaron los datos en guatemala27-03-2020_13-22-32.csv\n"
     ]
    }
   ],
   "source": [
    "data_maipo  = sF.comentarioPorLugar(\"guatemala\",10,10)"
   ]
  },
  {
   "cell_type": "code",
   "execution_count": 4,
   "metadata": {},
   "outputs": [
    {
     "data": {
      "text/plain": [
       "(578, 16)"
      ]
     },
     "execution_count": 4,
     "metadata": {},
     "output_type": "execute_result"
    }
   ],
   "source": [
    "data_maipo.shape"
   ]
  },
  {
   "cell_type": "code",
   "execution_count": 80,
   "metadata": {},
   "outputs": [],
   "source": [
    "#data_maipo.head()\n",
    "data2 = pd.concat([data_maipo,data_maipo])\n",
    "data3 = pd.concat([data_maipo])"
   ]
  },
  {
   "cell_type": "code",
   "execution_count": 58,
   "metadata": {},
   "outputs": [],
   "source": [
    "driver = sF.getDriver()"
   ]
  },
  {
   "cell_type": "code",
   "execution_count": 65,
   "metadata": {},
   "outputs": [],
   "source": [
    "list = sF.getPost(\"Cesfam-Y-Postas-de-Salud-Corporación-Municipal-Isla-de-Maipo-535784159828059\",20)"
   ]
  },
  {
   "cell_type": "code",
   "execution_count": 68,
   "metadata": {},
   "outputs": [
    {
     "data": {
      "text/plain": [
       "20"
      ]
     },
     "execution_count": 68,
     "metadata": {},
     "output_type": "execute_result"
    }
   ],
   "source": [
    "len(list)"
   ]
  },
  {
   "cell_type": "code",
   "execution_count": 66,
   "metadata": {},
   "outputs": [
    {
     "data": {
      "text/plain": [
       "20"
      ]
     },
     "execution_count": 66,
     "metadata": {},
     "output_type": "execute_result"
    }
   ],
   "source": [
    "salida = []\n",
    "for i in list:\n",
    "    salida.append(sF.comentarioPost2(driver,i))\n",
    "len(salida)"
   ]
  },
  {
   "cell_type": "code",
   "execution_count": 69,
   "metadata": {},
   "outputs": [],
   "source": [
    "num = len(salida)\n",
    "    "
   ]
  },
  {
   "cell_type": "code",
   "execution_count": 70,
   "metadata": {},
   "outputs": [
    {
     "name": "stdout",
     "output_type": "stream",
     "text": [
      "1 0 0\n",
      "2 1 1\n",
      "3 0 0\n",
      "4 0 0\n",
      "5 0 0\n",
      "6 0 0\n",
      "7 0 0\n",
      "8 1 1\n",
      "9 9 6\n",
      "10 0 0\n",
      "11 0 0\n",
      "12 0 0\n",
      "13 0 0\n",
      "14 0 0\n",
      "15 0 0\n",
      "16 2 1\n",
      "17 0 0\n",
      "18 0 0\n",
      "19 0 0\n",
      "20 0 0\n"
     ]
    }
   ],
   "source": [
    "x = 1\n",
    "for i in range(num):\n",
    "    print(str(x) + \" \" + str(len(salida[i])) + \" \" + str(list[i]['comments']) )\n",
    "    x += 1"
   ]
  },
  {
   "cell_type": "code",
   "execution_count": 49,
   "metadata": {},
   "outputs": [
    {
     "name": "stdout",
     "output_type": "stream",
     "text": [
      "1 https://m.facebook.com/story.php?story_fbid=10157438880040895&id=313191260894\n",
      "2 https://m.facebook.com/story.php?story_fbid=10157438983025895&id=313191260894\n",
      "3 https://m.facebook.com/story.php?story_fbid=10157438982590895&id=313191260894\n",
      "4 https://m.facebook.com/story.php?story_fbid=10157438980795895&id=313191260894\n",
      "5 https://m.facebook.com/story.php?story_fbid=10157438953535895&id=313191260894\n",
      "6 https://m.facebook.com/story.php?story_fbid=10157438950795895&id=313191260894\n",
      "7 https://m.facebook.com/story.php?story_fbid=10157438919840895&id=313191260894\n",
      "8 https://m.facebook.com/story.php?story_fbid=10157438919665895&id=313191260894\n",
      "9 https://m.facebook.com/story.php?story_fbid=10157438903530895&id=313191260894\n",
      "10 https://m.facebook.com/story.php?story_fbid=10157438901680895&id=313191260894\n",
      "11 https://m.facebook.com/story.php?story_fbid=10157438865735895&id=313191260894\n",
      "12 https://m.facebook.com/story.php?story_fbid=10157438864550895&id=313191260894\n",
      "13 https://m.facebook.com/story.php?story_fbid=10157438797980895&id=313191260894\n",
      "14 https://m.facebook.com/story.php?story_fbid=10157438795085895&id=313191260894\n",
      "15 https://m.facebook.com/story.php?story_fbid=10157438791125895&id=313191260894\n",
      "16 https://m.facebook.com/story.php?story_fbid=10157438779520895&id=313191260894\n",
      "17 https://m.facebook.com/story.php?story_fbid=10157438740825895&id=313191260894\n",
      "18 https://m.facebook.com/story.php?story_fbid=10157438723605895&id=313191260894\n",
      "19 https://m.facebook.com/story.php?story_fbid=10157438709325895&id=313191260894\n",
      "20 https://m.facebook.com/story.php?story_fbid=10157438699645895&id=313191260894\n",
      "21 https://m.facebook.com/story.php?story_fbid=10157438674400895&id=313191260894\n",
      "22 https://m.facebook.com/story.php?story_fbid=10157438669110895&id=313191260894\n",
      "23 https://m.facebook.com/story.php?story_fbid=10157438630595895&id=313191260894\n",
      "24 https://m.facebook.com/story.php?story_fbid=10157438604415895&id=313191260894\n",
      "25 https://m.facebook.com/story.php?story_fbid=10157438570110895&id=313191260894\n",
      "26 https://m.facebook.com/story.php?story_fbid=10157438566700895&id=313191260894\n",
      "27 https://m.facebook.com/story.php?story_fbid=10157438526285895&id=313191260894\n",
      "28 https://m.facebook.com/story.php?story_fbid=10157438512910895&id=313191260894\n",
      "29 https://m.facebook.com/story.php?story_fbid=10157438391470895&id=313191260894\n",
      "30 https://m.facebook.com/story.php?story_fbid=10157438373580895&id=313191260894\n",
      "31 https://m.facebook.com/story.php?story_fbid=10157438317340895&id=313191260894\n",
      "32 https://m.facebook.com/story.php?story_fbid=10157438309175895&id=313191260894\n",
      "33 https://m.facebook.com/story.php?story_fbid=10157438308775895&id=313191260894\n",
      "34 https://m.facebook.com/story.php?story_fbid=10157438289015895&id=313191260894\n",
      "35 https://m.facebook.com/story.php?story_fbid=10157438274515895&id=313191260894\n",
      "36 https://m.facebook.com/story.php?story_fbid=10157438225370895&id=313191260894\n",
      "37 https://m.facebook.com/story.php?story_fbid=10157438187575895&id=313191260894\n",
      "38 https://m.facebook.com/story.php?story_fbid=10157438147695895&id=313191260894\n",
      "39 https://m.facebook.com/story.php?story_fbid=10157438128115895&id=313191260894\n",
      "40 https://m.facebook.com/story.php?story_fbid=10157438087980895&id=313191260894\n"
     ]
    }
   ],
   "source": [
    "x = 1\n",
    "for i in list:\n",
    "    print(str(x) + \" \" +i[\"post_url\"])\n",
    "    x += 1\n"
   ]
  },
  {
   "cell_type": "code",
   "execution_count": 42,
   "metadata": {},
   "outputs": [
    {
     "data": {
      "text/plain": [
       "0"
      ]
     },
     "execution_count": 42,
     "metadata": {},
     "output_type": "execute_result"
    }
   ],
   "source": [
    "len(salida[0])"
   ]
  },
  {
   "cell_type": "code",
   "execution_count": 54,
   "metadata": {},
   "outputs": [
    {
     "name": "stdout",
     "output_type": "stream",
     "text": [
      "1\n",
      "2\n",
      "3\n",
      "4\n",
      "5\n"
     ]
    },
    {
     "ename": "AttributeError",
     "evalue": "'NoneType' object has no attribute 'find'",
     "output_type": "error",
     "traceback": [
      "\u001b[1;31m---------------------------------------------------------------------------\u001b[0m",
      "\u001b[1;31mAttributeError\u001b[0m                            Traceback (most recent call last)",
      "\u001b[1;32m<ipython-input-54-0223ea5ebcd4>\u001b[0m in \u001b[0;36m<module>\u001b[1;34m\u001b[0m\n\u001b[0;32m      1\u001b[0m \u001b[0mx\u001b[0m \u001b[1;33m=\u001b[0m \u001b[1;36m1\u001b[0m\u001b[1;33m\u001b[0m\u001b[1;33m\u001b[0m\u001b[0m\n\u001b[1;32m----> 2\u001b[1;33m \u001b[1;32mfor\u001b[0m \u001b[0mpost\u001b[0m \u001b[1;32min\u001b[0m \u001b[0mget_posts\u001b[0m\u001b[1;33m(\u001b[0m\u001b[1;34m\"elmostrador\"\u001b[0m\u001b[1;33m,\u001b[0m \u001b[0mpages\u001b[0m\u001b[1;33m=\u001b[0m\u001b[1;36m100\u001b[0m\u001b[1;33m)\u001b[0m\u001b[1;33m:\u001b[0m\u001b[1;33m\u001b[0m\u001b[1;33m\u001b[0m\u001b[0m\n\u001b[0m\u001b[0;32m      3\u001b[0m     \u001b[0mprint\u001b[0m\u001b[1;33m(\u001b[0m\u001b[0mstr\u001b[0m\u001b[1;33m(\u001b[0m\u001b[0mx\u001b[0m\u001b[1;33m)\u001b[0m\u001b[1;33m)\u001b[0m\u001b[1;33m\u001b[0m\u001b[1;33m\u001b[0m\u001b[0m\n\u001b[0;32m      4\u001b[0m     \u001b[0mx\u001b[0m \u001b[1;33m+=\u001b[0m \u001b[1;36m1\u001b[0m\u001b[1;33m\u001b[0m\u001b[1;33m\u001b[0m\u001b[0m\n",
      "\u001b[1;32mC:\\ProgramData\\Anaconda3\\lib\\site-packages\\facebook_scraper.py\u001b[0m in \u001b[0;36m_get_posts\u001b[1;34m(path, pages, timeout, sleep, credentials)\u001b[0m\n\u001b[0;32m     73\u001b[0m     \u001b[1;32mwhile\u001b[0m \u001b[1;32mTrue\u001b[0m\u001b[1;33m:\u001b[0m\u001b[1;33m\u001b[0m\u001b[1;33m\u001b[0m\u001b[0m\n\u001b[0;32m     74\u001b[0m         \u001b[1;32mfor\u001b[0m \u001b[0marticle\u001b[0m \u001b[1;32min\u001b[0m \u001b[0mhtml\u001b[0m\u001b[1;33m.\u001b[0m\u001b[0mfind\u001b[0m\u001b[1;33m(\u001b[0m\u001b[1;34m'article'\u001b[0m\u001b[1;33m)\u001b[0m\u001b[1;33m:\u001b[0m\u001b[1;33m\u001b[0m\u001b[1;33m\u001b[0m\u001b[0m\n\u001b[1;32m---> 75\u001b[1;33m             \u001b[1;32myield\u001b[0m \u001b[0m_extract_post\u001b[0m\u001b[1;33m(\u001b[0m\u001b[0marticle\u001b[0m\u001b[1;33m)\u001b[0m\u001b[1;33m\u001b[0m\u001b[1;33m\u001b[0m\u001b[0m\n\u001b[0m\u001b[0;32m     76\u001b[0m \u001b[1;33m\u001b[0m\u001b[0m\n\u001b[0;32m     77\u001b[0m         \u001b[0mpages\u001b[0m \u001b[1;33m-=\u001b[0m \u001b[1;36m1\u001b[0m\u001b[1;33m\u001b[0m\u001b[1;33m\u001b[0m\u001b[0m\n",
      "\u001b[1;32mC:\\ProgramData\\Anaconda3\\lib\\site-packages\\facebook_scraper.py\u001b[0m in \u001b[0;36m_extract_post\u001b[1;34m(article)\u001b[0m\n\u001b[0;32m    100\u001b[0m \u001b[1;33m\u001b[0m\u001b[0m\n\u001b[0;32m    101\u001b[0m \u001b[1;32mdef\u001b[0m \u001b[0m_extract_post\u001b[0m\u001b[1;33m(\u001b[0m\u001b[0marticle\u001b[0m\u001b[1;33m)\u001b[0m\u001b[1;33m:\u001b[0m\u001b[1;33m\u001b[0m\u001b[1;33m\u001b[0m\u001b[0m\n\u001b[1;32m--> 102\u001b[1;33m     \u001b[0mtext\u001b[0m\u001b[1;33m,\u001b[0m \u001b[0mpost_text\u001b[0m\u001b[1;33m,\u001b[0m \u001b[0mshared_text\u001b[0m \u001b[1;33m=\u001b[0m \u001b[0m_extract_text\u001b[0m\u001b[1;33m(\u001b[0m\u001b[0marticle\u001b[0m\u001b[1;33m)\u001b[0m\u001b[1;33m\u001b[0m\u001b[1;33m\u001b[0m\u001b[0m\n\u001b[0m\u001b[0;32m    103\u001b[0m     return {\n\u001b[0;32m    104\u001b[0m         \u001b[1;34m'post_id'\u001b[0m\u001b[1;33m:\u001b[0m \u001b[0m_extract_post_id\u001b[0m\u001b[1;33m(\u001b[0m\u001b[0marticle\u001b[0m\u001b[1;33m)\u001b[0m\u001b[1;33m,\u001b[0m\u001b[1;33m\u001b[0m\u001b[1;33m\u001b[0m\u001b[0m\n",
      "\u001b[1;32mC:\\ProgramData\\Anaconda3\\lib\\site-packages\\facebook_scraper.py\u001b[0m in \u001b[0;36m_extract_text\u001b[1;34m(article)\u001b[0m\n\u001b[0;32m    135\u001b[0m             \u001b[0marticle\u001b[0m \u001b[1;33m=\u001b[0m \u001b[0mresponse\u001b[0m\u001b[1;33m.\u001b[0m\u001b[0mhtml\u001b[0m\u001b[1;33m.\u001b[0m\u001b[0mfind\u001b[0m\u001b[1;33m(\u001b[0m\u001b[1;34m'.story_body_container'\u001b[0m\u001b[1;33m,\u001b[0m \u001b[0mfirst\u001b[0m\u001b[1;33m=\u001b[0m\u001b[1;32mTrue\u001b[0m\u001b[1;33m)\u001b[0m\u001b[1;33m\u001b[0m\u001b[1;33m\u001b[0m\u001b[0m\n\u001b[0;32m    136\u001b[0m \u001b[1;33m\u001b[0m\u001b[0m\n\u001b[1;32m--> 137\u001b[1;33m     \u001b[0mnodes\u001b[0m \u001b[1;33m=\u001b[0m \u001b[0marticle\u001b[0m\u001b[1;33m.\u001b[0m\u001b[0mfind\u001b[0m\u001b[1;33m(\u001b[0m\u001b[1;34m'p, header'\u001b[0m\u001b[1;33m)\u001b[0m\u001b[1;33m\u001b[0m\u001b[1;33m\u001b[0m\u001b[0m\n\u001b[0m\u001b[0;32m    138\u001b[0m     \u001b[1;32mif\u001b[0m \u001b[0mnodes\u001b[0m\u001b[1;33m:\u001b[0m\u001b[1;33m\u001b[0m\u001b[1;33m\u001b[0m\u001b[0m\n\u001b[0;32m    139\u001b[0m         \u001b[0mpost_text\u001b[0m \u001b[1;33m=\u001b[0m \u001b[1;33m[\u001b[0m\u001b[1;33m]\u001b[0m\u001b[1;33m\u001b[0m\u001b[1;33m\u001b[0m\u001b[0m\n",
      "\u001b[1;31mAttributeError\u001b[0m: 'NoneType' object has no attribute 'find'"
     ]
    }
   ],
   "source": [
    "x = 1\n",
    "for post in get_posts(\"elmostrador\", pages=100):\n",
    "    print(str(x))\n",
    "    x += 1"
   ]
  },
  {
   "cell_type": "code",
   "execution_count": 61,
   "metadata": {},
   "outputs": [
    {
     "data": {
      "text/html": [
       "<div>\n",
       "<style scoped>\n",
       "    .dataframe tbody tr th:only-of-type {\n",
       "        vertical-align: middle;\n",
       "    }\n",
       "\n",
       "    .dataframe tbody tr th {\n",
       "        vertical-align: top;\n",
       "    }\n",
       "\n",
       "    .dataframe thead th {\n",
       "        text-align: right;\n",
       "    }\n",
       "</style>\n",
       "<table border=\"1\" class=\"dataframe\">\n",
       "  <thead>\n",
       "    <tr style=\"text-align: right;\">\n",
       "      <th></th>\n",
       "      <th>comentario</th>\n",
       "      <th>likes</th>\n",
       "      <th>id</th>\n",
       "      <th>id_padre</th>\n",
       "      <th>hora</th>\n",
       "    </tr>\n",
       "  </thead>\n",
       "  <tbody>\n",
       "    <tr>\n",
       "      <th>0</th>\n",
       "      <td>Podología Clinica y Depilación Tienen informac...</td>\n",
       "      <td>1</td>\n",
       "      <td>1</td>\n",
       "      <td>0</td>\n",
       "      <td>6 sem</td>\n",
       "    </tr>\n",
       "    <tr>\n",
       "      <th>1</th>\n",
       "      <td>Marta Lizama Gonzalez Podología Clinica y Depi...</td>\n",
       "      <td>1</td>\n",
       "      <td>2</td>\n",
       "      <td>1</td>\n",
       "      <td>6 sem</td>\n",
       "    </tr>\n",
       "  </tbody>\n",
       "</table>\n",
       "</div>"
      ],
      "text/plain": [
       "                                          comentario likes  id  id_padre  \\\n",
       "0  Podología Clinica y Depilación Tienen informac...     1   1         0   \n",
       "1  Marta Lizama Gonzalez Podología Clinica y Depi...     1   2         1   \n",
       "\n",
       "    hora  \n",
       "0  6 sem  \n",
       "1  6 sem  "
      ]
     },
     "execution_count": 61,
     "metadata": {},
     "output_type": "execute_result"
    }
   ],
   "source": [
    "\n",
    "url = \"https://www.facebook.com/story.php?story_fbid=3537207856352326&id=535784159828059\"\n",
    "data = sF.comentario2(url, driver)\n",
    "data"
   ]
  },
  {
   "cell_type": "code",
   "execution_count": 8,
   "metadata": {},
   "outputs": [],
   "source": [
    "from os import scandir, getcwd\n",
    "\n",
    "def ls(ruta = getcwd()):\n",
    "    return [arch.name for arch in scandir(ruta) if arch.is_file()]"
   ]
  },
  {
   "cell_type": "code",
   "execution_count": 9,
   "metadata": {},
   "outputs": [],
   "source": [
    "lista_arq = ls()"
   ]
  },
  {
   "cell_type": "code",
   "execution_count": 10,
   "metadata": {},
   "outputs": [
    {
     "name": "stdout",
     "output_type": "stream",
     "text": [
      "ahorasi.ipynb\n",
      "Carga2.ipynb\n",
      "carga3.ipynb\n",
      "cargaEnlaces.py\n",
      "CargarPaginaComentarios.ipynb\n",
      "chromedriver.exe\n",
      "Comentarios.txt\n",
      "Cooperativa25-03-2020_13-02-41.csv\n",
      "ejemplo.jpg\n",
      "entorno.ipynb\n",
      "estudio1.html\n",
      "geckodriver.exe\n",
      "geckodriver.log\n",
      "guatemala27-03-2020_13-22-32.csv\n",
      "Hola.csv\n",
      "hola.html\n",
      "isla de maipo25-03-2020_14-54-01.csv\n",
      "isla de maipo25-03-2020_15-35-43.csv\n",
      "isla de maipo25-03-2020_15-47-37.csv\n",
      "isla_de_maipo25-03-2020_15-59-14.csv\n",
      "isla_de_maipo26-03-2020_21-38-20.csv\n",
      "isla_de_maipo27-03-2020_11-03-53.csv\n",
      "justClase.ipynb\n",
      "justClass2.ipynb\n",
      "justclass3.ipynb\n",
      "justclassCasiCasi.ipynb\n",
      "justoclass4.ipynb\n",
      "justTest.ipynb\n",
      "lena.png\n",
      "maipu27-03-2020_11-39-20.csv\n",
      "muestra.ipynb\n",
      "PrimerIntento.ipynb\n",
      "pruebas.ipynb\n",
      "scappingFacebook LABS.py\n",
      "scappingFacebook.py\n",
      "test.ipynb\n",
      "Untitled.ipynb\n",
      "Untitled1.ipynb\n",
      "Vamos.ipynb\n"
     ]
    }
   ],
   "source": [
    "for i in lista_arq:\n",
    "    print(i)"
   ]
  },
  {
   "cell_type": "code",
   "execution_count": null,
   "metadata": {},
   "outputs": [],
   "source": []
  }
 ],
 "metadata": {
  "kernelspec": {
   "display_name": "Python 3",
   "language": "python",
   "name": "python3"
  },
  "language_info": {
   "codemirror_mode": {
    "name": "ipython",
    "version": 3
   },
   "file_extension": ".py",
   "mimetype": "text/x-python",
   "name": "python",
   "nbconvert_exporter": "python",
   "pygments_lexer": "ipython3",
   "version": "3.7.4"
  }
 },
 "nbformat": 4,
 "nbformat_minor": 2
}
