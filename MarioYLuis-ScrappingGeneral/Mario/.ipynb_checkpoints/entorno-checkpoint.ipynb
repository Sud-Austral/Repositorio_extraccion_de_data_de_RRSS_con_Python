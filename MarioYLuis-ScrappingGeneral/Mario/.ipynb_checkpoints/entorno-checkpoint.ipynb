{
 "cells": [
  {
   "cell_type": "code",
   "execution_count": 40,
   "metadata": {},
   "outputs": [],
   "source": [
    "from selenium import webdriver\n",
    "from selenium.webdriver.common.keys import Keys\n",
    "import time\n",
    "\n",
    "driver = webdriver.Firefox()\n",
    "driver.set_page_load_timeout(\"60\")\n",
    "driver.get(\"https://www.facebook.com\")\n",
    "driver.find_element_by_name(\"email\").send_keys(\"informaticasudaustral@gmail.com\")\n",
    "driver.find_element_by_name(\"pass\").send_keys(\"Info.Sud91\")\n",
    "driver.find_element_by_id(\"loginbutton\").click()\n",
    "driver.set_page_load_timeout(\"60\")\n",
    "driver.get(\"https://www.facebook.com/story.php?story_fbid=10157425418460895&id=313191260894\")\n",
    "driver.set_page_load_timeout(\"60\")\n",
    "time.sleep(5)\n",
    "css = \"div.oh7imozk:nth-child(1) > div:nth-child(1) > div:nth-child(1) > div:nth-child(1) > div:nth-child(3) > div:nth-child(1) > div:nth-child(4) > div:nth-child(2) > ul:nth-child(5) > li:nth-child(36) > div:nth-child(1) > div:nth-child(1) > div:nth-child(2) > div:nth-child(1) > div:nth-child(1) > div:nth-child(1) > div:nth-child(1) > div:nth-child(1) > div:nth-child(1) > div:nth-child(2) > span:nth-child(1) > div:nth-child(1) > div:nth-child(2) > a:nth-child(1)\"\n",
    "#         /html/body/div[1]/div/div/div[2]/div/div/div/div/div/div[4]/div[1]/div/div/div/div[3]/div/div[4]/div[2]/ul/li[11]/div[1]/div/div[2]/div/div[1]/div/div[1]/div/div/div[2]/span/div/div/a\n",
    "xpath = \"/html/body/div[1]/div/div/div[2]/div/div/div/div/div/div[4]/div[1]/div/div/div/div[3]/div/div[4]/div[2]/ul/li\"\n",
    "#xpath = \"/html/body/div[1]/div/div/div[2]/div/div/div/div/div/div[4]/div[1]/div/div/div/div[3]/div/div[4]/div[2]/ul/li[36]/div[1]/div/div[2]/div/div[1]/div/div/div/div/div[2]/span/div/div/a\"\n",
    "#for i in driver.find_elements_by_xpath(xpath):\n",
    "for i in driver.find_elements_by_css_selector(css):\n",
    "    i.click()\n",
    "    #print(\"hola\")\n",
    "time.sleep(5)\n",
    "nombre = []\n",
    "comentario = []\n",
    "likes=[]\n",
    "detalle = []\n",
    "#driver.find_element_by_class_name\n",
    "for i in driver.find_elements_by_xpath(\"/html/body/div[1]/div/div/div[2]/div/div/div/div/div/div[4]/div[1]/div/div/div/div[3]/div/div[4]/div[2]/ul/li\"):\n",
    "    try:\n",
    "        print(i.find_elements_by_class_name(\"lrazzd5p\")[1].click())\n",
    "        #print(i.find_element_by_xpath(\"a\").text)\n",
    "    except:\n",
    "        print(\"Error\")\n",
    "    salida = i.text.replace(\"Fan destacado\\n\",\"\")\n",
    "    #print(str(len(i.text.split(\"\\n\"))))\n",
    "    print(str(len(salida.split(\"\\n\"))))\n",
    "    #for j in i.text.split(\"\\n\"):\n",
    "    \n",
    "    for j in salida.split(\"\\n\"):\n",
    "        print(j)\n",
    "        print(\"*********************************************************************************************\")\n",
    "    print(\"--------------------------------------------------------------------------------------------------\")\n",
    "    "
   ]
  },
  {
   "cell_type": "code",
   "execution_count": null,
   "metadata": {},
   "outputs": [],
   "source": []
  },
  {
   "cell_type": "code",
   "execution_count": null,
   "metadata": {},
   "outputs": [],
   "source": []
  }
 ],
 "metadata": {
  "kernelspec": {
   "display_name": "Python 3",
   "language": "python",
   "name": "python3"
  },
  "language_info": {
   "codemirror_mode": {
    "name": "ipython",
    "version": 3
   },
   "file_extension": ".py",
   "mimetype": "text/x-python",
   "name": "python",
   "nbconvert_exporter": "python",
   "pygments_lexer": "ipython3",
   "version": "3.7.4"
  }
 },
 "nbformat": 4,
 "nbformat_minor": 2
}
