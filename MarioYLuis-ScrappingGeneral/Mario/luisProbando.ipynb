{
 "cells": [
  {
   "cell_type": "code",
   "execution_count": 5,
   "metadata": {},
   "outputs": [],
   "source": [
    "import scappingFacebook as sF\n",
    "import pandas as pd"
   ]
  },
  {
   "cell_type": "code",
   "execution_count": 15,
   "metadata": {},
   "outputs": [],
   "source": [
    "#data = sF.comentarioPorLugar(\"isla de maipo\",10,10)"
   ]
  },
  {
   "cell_type": "code",
   "execution_count": 16,
   "metadata": {},
   "outputs": [],
   "source": [
    "driver = sF.getDriver()"
   ]
  },
  {
   "cell_type": "code",
   "execution_count": 19,
   "metadata": {},
   "outputs": [
    {
     "ename": "AttributeError",
     "evalue": "'NoneType' object has no attribute 'find'",
     "output_type": "error",
     "traceback": [
      "\u001b[1;31m---------------------------------------------------------------------------\u001b[0m",
      "\u001b[1;31mAttributeError\u001b[0m                            Traceback (most recent call last)",
      "\u001b[1;32m<ipython-input-19-05d4b48d8b0b>\u001b[0m in \u001b[0;36m<module>\u001b[1;34m\u001b[0m\n\u001b[1;32m----> 1\u001b[1;33m \u001b[0mlista\u001b[0m \u001b[1;33m=\u001b[0m \u001b[0msF\u001b[0m\u001b[1;33m.\u001b[0m\u001b[0mgetPost\u001b[0m\u001b[1;33m(\u001b[0m\u001b[1;34m\"elmostrador\"\u001b[0m\u001b[1;33m,\u001b[0m\u001b[1;36m100\u001b[0m\u001b[1;33m)\u001b[0m\u001b[1;33m\u001b[0m\u001b[1;33m\u001b[0m\u001b[0m\n\u001b[0m",
      "\u001b[1;32m~\\Documents\\Repositorio_extraccion_de_data_de_RRSS_con_Python\\MarioYLuis-ScrappingGeneral\\Mario\\scappingFacebook.py\u001b[0m in \u001b[0;36mgetPost\u001b[1;34m(pagina, n)\u001b[0m\n\u001b[0;32m     47\u001b[0m     \u001b[0mlista\u001b[0m \u001b[1;33m=\u001b[0m \u001b[1;33m[\u001b[0m\u001b[1;34m\"covid\"\u001b[0m\u001b[1;33m,\u001b[0m\u001b[1;34m\"pandemia\"\u001b[0m\u001b[1;33m,\u001b[0m\u001b[1;34m\"Coronavirus\"\u001b[0m\u001b[1;33m,\u001b[0m\u001b[1;34m\"COVID\"\u001b[0m\u001b[1;33m]\u001b[0m\u001b[1;33m\u001b[0m\u001b[1;33m\u001b[0m\u001b[0m\n\u001b[0;32m     48\u001b[0m \u001b[1;33m\u001b[0m\u001b[0m\n\u001b[1;32m---> 49\u001b[1;33m     \u001b[1;32mfor\u001b[0m \u001b[0mpost\u001b[0m \u001b[1;32min\u001b[0m \u001b[0mget_posts\u001b[0m\u001b[1;33m(\u001b[0m\u001b[0mpagina\u001b[0m\u001b[1;33m,\u001b[0m \u001b[0mpages\u001b[0m\u001b[1;33m=\u001b[0m\u001b[0mn\u001b[0m\u001b[1;33m,\u001b[0m \u001b[0mcredentials\u001b[0m\u001b[1;33m=\u001b[0m\u001b[1;33m(\u001b[0m\u001b[1;34m\"informaticasudaustral@gmail.com\"\u001b[0m\u001b[1;33m,\u001b[0m\u001b[1;34m\"Info.Sud91\"\u001b[0m\u001b[1;33m)\u001b[0m\u001b[1;33m)\u001b[0m\u001b[1;33m:\u001b[0m\u001b[1;33m\u001b[0m\u001b[1;33m\u001b[0m\u001b[0m\n\u001b[0m\u001b[0;32m     50\u001b[0m         \u001b[1;32mif\u001b[0m \u001b[0mtype\u001b[0m\u001b[1;33m(\u001b[0m\u001b[0mpost\u001b[0m\u001b[1;33m[\u001b[0m\u001b[1;34m\"post_url\"\u001b[0m\u001b[1;33m]\u001b[0m\u001b[1;33m)\u001b[0m \u001b[1;33m==\u001b[0m \u001b[0mstr\u001b[0m\u001b[1;33m:\u001b[0m\u001b[1;33m\u001b[0m\u001b[1;33m\u001b[0m\u001b[0m\n\u001b[0;32m     51\u001b[0m                 \u001b[1;31m#print(type(post[\"post_url\"]))\u001b[0m\u001b[1;33m\u001b[0m\u001b[1;33m\u001b[0m\u001b[1;33m\u001b[0m\u001b[0m\n",
      "\u001b[1;32mC:\\ProgramData\\Anaconda3\\lib\\site-packages\\facebook_scraper.py\u001b[0m in \u001b[0;36m_get_posts\u001b[1;34m(path, pages, timeout, sleep, credentials)\u001b[0m\n\u001b[0;32m     73\u001b[0m     \u001b[1;32mwhile\u001b[0m \u001b[1;32mTrue\u001b[0m\u001b[1;33m:\u001b[0m\u001b[1;33m\u001b[0m\u001b[1;33m\u001b[0m\u001b[0m\n\u001b[0;32m     74\u001b[0m         \u001b[1;32mfor\u001b[0m \u001b[0marticle\u001b[0m \u001b[1;32min\u001b[0m \u001b[0mhtml\u001b[0m\u001b[1;33m.\u001b[0m\u001b[0mfind\u001b[0m\u001b[1;33m(\u001b[0m\u001b[1;34m'article'\u001b[0m\u001b[1;33m)\u001b[0m\u001b[1;33m:\u001b[0m\u001b[1;33m\u001b[0m\u001b[1;33m\u001b[0m\u001b[0m\n\u001b[1;32m---> 75\u001b[1;33m             \u001b[1;32myield\u001b[0m \u001b[0m_extract_post\u001b[0m\u001b[1;33m(\u001b[0m\u001b[0marticle\u001b[0m\u001b[1;33m)\u001b[0m\u001b[1;33m\u001b[0m\u001b[1;33m\u001b[0m\u001b[0m\n\u001b[0m\u001b[0;32m     76\u001b[0m \u001b[1;33m\u001b[0m\u001b[0m\n\u001b[0;32m     77\u001b[0m         \u001b[0mpages\u001b[0m \u001b[1;33m-=\u001b[0m \u001b[1;36m1\u001b[0m\u001b[1;33m\u001b[0m\u001b[1;33m\u001b[0m\u001b[0m\n",
      "\u001b[1;32mC:\\ProgramData\\Anaconda3\\lib\\site-packages\\facebook_scraper.py\u001b[0m in \u001b[0;36m_extract_post\u001b[1;34m(article)\u001b[0m\n\u001b[0;32m    100\u001b[0m \u001b[1;33m\u001b[0m\u001b[0m\n\u001b[0;32m    101\u001b[0m \u001b[1;32mdef\u001b[0m \u001b[0m_extract_post\u001b[0m\u001b[1;33m(\u001b[0m\u001b[0marticle\u001b[0m\u001b[1;33m)\u001b[0m\u001b[1;33m:\u001b[0m\u001b[1;33m\u001b[0m\u001b[1;33m\u001b[0m\u001b[0m\n\u001b[1;32m--> 102\u001b[1;33m     \u001b[0mtext\u001b[0m\u001b[1;33m,\u001b[0m \u001b[0mpost_text\u001b[0m\u001b[1;33m,\u001b[0m \u001b[0mshared_text\u001b[0m \u001b[1;33m=\u001b[0m \u001b[0m_extract_text\u001b[0m\u001b[1;33m(\u001b[0m\u001b[0marticle\u001b[0m\u001b[1;33m)\u001b[0m\u001b[1;33m\u001b[0m\u001b[1;33m\u001b[0m\u001b[0m\n\u001b[0m\u001b[0;32m    103\u001b[0m     return {\n\u001b[0;32m    104\u001b[0m         \u001b[1;34m'post_id'\u001b[0m\u001b[1;33m:\u001b[0m \u001b[0m_extract_post_id\u001b[0m\u001b[1;33m(\u001b[0m\u001b[0marticle\u001b[0m\u001b[1;33m)\u001b[0m\u001b[1;33m,\u001b[0m\u001b[1;33m\u001b[0m\u001b[1;33m\u001b[0m\u001b[0m\n",
      "\u001b[1;32mC:\\ProgramData\\Anaconda3\\lib\\site-packages\\facebook_scraper.py\u001b[0m in \u001b[0;36m_extract_text\u001b[1;34m(article)\u001b[0m\n\u001b[0;32m    135\u001b[0m             \u001b[0marticle\u001b[0m \u001b[1;33m=\u001b[0m \u001b[0mresponse\u001b[0m\u001b[1;33m.\u001b[0m\u001b[0mhtml\u001b[0m\u001b[1;33m.\u001b[0m\u001b[0mfind\u001b[0m\u001b[1;33m(\u001b[0m\u001b[1;34m'.story_body_container'\u001b[0m\u001b[1;33m,\u001b[0m \u001b[0mfirst\u001b[0m\u001b[1;33m=\u001b[0m\u001b[1;32mTrue\u001b[0m\u001b[1;33m)\u001b[0m\u001b[1;33m\u001b[0m\u001b[1;33m\u001b[0m\u001b[0m\n\u001b[0;32m    136\u001b[0m \u001b[1;33m\u001b[0m\u001b[0m\n\u001b[1;32m--> 137\u001b[1;33m     \u001b[0mnodes\u001b[0m \u001b[1;33m=\u001b[0m \u001b[0marticle\u001b[0m\u001b[1;33m.\u001b[0m\u001b[0mfind\u001b[0m\u001b[1;33m(\u001b[0m\u001b[1;34m'p, header'\u001b[0m\u001b[1;33m)\u001b[0m\u001b[1;33m\u001b[0m\u001b[1;33m\u001b[0m\u001b[0m\n\u001b[0m\u001b[0;32m    138\u001b[0m     \u001b[1;32mif\u001b[0m \u001b[0mnodes\u001b[0m\u001b[1;33m:\u001b[0m\u001b[1;33m\u001b[0m\u001b[1;33m\u001b[0m\u001b[0m\n\u001b[0;32m    139\u001b[0m         \u001b[0mpost_text\u001b[0m \u001b[1;33m=\u001b[0m \u001b[1;33m[\u001b[0m\u001b[1;33m]\u001b[0m\u001b[1;33m\u001b[0m\u001b[1;33m\u001b[0m\u001b[0m\n",
      "\u001b[1;31mAttributeError\u001b[0m: 'NoneType' object has no attribute 'find'"
     ]
    }
   ],
   "source": [
    "lista = sF.getPost(\"elmostrador\",100)"
   ]
  },
  {
   "cell_type": "code",
   "execution_count": 18,
   "metadata": {},
   "outputs": [
    {
     "data": {
      "text/plain": [
       "{'post_id': '10157438289015895',\n",
       " 'text': 'Expertos recomiendan buscar ayuda profesional y mantener tratamientos.\\nCOOPERATIVA.CL\\n¿Cómo cuidar la salud mental durante la pandemia del coronavirus?',\n",
       " 'post_text': 'Expertos recomiendan buscar ayuda profesional y mantener tratamientos.',\n",
       " 'shared_text': 'COOPERATIVA.CL\\n¿Cómo cuidar la salud mental durante la pandemia del coronavirus?',\n",
       " 'time': datetime.datetime(2020, 3, 26, 14, 52, 20),\n",
       " 'image': 'https://external.fscl6-1.fna.fbcdn.net/safe_image.php?d=AQDkESMeAgkFnBE7&w=476&h=249&url=https%3A%2F%2Fwww.cooperativa.cl%2Fnoticias%2Fsite%2Fartic%2F20200326%2Fimag%2Ffoto_0000000120200326143529.jpg&cfs=1&jq=75&ext=jpg&_nc_hash=AQDmI7G8FzUk8R9_',\n",
       " 'likes': 20,\n",
       " 'comments': 12,\n",
       " 'shares': 6,\n",
       " 'post_url': 'https://m.facebook.com/story.php?story_fbid=10157438289015895&id=313191260894',\n",
       " 'link': 'https://tinyurl.com/vg3gpr8',\n",
       " 'Nombre': 'Cooperativa'}"
      ]
     },
     "execution_count": 18,
     "metadata": {},
     "output_type": "execute_result"
    }
   ],
   "source": [
    "lista[0]"
   ]
  },
  {
   "cell_type": "code",
   "execution_count": 26,
   "metadata": {},
   "outputs": [
    {
     "name": "stdout",
     "output_type": "stream",
     "text": [
      "2https://m.facebook.com/story.php?story_fbid=10158395288531052&id=80606026051\n",
      "3https://m.facebook.com/story.php?story_fbid=10158395280316052&id=80606026051\n",
      "4https://m.facebook.com/story.php?story_fbid=10158395274411052&id=80606026051\n",
      "5https://m.facebook.com/story.php?story_fbid=10158395268751052&id=80606026051\n",
      "6https://m.facebook.com/story.php?story_fbid=10158395001841052&id=80606026051\n",
      "7https://m.facebook.com/story.php?story_fbid=10158394991076052&id=80606026051\n",
      "8https://m.facebook.com/story.php?story_fbid=10158394984436052&id=80606026051\n",
      "9https://m.facebook.com/story.php?story_fbid=10158394978131052&id=80606026051\n",
      "10https://m.facebook.com/story.php?story_fbid=10158395093121052&id=80606026051\n",
      "11https://m.facebook.com/story.php?story_fbid=10158395068796052&id=80606026051\n",
      "12https://m.facebook.com/story.php?story_fbid=10158394971511052&id=80606026051\n",
      "13https://m.facebook.com/story.php?story_fbid=10158394957811052&id=80606026051\n",
      "14https://m.facebook.com/story.php?story_fbid=10158394946656052&id=80606026051\n",
      "15https://m.facebook.com/story.php?story_fbid=10158394833346052&id=80606026051\n",
      "16https://m.facebook.com/story.php?story_fbid=10158394820191052&id=80606026051\n",
      "17https://m.facebook.com/story.php?story_fbid=10158394801706052&id=80606026051\n",
      "18https://m.facebook.com/story.php?story_fbid=10158394523296052&id=80606026051\n",
      "19https://m.facebook.com/story.php?story_fbid=10158394471136052&id=80606026051\n",
      "20https://m.facebook.com/story.php?story_fbid=10158394751981052&id=80606026051\n",
      "21https://m.facebook.com/story.php?story_fbid=10158394426401052&id=80606026051\n",
      "22https://m.facebook.com/story.php?story_fbid=10158394397256052&id=80606026051\n",
      "23https://m.facebook.com/story.php?story_fbid=10158394351806052&id=80606026051\n",
      "24https://m.facebook.com/story.php?story_fbid=10158394336006052&id=80606026051\n",
      "25https://m.facebook.com/story.php?story_fbid=10158394320296052&id=80606026051\n",
      "26https://m.facebook.com/story.php?story_fbid=10158394300721052&id=80606026051\n",
      "27https://m.facebook.com/story.php?story_fbid=10158394276751052&id=80606026051\n",
      "28https://m.facebook.com/story.php?story_fbid=10158394257921052&id=80606026051\n",
      "29https://m.facebook.com/story.php?story_fbid=10158394240976052&id=80606026051\n",
      "30https://m.facebook.com/story.php?story_fbid=10158394223816052&id=80606026051\n",
      "31https://m.facebook.com/story.php?story_fbid=10158394205376052&id=80606026051\n",
      "32https://m.facebook.com/story.php?story_fbid=10158394061191052&id=80606026051\n",
      "33https://m.facebook.com/story.php?story_fbid=10158394016861052&id=80606026051\n",
      "34https://m.facebook.com/story.php?story_fbid=10158393980901052&id=80606026051\n",
      "35https://m.facebook.com/story.php?story_fbid=10158393939416052&id=80606026051\n",
      "36https://m.facebook.com/story.php?story_fbid=10158393921256052&id=80606026051\n",
      "37https://m.facebook.com/story.php?story_fbid=10158393912301052&id=80606026051\n",
      "38https://m.facebook.com/story.php?story_fbid=10158393846466052&id=80606026051\n",
      "39https://m.facebook.com/story.php?story_fbid=10158393787601052&id=80606026051\n"
     ]
    },
    {
     "data": {
      "text/plain": [
       "38"
      ]
     },
     "execution_count": 26,
     "metadata": {},
     "output_type": "execute_result"
    }
   ],
   "source": [
    "from facebook_scraper import get_posts\n",
    "salida = []\n",
    "try:\n",
    "    for post in get_posts(\"elmostrador\", pages=100):\n",
    "        if type(post[\"post_url\"]) == str:\n",
    "                #print(type(post[\"post_url\"]))\n",
    "                #salida.append(post[\"post_url\"].replace(\"m.facebook\",\"www.facebook\"))\n",
    "                print(str(i) + post[\"post_url\"])  \n",
    "                i += 1\n",
    "                salida.append(post[\"post_url\"])\n",
    "except:\n",
    "    print(\"error\")\n",
    "    \n",
    "len(salida)\n",
    "    \n",
    "            "
   ]
  },
  {
   "cell_type": "code",
   "execution_count": null,
   "metadata": {},
   "outputs": [],
   "source": []
  }
 ],
 "metadata": {
  "kernelspec": {
   "display_name": "Python 3",
   "language": "python",
   "name": "python3"
  },
  "language_info": {
   "codemirror_mode": {
    "name": "ipython",
    "version": 3
   },
   "file_extension": ".py",
   "mimetype": "text/x-python",
   "name": "python",
   "nbconvert_exporter": "python",
   "pygments_lexer": "ipython3",
   "version": "3.7.4"
  }
 },
 "nbformat": 4,
 "nbformat_minor": 2
}
