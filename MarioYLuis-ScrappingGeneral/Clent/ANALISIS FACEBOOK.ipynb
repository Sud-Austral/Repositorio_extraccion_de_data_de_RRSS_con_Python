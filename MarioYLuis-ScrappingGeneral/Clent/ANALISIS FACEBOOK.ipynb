{
 "cells": [
  {
   "cell_type": "markdown",
   "metadata": {},
   "source": [
    "## Análisis de sentimientos"
   ]
  },
  {
   "cell_type": "code",
   "execution_count": null,
   "metadata": {},
   "outputs": [],
   "source": [
    "import pandas as pd\n",
    "import textblob\n",
    "from textblob import TextBlob\n",
    "import matplotlib.pyplot as plt\n",
    "import seaborn as sns\n",
    "import csv\n"
   ]
  },
  {
   "cell_type": "code",
   "execution_count": null,
   "metadata": {},
   "outputs": [],
   "source": [
    "df= pd.read_csv('isla de maipo25-03-2020_14-54-01.csv',header=0, sep=',')\n",
    "comentarios=df['comentario' ]\n",
    "#comentarios"
   ]
  },
  {
   "cell_type": "code",
   "execution_count": null,
   "metadata": {},
   "outputs": [],
   "source": [
    "# Creamos una función para limpiar los comentarios\n",
    "import re\n",
    "def cleanTxt(text):\n",
    "     text = re.sub('@[A-Za-z0–9]+', '', text) #Removing @mentions\n",
    "     text = re.sub('#', '', text) # Removing '#' hash tag\n",
    "     text = re.sub('RT[\\s]+', '', text) # Removing RT\n",
    "     text = re.sub('https?:\\/\\/\\S+', '', text) # Removing hyperlink\n",
    "     return text\n",
    "\n",
    "# Limpiamos los comentarios\n",
    "comentarios = comentarios.apply(cleanTxt)\n",
    "\n",
    "# Mostramos los coemntarios limpios\n",
    "comentarios"
   ]
  },
  {
   "cell_type": "code",
   "execution_count": null,
   "metadata": {},
   "outputs": [],
   "source": []
  },
  {
   "cell_type": "markdown",
   "metadata": {},
   "source": [
    "Queremos agregar la subjetividad y polaridad de los comentarios al dataframe. Para hacer esto, crearemos dos funciones:\n",
    "\n",
    "Una para obtener los comentarios llamados subjetividad (cuán subjetivo u obstinado es el texto, un puntaje de 0 es un hecho y un puntaje de +1 es en gran medida una opinión) y\n",
    "Otra para obtener el comentarios llamados Polarity (qué tan positivo o negativo es el texto, un puntaje de -1 es el puntaje negativo más alto y un puntaje de +1 es el puntaje positivo más alto). A continuación, almacenaremos los resultados en dos columnas, una llamada \"Subjetividad\" y la otra llamada \"Polaridad\" y mostraremos los resultados."
   ]
  },
  {
   "cell_type": "code",
   "execution_count": null,
   "metadata": {},
   "outputs": [],
   "source": [
    "df['polaridad']=df['comentario'].apply(lambda x: TextBlob(x).sentiment.polarity)"
   ]
  },
  {
   "cell_type": "code",
   "execution_count": null,
   "metadata": {},
   "outputs": [],
   "source": [
    "#print(df['polaridad'].head(5))"
   ]
  },
  {
   "cell_type": "code",
   "execution_count": null,
   "metadata": {},
   "outputs": [],
   "source": [
    "df['Subjectivity']=df['comentario'].apply(lambda x: TextBlob(x).sentiment.subjectivity)"
   ]
  },
  {
   "cell_type": "code",
   "execution_count": null,
   "metadata": {},
   "outputs": [],
   "source": [
    "print('polaridad')\n",
    "print('valor maximo ',df['polaridad'].max())\n",
    "print('valor minimo ',df['polaridad'].min())\n",
    "print('valor medio ',df['polaridad'].mean())"
   ]
  },
  {
   "cell_type": "code",
   "execution_count": null,
   "metadata": {},
   "outputs": [],
   "source": [
    "df"
   ]
  },
  {
   "cell_type": "markdown",
   "metadata": {},
   "source": [
    "Veamos qué tan bien se distribuyen los sentimientos. Una buena manera de lograr esta tarea es entender las palabras comunes trazando nubes de palabras. Una nube de palabras (también conocida como nubes de texto o nubes de etiquetas) es una visualización, cuanto más aparece una palabra específica en el texto, más grande y más audaz aparece en la nube de palabras. Visualicemos todas las palabras en los datos usando el diagrama de nube de palabras. "
   ]
  },
  {
   "cell_type": "code",
   "execution_count": null,
   "metadata": {},
   "outputs": [],
   "source": [
    "# visualización de la nube de palabras\n",
    "from wordcloud import WordCloud\n",
    "allWords = ' '.join([comments for comments in df['comentario']])\n",
    "wordCloud = WordCloud(width=500, height=300, random_state=21, max_font_size=110).generate(allWords)\n",
    "plt.imshow(wordCloud, interpolation=\"bilinear\")\n",
    "plt.axis('off')\n",
    "plt.show()"
   ]
  },
  {
   "cell_type": "markdown",
   "metadata": {},
   "source": [
    "## Crearemos una función para calcular el análisis negativo (-1), neutral (0) y positivo (+1) y agregue la información a una nueva columna llamada Análisis, luego muestre los resultados."
   ]
  },
  {
   "cell_type": "code",
   "execution_count": null,
   "metadata": {},
   "outputs": [],
   "source": [
    "# Create a function to compute negative (-1), neutral (0) and positive (+1) analysis\n",
    "def getAnalysis(score):\n",
    " if score < 0:\n",
    "  return 'Negative'\n",
    " elif score == 0:\n",
    "  return 'Neutral'\n",
    " else:\n",
    "  return 'Positive'\n",
    "\n",
    "\n",
    "df['Analysis'] = df['polaridad'].apply(getAnalysis)\n",
    "\n",
    "# Show the dataframe\n",
    "df"
   ]
  },
  {
   "cell_type": "markdown",
   "metadata": {},
   "source": [
    "Imprimamos los comentarios positivos en orden ascendente. El comentario más positivo es el comentario # 1."
   ]
  },
  {
   "cell_type": "code",
   "execution_count": null,
   "metadata": {},
   "outputs": [],
   "source": [
    "# Imprimimos los tweets positivos: \n",
    "print('Desplegamos los Comentarios positivos:\\n')\n",
    "j=1\n",
    "sortedDF = df.sort_values(by=['polaridad']) # Ordenamos los comentarios\n",
    "for i in range(0, sortedDF.shape[0] ):\n",
    "  if( sortedDF['Analysis'][i] == 'Positive'):\n",
    "    print(str(j) + ') '+ sortedDF['comentario'][i])\n",
    "    print()\n",
    "    j= j+1"
   ]
  },
  {
   "cell_type": "markdown",
   "metadata": {},
   "source": [
    "Trace la polaridad y la subjetividad como un diagrama de dispersión. Parece que la mayoría de los comentarios son positivos, ya que muchos de los puntos están en el lado derecho de la polaridad en el valor 0.00."
   ]
  },
  {
   "cell_type": "code",
   "execution_count": null,
   "metadata": {},
   "outputs": [],
   "source": [
    "# Plotting \n",
    "plt.figure(figsize=(8,6)) \n",
    "for i in range(0, df.shape[0]):\n",
    "  plt.scatter(df[\"polaridad\"][i], df[\"Subjectivity\"][i], color='Blue') # plt.scatter(x,y,color)   \n",
    "plt.title('Sentiment Analysis') \n",
    "plt.xlabel('Polarity') \n",
    "plt.ylabel('Subjectivity') \n",
    "plt.show()"
   ]
  },
  {
   "cell_type": "markdown",
   "metadata": {},
   "source": [
    "Imprimimos el porcentaje de comentarios positivos. Alrededor de 1/54 de los comentarios se consideran comentarios positivos."
   ]
  },
  {
   "cell_type": "code",
   "execution_count": null,
   "metadata": {},
   "outputs": [],
   "source": [
    "# Print the percentage of positive tweets\n",
    "ptweets = df[df.Analysis == 'Positive']\n",
    "ptweets = ptweets['comentario']\n",
    "ptweets\n",
    "\n",
    "round( (ptweets.shape[0] / df.shape[0]) * 100 , 1)"
   ]
  },
  {
   "cell_type": "markdown",
   "metadata": {},
   "source": [
    "Imprime el porcentaje de comentarios negativos. Alrededor de 0/54 comentarios se consideran comentarios negativos."
   ]
  },
  {
   "cell_type": "code",
   "execution_count": null,
   "metadata": {},
   "outputs": [],
   "source": [
    "# Print the percentage of negative tweets\n",
    "ntweets = df[df.Analysis == 'Negative']\n",
    "ntweets = ntweets['comentario']\n",
    "ntweets\n",
    "\n",
    "round( (ntweets.shape[0] / df.shape[0]) * 100, 1)"
   ]
  },
  {
   "cell_type": "markdown",
   "metadata": {},
   "source": [
    "Mostrar el valor cuenta. Ahora podemos ver que 81 comentarios son positivos, 10 son neutrales y 9 son negativos."
   ]
  },
  {
   "cell_type": "code",
   "execution_count": null,
   "metadata": {},
   "outputs": [],
   "source": [
    "# Show the value counts\n",
    "df['Analysis'].value_counts()"
   ]
  },
  {
   "cell_type": "markdown",
   "metadata": {},
   "source": [
    "Muestra visualmente el valor cuenta."
   ]
  },
  {
   "cell_type": "code",
   "execution_count": null,
   "metadata": {},
   "outputs": [],
   "source": [
    "# Trazar y visualizar los recuentos\n",
    "plt.title('Análisis de sentimientos')\n",
    "plt.xlabel('Sentimiento')\n",
    "plt.ylabel('Recuentos')\n",
    "df['Analysis'].value_counts().plot(kind = 'bar')\n",
    "plt.show()"
   ]
  },
  {
   "cell_type": "code",
   "execution_count": null,
   "metadata": {},
   "outputs": [],
   "source": [
    "keyword=input('Que concepto quieres buscar?: ')\n",
    "numberoComentarios=int(input('Ingresa el número de Comentarios: '))"
   ]
  },
  {
   "cell_type": "code",
   "execution_count": null,
   "metadata": {},
   "outputs": [],
   "source": [
    "#comentarios = (df[df['comentario']], keyword ).items(numberoComentarios)\n",
    "\n",
    "positive = 0\n",
    "negative = 0\n",
    "neutral = 0\n",
    "polarity = 0 \n",
    "\n",
    "def calculatePercentage(a,b):\n",
    "    return 100*float(a)/float(b)\n",
    "\n",
    "for comentario in comentarios:\n",
    "    print(comentario)\n",
    "    myAnalysis=textblob.TextBlob(comentario)\n",
    "    polarity += myAnalysis.sentiment.polarity\n",
    "    if myAnalysis.sentiment.polarity ==0:\n",
    "        neutral+=1\n",
    "    elif myAnalysis.sentiment.polarity > 0.00:\n",
    "        positive+=1\n",
    "    elif myAnalysis.sentiment.polarity < 0.00:\n",
    "        negative+=1"
   ]
  },
  {
   "cell_type": "code",
   "execution_count": null,
   "metadata": {},
   "outputs": [],
   "source": [
    "labels = ['Positive [' + str(positive) + '%]', 'Neutral [' + str(neutral) + '%]','Negative [' + str(negative) + '%]']\n",
    "sizes=[positive,neutral,negative]\n",
    "colors=['green','yellow','red']\n",
    "patches,texts=plt.pie(sizes,colors=colors,startangle=90)\n",
    "plt.legend(patches,labels,loc=\"best\")\n",
    "plt.title('Cómo las personas reaccionan a ' + keyword + ' analizando ' + str(numberoComentarios) + ' comentarios.')\n",
    "plt.axis('equal')\n",
    "plt.tight_layout()\n",
    "plt.show()"
   ]
  },
  {
   "cell_type": "code",
   "execution_count": null,
   "metadata": {},
   "outputs": [],
   "source": []
  }
 ],
 "metadata": {
  "kernelspec": {
   "display_name": "Python 3",
   "language": "python",
   "name": "python3"
  },
  "language_info": {
   "codemirror_mode": {
    "name": "ipython",
    "version": 3
   },
   "file_extension": ".py",
   "mimetype": "text/x-python",
   "name": "python",
   "nbconvert_exporter": "python",
   "pygments_lexer": "ipython3",
   "version": "3.7.6"
  }
 },
 "nbformat": 4,
 "nbformat_minor": 4
}
